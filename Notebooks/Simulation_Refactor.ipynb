{
 "cells": [
  {
   "attachments": {},
   "cell_type": "markdown",
   "id": "15933e5f-8e9b-44e5-af56-b1c5485140c9",
   "metadata": {},
   "source": [
    "# Using XENON fuse"
   ]
  },
  {
   "attachments": {},
   "cell_type": "markdown",
   "id": "6e4fcd89-bd8d-4e5e-8fe3-ed133fa19874",
   "metadata": {},
   "source": [
    "## Imports"
   ]
  },
  {
   "cell_type": "code",
   "execution_count": null,
   "id": "c29abd46-540a-450a-87b1-a7b71940dd68",
   "metadata": {},
   "outputs": [],
   "source": [
    "import strax\n",
    "import straxen\n",
    "import cutax\n",
    "import fuse\n",
    "\n",
    "import numpy as np\n",
    "from straxen import URLConfig"
   ]
  },
  {
   "attachments": {},
   "cell_type": "markdown",
   "id": "3d774735-3ad4-4603-9139-9bd0ec9c23e1",
   "metadata": {},
   "source": [
    "## Microphysics simulation (former epix)\n",
    "\n",
    "In fuse all simulation steps are handled in dedicated plugins just like straxen does for our data processing. The first part of our full chain simulations is the simulation of microphysics effects. The corresponding plugins are grouped in the `micro_physics` module.\n",
    "\n",
    "To set up a simulation we first need to define a `Context`. At this stage we dont't need a lot of inputs so we can run the simulation inside a generic `strax.Context`. Make sure to register all needed plugins and define an `DataDirectory`. Afterwards we can change the configuration of the simulation using `st.set_config`. If you want to try your own `.root` or `.csv`file feel free to change the given example file.\n",
    "\n",
    "There are some more options we can change: \n",
    "- `debug` will print out some debug informations during the simulation (For now there are basically no debug statements.)\n",
    "- `source_rate`: You can specify a rate in Hz. fuse will distribute your events according to this rate. \n",
    "- `n_interactions_per_chunk`: fuse builds strax chunks based on an algorithm called 'dynamic chunking'. It searches for empty time intervalls and cuts the data into chunks there. With this parameter you can set an lower limit to the number of interactions per chunk. For Geant4 files something in the order of 10k - 100k can work. For csv files i would reccomend something in the order of 10 - 1000 depending on you specific data. \n",
    "- `cut_delayed`: fuse will remove interactions that happen after the last sampled time + the cut_delayed time. We dont want to deal with interactions that happen way after our \"run\" finished (yet)\n",
    "- `DetectorConfigOverride`: Part of the epix detector config - we will update this part at some point. (Here you can set your electric field for the microphysics simulation)"
   ]
  },
  {
   "cell_type": "code",
   "execution_count": null,
   "id": "317330d0-9585-4c96-8eb2-c2bea5815a8f",
   "metadata": {},
   "outputs": [],
   "source": [
    "st = fuse.context.microphysics_context(\"/path/to/output/folder\")\n",
    "\n",
    "st.set_config({\"path\": \"/project2/lgrandi/xenonnt/simulations/testing\",\n",
    "               \"file_name\": \"pmt_neutrons_100.root\",\n",
    "               \"debug\": True,\n",
    "               \"source_rate\": 1,\n",
    "              })"
   ]
  },
  {
   "attachments": {},
   "cell_type": "markdown",
   "id": "f9c7149d-b2bb-4ced-987b-f4ab82f3e0c0",
   "metadata": {},
   "source": [
    "Now that we have our context we can start to run fuse. Just use `st.make`. Probably there will be a lot of warnings..."
   ]
  },
  {
   "cell_type": "code",
   "execution_count": null,
   "id": "bf3523a3-70e9-4aaa-ac4f-145dc3c94ca3",
   "metadata": {
    "tags": []
   },
   "outputs": [],
   "source": [
    "run_number = \"00000\"\n",
    "\n",
    "st.make(run_number, \"geant4_interactions\")\n",
    "st.make(run_number, \"cluster_index\")\n",
    "st.make(run_number, \"clustered_interactions\")\n",
    "st.make(run_number, \"electric_field_values\")\n",
    "st.make(run_number, \"quanta\")\n",
    "st.make(run_number, \"microphysics_summary\")"
   ]
  },
  {
   "attachments": {},
   "cell_type": "markdown",
   "id": "655c40ff-a51c-44e6-8321-d21098b5094c",
   "metadata": {},
   "source": [
    "If your simulation did not crash you can now load the simulated data just like straxen data. First we can take a look at the `geant4_interaction`. Each line represents a single energy deposit. "
   ]
  },
  {
   "cell_type": "code",
   "execution_count": null,
   "id": "a7767a1d-b228-43d3-bd61-b9854f05568f",
   "metadata": {},
   "outputs": [],
   "source": [
    "geant4_interactions = st.get_df(\"00000\",[\"geant4_interactions\", \"cluster_index\"])\n",
    "geant4_interactions.head(10)"
   ]
  },
  {
   "attachments": {},
   "cell_type": "markdown",
   "id": "5eaa1305-baf8-4675-bbdc-3810a5afb796",
   "metadata": {},
   "source": [
    "You can also load the clustered data that will go into the second part of the simulation. For now it is called `microphysics_summary`. Each line gives you now the position and number of electron and photons (along other informations.)"
   ]
  },
  {
   "cell_type": "code",
   "execution_count": null,
   "id": "c0f08c9f-55ae-4e34-8763-e2af56f93530",
   "metadata": {},
   "outputs": [],
   "source": [
    "microphysics_summary = st.get_df(\"00000\",[ \"microphysics_summary\"])\n",
    "microphysics_summary.head(10)"
   ]
  },
  {
   "attachments": {},
   "cell_type": "markdown",
   "id": "8eb4b98d-2d8c-45f6-88b3-15dde93ca3f3",
   "metadata": {},
   "source": [
    "## Detector and Electronics Simulation (former WFSim)"
   ]
  },
  {
   "attachments": {},
   "cell_type": "markdown",
   "id": "b4902b2c-2ce6-445d-84b5-35e5fb7e68be",
   "metadata": {},
   "source": [
    "Now that you know how to run microphysics simulations we can continue with the detector physics, PMT and DAQ simulations. The corresponding plugins can be found in `detector_physics` and `pmt_and_daq`. "
   ]
  },
  {
   "attachments": {},
   "cell_type": "markdown",
   "id": "a68764f4-72a2-47eb-be3f-36cf9f3761d2",
   "metadata": {},
   "source": [
    "We want to simulate now up to the raw_records level and then process the data with our usual straxen processing routines. To do so, we will now hijack the simulation context from cutax and register our modules. In the future we aim for a dedicated context where we don't need to do this manualy. Remember to select an output folder with sufficient free disk space as raw_records data can be a bit heavy. "
   ]
  },
  {
   "cell_type": "code",
   "execution_count": null,
   "id": "ad9c4eff",
   "metadata": {},
   "outputs": [],
   "source": [
    "url_string = 'simple_load://resource://format://fax_config_nt_sr0_v4.json?&fmt=json'\n",
    "config = URLConfig.evaluate_dry(url_string)"
   ]
  },
  {
   "cell_type": "code",
   "execution_count": null,
   "id": "8cc28e42-0306-4cf0-a632-cc19aaea8924",
   "metadata": {},
   "outputs": [],
   "source": [
    "st = fuse.context.full_chain_context(out_dir = \"/path/to/output/folder\",\n",
    "                                     config = config)\n",
    "\n",
    "st.set_config({\"path\": \"/project2/lgrandi/xenonnt/simulations/testing\",\n",
    "               \"file_name\": \"pmt_neutrons_100.root\",\n",
    "               \"debug\": True,\n",
    "               \"source_rate\": 1,\n",
    "              })"
   ]
  },
  {
   "attachments": {},
   "cell_type": "markdown",
   "id": "c46efb1e-5bb9-45d6-9d2c-a16076b35423",
   "metadata": {},
   "source": [
    "### Microphysics\n",
    "Just like before we first run the microphysics simulation. Lets make `microphysics_summary` first. "
   ]
  },
  {
   "cell_type": "code",
   "execution_count": null,
   "id": "b1e8f553-6e21-4b42-bdde-68ce7ecd313e",
   "metadata": {},
   "outputs": [],
   "source": [
    "run_number = \"00000\"\n",
    "\n",
    "st.make(run_number,\"microphysics_summary\")"
   ]
  },
  {
   "attachments": {},
   "cell_type": "markdown",
   "id": "e31763ed-a2a3-457c-bb14-a96b344e6129",
   "metadata": {},
   "source": [
    "### S1 Simulation\n",
    "\n",
    "After the microphysics simulation is done we can continue and distribute our S1 photons to our PMTs. The output will be a long list where each row represents a single photon with the information of `time` and `channel`attached.  Strax can show you a progress bar during simulation. I found it to be a bit buggy from times in combination with fuse. "
   ]
  },
  {
   "cell_type": "code",
   "execution_count": null,
   "id": "5cf685fa-fe39-4d6e-acd3-60ae493c0835",
   "metadata": {},
   "outputs": [],
   "source": [
    "st.make(run_number,\"propagated_s1_photons\" ,progress_bar = True)"
   ]
  },
  {
   "attachments": {},
   "cell_type": "markdown",
   "id": "0623b54a-fa02-4b29-bf88-a1c4c8929f01",
   "metadata": {},
   "source": [
    "### S2 Simulations\n",
    "\n",
    "The S2 simulations are a bit more complicated than the S1 simulation. We first need to drift our electrons to the liquid-gas interface, extract them and calculate the timing of the electrons when reaching the gas phase. Afterwards we can simulate how many photons each electron generates and then distribute the photons on the PMTs. The output of the S2 simulation has basically the same format as the S1 simulation output. "
   ]
  },
  {
   "cell_type": "code",
   "execution_count": null,
   "id": "d7b7af48-30d6-4a96-8106-581ef49a6886",
   "metadata": {},
   "outputs": [],
   "source": [
    "st.make(run_number,\"drifted_electrons\",progress_bar = True)\n",
    "st.make(run_number,\"extracted_electrons\",progress_bar = True)\n",
    "st.make(run_number,\"electron_time\",progress_bar = True)\n",
    "st.make(run_number,\"s2_photons\",progress_bar = True)\n",
    "st.make(run_number,\"s2_photons_sum\",progress_bar = True)\n",
    "st.make(run_number,\"propagated_s2_photons\",progress_bar = True)"
   ]
  },
  {
   "attachments": {},
   "cell_type": "markdown",
   "id": "b33903bf-7ad2-46ea-9763-f6ab716c0e37",
   "metadata": {},
   "source": [
    "### PMT Afterpulses\n",
    "\n",
    "Based on the output of the S1 and S2 simulation we can calculate PMT afterpulses. The output will have the same format as the S1 and S2 simulations where each row represents a \"virtual\" photon with information about channel and timing attached. "
   ]
  },
  {
   "cell_type": "code",
   "execution_count": null,
   "id": "8b0d2a92-fc89-40af-a704-1a244c474daa",
   "metadata": {},
   "outputs": [],
   "source": [
    "st.make(run_number,\"pmt_afterpulses\",progress_bar = True)"
   ]
  },
  {
   "attachments": {},
   "cell_type": "markdown",
   "id": "a4dd9cbc-39df-40cf-8695-2251dd268b3a",
   "metadata": {},
   "source": [
    "### PMT and DAQ\n",
    "\n",
    "Combining our S1, S2 and AP simulations we can start to simulate the PMT response to photons and simulate the effects of our DAQ on the PMT output. As a result we get `raw_records` that sould look very similar to the data we get from our real TPC and DAQ! "
   ]
  },
  {
   "cell_type": "code",
   "execution_count": null,
   "id": "e6bed94a",
   "metadata": {},
   "outputs": [],
   "source": [
    "st.make(run_number,\"raw_records\" , progress_bar = True)"
   ]
  },
  {
   "attachments": {},
   "cell_type": "markdown",
   "id": "e1a534dc-6449-46f5-86e9-f477a280d1a1",
   "metadata": {},
   "source": [
    "## Processing"
   ]
  },
  {
   "attachments": {},
   "cell_type": "markdown",
   "id": "b2cad900-8ae6-4fe3-a0fe-479f529c8e43",
   "metadata": {},
   "source": [
    "We finished our simulation! Now we can use straxen to process it. All necessary straxen plugins should be already registered in the context. "
   ]
  },
  {
   "cell_type": "code",
   "execution_count": null,
   "id": "d5bf4c11",
   "metadata": {},
   "outputs": [],
   "source": [
    "st.make(run_number,\"event_info\")"
   ]
  },
  {
   "cell_type": "code",
   "execution_count": null,
   "id": "b31a9659-63f6-47f1-a81b-bdec42f9cb9b",
   "metadata": {},
   "outputs": [],
   "source": [
    "event_info = st.get_df(run_number, \"event_info\")"
   ]
  },
  {
   "cell_type": "code",
   "execution_count": null,
   "id": "bb4e51a0-58fd-463a-a774-742059b0c28a",
   "metadata": {},
   "outputs": [],
   "source": [
    "event_info.head(20)"
   ]
  },
  {
   "attachments": {},
   "cell_type": "markdown",
   "id": "0a82c95d",
   "metadata": {},
   "source": [
    "## CSV Input\n",
    "\n",
    "You can also run the simulation without a Geant4 root file but with simulation instructions in a csv file. Simulation instructions from csv files can be passed to fuse on the microphysics level and on the detector physics level.\n",
    "\n",
    "### Microphysics\n",
    "\n",
    "First we need to generate some simulation instructions and save them to a csv file. Below you find two examples, one function generating monoenergetic energy deposits from a gamma source and a second function to mimic Kr83m decays."
   ]
  },
  {
   "cell_type": "code",
   "execution_count": null,
   "id": "cfc0b38a",
   "metadata": {},
   "outputs": [],
   "source": [
    "import pandas as pd\n",
    "import numpy as np\n",
    "\n",
    "def monoenergetic_source(n, energy):\n",
    "    \n",
    "    df = pd.DataFrame()\n",
    "    \n",
    "    r = np.sqrt(np.random.uniform(0, 2500, n))\n",
    "    t = np.random.uniform(-np.pi, np.pi, n)\n",
    "    df['xp'] = r * np.cos(t)\n",
    "    df['yp'] = r * np.sin(t)\n",
    "    df['zp'] = np.random.uniform(-150, 0, n)\n",
    "    \n",
    "    df['xp_pri'] = df['xp']\n",
    "    df['yp_pri'] = df['yp']\n",
    "    df['zp_pri'] = df['zp']\n",
    "    \n",
    "    df[\"ed\"] = np.array([energy]*n)\n",
    "    df[\"time\"] = np.zeros(n)\n",
    "    df[\"evtid\"] = np.arange(n)\n",
    "    \n",
    "    df[\"type\"] = np.repeat(\"gamma\", n)\n",
    "    \n",
    "    df[\"trackid\"] =  np.zeros(n)\n",
    "    df[\"parentid\"] = np.zeros(n, dtype = np.int32)\n",
    "    df[\"creaproc\"] = np.repeat(\"None\", n)\n",
    "    df[\"parenttype\"] = np.repeat(\"None\", n)\n",
    "    df[\"edproc\"] = np.repeat(\"None\", n)\n",
    "    \n",
    "    return df\n",
    "\n",
    "def Kr83m_example(n):\n",
    "    \n",
    "    half_life = 156.94e-9 #Kr intermediate state half-life in ns\n",
    "    decay_energies = [32.2,9.4] # Decay energies in kev\n",
    "    \n",
    "    df = pd.DataFrame()\n",
    "    \n",
    "    r = np.sqrt(np.random.uniform(0, 2500, n))\n",
    "    t = np.random.uniform(-np.pi, np.pi, n)\n",
    "    df['xp'] = np.repeat(r * np.cos(t), 2)\n",
    "    df['yp'] = np.repeat(r * np.sin(t), 2)\n",
    "    df['zp'] = np.repeat(np.random.uniform(-150, 0, n), 2)\n",
    "    \n",
    "    df['xp_pri'] = df['xp']\n",
    "    df['yp_pri'] = df['yp']\n",
    "    df['zp_pri'] = df['zp']\n",
    "    \n",
    "    df['ed'] = np.tile(decay_energies,n)\n",
    "    \n",
    "    dt = np.random.exponential(half_life/np.log(2),n)\n",
    "    df['time'] = np.array(list(zip(np.zeros(n), dt))).flatten()#*1e9\n",
    "    \n",
    "    df[\"evtid\"] = np.repeat(np.arange(n), 2)\n",
    "    \n",
    "    df[\"parenttype\"] = np.tile(['Kr83[41.557]', 'Kr83[9.405]'], n)\n",
    "    \n",
    "    #Not used:\n",
    "    # a) since Kr83m is classified in epix using only the parenttype\n",
    "    # b) trackid, parentid are not used right now.\n",
    "    # Please keep in mind that other \"simulations\" may require properly set \n",
    "    # edproc, type and creaproc. Future epix updates using e.g. track reconstructions\n",
    "    # may also need proper track- and parent-ids. \n",
    "    df[\"trackid\"] = np.tile([0,1], n)\n",
    "    df[\"parentid\"] = np.zeros(2*n, dtype = np.int32)\n",
    "    df[\"creaproc\"] = np.repeat(\"None\", 2*n)\n",
    "    df[\"edproc\"] = np.repeat(\"None\", 2*n)\n",
    "    df[\"type\"] = np.repeat(\"None\", 2*n)\n",
    "\n",
    "    return df"
   ]
  },
  {
   "attachments": {},
   "cell_type": "markdown",
   "id": "5df0ff1a",
   "metadata": {},
   "source": [
    "The time fuse needs to simulate depends on the energy of the signal you put into fuse. The higher the energy the longer fuse needs to simulate. In this example we will simulate 1000 events with an energy of 200 keV. "
   ]
  },
  {
   "cell_type": "code",
   "execution_count": null,
   "id": "0d13f846",
   "metadata": {},
   "outputs": [],
   "source": [
    "microphysics_instructions = monoenergetic_source(1000, 200)\n",
    "microphysics_instructions.to_csv(\"monoenergetic_200keV.csv\")"
   ]
  },
  {
   "attachments": {},
   "cell_type": "markdown",
   "id": "2171b669",
   "metadata": {},
   "source": [
    "We can now set upt the context like before. fuse will automatically detect that a csv file is given and treat it accordingly. As our csv file contains a single energy deposit per event, we should set `n_interactions_per_chunk` to something reasonable like 100. Now each chunk will consist of at least 100 events. "
   ]
  },
  {
   "cell_type": "code",
   "execution_count": null,
   "id": "ae4992c1",
   "metadata": {},
   "outputs": [],
   "source": [
    "st = fuse.context.full_chain_context(out_dir = \"/path/to/output/folder\",\n",
    "                                     config = config)\n",
    "\n",
    "st.set_config({\"path\": \".\",\n",
    "               \"file_name\": \"monoenergetic_200keV.csv\",\n",
    "               \"debug\": True,\n",
    "               \"source_rate\": 1,\n",
    "               \"n_interactions_per_chunk\": 100,\n",
    "               \"cut_delayed\": 4e14,\n",
    "              })\n",
    "\n",
    "run_number = \"00001\""
   ]
  },
  {
   "attachments": {},
   "cell_type": "markdown",
   "id": "caf75fdb",
   "metadata": {},
   "source": [
    "We do not need to run each simulation step manualy, strax will handle that. Lets just ask it to make `raw_records` and then `event_info`."
   ]
  },
  {
   "cell_type": "code",
   "execution_count": null,
   "id": "9657e636",
   "metadata": {},
   "outputs": [],
   "source": [
    "st.make(run_number,\"raw_records\" , progress_bar = True)"
   ]
  },
  {
   "cell_type": "code",
   "execution_count": null,
   "id": "c27c419a",
   "metadata": {},
   "outputs": [],
   "source": [
    "st.make(run_number,\"event_info\" , progress_bar = True)"
   ]
  },
  {
   "cell_type": "code",
   "execution_count": null,
   "id": "928703cf",
   "metadata": {},
   "outputs": [],
   "source": [
    "event_info_data = st.get_df(run_number,\"event_info\")"
   ]
  },
  {
   "attachments": {},
   "cell_type": "markdown",
   "id": "80421d81",
   "metadata": {},
   "source": [
    "Lets end this subsection with an unnecessary complicated scatterplot. "
   ]
  },
  {
   "cell_type": "code",
   "execution_count": null,
   "id": "1ac24e63",
   "metadata": {},
   "outputs": [],
   "source": [
    "import matplotlib.pyplot as plt\n",
    "from scipy.stats import gaussian_kde\n",
    "\n",
    "fig = plt.figure()\n",
    "ax = fig.gca()\n",
    "ax.set_xlim(1000, 2000)\n",
    "ax.set_ylim(15000, 60000)\n",
    "\n",
    "xdata = event_info_data[\"cs1_wo_timecorr\"].values\n",
    "ydata = event_info_data[\"cs2_wo_timecorr\"].values\n",
    "\n",
    "xy = np.vstack([xdata, ydata])\n",
    "z = gaussian_kde(xy)(xy)\n",
    "\n",
    "ax.scatter(xdata,\n",
    "           ydata,\n",
    "           c=z,\n",
    "           s=7.5,\n",
    "           cmap=\"viridis\"\n",
    "          )\n",
    "\n",
    "ax.set_xlabel(\"cS1 [pe]\")\n",
    "ax.set_ylabel(\"cS2 [pe]\")\n",
    "\n",
    "plt.show()"
   ]
  },
  {
   "attachments": {},
   "cell_type": "markdown",
   "id": "c26e2e66",
   "metadata": {},
   "source": [
    "### Detector Physics\n",
    "\n",
    "Now that we know how to start the microphysics simulation from a csv file we can do the same for the detector physics simulation.\n",
    "The required csv file format is a bit different. You can find a very simple example below. "
   ]
  },
  {
   "cell_type": "code",
   "execution_count": null,
   "id": "a406a533",
   "metadata": {},
   "outputs": [],
   "source": [
    "import pandas as pd\n",
    "def build_random_instructions(n):\n",
    "\n",
    "    df = pd.DataFrame()\n",
    "    \n",
    "    r = np.sqrt(np.random.uniform(0, 2500, n))\n",
    "    t = np.random.uniform(-np.pi, np.pi, n)\n",
    "    df['x'] = r * np.cos(t)\n",
    "    df['y'] = r * np.sin(t)\n",
    "    df['z'] = np.random.uniform(-130, -15, n)\n",
    "\n",
    "    df['photons'] = np.random.uniform(100,5000, n)\n",
    "    df['electrons'] = np.random.uniform(100,5000, n)\n",
    "    df[\"excitons\"] = np.zeros(n)\n",
    "\n",
    "    df['e_field'] = np.array([23]*n)\n",
    "    df[\"nestid\"] = np.array([7]*n)\n",
    "    df[\"ed\"] = np.zeros(n)\n",
    "\n",
    "    #just set the time with respect to the start of the event\n",
    "    #The events will be distributed in time by fuse\n",
    "    df[\"t\"] = np.zeros(n)\n",
    "\n",
    "    df[\"eventid\"] = np.arange(n)\n",
    "\n",
    "    return df\n"
   ]
  },
  {
   "cell_type": "code",
   "execution_count": null,
   "id": "febc45b3",
   "metadata": {},
   "outputs": [],
   "source": [
    "detectorphysics_instructions = build_random_instructions(1000)\n",
    "detectorphysics_instructions.to_csv(\"random_detectorphysics_instructions.csv\",index=False)"
   ]
  },
  {
   "attachments": {},
   "cell_type": "markdown",
   "id": "d91a353e",
   "metadata": {},
   "source": [
    "We can now set up the simulation context. As we are just running the detector physics simulation we do not need to register the `micro_pyhsics` plugins but need to register the `ChunkCsvInput` plugin."
   ]
  },
  {
   "cell_type": "code",
   "execution_count": null,
   "id": "a021e311",
   "metadata": {},
   "outputs": [],
   "source": [
    "st = cutax.contexts.xenonnt_sim_SR0v3_cmt_v9(output_folder = \"path/to/output/folder\")\n",
    "\n",
    "detector_simulation_modules = [\n",
    "    fuse.detector_physics.ChunkCsvInput,\n",
    "    fuse.detector_physics.S1PhotonPropagation,\n",
    "    fuse.detector_physics.ElectronDrift,\n",
    "    fuse.detector_physics.ElectronExtraction,\n",
    "    fuse.detector_physics.ElectronTiming,\n",
    "    fuse.detector_physics.SecondaryScintillation,\n",
    "    fuse.detector_physics.S2PhotonPropagation,\n",
    "    fuse.pmt_and_daq.PMTAfterPulses,\n",
    "    fuse.pmt_and_daq.PMTResponseAndDAQ,\n",
    "    ]\n",
    "\n",
    "\n",
    "for module in detector_simulation_modules:\n",
    "    st.register(module)\n",
    "\n",
    "st.set_config({\"input_file\": \"./random_detectorphysics_instructions.csv\",\n",
    "               \"debug\": True,\n",
    "               \"source_rate\": 1,\n",
    "               \"n_interactions_per_chunk\": 25,\n",
    "              })\n",
    "\n",
    "run_number = \"00002\""
   ]
  },
  {
   "cell_type": "code",
   "execution_count": null,
   "id": "642e4303",
   "metadata": {},
   "outputs": [],
   "source": [
    "st.make(run_number,\"raw_records\" , progress_bar = True)"
   ]
  },
  {
   "cell_type": "code",
   "execution_count": null,
   "id": "14b2fe58",
   "metadata": {},
   "outputs": [],
   "source": [
    "st.make(run_number,\"event_info\" , progress_bar = True)"
   ]
  },
  {
   "cell_type": "code",
   "execution_count": null,
   "id": "7d9dff91",
   "metadata": {},
   "outputs": [],
   "source": [
    "event_info_data = st.get_df(run_number,\"event_info\")"
   ]
  }
 ],
 "metadata": {
  "kernelspec": {
   "display_name": "base",
   "language": "python",
   "name": "python3"
  },
  "language_info": {
   "codemirror_mode": {
    "name": "ipython",
    "version": 3
   },
   "file_extension": ".py",
   "mimetype": "text/x-python",
   "name": "python",
   "nbconvert_exporter": "python",
   "pygments_lexer": "ipython3",
   "version": "3.9.13"
  }
 },
 "nbformat": 4,
 "nbformat_minor": 5
}
