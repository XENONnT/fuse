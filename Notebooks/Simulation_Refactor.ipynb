{
 "cells": [
  {
   "cell_type": "code",
   "execution_count": 20,
   "id": "c29abd46-540a-450a-87b1-a7b71940dd68",
   "metadata": {},
   "outputs": [
    {
     "ename": "ModuleNotFoundError",
     "evalue": "No module named 'XeSim'",
     "output_type": "error",
     "traceback": [
      "\u001b[0;31m---------------------------------------------------------------------------\u001b[0m",
      "\u001b[0;31mModuleNotFoundError\u001b[0m                       Traceback (most recent call last)",
      "Cell \u001b[0;32mIn[20], line 4\u001b[0m\n\u001b[1;32m      1\u001b[0m \u001b[39mimport\u001b[39;00m \u001b[39mstrax\u001b[39;00m\n\u001b[0;32m----> 4\u001b[0m \u001b[39mimport\u001b[39;00m \u001b[39mXeSim\u001b[39;00m\n\u001b[1;32m      6\u001b[0m \u001b[39mfrom\u001b[39;00m \u001b[39mplugins\u001b[39;00m\u001b[39m.\u001b[39;00m\u001b[39mmicro_physics\u001b[39;00m\u001b[39m.\u001b[39;00m\u001b[39minput\u001b[39;00m \u001b[39mimport\u001b[39;00m ChunkInput\n\u001b[1;32m      7\u001b[0m \u001b[39mfrom\u001b[39;00m \u001b[39mXeSim\u001b[39;00m\u001b[39m.\u001b[39;00m\u001b[39mplugins\u001b[39;00m\u001b[39m.\u001b[39;00m\u001b[39mmicro_physics\u001b[39;00m\u001b[39m.\u001b[39;00m\u001b[39mfind_cluster\u001b[39;00m \u001b[39mimport\u001b[39;00m FindCluster\n",
      "\u001b[0;31mModuleNotFoundError\u001b[0m: No module named 'XeSim'"
     ]
    }
   ],
   "source": [
    "import strax\n",
    "\n",
    "\n",
    "import XeSim\n",
    "\n",
    "from plugins.micro_physics.input import ChunkInput\n",
    "from XeSim.plugins.micro_physics.find_cluster import FindCluster\n",
    "from XeSim.plugins.micro_physics.merge_cluster import MergeCluster\n",
    "from XeSim.plugins.micro_physics.electric_field import ElectricField\n",
    "from XeSim.plugins.micro_physics.yields import NestYields, BBFYields\n",
    "from XeSim.plugins.micro_physics.microphysics_summary import MicroPhysicsSummary"
   ]
  },
  {
   "cell_type": "code",
   "execution_count": 2,
   "id": "141e19a1",
   "metadata": {},
   "outputs": [
    {
     "ename": "ModuleNotFoundError",
     "evalue": "No module named 'straxen'",
     "output_type": "error",
     "traceback": [
      "\u001b[0;31m---------------------------------------------------------------------------\u001b[0m",
      "\u001b[0;31mModuleNotFoundError\u001b[0m                       Traceback (most recent call last)",
      "\u001b[1;32m/Users/henningse/Code/XeSim/Notebooks/Simulation_Refactor.ipynb Cell 2\u001b[0m in \u001b[0;36m<cell line: 1>\u001b[0;34m()\u001b[0m\n\u001b[0;32m----> <a href='vscode-notebook-cell:/Users/henningse/Code/XeSim/Notebooks/Simulation_Refactor.ipynb#X22sZmlsZQ%3D%3D?line=0'>1</a>\u001b[0m \u001b[39mimport\u001b[39;00m \u001b[39mXeSim\u001b[39;00m\n",
      "File \u001b[0;32m~/miniforge3/lib/python3.9/site-packages/XeSim/__init__.py:1\u001b[0m, in \u001b[0;36m<module>\u001b[0;34m\u001b[0m\n\u001b[0;32m----> 1\u001b[0m \u001b[39mfrom\u001b[39;00m \u001b[39m.\u001b[39;00m \u001b[39mimport\u001b[39;00m plugins\n\u001b[1;32m      2\u001b[0m \u001b[39mfrom\u001b[39;00m \u001b[39m.\u001b[39;00m\u001b[39mplugins\u001b[39;00m \u001b[39mimport\u001b[39;00m \u001b[39m*\u001b[39m\n",
      "File \u001b[0;32m~/miniforge3/lib/python3.9/site-packages/XeSim/plugins/__init__.py:1\u001b[0m, in \u001b[0;36m<module>\u001b[0;34m\u001b[0m\n\u001b[0;32m----> 1\u001b[0m \u001b[39mfrom\u001b[39;00m \u001b[39m.\u001b[39;00m \u001b[39mimport\u001b[39;00m micro_physics\n\u001b[1;32m      2\u001b[0m \u001b[39mfrom\u001b[39;00m \u001b[39m.\u001b[39;00m\u001b[39mmicro_physics\u001b[39;00m \u001b[39mimport\u001b[39;00m \u001b[39m*\u001b[39m\n",
      "File \u001b[0;32m~/miniforge3/lib/python3.9/site-packages/XeSim/plugins/micro_physics/__init__.py:1\u001b[0m, in \u001b[0;36m<module>\u001b[0;34m\u001b[0m\n\u001b[0;32m----> 1\u001b[0m \u001b[39mfrom\u001b[39;00m \u001b[39m.\u001b[39;00m \u001b[39mimport\u001b[39;00m \u001b[39minput\u001b[39m\n\u001b[1;32m      2\u001b[0m \u001b[39mfrom\u001b[39;00m \u001b[39m.\u001b[39;00m\u001b[39minput\u001b[39;00m \u001b[39mimport\u001b[39;00m \u001b[39m*\u001b[39m\n",
      "File \u001b[0;32m~/miniforge3/lib/python3.9/site-packages/XeSim/plugins/micro_physics/input.py:12\u001b[0m, in \u001b[0;36m<module>\u001b[0;34m\u001b[0m\n\u001b[1;32m      9\u001b[0m \u001b[39mimport\u001b[39;00m \u001b[39mnumpy\u001b[39;00m \u001b[39mas\u001b[39;00m \u001b[39mnp\u001b[39;00m\n\u001b[1;32m     10\u001b[0m \u001b[39mimport\u001b[39;00m \u001b[39mawkward\u001b[39;00m \u001b[39mas\u001b[39;00m \u001b[39mak\u001b[39;00m\n\u001b[0;32m---> 12\u001b[0m \u001b[39mfrom\u001b[39;00m \u001b[39m.\u001b[39;00m\u001b[39m.\u001b[39;00m\u001b[39m.\u001b[39;00m\u001b[39mcommon\u001b[39;00m \u001b[39mimport\u001b[39;00m full_array_to_numpy, reshape_awkward\n\u001b[1;32m     14\u001b[0m \u001b[39mimport\u001b[39;00m \u001b[39mepix\u001b[39;00m\n\u001b[1;32m     16\u001b[0m logging\u001b[39m.\u001b[39mbasicConfig(handlers\u001b[39m=\u001b[39m[logging\u001b[39m.\u001b[39mStreamHandler()])\n",
      "File \u001b[0;32m~/miniforge3/lib/python3.9/site-packages/XeSim/common.py:3\u001b[0m, in \u001b[0;36m<module>\u001b[0;34m\u001b[0m\n\u001b[1;32m      1\u001b[0m \u001b[39mimport\u001b[39;00m \u001b[39mnumpy\u001b[39;00m \u001b[39mas\u001b[39;00m \u001b[39mnp\u001b[39;00m\n\u001b[1;32m      2\u001b[0m \u001b[39mimport\u001b[39;00m \u001b[39mawkward\u001b[39;00m \u001b[39mas\u001b[39;00m \u001b[39mak\u001b[39;00m\n\u001b[0;32m----> 3\u001b[0m \u001b[39mimport\u001b[39;00m \u001b[39mstraxen\u001b[39;00m\n\u001b[1;32m      4\u001b[0m \u001b[39mimport\u001b[39;00m \u001b[39mstrax\u001b[39;00m\n\u001b[1;32m      5\u001b[0m \u001b[39mimport\u001b[39;00m \u001b[39mnumba\u001b[39;00m\n",
      "\u001b[0;31mModuleNotFoundError\u001b[0m: No module named 'straxen'"
     ]
    }
   ],
   "source": [
    "import XeSim"
   ]
  },
  {
   "cell_type": "code",
   "execution_count": 2,
   "id": "9844aa12",
   "metadata": {},
   "outputs": [
    {
     "data": {
      "text/plain": [
       "<module 'XeSim' from '/Users/henningse/miniforge3/lib/python3.9/site-packages/XeSim/__init__.py'>"
      ]
     },
     "execution_count": 2,
     "metadata": {},
     "output_type": "execute_result"
    }
   ],
   "source": [
    "XeSim"
   ]
  },
  {
   "cell_type": "code",
   "execution_count": null,
   "id": "7f4bb310",
   "metadata": {},
   "outputs": [],
   "source": []
  },
  {
   "cell_type": "code",
   "execution_count": null,
   "id": "99cd0ed8",
   "metadata": {},
   "outputs": [],
   "source": []
  },
  {
   "cell_type": "code",
   "execution_count": null,
   "id": "bf3523a3-70e9-4aaa-ac4f-145dc3c94ca3",
   "metadata": {
    "tags": []
   },
   "outputs": [],
   "source": [
    "st = strax.Context(register = [ChunkInput,\n",
    "                               FindCluster,\n",
    "                               MergeCluster,\n",
    "                               ElectricField,\n",
    "                               NestYields,\n",
    "                               #BBFYields,\n",
    "                               MicroPhysicsSummary],\n",
    "                   storage = [strax.DataDirectory('/scratch/midway2/hschulze/epix_data/')]\n",
    "                  )\n",
    "\n",
    "st.set_config({\"path\": \"/project2/lgrandi/xenonnt/simulations/testing\",\n",
    "               \"file_name\": \"pmt_neutrons_100.root\",\n",
    "               \"ChunkSize\": 50\n",
    "              })\n",
    "\n",
    "\n",
    "st.make(\"00000\",\"geant4_interactions\")\n",
    "st.make(\"00000\",\"cluster_index\")\n",
    "st.make(\"00000\",\"clustered_interactions\")\n",
    "st.make(\"00000\",[ \"electric_field_values\"])\n",
    "st.make(\"00000\",[ \"quanta\"])\n",
    "st.make(\"00000\",[ \"microphysics_summary\"])"
   ]
  },
  {
   "cell_type": "code",
   "execution_count": null,
   "id": "a7767a1d-b228-43d3-bd61-b9854f05568f",
   "metadata": {},
   "outputs": [],
   "source": [
    "geant4_interactions = st.get_df(\"00000\",[\"geant4_interactions\", \"cluster_index\"])\n",
    "geant4_interactions"
   ]
  },
  {
   "cell_type": "code",
   "execution_count": null,
   "id": "8e508293-c8de-4422-ad56-1c9614921b0a",
   "metadata": {},
   "outputs": [],
   "source": [
    "clustered_interactions = st.get_df(\"00000\",[\"clustered_interactions\", \"electric_field_values\", \"quanta\"])\n",
    "clustered_interactions"
   ]
  },
  {
   "cell_type": "code",
   "execution_count": null,
   "id": "c0f08c9f-55ae-4e34-8763-e2af56f93530",
   "metadata": {},
   "outputs": [],
   "source": [
    "microphysics_summary = st.get_df(\"00000\",[ \"microphysics_summary\"])\n",
    "microphysics_summary"
   ]
  },
  {
   "cell_type": "markdown",
   "id": "8eb4b98d-2d8c-45f6-88b3-15dde93ca3f3",
   "metadata": {},
   "source": [
    "## S1 and S2"
   ]
  },
  {
   "cell_type": "code",
   "execution_count": null,
   "id": "7e9f581d-10c2-4e49-8dc3-59cd0e285dfd",
   "metadata": {},
   "outputs": [],
   "source": [
    "import cutax"
   ]
  },
  {
   "cell_type": "code",
   "execution_count": null,
   "id": "b45392a2-67f5-473a-9170-ec40608c408d",
   "metadata": {},
   "outputs": [],
   "source": [
    "from XeSim.plugins.detector_physics.S1_Signal import S1PhotonPropagation\n",
    "from XeSim.plugins.detector_physics.electron_drift import ElectronDrift\n",
    "from XeSim.plugins.detector_physics.electron_extraction import ElectronExtraction\n",
    "from XeSim.plugins.detector_physics.electron_timing import ElectronTiming\n",
    "from XeSim.plugins.detector_physics.secondary_scintillation import SecondaryScintillation\n",
    "from XeSim.plugins.detector_physics.S2_Signal import S2PhotonPropagation\n",
    "\n",
    "from XeSim.plugins.pmt_and_daq.pmt_afterpulses import PMTAfterPulses\n",
    "\n",
    "from XeSim.plugins.pmt_and_daq.pmt_response_and_daq import PMTResponseAndDAQ"
   ]
  },
  {
   "cell_type": "code",
   "execution_count": null,
   "id": "8cc28e42-0306-4cf0-a632-cc19aaea8924",
   "metadata": {},
   "outputs": [],
   "source": [
    "st = cutax.contexts.xenonnt_sim_SR0v3_cmt_v9(output_folder = \"/scratch/midway2/hschulze/RefactorOutput\")\n",
    "st.register(ChunkRootFile)\n",
    "st.register(FindCluster)\n",
    "st.register(MergeCluster)\n",
    "st.register(ElectricField)\n",
    "st.register(NestYields)\n",
    "st.register(MicroPhysicsSummary)\n",
    "\n",
    "st.register(S1PhotonPropagation)\n",
    "\n",
    "st.register(ElectronDrift)\n",
    "st.register(ElectronExtraction)\n",
    "st.register(ElectronTiming)\n",
    "st.register(SecondaryScintillation)\n",
    "st.register(S2PhotonPropagation)\n",
    "\n",
    "st.register(PMTAfterPulses)\n",
    "\n",
    "st.register(PMTResponseAndDAQ)\n",
    "\n",
    "\n",
    "st.set_config({\"path\": \"/project2/lgrandi/xenonnt/simulations/testing\",\n",
    "               \"file_name\": \"pmt_neutrons_100.root\",\n",
    "               \"ChunkSize\": 20\n",
    "              })"
   ]
  },
  {
   "cell_type": "code",
   "execution_count": null,
   "id": "b1e8f553-6e21-4b42-bdde-68ce7ecd313e",
   "metadata": {},
   "outputs": [],
   "source": [
    "st.make(\"00000\",\"geant4_interactions\")\n",
    "st.make(\"00000\",\"cluster_index\")\n",
    "st.make(\"00000\",\"clustered_interactions\")\n",
    "st.make(\"00000\",[ \"electric_field_values\"])\n",
    "st.make(\"00000\",[ \"quanta\"])\n",
    "st.make(\"00000\",[ \"microphysics_summary\"])"
   ]
  },
  {
   "cell_type": "code",
   "execution_count": null,
   "id": "8b0d2a92-fc89-40af-a704-1a244c474daa",
   "metadata": {},
   "outputs": [],
   "source": [
    "#S1\n",
    "st.make(\"00000\",[ \"S1_channel_and_timings\"])\n",
    "\n",
    "#S2\n",
    "st.make(\"00000\",\"drifted_electrons\")\n",
    "st.make(\"00000\",\"extracted_electrons\")\n",
    "st.make(\"00000\",\"electron_time\")\n",
    "st.make(\"00000\",\"photons\")\n",
    "st.make(\"00000\",\"sum_photons\")\n",
    "st.make(\"00000\",\"photon_channels_and_timeing\")\n",
    "\n",
    "#Afterpulses\n",
    "st.make(\"00000\",\"pmt_afterpulses\")"
   ]
  },
  {
   "cell_type": "code",
   "execution_count": null,
   "id": "e6bed94a",
   "metadata": {},
   "outputs": [],
   "source": [
    "#RawRecords\n",
    "st.make(\"00000\",\"raw_records\")"
   ]
  },
  {
   "cell_type": "code",
   "execution_count": null,
   "id": "d5bf4c11",
   "metadata": {},
   "outputs": [],
   "source": [
    "# From here you should be able to get any straxen data you want\n",
    "st.make(\"00000\",\"event_info\")"
   ]
  }
 ],
 "metadata": {
  "kernelspec": {
   "display_name": "base",
   "language": "python",
   "name": "python3"
  },
  "language_info": {
   "codemirror_mode": {
    "name": "ipython",
    "version": 3
   },
   "file_extension": ".py",
   "mimetype": "text/x-python",
   "name": "python",
   "nbconvert_exporter": "python",
   "pygments_lexer": "ipython3",
   "version": "3.9.13"
  }
 },
 "nbformat": 4,
 "nbformat_minor": 5
}
