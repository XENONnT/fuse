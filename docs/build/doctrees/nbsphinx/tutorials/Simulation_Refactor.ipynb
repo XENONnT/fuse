{
 "cells": [
  {
   "attachments": {},
   "cell_type": "markdown",
   "id": "15933e5f-8e9b-44e5-af56-b1c5485140c9",
   "metadata": {},
   "source": [
    "# Using XENON fuse"
   ]
  },
  {
   "attachments": {},
   "cell_type": "markdown",
   "id": "6e4fcd89-bd8d-4e5e-8fe3-ed133fa19874",
   "metadata": {},
   "source": [
    "## Imports"
   ]
  },
  {
   "cell_type": "code",
   "execution_count": 1,
   "id": "c29abd46-540a-450a-87b1-a7b71940dd68",
   "metadata": {
    "execution": {
     "iopub.execute_input": "2023-08-16T15:32:22.186185Z",
     "iopub.status.busy": "2023-08-16T15:32:22.185819Z",
     "iopub.status.idle": "2023-08-16T15:32:24.750405Z",
     "shell.execute_reply": "2023-08-16T15:32:24.750070Z"
    }
   },
   "outputs": [
    {
     "name": "stderr",
     "output_type": "stream",
     "text": [
      "/Users/henningse/miniforge3/lib/python3.9/site-packages/numba/core/decorators.py:262: NumbaDeprecationWarning: \u001b[1mnumba.generated_jit is deprecated. Please see the documentation at: https://numba.readthedocs.io/en/stable/reference/deprecation.html#deprecation-of-generated-jit for more information and advice on a suitable replacement.\u001b[0m\n",
      "  warnings.warn(msg, NumbaDeprecationWarning)\n",
      "2023-08-16 17:32:22,907 - utilix - WARNING - Could not load a configuration file. You can create one at /Users/henningse/.xenon_config, or set a custom path using\n",
      "\n",
      "export XENON_CONFIG=path/to/your/config\n",
      "\n"
     ]
    },
    {
     "name": "stderr",
     "output_type": "stream",
     "text": [
      "/Users/henningse/Code/straxen/straxen/plugins/led_cal/led_calibration.py:213: NumbaDeprecationWarning: \u001b[1mThe 'nopython' keyword argument was not supplied to the 'numba.jit' decorator. The implicit default value for this argument is currently False, but it will be changed to True in Numba 0.59.0. See https://numba.readthedocs.io/en/stable/reference/deprecation.html#deprecation-of-object-mode-fall-back-behaviour-when-using-jit for details.\u001b[0m\n",
      "  def calc_delta_time(ext_timings_nv_delta_time, pulses, hitlets_nv, nv_pmt_start, nv_pmt_stop):\n"
     ]
    },
    {
     "name": "stderr",
     "output_type": "stream",
     "text": [
      "/Users/henningse/miniforge3/lib/python3.9/site-packages/tqdm/auto.py:21: TqdmWarning: IProgress not found. Please update jupyter and ipywidgets. See https://ipywidgets.readthedocs.io/en/stable/user_install.html\n",
      "  from .autonotebook import tqdm as notebook_tqdm\n"
     ]
    },
    {
     "ename": "ModuleNotFoundError",
     "evalue": "No module named 'cutax'",
     "output_type": "error",
     "traceback": [
      "\u001b[0;31m---------------------------------------------------------------------------\u001b[0m",
      "\u001b[0;31mModuleNotFoundError\u001b[0m                       Traceback (most recent call last)",
      "Input \u001b[0;32mIn [1]\u001b[0m, in \u001b[0;36m<cell line: 3>\u001b[0;34m()\u001b[0m\n\u001b[1;32m      1\u001b[0m \u001b[38;5;28;01mimport\u001b[39;00m \u001b[38;5;21;01mstrax\u001b[39;00m\n\u001b[1;32m      2\u001b[0m \u001b[38;5;28;01mimport\u001b[39;00m \u001b[38;5;21;01mstraxen\u001b[39;00m\n\u001b[0;32m----> 3\u001b[0m \u001b[38;5;28;01mimport\u001b[39;00m \u001b[38;5;21;01mcutax\u001b[39;00m\n\u001b[1;32m      4\u001b[0m \u001b[38;5;28;01mimport\u001b[39;00m \u001b[38;5;21;01mfuse\u001b[39;00m\n\u001b[1;32m      6\u001b[0m \u001b[38;5;28;01mimport\u001b[39;00m \u001b[38;5;21;01mnumpy\u001b[39;00m \u001b[38;5;28;01mas\u001b[39;00m \u001b[38;5;21;01mnp\u001b[39;00m\n",
      "\u001b[0;31mModuleNotFoundError\u001b[0m: No module named 'cutax'"
     ]
    }
   ],
   "source": [
    "import strax\n",
    "import straxen\n",
    "import cutax\n",
    "import fuse\n",
    "\n",
    "import numpy as np\n",
    "from straxen import URLConfig"
   ]
  },
  {
   "attachments": {},
   "cell_type": "markdown",
   "id": "3d774735-3ad4-4603-9139-9bd0ec9c23e1",
   "metadata": {},
   "source": [
    "## Microphysics simulation (former epix)\n",
    "\n",
    "In fuse all simulation steps are handled in dedicated plugins just like straxen does for our data processing. The first part of our full chain simulations is the simulation of microphysics effects. The corresponding plugins are grouped in the `micro_physics` module.\n",
    "\n",
    "To set up a simulation we first need to define a `Context`. At this stage we dont't need a lot of inputs so we can run the simulation inside a generic `strax.Context`. fuse has a predefined `microphyics_context` that registers all needed plugins for us. Afterwards we can change the configuration of the simulation using `st.set_config`. If you want to try your own `.root` or `.csv`file feel free to change the given example file.\n",
    "\n",
    "There are some more options we can change: \n",
    "- `debug` will print out some debug informations during the simulation (For now there are basically no debug statements.)\n",
    "- `source_rate`: You can specify a rate in Hz. fuse will distribute your events according to this rate. \n",
    "- `n_interactions_per_chunk`: fuse builds strax chunks based on an algorithm called 'dynamic chunking'. It searches for empty time intervalls and cuts the data into chunks there. With this parameter you can set an lower limit to the number of interactions per chunk. For Geant4 files something in the order of 10k - 100k can work. For csv files i would reccomend something in the order of 10 - 1000 depending on you specific data. \n",
    "- `cut_delayed`: fuse will remove interactions that happen after the last sampled time + the cut_delayed time. We dont want to deal with interactions that happen way after our \"run\" finished (yet)"
   ]
  },
  {
   "cell_type": "code",
   "execution_count": 2,
   "id": "317330d0-9585-4c96-8eb2-c2bea5815a8f",
   "metadata": {
    "execution": {
     "iopub.execute_input": "2023-08-16T15:32:24.752345Z",
     "iopub.status.busy": "2023-08-16T15:32:24.752228Z",
     "iopub.status.idle": "2023-08-16T15:32:24.761200Z",
     "shell.execute_reply": "2023-08-16T15:32:24.760842Z"
    }
   },
   "outputs": [
    {
     "ename": "NameError",
     "evalue": "name 'fuse' is not defined",
     "output_type": "error",
     "traceback": [
      "\u001b[0;31m---------------------------------------------------------------------------\u001b[0m",
      "\u001b[0;31mNameError\u001b[0m                                 Traceback (most recent call last)",
      "Input \u001b[0;32mIn [2]\u001b[0m, in \u001b[0;36m<cell line: 1>\u001b[0;34m()\u001b[0m\n\u001b[0;32m----> 1\u001b[0m st \u001b[38;5;241m=\u001b[39m \u001b[43mfuse\u001b[49m\u001b[38;5;241m.\u001b[39mcontext\u001b[38;5;241m.\u001b[39mmicrophysics_context(\u001b[38;5;124m\"\u001b[39m\u001b[38;5;124m/path/to/output/folder\u001b[39m\u001b[38;5;124m\"\u001b[39m)\n\u001b[1;32m      3\u001b[0m st\u001b[38;5;241m.\u001b[39mset_config({\u001b[38;5;124m\"\u001b[39m\u001b[38;5;124mpath\u001b[39m\u001b[38;5;124m\"\u001b[39m: \u001b[38;5;124m\"\u001b[39m\u001b[38;5;124m/project2/lgrandi/xenonnt/simulations/testing\u001b[39m\u001b[38;5;124m\"\u001b[39m,\n\u001b[1;32m      4\u001b[0m                \u001b[38;5;124m\"\u001b[39m\u001b[38;5;124mfile_name\u001b[39m\u001b[38;5;124m\"\u001b[39m: \u001b[38;5;124m\"\u001b[39m\u001b[38;5;124mpmt_neutrons_100.root\u001b[39m\u001b[38;5;124m\"\u001b[39m,\n\u001b[1;32m      5\u001b[0m                \u001b[38;5;124m\"\u001b[39m\u001b[38;5;124mdebug\u001b[39m\u001b[38;5;124m\"\u001b[39m: \u001b[38;5;28;01mTrue\u001b[39;00m,\n\u001b[1;32m      6\u001b[0m                \u001b[38;5;124m\"\u001b[39m\u001b[38;5;124msource_rate\u001b[39m\u001b[38;5;124m\"\u001b[39m: \u001b[38;5;241m1\u001b[39m,\n\u001b[1;32m      7\u001b[0m               })\n",
      "\u001b[0;31mNameError\u001b[0m: name 'fuse' is not defined"
     ]
    }
   ],
   "source": [
    "st = fuse.context.microphysics_context(\"/path/to/output/folder\")\n",
    "\n",
    "st.set_config({\"path\": \"/project2/lgrandi/xenonnt/simulations/testing\",\n",
    "               \"file_name\": \"pmt_neutrons_100.root\",\n",
    "               \"debug\": True,\n",
    "               \"source_rate\": 1,\n",
    "              })"
   ]
  },
  {
   "attachments": {},
   "cell_type": "markdown",
   "id": "f9c7149d-b2bb-4ced-987b-f4ab82f3e0c0",
   "metadata": {},
   "source": [
    "Now that we have our context we can start to run fuse. Just use `st.make` and pick the data types you would like to make."
   ]
  },
  {
   "cell_type": "code",
   "execution_count": 3,
   "id": "bf3523a3-70e9-4aaa-ac4f-145dc3c94ca3",
   "metadata": {
    "execution": {
     "iopub.execute_input": "2023-08-16T15:32:24.762916Z",
     "iopub.status.busy": "2023-08-16T15:32:24.762807Z",
     "iopub.status.idle": "2023-08-16T15:32:24.770500Z",
     "shell.execute_reply": "2023-08-16T15:32:24.770245Z"
    },
    "tags": []
   },
   "outputs": [
    {
     "ename": "NameError",
     "evalue": "name 'st' is not defined",
     "output_type": "error",
     "traceback": [
      "\u001b[0;31m---------------------------------------------------------------------------\u001b[0m",
      "\u001b[0;31mNameError\u001b[0m                                 Traceback (most recent call last)",
      "Input \u001b[0;32mIn [3]\u001b[0m, in \u001b[0;36m<cell line: 3>\u001b[0;34m()\u001b[0m\n\u001b[1;32m      1\u001b[0m run_number \u001b[38;5;241m=\u001b[39m \u001b[38;5;124m\"\u001b[39m\u001b[38;5;124m00000\u001b[39m\u001b[38;5;124m\"\u001b[39m\n\u001b[0;32m----> 3\u001b[0m \u001b[43mst\u001b[49m\u001b[38;5;241m.\u001b[39mmake(run_number, \u001b[38;5;124m\"\u001b[39m\u001b[38;5;124mgeant4_interactions\u001b[39m\u001b[38;5;124m\"\u001b[39m)\n\u001b[1;32m      4\u001b[0m st\u001b[38;5;241m.\u001b[39mmake(run_number, \u001b[38;5;124m\"\u001b[39m\u001b[38;5;124mcluster_index\u001b[39m\u001b[38;5;124m\"\u001b[39m)\n\u001b[1;32m      5\u001b[0m st\u001b[38;5;241m.\u001b[39mmake(run_number, \u001b[38;5;124m\"\u001b[39m\u001b[38;5;124mclustered_interactions\u001b[39m\u001b[38;5;124m\"\u001b[39m)\n",
      "\u001b[0;31mNameError\u001b[0m: name 'st' is not defined"
     ]
    }
   ],
   "source": [
    "run_number = \"00000\"\n",
    "\n",
    "st.make(run_number, \"geant4_interactions\")\n",
    "st.make(run_number, \"cluster_index\")\n",
    "st.make(run_number, \"clustered_interactions\")\n",
    "st.make(run_number, \"electric_field_values\")\n",
    "st.make(run_number, \"quanta\")\n",
    "st.make(run_number, \"microphysics_summary\")"
   ]
  },
  {
   "attachments": {},
   "cell_type": "markdown",
   "id": "655c40ff-a51c-44e6-8321-d21098b5094c",
   "metadata": {},
   "source": [
    "If your simulation did not crash you can now load the simulated data just like straxen data. First we can take a look at the `geant4_interaction`. Each line represents a single energy deposit. "
   ]
  },
  {
   "cell_type": "code",
   "execution_count": 4,
   "id": "a7767a1d-b228-43d3-bd61-b9854f05568f",
   "metadata": {
    "execution": {
     "iopub.execute_input": "2023-08-16T15:32:24.772037Z",
     "iopub.status.busy": "2023-08-16T15:32:24.771946Z",
     "iopub.status.idle": "2023-08-16T15:32:24.778944Z",
     "shell.execute_reply": "2023-08-16T15:32:24.778676Z"
    }
   },
   "outputs": [
    {
     "ename": "NameError",
     "evalue": "name 'st' is not defined",
     "output_type": "error",
     "traceback": [
      "\u001b[0;31m---------------------------------------------------------------------------\u001b[0m",
      "\u001b[0;31mNameError\u001b[0m                                 Traceback (most recent call last)",
      "Input \u001b[0;32mIn [4]\u001b[0m, in \u001b[0;36m<cell line: 1>\u001b[0;34m()\u001b[0m\n\u001b[0;32m----> 1\u001b[0m geant4_interactions \u001b[38;5;241m=\u001b[39m \u001b[43mst\u001b[49m\u001b[38;5;241m.\u001b[39mget_df(\u001b[38;5;124m\"\u001b[39m\u001b[38;5;124m00000\u001b[39m\u001b[38;5;124m\"\u001b[39m,[\u001b[38;5;124m\"\u001b[39m\u001b[38;5;124mgeant4_interactions\u001b[39m\u001b[38;5;124m\"\u001b[39m, \u001b[38;5;124m\"\u001b[39m\u001b[38;5;124mcluster_index\u001b[39m\u001b[38;5;124m\"\u001b[39m])\n\u001b[1;32m      2\u001b[0m geant4_interactions\u001b[38;5;241m.\u001b[39mhead(\u001b[38;5;241m10\u001b[39m)\n",
      "\u001b[0;31mNameError\u001b[0m: name 'st' is not defined"
     ]
    }
   ],
   "source": [
    "geant4_interactions = st.get_df(\"00000\",[\"geant4_interactions\", \"cluster_index\"])\n",
    "geant4_interactions.head(10)"
   ]
  },
  {
   "attachments": {},
   "cell_type": "markdown",
   "id": "5eaa1305-baf8-4675-bbdc-3810a5afb796",
   "metadata": {},
   "source": [
    "You can also load the clustered data that will go into the second part of the simulation. For now it is called `microphysics_summary`. Each line gives you now the position and number of electron and photons (along other informations.)"
   ]
  },
  {
   "cell_type": "code",
   "execution_count": 5,
   "id": "c0f08c9f-55ae-4e34-8763-e2af56f93530",
   "metadata": {
    "execution": {
     "iopub.execute_input": "2023-08-16T15:32:24.780520Z",
     "iopub.status.busy": "2023-08-16T15:32:24.780411Z",
     "iopub.status.idle": "2023-08-16T15:32:24.787277Z",
     "shell.execute_reply": "2023-08-16T15:32:24.787028Z"
    }
   },
   "outputs": [
    {
     "ename": "NameError",
     "evalue": "name 'st' is not defined",
     "output_type": "error",
     "traceback": [
      "\u001b[0;31m---------------------------------------------------------------------------\u001b[0m",
      "\u001b[0;31mNameError\u001b[0m                                 Traceback (most recent call last)",
      "Input \u001b[0;32mIn [5]\u001b[0m, in \u001b[0;36m<cell line: 1>\u001b[0;34m()\u001b[0m\n\u001b[0;32m----> 1\u001b[0m microphysics_summary \u001b[38;5;241m=\u001b[39m \u001b[43mst\u001b[49m\u001b[38;5;241m.\u001b[39mget_df(\u001b[38;5;124m\"\u001b[39m\u001b[38;5;124m00000\u001b[39m\u001b[38;5;124m\"\u001b[39m,[ \u001b[38;5;124m\"\u001b[39m\u001b[38;5;124mmicrophysics_summary\u001b[39m\u001b[38;5;124m\"\u001b[39m])\n\u001b[1;32m      2\u001b[0m microphysics_summary\u001b[38;5;241m.\u001b[39mhead(\u001b[38;5;241m10\u001b[39m)\n",
      "\u001b[0;31mNameError\u001b[0m: name 'st' is not defined"
     ]
    }
   ],
   "source": [
    "microphysics_summary = st.get_df(\"00000\",[ \"microphysics_summary\"])\n",
    "microphysics_summary.head(10)"
   ]
  },
  {
   "attachments": {},
   "cell_type": "markdown",
   "id": "8eb4b98d-2d8c-45f6-88b3-15dde93ca3f3",
   "metadata": {},
   "source": [
    "## Detector and Electronics Simulation (former WFSim)"
   ]
  },
  {
   "attachments": {},
   "cell_type": "markdown",
   "id": "b4902b2c-2ce6-445d-84b5-35e5fb7e68be",
   "metadata": {},
   "source": [
    "Now that you know how to run microphysics simulations we can continue with the detector physics, PMT and DAQ simulations. The corresponding plugins can be found in the`detector_physics` and `pmt_and_daq` modules. "
   ]
  },
  {
   "attachments": {},
   "cell_type": "markdown",
   "id": "a68764f4-72a2-47eb-be3f-36cf9f3761d2",
   "metadata": {},
   "source": [
    "We want to simulate now up to the raw_records level and then process the data with our usual straxen processing routines. To do so, we will use the `full_chain_context` that is prepared in fuse. To build the context you need to provide a config dictionary, we will load our XENONnT SR0 config here. Remember to select an output folder with sufficient free disk space as `propagated_s2_photons` and `raw_records` data can be a bit heavy. "
   ]
  },
  {
   "cell_type": "code",
   "execution_count": 6,
   "id": "ad9c4eff",
   "metadata": {
    "execution": {
     "iopub.execute_input": "2023-08-16T15:32:24.788983Z",
     "iopub.status.busy": "2023-08-16T15:32:24.788877Z",
     "iopub.status.idle": "2023-08-16T15:32:24.795972Z",
     "shell.execute_reply": "2023-08-16T15:32:24.795717Z"
    }
   },
   "outputs": [
    {
     "ename": "NameError",
     "evalue": "name 'URLConfig' is not defined",
     "output_type": "error",
     "traceback": [
      "\u001b[0;31m---------------------------------------------------------------------------\u001b[0m",
      "\u001b[0;31mNameError\u001b[0m                                 Traceback (most recent call last)",
      "Input \u001b[0;32mIn [6]\u001b[0m, in \u001b[0;36m<cell line: 2>\u001b[0;34m()\u001b[0m\n\u001b[1;32m      1\u001b[0m url_string \u001b[38;5;241m=\u001b[39m \u001b[38;5;124m'\u001b[39m\u001b[38;5;124msimple_load://resource://format://fax_config_nt_sr0_v4.json?&fmt=json\u001b[39m\u001b[38;5;124m'\u001b[39m\n\u001b[0;32m----> 2\u001b[0m config \u001b[38;5;241m=\u001b[39m \u001b[43mURLConfig\u001b[49m\u001b[38;5;241m.\u001b[39mevaluate_dry(url_string)\n",
      "\u001b[0;31mNameError\u001b[0m: name 'URLConfig' is not defined"
     ]
    }
   ],
   "source": [
    "url_string = 'simple_load://resource://format://fax_config_nt_sr0_v4.json?&fmt=json'\n",
    "config = URLConfig.evaluate_dry(url_string)"
   ]
  },
  {
   "cell_type": "code",
   "execution_count": 7,
   "id": "8cc28e42-0306-4cf0-a632-cc19aaea8924",
   "metadata": {
    "execution": {
     "iopub.execute_input": "2023-08-16T15:32:24.797539Z",
     "iopub.status.busy": "2023-08-16T15:32:24.797431Z",
     "iopub.status.idle": "2023-08-16T15:32:24.804971Z",
     "shell.execute_reply": "2023-08-16T15:32:24.804704Z"
    }
   },
   "outputs": [
    {
     "ename": "NameError",
     "evalue": "name 'fuse' is not defined",
     "output_type": "error",
     "traceback": [
      "\u001b[0;31m---------------------------------------------------------------------------\u001b[0m",
      "\u001b[0;31mNameError\u001b[0m                                 Traceback (most recent call last)",
      "Input \u001b[0;32mIn [7]\u001b[0m, in \u001b[0;36m<cell line: 1>\u001b[0;34m()\u001b[0m\n\u001b[0;32m----> 1\u001b[0m st \u001b[38;5;241m=\u001b[39m \u001b[43mfuse\u001b[49m\u001b[38;5;241m.\u001b[39mcontext\u001b[38;5;241m.\u001b[39mfull_chain_context(out_dir \u001b[38;5;241m=\u001b[39m \u001b[38;5;124m\"\u001b[39m\u001b[38;5;124m/path/to/output/folder\u001b[39m\u001b[38;5;124m\"\u001b[39m,\n\u001b[1;32m      2\u001b[0m                                      config \u001b[38;5;241m=\u001b[39m config)\n\u001b[1;32m      4\u001b[0m st\u001b[38;5;241m.\u001b[39mset_config({\u001b[38;5;124m\"\u001b[39m\u001b[38;5;124mpath\u001b[39m\u001b[38;5;124m\"\u001b[39m: \u001b[38;5;124m\"\u001b[39m\u001b[38;5;124m/project2/lgrandi/xenonnt/simulations/testing\u001b[39m\u001b[38;5;124m\"\u001b[39m,\n\u001b[1;32m      5\u001b[0m                \u001b[38;5;124m\"\u001b[39m\u001b[38;5;124mfile_name\u001b[39m\u001b[38;5;124m\"\u001b[39m: \u001b[38;5;124m\"\u001b[39m\u001b[38;5;124mpmt_neutrons_100.root\u001b[39m\u001b[38;5;124m\"\u001b[39m,\n\u001b[1;32m      6\u001b[0m                \u001b[38;5;124m\"\u001b[39m\u001b[38;5;124mdebug\u001b[39m\u001b[38;5;124m\"\u001b[39m: \u001b[38;5;28;01mTrue\u001b[39;00m,\n\u001b[1;32m      7\u001b[0m                \u001b[38;5;124m\"\u001b[39m\u001b[38;5;124msource_rate\u001b[39m\u001b[38;5;124m\"\u001b[39m: \u001b[38;5;241m1\u001b[39m,\n\u001b[1;32m      8\u001b[0m               })\n",
      "\u001b[0;31mNameError\u001b[0m: name 'fuse' is not defined"
     ]
    }
   ],
   "source": [
    "st = fuse.context.full_chain_context(out_dir = \"/path/to/output/folder\",\n",
    "                                     config = config)\n",
    "\n",
    "st.set_config({\"path\": \"/project2/lgrandi/xenonnt/simulations/testing\",\n",
    "               \"file_name\": \"pmt_neutrons_100.root\",\n",
    "               \"debug\": True,\n",
    "               \"source_rate\": 1,\n",
    "              })"
   ]
  },
  {
   "attachments": {},
   "cell_type": "markdown",
   "id": "c46efb1e-5bb9-45d6-9d2c-a16076b35423",
   "metadata": {},
   "source": [
    "### Microphysics\n",
    "Just like before we first run the microphysics simulation. Lets make `microphysics_summary` first. Note that you dont need to make every data type manually but let strax take care of it."
   ]
  },
  {
   "cell_type": "code",
   "execution_count": 8,
   "id": "b1e8f553-6e21-4b42-bdde-68ce7ecd313e",
   "metadata": {
    "execution": {
     "iopub.execute_input": "2023-08-16T15:32:24.806608Z",
     "iopub.status.busy": "2023-08-16T15:32:24.806490Z",
     "iopub.status.idle": "2023-08-16T15:32:24.813169Z",
     "shell.execute_reply": "2023-08-16T15:32:24.812879Z"
    }
   },
   "outputs": [
    {
     "ename": "NameError",
     "evalue": "name 'st' is not defined",
     "output_type": "error",
     "traceback": [
      "\u001b[0;31m---------------------------------------------------------------------------\u001b[0m",
      "\u001b[0;31mNameError\u001b[0m                                 Traceback (most recent call last)",
      "Input \u001b[0;32mIn [8]\u001b[0m, in \u001b[0;36m<cell line: 3>\u001b[0;34m()\u001b[0m\n\u001b[1;32m      1\u001b[0m run_number \u001b[38;5;241m=\u001b[39m \u001b[38;5;124m\"\u001b[39m\u001b[38;5;124m00000\u001b[39m\u001b[38;5;124m\"\u001b[39m\n\u001b[0;32m----> 3\u001b[0m \u001b[43mst\u001b[49m\u001b[38;5;241m.\u001b[39mmake(run_number,\u001b[38;5;124m\"\u001b[39m\u001b[38;5;124mmicrophysics_summary\u001b[39m\u001b[38;5;124m\"\u001b[39m)\n",
      "\u001b[0;31mNameError\u001b[0m: name 'st' is not defined"
     ]
    }
   ],
   "source": [
    "run_number = \"00000\"\n",
    "\n",
    "st.make(run_number,\"microphysics_summary\")"
   ]
  },
  {
   "attachments": {},
   "cell_type": "markdown",
   "id": "e31763ed-a2a3-457c-bb14-a96b344e6129",
   "metadata": {},
   "source": [
    "### S1 Simulation\n",
    "\n",
    "After the microphysics simulation is done we can continue and distribute our S1 photons to our PMTs. First we need to determin how many photons are actually recorded at an PMT. This step is quite fast and can be used in fastsim in the future (I guess)."
   ]
  },
  {
   "cell_type": "code",
   "execution_count": 9,
   "id": "358033c6",
   "metadata": {
    "execution": {
     "iopub.execute_input": "2023-08-16T15:32:24.814765Z",
     "iopub.status.busy": "2023-08-16T15:32:24.814661Z",
     "iopub.status.idle": "2023-08-16T15:32:24.821435Z",
     "shell.execute_reply": "2023-08-16T15:32:24.821211Z"
    }
   },
   "outputs": [
    {
     "ename": "NameError",
     "evalue": "name 'st' is not defined",
     "output_type": "error",
     "traceback": [
      "\u001b[0;31m---------------------------------------------------------------------------\u001b[0m",
      "\u001b[0;31mNameError\u001b[0m                                 Traceback (most recent call last)",
      "Input \u001b[0;32mIn [9]\u001b[0m, in \u001b[0;36m<cell line: 1>\u001b[0;34m()\u001b[0m\n\u001b[0;32m----> 1\u001b[0m \u001b[43mst\u001b[49m\u001b[38;5;241m.\u001b[39mmake(run_number,\u001b[38;5;124m\"\u001b[39m\u001b[38;5;124ms1_photons\u001b[39m\u001b[38;5;124m\"\u001b[39m ,progress_bar \u001b[38;5;241m=\u001b[39m \u001b[38;5;28;01mTrue\u001b[39;00m)\n",
      "\u001b[0;31mNameError\u001b[0m: name 'st' is not defined"
     ]
    }
   ],
   "source": [
    "st.make(run_number,\"s1_photons\" ,progress_bar = True)"
   ]
  },
  {
   "attachments": {},
   "cell_type": "markdown",
   "id": "25aec3a3",
   "metadata": {},
   "source": [
    "In a second step we distribute the photons to our PMTs. The output will be a long list where each row represents a single photon with the information of `time` and `channel`attached.  Strax can show you a progress bar during simulation. I found it to be a bit buggy misleading as it shows the fraction of simulated time and not number of interactions. "
   ]
  },
  {
   "cell_type": "code",
   "execution_count": 10,
   "id": "5cf685fa-fe39-4d6e-acd3-60ae493c0835",
   "metadata": {
    "execution": {
     "iopub.execute_input": "2023-08-16T15:32:24.822930Z",
     "iopub.status.busy": "2023-08-16T15:32:24.822822Z",
     "iopub.status.idle": "2023-08-16T15:32:24.829441Z",
     "shell.execute_reply": "2023-08-16T15:32:24.829198Z"
    }
   },
   "outputs": [
    {
     "ename": "NameError",
     "evalue": "name 'st' is not defined",
     "output_type": "error",
     "traceback": [
      "\u001b[0;31m---------------------------------------------------------------------------\u001b[0m",
      "\u001b[0;31mNameError\u001b[0m                                 Traceback (most recent call last)",
      "Input \u001b[0;32mIn [10]\u001b[0m, in \u001b[0;36m<cell line: 1>\u001b[0;34m()\u001b[0m\n\u001b[0;32m----> 1\u001b[0m \u001b[43mst\u001b[49m\u001b[38;5;241m.\u001b[39mmake(run_number,\u001b[38;5;124m\"\u001b[39m\u001b[38;5;124mpropagated_s1_photons\u001b[39m\u001b[38;5;124m\"\u001b[39m ,progress_bar \u001b[38;5;241m=\u001b[39m \u001b[38;5;28;01mTrue\u001b[39;00m)\n",
      "\u001b[0;31mNameError\u001b[0m: name 'st' is not defined"
     ]
    }
   ],
   "source": [
    "st.make(run_number,\"propagated_s1_photons\" ,progress_bar = True)"
   ]
  },
  {
   "attachments": {},
   "cell_type": "markdown",
   "id": "0623b54a-fa02-4b29-bf88-a1c4c8929f01",
   "metadata": {},
   "source": [
    "### S2 Simulations\n",
    "\n",
    "The S2 simulations are a bit more complicated than the S1 simulation and thus split into more plugins. We first need to drift our electrons to the liquid-gas interface, extract them and calculate the timing of the electrons when reaching the gas phase. Afterwards we can simulate how many photons each electron generates and then distribute the photons on the PMTs. The output of the S2 simulation has basically the same format as the S1 simulation output. "
   ]
  },
  {
   "cell_type": "code",
   "execution_count": 11,
   "id": "d7b7af48-30d6-4a96-8106-581ef49a6886",
   "metadata": {
    "execution": {
     "iopub.execute_input": "2023-08-16T15:32:24.830973Z",
     "iopub.status.busy": "2023-08-16T15:32:24.830872Z",
     "iopub.status.idle": "2023-08-16T15:32:24.839488Z",
     "shell.execute_reply": "2023-08-16T15:32:24.839112Z"
    }
   },
   "outputs": [
    {
     "ename": "NameError",
     "evalue": "name 'st' is not defined",
     "output_type": "error",
     "traceback": [
      "\u001b[0;31m---------------------------------------------------------------------------\u001b[0m",
      "\u001b[0;31mNameError\u001b[0m                                 Traceback (most recent call last)",
      "Input \u001b[0;32mIn [11]\u001b[0m, in \u001b[0;36m<cell line: 1>\u001b[0;34m()\u001b[0m\n\u001b[0;32m----> 1\u001b[0m \u001b[43mst\u001b[49m\u001b[38;5;241m.\u001b[39mmake(run_number,\u001b[38;5;124m\"\u001b[39m\u001b[38;5;124mdrifted_electrons\u001b[39m\u001b[38;5;124m\"\u001b[39m,progress_bar \u001b[38;5;241m=\u001b[39m \u001b[38;5;28;01mTrue\u001b[39;00m)\n\u001b[1;32m      2\u001b[0m st\u001b[38;5;241m.\u001b[39mmake(run_number,\u001b[38;5;124m\"\u001b[39m\u001b[38;5;124mextracted_electrons\u001b[39m\u001b[38;5;124m\"\u001b[39m,progress_bar \u001b[38;5;241m=\u001b[39m \u001b[38;5;28;01mTrue\u001b[39;00m)\n\u001b[1;32m      3\u001b[0m st\u001b[38;5;241m.\u001b[39mmake(run_number,\u001b[38;5;124m\"\u001b[39m\u001b[38;5;124melectron_time\u001b[39m\u001b[38;5;124m\"\u001b[39m,progress_bar \u001b[38;5;241m=\u001b[39m \u001b[38;5;28;01mTrue\u001b[39;00m)\n",
      "\u001b[0;31mNameError\u001b[0m: name 'st' is not defined"
     ]
    }
   ],
   "source": [
    "st.make(run_number,\"drifted_electrons\",progress_bar = True)\n",
    "st.make(run_number,\"extracted_electrons\",progress_bar = True)\n",
    "st.make(run_number,\"electron_time\",progress_bar = True)\n",
    "st.make(run_number,\"s2_photons\",progress_bar = True)\n",
    "st.make(run_number,\"s2_photons_sum\",progress_bar = True)\n",
    "st.make(run_number,\"propagated_s2_photons\",progress_bar = True)"
   ]
  },
  {
   "attachments": {},
   "cell_type": "markdown",
   "id": "b33903bf-7ad2-46ea-9763-f6ab716c0e37",
   "metadata": {},
   "source": [
    "### PMT Afterpulses\n",
    "\n",
    "Based on the output of the S1 and S2 simulation we can calculate PMT afterpulses. The output will have the same format as the S1 and S2 simulations where each row represents a \"virtual\" photon with information about channel and timing attached. "
   ]
  },
  {
   "cell_type": "code",
   "execution_count": 12,
   "id": "8b0d2a92-fc89-40af-a704-1a244c474daa",
   "metadata": {
    "execution": {
     "iopub.execute_input": "2023-08-16T15:32:24.841293Z",
     "iopub.status.busy": "2023-08-16T15:32:24.841166Z",
     "iopub.status.idle": "2023-08-16T15:32:24.848791Z",
     "shell.execute_reply": "2023-08-16T15:32:24.848553Z"
    }
   },
   "outputs": [
    {
     "ename": "NameError",
     "evalue": "name 'st' is not defined",
     "output_type": "error",
     "traceback": [
      "\u001b[0;31m---------------------------------------------------------------------------\u001b[0m",
      "\u001b[0;31mNameError\u001b[0m                                 Traceback (most recent call last)",
      "Input \u001b[0;32mIn [12]\u001b[0m, in \u001b[0;36m<cell line: 1>\u001b[0;34m()\u001b[0m\n\u001b[0;32m----> 1\u001b[0m \u001b[43mst\u001b[49m\u001b[38;5;241m.\u001b[39mmake(run_number,\u001b[38;5;124m\"\u001b[39m\u001b[38;5;124mpmt_afterpulses\u001b[39m\u001b[38;5;124m\"\u001b[39m,progress_bar \u001b[38;5;241m=\u001b[39m \u001b[38;5;28;01mTrue\u001b[39;00m)\n",
      "\u001b[0;31mNameError\u001b[0m: name 'st' is not defined"
     ]
    }
   ],
   "source": [
    "st.make(run_number,\"pmt_afterpulses\",progress_bar = True)"
   ]
  },
  {
   "attachments": {},
   "cell_type": "markdown",
   "id": "a4dd9cbc-39df-40cf-8695-2251dd268b3a",
   "metadata": {},
   "source": [
    "### PMT and DAQ\n",
    "\n",
    "Combining our S1, S2 and AP simulations we can start to simulate the PMT response to photons and simulate the effects of our DAQ on the PMT output. As a result we get `raw_records` that sould look very similar to the data we get from our real TPC and DAQ! "
   ]
  },
  {
   "cell_type": "code",
   "execution_count": 13,
   "id": "e6bed94a",
   "metadata": {
    "execution": {
     "iopub.execute_input": "2023-08-16T15:32:24.850449Z",
     "iopub.status.busy": "2023-08-16T15:32:24.850344Z",
     "iopub.status.idle": "2023-08-16T15:32:24.857664Z",
     "shell.execute_reply": "2023-08-16T15:32:24.857387Z"
    }
   },
   "outputs": [
    {
     "ename": "NameError",
     "evalue": "name 'st' is not defined",
     "output_type": "error",
     "traceback": [
      "\u001b[0;31m---------------------------------------------------------------------------\u001b[0m",
      "\u001b[0;31mNameError\u001b[0m                                 Traceback (most recent call last)",
      "Input \u001b[0;32mIn [13]\u001b[0m, in \u001b[0;36m<cell line: 1>\u001b[0;34m()\u001b[0m\n\u001b[0;32m----> 1\u001b[0m \u001b[43mst\u001b[49m\u001b[38;5;241m.\u001b[39mmake(run_number,\u001b[38;5;124m\"\u001b[39m\u001b[38;5;124mraw_records\u001b[39m\u001b[38;5;124m\"\u001b[39m , progress_bar \u001b[38;5;241m=\u001b[39m \u001b[38;5;28;01mTrue\u001b[39;00m)\n",
      "\u001b[0;31mNameError\u001b[0m: name 'st' is not defined"
     ]
    }
   ],
   "source": [
    "st.make(run_number,\"raw_records\" , progress_bar = True)"
   ]
  },
  {
   "attachments": {},
   "cell_type": "markdown",
   "id": "e1a534dc-6449-46f5-86e9-f477a280d1a1",
   "metadata": {},
   "source": [
    "## Processing"
   ]
  },
  {
   "attachments": {},
   "cell_type": "markdown",
   "id": "b2cad900-8ae6-4fe3-a0fe-479f529c8e43",
   "metadata": {},
   "source": [
    "We finished our simulation! Now we can use straxen to process it. All necessary straxen plugins should be already registered in the context. "
   ]
  },
  {
   "cell_type": "code",
   "execution_count": 14,
   "id": "d5bf4c11",
   "metadata": {
    "execution": {
     "iopub.execute_input": "2023-08-16T15:32:24.859356Z",
     "iopub.status.busy": "2023-08-16T15:32:24.859241Z",
     "iopub.status.idle": "2023-08-16T15:32:24.866005Z",
     "shell.execute_reply": "2023-08-16T15:32:24.865778Z"
    }
   },
   "outputs": [
    {
     "ename": "NameError",
     "evalue": "name 'st' is not defined",
     "output_type": "error",
     "traceback": [
      "\u001b[0;31m---------------------------------------------------------------------------\u001b[0m",
      "\u001b[0;31mNameError\u001b[0m                                 Traceback (most recent call last)",
      "Input \u001b[0;32mIn [14]\u001b[0m, in \u001b[0;36m<cell line: 1>\u001b[0;34m()\u001b[0m\n\u001b[0;32m----> 1\u001b[0m \u001b[43mst\u001b[49m\u001b[38;5;241m.\u001b[39mmake(run_number,\u001b[38;5;124m\"\u001b[39m\u001b[38;5;124mevent_info\u001b[39m\u001b[38;5;124m\"\u001b[39m)\n",
      "\u001b[0;31mNameError\u001b[0m: name 'st' is not defined"
     ]
    }
   ],
   "source": [
    "st.make(run_number,\"event_info\")"
   ]
  },
  {
   "cell_type": "code",
   "execution_count": 15,
   "id": "b31a9659-63f6-47f1-a81b-bdec42f9cb9b",
   "metadata": {
    "execution": {
     "iopub.execute_input": "2023-08-16T15:32:24.867614Z",
     "iopub.status.busy": "2023-08-16T15:32:24.867506Z",
     "iopub.status.idle": "2023-08-16T15:32:24.874156Z",
     "shell.execute_reply": "2023-08-16T15:32:24.873898Z"
    }
   },
   "outputs": [
    {
     "ename": "NameError",
     "evalue": "name 'st' is not defined",
     "output_type": "error",
     "traceback": [
      "\u001b[0;31m---------------------------------------------------------------------------\u001b[0m",
      "\u001b[0;31mNameError\u001b[0m                                 Traceback (most recent call last)",
      "Input \u001b[0;32mIn [15]\u001b[0m, in \u001b[0;36m<cell line: 1>\u001b[0;34m()\u001b[0m\n\u001b[0;32m----> 1\u001b[0m event_info \u001b[38;5;241m=\u001b[39m \u001b[43mst\u001b[49m\u001b[38;5;241m.\u001b[39mget_df(run_number, \u001b[38;5;124m\"\u001b[39m\u001b[38;5;124mevent_info\u001b[39m\u001b[38;5;124m\"\u001b[39m)\n",
      "\u001b[0;31mNameError\u001b[0m: name 'st' is not defined"
     ]
    }
   ],
   "source": [
    "event_info = st.get_df(run_number, \"event_info\")"
   ]
  },
  {
   "cell_type": "code",
   "execution_count": 16,
   "id": "bb4e51a0-58fd-463a-a774-742059b0c28a",
   "metadata": {
    "execution": {
     "iopub.execute_input": "2023-08-16T15:32:24.875683Z",
     "iopub.status.busy": "2023-08-16T15:32:24.875584Z",
     "iopub.status.idle": "2023-08-16T15:32:24.882392Z",
     "shell.execute_reply": "2023-08-16T15:32:24.882018Z"
    }
   },
   "outputs": [
    {
     "ename": "NameError",
     "evalue": "name 'event_info' is not defined",
     "output_type": "error",
     "traceback": [
      "\u001b[0;31m---------------------------------------------------------------------------\u001b[0m",
      "\u001b[0;31mNameError\u001b[0m                                 Traceback (most recent call last)",
      "Input \u001b[0;32mIn [16]\u001b[0m, in \u001b[0;36m<cell line: 1>\u001b[0;34m()\u001b[0m\n\u001b[0;32m----> 1\u001b[0m \u001b[43mevent_info\u001b[49m\u001b[38;5;241m.\u001b[39mhead(\u001b[38;5;241m20\u001b[39m)\n",
      "\u001b[0;31mNameError\u001b[0m: name 'event_info' is not defined"
     ]
    }
   ],
   "source": [
    "event_info.head(20)"
   ]
  },
  {
   "attachments": {},
   "cell_type": "markdown",
   "id": "c46aebc0",
   "metadata": {},
   "source": [
    "If you take a look at the readme of fuse you will find that `S1PhotonHits`, `ElectronDrift`, `ElectronExtraction` and `SecondaryScintillation` produce data with the `interactions_in_roi` data_kind just like e.g. the microphysics_summary. As a result we can load this data togeter. For each interaction cluster we thus have the number of S1 and S2 photons. This can be exploited when integrating fastsim. "
   ]
  },
  {
   "attachments": {},
   "cell_type": "markdown",
   "id": "0a82c95d",
   "metadata": {},
   "source": [
    "## CSV Input\n",
    "\n",
    "You can also run the simulation without a Geant4 root file but with simulation instructions in a csv file. Simulation instructions from csv files can be passed to fuse on the microphysics level and on the detector physics level.\n",
    "\n",
    "### Microphysics\n",
    "\n",
    "First we need to generate some simulation instructions and save them to a csv file. Below you find two examples, one function generating monoenergetic energy deposits from a gamma source and a second function to mimic Kr83m decays."
   ]
  },
  {
   "cell_type": "code",
   "execution_count": 17,
   "id": "cfc0b38a",
   "metadata": {
    "execution": {
     "iopub.execute_input": "2023-08-16T15:32:24.884491Z",
     "iopub.status.busy": "2023-08-16T15:32:24.884355Z",
     "iopub.status.idle": "2023-08-16T15:32:24.890785Z",
     "shell.execute_reply": "2023-08-16T15:32:24.890468Z"
    }
   },
   "outputs": [],
   "source": [
    "import pandas as pd\n",
    "import numpy as np\n",
    "\n",
    "def monoenergetic_source(n, energy):\n",
    "    \n",
    "    df = pd.DataFrame()\n",
    "    \n",
    "    r = np.sqrt(np.random.uniform(0, 2500, n))\n",
    "    t = np.random.uniform(-np.pi, np.pi, n)\n",
    "    df['xp'] = r * np.cos(t)\n",
    "    df['yp'] = r * np.sin(t)\n",
    "    df['zp'] = np.random.uniform(-150, 0, n)\n",
    "    \n",
    "    df['xp_pri'] = df['xp']\n",
    "    df['yp_pri'] = df['yp']\n",
    "    df['zp_pri'] = df['zp']\n",
    "    \n",
    "    df[\"ed\"] = np.array([energy]*n)\n",
    "    df[\"time\"] = np.zeros(n)\n",
    "    df[\"evtid\"] = np.arange(n)\n",
    "    \n",
    "    df[\"type\"] = np.repeat(\"gamma\", n)\n",
    "    \n",
    "    df[\"trackid\"] =  np.zeros(n)\n",
    "    df[\"parentid\"] = np.zeros(n, dtype = np.int32)\n",
    "    df[\"creaproc\"] = np.repeat(\"None\", n)\n",
    "    df[\"parenttype\"] = np.repeat(\"None\", n)\n",
    "    df[\"edproc\"] = np.repeat(\"None\", n)\n",
    "    \n",
    "    return df\n",
    "\n",
    "def Kr83m_example(n):\n",
    "    \n",
    "    half_life = 156.94e-9 #Kr intermediate state half-life in ns\n",
    "    decay_energies = [32.2,9.4] # Decay energies in kev\n",
    "    \n",
    "    df = pd.DataFrame()\n",
    "    \n",
    "    r = np.sqrt(np.random.uniform(0, 2500, n))\n",
    "    t = np.random.uniform(-np.pi, np.pi, n)\n",
    "    df['xp'] = np.repeat(r * np.cos(t), 2)\n",
    "    df['yp'] = np.repeat(r * np.sin(t), 2)\n",
    "    df['zp'] = np.repeat(np.random.uniform(-150, 0, n), 2)\n",
    "    \n",
    "    df['xp_pri'] = df['xp']\n",
    "    df['yp_pri'] = df['yp']\n",
    "    df['zp_pri'] = df['zp']\n",
    "    \n",
    "    df['ed'] = np.tile(decay_energies,n)\n",
    "    \n",
    "    dt = np.random.exponential(half_life/np.log(2),n)\n",
    "    df['time'] = np.array(list(zip(np.zeros(n), dt))).flatten()#*1e9\n",
    "    \n",
    "    df[\"evtid\"] = np.repeat(np.arange(n), 2)\n",
    "    \n",
    "    df[\"parenttype\"] = np.tile(['Kr83[41.557]', 'Kr83[9.405]'], n)\n",
    "    \n",
    "    #Not used:\n",
    "    # a) since Kr83m is classified in epix using only the parenttype\n",
    "    # b) trackid, parentid are not used right now.\n",
    "    # Please keep in mind that other \"simulations\" may require properly set \n",
    "    # edproc, type and creaproc. Future epix updates using e.g. track reconstructions\n",
    "    # may also need proper track- and parent-ids. \n",
    "    df[\"trackid\"] = np.tile([0,1], n)\n",
    "    df[\"parentid\"] = np.zeros(2*n, dtype = np.int32)\n",
    "    df[\"creaproc\"] = np.repeat(\"None\", 2*n)\n",
    "    df[\"edproc\"] = np.repeat(\"None\", 2*n)\n",
    "    df[\"type\"] = np.repeat(\"None\", 2*n)\n",
    "\n",
    "    return df"
   ]
  },
  {
   "attachments": {},
   "cell_type": "markdown",
   "id": "5df0ff1a",
   "metadata": {},
   "source": [
    "The time fuse needs to simulate depends on the energy of the signal you put into fuse. The higher the energy the longer fuse needs to simulate. In this example we will simulate 1000 events with an energy of 200 keV. "
   ]
  },
  {
   "cell_type": "code",
   "execution_count": 18,
   "id": "0d13f846",
   "metadata": {
    "execution": {
     "iopub.execute_input": "2023-08-16T15:32:24.892469Z",
     "iopub.status.busy": "2023-08-16T15:32:24.892343Z",
     "iopub.status.idle": "2023-08-16T15:32:24.906151Z",
     "shell.execute_reply": "2023-08-16T15:32:24.905841Z"
    }
   },
   "outputs": [],
   "source": [
    "microphysics_instructions = monoenergetic_source(1000, 200)\n",
    "microphysics_instructions.to_csv(\"monoenergetic_200keV.csv\")"
   ]
  },
  {
   "attachments": {},
   "cell_type": "markdown",
   "id": "2171b669",
   "metadata": {},
   "source": [
    "We can use the full_chain_context again as fuse will automatically detect that a csv file is given and treat it accordingly. As our csv file contains a single energy deposit per event, we should set `n_interactions_per_chunk` to something reasonable like 100. Now each chunk will consist of at least 100 events. "
   ]
  },
  {
   "cell_type": "code",
   "execution_count": 19,
   "id": "ae4992c1",
   "metadata": {
    "execution": {
     "iopub.execute_input": "2023-08-16T15:32:24.908109Z",
     "iopub.status.busy": "2023-08-16T15:32:24.907989Z",
     "iopub.status.idle": "2023-08-16T15:32:24.916896Z",
     "shell.execute_reply": "2023-08-16T15:32:24.916611Z"
    }
   },
   "outputs": [
    {
     "ename": "NameError",
     "evalue": "name 'fuse' is not defined",
     "output_type": "error",
     "traceback": [
      "\u001b[0;31m---------------------------------------------------------------------------\u001b[0m",
      "\u001b[0;31mNameError\u001b[0m                                 Traceback (most recent call last)",
      "Input \u001b[0;32mIn [19]\u001b[0m, in \u001b[0;36m<cell line: 1>\u001b[0;34m()\u001b[0m\n\u001b[0;32m----> 1\u001b[0m st \u001b[38;5;241m=\u001b[39m \u001b[43mfuse\u001b[49m\u001b[38;5;241m.\u001b[39mcontext\u001b[38;5;241m.\u001b[39mfull_chain_context(out_dir \u001b[38;5;241m=\u001b[39m \u001b[38;5;124m\"\u001b[39m\u001b[38;5;124m/path/to/output/folder\u001b[39m\u001b[38;5;124m\"\u001b[39m,\n\u001b[1;32m      2\u001b[0m                                      config \u001b[38;5;241m=\u001b[39m config)\n\u001b[1;32m      4\u001b[0m st\u001b[38;5;241m.\u001b[39mset_config({\u001b[38;5;124m\"\u001b[39m\u001b[38;5;124mpath\u001b[39m\u001b[38;5;124m\"\u001b[39m: \u001b[38;5;124m\"\u001b[39m\u001b[38;5;124m.\u001b[39m\u001b[38;5;124m\"\u001b[39m,\n\u001b[1;32m      5\u001b[0m                \u001b[38;5;124m\"\u001b[39m\u001b[38;5;124mfile_name\u001b[39m\u001b[38;5;124m\"\u001b[39m: \u001b[38;5;124m\"\u001b[39m\u001b[38;5;124mmonoenergetic_200keV.csv\u001b[39m\u001b[38;5;124m\"\u001b[39m,\n\u001b[1;32m      6\u001b[0m                \u001b[38;5;124m\"\u001b[39m\u001b[38;5;124mdebug\u001b[39m\u001b[38;5;124m\"\u001b[39m: \u001b[38;5;28;01mTrue\u001b[39;00m,\n\u001b[0;32m   (...)\u001b[0m\n\u001b[1;32m      9\u001b[0m                \u001b[38;5;124m\"\u001b[39m\u001b[38;5;124mcut_delayed\u001b[39m\u001b[38;5;124m\"\u001b[39m: \u001b[38;5;241m4e14\u001b[39m,\n\u001b[1;32m     10\u001b[0m               })\n\u001b[1;32m     12\u001b[0m run_number \u001b[38;5;241m=\u001b[39m \u001b[38;5;124m\"\u001b[39m\u001b[38;5;124m00001\u001b[39m\u001b[38;5;124m\"\u001b[39m\n",
      "\u001b[0;31mNameError\u001b[0m: name 'fuse' is not defined"
     ]
    }
   ],
   "source": [
    "st = fuse.context.full_chain_context(out_dir = \"/path/to/output/folder\",\n",
    "                                     config = config)\n",
    "\n",
    "st.set_config({\"path\": \".\",\n",
    "               \"file_name\": \"monoenergetic_200keV.csv\",\n",
    "               \"debug\": True,\n",
    "               \"source_rate\": 1,\n",
    "               \"n_interactions_per_chunk\": 100,\n",
    "               \"cut_delayed\": 4e14,\n",
    "              })\n",
    "\n",
    "run_number = \"00001\""
   ]
  },
  {
   "attachments": {},
   "cell_type": "markdown",
   "id": "caf75fdb",
   "metadata": {},
   "source": [
    "We do not need to run each simulation step manualy, strax will handle that. Lets just ask it to make `raw_records` and then `event_info`."
   ]
  },
  {
   "cell_type": "code",
   "execution_count": 20,
   "id": "9657e636",
   "metadata": {
    "execution": {
     "iopub.execute_input": "2023-08-16T15:32:24.918754Z",
     "iopub.status.busy": "2023-08-16T15:32:24.918593Z",
     "iopub.status.idle": "2023-08-16T15:32:24.925803Z",
     "shell.execute_reply": "2023-08-16T15:32:24.925497Z"
    }
   },
   "outputs": [
    {
     "ename": "NameError",
     "evalue": "name 'st' is not defined",
     "output_type": "error",
     "traceback": [
      "\u001b[0;31m---------------------------------------------------------------------------\u001b[0m",
      "\u001b[0;31mNameError\u001b[0m                                 Traceback (most recent call last)",
      "Input \u001b[0;32mIn [20]\u001b[0m, in \u001b[0;36m<cell line: 1>\u001b[0;34m()\u001b[0m\n\u001b[0;32m----> 1\u001b[0m \u001b[43mst\u001b[49m\u001b[38;5;241m.\u001b[39mmake(run_number,\u001b[38;5;124m\"\u001b[39m\u001b[38;5;124mraw_records\u001b[39m\u001b[38;5;124m\"\u001b[39m , progress_bar \u001b[38;5;241m=\u001b[39m \u001b[38;5;28;01mTrue\u001b[39;00m)\n",
      "\u001b[0;31mNameError\u001b[0m: name 'st' is not defined"
     ]
    }
   ],
   "source": [
    "st.make(run_number,\"raw_records\" , progress_bar = True)"
   ]
  },
  {
   "cell_type": "code",
   "execution_count": 21,
   "id": "c27c419a",
   "metadata": {
    "execution": {
     "iopub.execute_input": "2023-08-16T15:32:24.927446Z",
     "iopub.status.busy": "2023-08-16T15:32:24.927316Z",
     "iopub.status.idle": "2023-08-16T15:32:24.996988Z",
     "shell.execute_reply": "2023-08-16T15:32:24.996700Z"
    }
   },
   "outputs": [
    {
     "ename": "NameError",
     "evalue": "name 'st' is not defined",
     "output_type": "error",
     "traceback": [
      "\u001b[0;31m---------------------------------------------------------------------------\u001b[0m",
      "\u001b[0;31mNameError\u001b[0m                                 Traceback (most recent call last)",
      "Input \u001b[0;32mIn [21]\u001b[0m, in \u001b[0;36m<cell line: 1>\u001b[0;34m()\u001b[0m\n\u001b[0;32m----> 1\u001b[0m \u001b[43mst\u001b[49m\u001b[38;5;241m.\u001b[39mmake(run_number,\u001b[38;5;124m\"\u001b[39m\u001b[38;5;124mevent_info\u001b[39m\u001b[38;5;124m\"\u001b[39m , progress_bar \u001b[38;5;241m=\u001b[39m \u001b[38;5;28;01mTrue\u001b[39;00m)\n",
      "\u001b[0;31mNameError\u001b[0m: name 'st' is not defined"
     ]
    }
   ],
   "source": [
    "st.make(run_number,\"event_info\" , progress_bar = True)"
   ]
  },
  {
   "cell_type": "code",
   "execution_count": 22,
   "id": "928703cf",
   "metadata": {
    "execution": {
     "iopub.execute_input": "2023-08-16T15:32:24.998675Z",
     "iopub.status.busy": "2023-08-16T15:32:24.998555Z",
     "iopub.status.idle": "2023-08-16T15:32:25.005336Z",
     "shell.execute_reply": "2023-08-16T15:32:25.005105Z"
    }
   },
   "outputs": [
    {
     "ename": "NameError",
     "evalue": "name 'st' is not defined",
     "output_type": "error",
     "traceback": [
      "\u001b[0;31m---------------------------------------------------------------------------\u001b[0m",
      "\u001b[0;31mNameError\u001b[0m                                 Traceback (most recent call last)",
      "Input \u001b[0;32mIn [22]\u001b[0m, in \u001b[0;36m<cell line: 1>\u001b[0;34m()\u001b[0m\n\u001b[0;32m----> 1\u001b[0m event_info_data \u001b[38;5;241m=\u001b[39m \u001b[43mst\u001b[49m\u001b[38;5;241m.\u001b[39mget_df(run_number,\u001b[38;5;124m\"\u001b[39m\u001b[38;5;124mevent_info\u001b[39m\u001b[38;5;124m\"\u001b[39m)\n",
      "\u001b[0;31mNameError\u001b[0m: name 'st' is not defined"
     ]
    }
   ],
   "source": [
    "event_info_data = st.get_df(run_number,\"event_info\")"
   ]
  },
  {
   "attachments": {},
   "cell_type": "markdown",
   "id": "80421d81",
   "metadata": {},
   "source": [
    "Lets end this subsection with an unnecessary complicated scatterplot. "
   ]
  },
  {
   "cell_type": "code",
   "execution_count": 23,
   "id": "1ac24e63",
   "metadata": {
    "execution": {
     "iopub.execute_input": "2023-08-16T15:32:25.007023Z",
     "iopub.status.busy": "2023-08-16T15:32:25.006921Z",
     "iopub.status.idle": "2023-08-16T15:32:25.192181Z",
     "shell.execute_reply": "2023-08-16T15:32:25.185509Z"
    }
   },
   "outputs": [
    {
     "ename": "NameError",
     "evalue": "name 'event_info_data' is not defined",
     "output_type": "error",
     "traceback": [
      "\u001b[0;31m---------------------------------------------------------------------------\u001b[0m",
      "\u001b[0;31mNameError\u001b[0m                                 Traceback (most recent call last)",
      "Input \u001b[0;32mIn [23]\u001b[0m, in \u001b[0;36m<cell line: 9>\u001b[0;34m()\u001b[0m\n\u001b[1;32m      6\u001b[0m ax\u001b[38;5;241m.\u001b[39mset_xlim(\u001b[38;5;241m1000\u001b[39m, \u001b[38;5;241m2000\u001b[39m)\n\u001b[1;32m      7\u001b[0m ax\u001b[38;5;241m.\u001b[39mset_ylim(\u001b[38;5;241m15000\u001b[39m, \u001b[38;5;241m60000\u001b[39m)\n\u001b[0;32m----> 9\u001b[0m xdata \u001b[38;5;241m=\u001b[39m \u001b[43mevent_info_data\u001b[49m[\u001b[38;5;124m\"\u001b[39m\u001b[38;5;124mcs1_wo_timecorr\u001b[39m\u001b[38;5;124m\"\u001b[39m]\u001b[38;5;241m.\u001b[39mvalues\n\u001b[1;32m     10\u001b[0m ydata \u001b[38;5;241m=\u001b[39m event_info_data[\u001b[38;5;124m\"\u001b[39m\u001b[38;5;124mcs2_wo_timecorr\u001b[39m\u001b[38;5;124m\"\u001b[39m]\u001b[38;5;241m.\u001b[39mvalues\n\u001b[1;32m     12\u001b[0m xy \u001b[38;5;241m=\u001b[39m np\u001b[38;5;241m.\u001b[39mvstack([xdata, ydata])\n",
      "\u001b[0;31mNameError\u001b[0m: name 'event_info_data' is not defined"
     ]
    },
    {
     "data": {
      "image/png": "[encoded data removed]",
      "text/plain": [
       "<Figure size 432x288 with 1 Axes>"
      ]
     },
     "metadata": {
      "needs_background": "light"
     },
     "output_type": "display_data"
    }
   ],
   "source": [
    "import matplotlib.pyplot as plt\n",
    "from scipy.stats import gaussian_kde\n",
    "\n",
    "fig = plt.figure()\n",
    "ax = fig.gca()\n",
    "ax.set_xlim(1000, 2000)\n",
    "ax.set_ylim(15000, 60000)\n",
    "\n",
    "xdata = event_info_data[\"cs1_wo_timecorr\"].values\n",
    "ydata = event_info_data[\"cs2_wo_timecorr\"].values\n",
    "\n",
    "xy = np.vstack([xdata, ydata])\n",
    "z = gaussian_kde(xy)(xy)\n",
    "\n",
    "ax.scatter(xdata,\n",
    "           ydata,\n",
    "           c=z,\n",
    "           s=7.5,\n",
    "           cmap=\"viridis\"\n",
    "          )\n",
    "\n",
    "ax.set_xlabel(\"cS1 [pe]\")\n",
    "ax.set_ylabel(\"cS2 [pe]\")\n",
    "\n",
    "plt.show()"
   ]
  },
  {
   "attachments": {},
   "cell_type": "markdown",
   "id": "c26e2e66",
   "metadata": {},
   "source": [
    "### Detector Physics\n",
    "\n",
    "Now that we know how to start the microphysics simulation from a csv file we can do the same for the detector physics simulation.\n",
    "The required csv file format is a bit different. You can find a very simple example below. "
   ]
  },
  {
   "cell_type": "code",
   "execution_count": 24,
   "id": "a406a533",
   "metadata": {
    "execution": {
     "iopub.execute_input": "2023-08-16T15:32:25.212923Z",
     "iopub.status.busy": "2023-08-16T15:32:25.212516Z",
     "iopub.status.idle": "2023-08-16T15:32:25.228739Z",
     "shell.execute_reply": "2023-08-16T15:32:25.227108Z"
    }
   },
   "outputs": [],
   "source": [
    "import pandas as pd\n",
    "def build_random_instructions(n):\n",
    "\n",
    "    df = pd.DataFrame()\n",
    "    \n",
    "    r = np.sqrt(np.random.uniform(0, 2500, n))\n",
    "    t = np.random.uniform(-np.pi, np.pi, n)\n",
    "    df['x'] = r * np.cos(t)\n",
    "    df['y'] = r * np.sin(t)\n",
    "    df['z'] = np.random.uniform(-130, -15, n)\n",
    "\n",
    "    df['photons'] = np.random.uniform(100,5000, n)\n",
    "    df['electrons'] = np.random.uniform(100,5000, n)\n",
    "    df[\"excitons\"] = np.zeros(n)\n",
    "\n",
    "    df['e_field'] = np.array([23]*n)\n",
    "    df[\"nestid\"] = np.array([7]*n)\n",
    "    df[\"ed\"] = np.zeros(n)\n",
    "\n",
    "    #just set the time with respect to the start of the event\n",
    "    #The events will be distributed in time by fuse\n",
    "    df[\"t\"] = np.zeros(n)\n",
    "\n",
    "    df[\"eventid\"] = np.arange(n)\n",
    "\n",
    "    return df\n"
   ]
  },
  {
   "cell_type": "code",
   "execution_count": 25,
   "id": "febc45b3",
   "metadata": {
    "execution": {
     "iopub.execute_input": "2023-08-16T15:32:25.234212Z",
     "iopub.status.busy": "2023-08-16T15:32:25.233821Z",
     "iopub.status.idle": "2023-08-16T15:32:25.251451Z",
     "shell.execute_reply": "2023-08-16T15:32:25.250623Z"
    }
   },
   "outputs": [],
   "source": [
    "detectorphysics_instructions = build_random_instructions(1000)\n",
    "detectorphysics_instructions.to_csv(\"random_detectorphysics_instructions.csv\",index=False)"
   ]
  },
  {
   "attachments": {},
   "cell_type": "markdown",
   "id": "d91a353e",
   "metadata": {},
   "source": [
    "We can now set up the simulation context. As i was to lazy to set up a context for this use case yet i just hijack the `full_chain_context` and register the `ChunkCsvInput` plugin. "
   ]
  },
  {
   "cell_type": "code",
   "execution_count": 26,
   "id": "a021e311",
   "metadata": {
    "execution": {
     "iopub.execute_input": "2023-08-16T15:32:25.256319Z",
     "iopub.status.busy": "2023-08-16T15:32:25.255780Z",
     "iopub.status.idle": "2023-08-16T15:32:25.271199Z",
     "shell.execute_reply": "2023-08-16T15:32:25.270458Z"
    }
   },
   "outputs": [
    {
     "ename": "NameError",
     "evalue": "name 'fuse' is not defined",
     "output_type": "error",
     "traceback": [
      "\u001b[0;31m---------------------------------------------------------------------------\u001b[0m",
      "\u001b[0;31mNameError\u001b[0m                                 Traceback (most recent call last)",
      "Input \u001b[0;32mIn [26]\u001b[0m, in \u001b[0;36m<cell line: 1>\u001b[0;34m()\u001b[0m\n\u001b[0;32m----> 1\u001b[0m st \u001b[38;5;241m=\u001b[39m \u001b[43mfuse\u001b[49m\u001b[38;5;241m.\u001b[39mcontext\u001b[38;5;241m.\u001b[39mfull_chain_context(out_dir \u001b[38;5;241m=\u001b[39m \u001b[38;5;124m\"\u001b[39m\u001b[38;5;124m/path/to/output/folder\u001b[39m\u001b[38;5;124m\"\u001b[39m,\n\u001b[1;32m      2\u001b[0m                                      config \u001b[38;5;241m=\u001b[39m config)\n\u001b[1;32m      5\u001b[0m st\u001b[38;5;241m.\u001b[39mregister(fuse\u001b[38;5;241m.\u001b[39mdetector_physics\u001b[38;5;241m.\u001b[39mChunkCsvInput)\n\u001b[1;32m      7\u001b[0m st\u001b[38;5;241m.\u001b[39mset_config({\u001b[38;5;124m\"\u001b[39m\u001b[38;5;124minput_file\u001b[39m\u001b[38;5;124m\"\u001b[39m: \u001b[38;5;124m\"\u001b[39m\u001b[38;5;124m./random_detectorphysics_instructions.csv\u001b[39m\u001b[38;5;124m\"\u001b[39m,\n\u001b[1;32m      8\u001b[0m                \u001b[38;5;124m\"\u001b[39m\u001b[38;5;124mdebug\u001b[39m\u001b[38;5;124m\"\u001b[39m: \u001b[38;5;28;01mTrue\u001b[39;00m,\n\u001b[1;32m      9\u001b[0m                \u001b[38;5;124m\"\u001b[39m\u001b[38;5;124msource_rate\u001b[39m\u001b[38;5;124m\"\u001b[39m: \u001b[38;5;241m1\u001b[39m,\n\u001b[1;32m     10\u001b[0m                \u001b[38;5;124m\"\u001b[39m\u001b[38;5;124mn_interactions_per_chunk\u001b[39m\u001b[38;5;124m\"\u001b[39m: \u001b[38;5;241m25\u001b[39m,\n\u001b[1;32m     11\u001b[0m               })\n",
      "\u001b[0;31mNameError\u001b[0m: name 'fuse' is not defined"
     ]
    }
   ],
   "source": [
    "st = fuse.context.full_chain_context(out_dir = \"/path/to/output/folder\",\n",
    "                                     config = config)\n",
    "\n",
    "\n",
    "st.register(fuse.detector_physics.ChunkCsvInput)\n",
    "\n",
    "st.set_config({\"input_file\": \"./random_detectorphysics_instructions.csv\",\n",
    "               \"debug\": True,\n",
    "               \"source_rate\": 1,\n",
    "               \"n_interactions_per_chunk\": 25,\n",
    "              })\n",
    "\n",
    "run_number = \"00002\""
   ]
  },
  {
   "cell_type": "code",
   "execution_count": 27,
   "id": "642e4303",
   "metadata": {
    "execution": {
     "iopub.execute_input": "2023-08-16T15:32:25.275737Z",
     "iopub.status.busy": "2023-08-16T15:32:25.275199Z",
     "iopub.status.idle": "2023-08-16T15:32:25.297279Z",
     "shell.execute_reply": "2023-08-16T15:32:25.296281Z"
    }
   },
   "outputs": [
    {
     "ename": "NameError",
     "evalue": "name 'st' is not defined",
     "output_type": "error",
     "traceback": [
      "\u001b[0;31m---------------------------------------------------------------------------\u001b[0m",
      "\u001b[0;31mNameError\u001b[0m                                 Traceback (most recent call last)",
      "Input \u001b[0;32mIn [27]\u001b[0m, in \u001b[0;36m<cell line: 1>\u001b[0;34m()\u001b[0m\n\u001b[0;32m----> 1\u001b[0m \u001b[43mst\u001b[49m\u001b[38;5;241m.\u001b[39mmake(run_number,\u001b[38;5;124m\"\u001b[39m\u001b[38;5;124mraw_records\u001b[39m\u001b[38;5;124m\"\u001b[39m , progress_bar \u001b[38;5;241m=\u001b[39m \u001b[38;5;28;01mTrue\u001b[39;00m)\n",
      "\u001b[0;31mNameError\u001b[0m: name 'st' is not defined"
     ]
    }
   ],
   "source": [
    "st.make(run_number,\"raw_records\" , progress_bar = True)"
   ]
  },
  {
   "cell_type": "code",
   "execution_count": 28,
   "id": "14b2fe58",
   "metadata": {
    "execution": {
     "iopub.execute_input": "2023-08-16T15:32:25.299772Z",
     "iopub.status.busy": "2023-08-16T15:32:25.299635Z",
     "iopub.status.idle": "2023-08-16T15:32:25.306847Z",
     "shell.execute_reply": "2023-08-16T15:32:25.306589Z"
    }
   },
   "outputs": [
    {
     "ename": "NameError",
     "evalue": "name 'st' is not defined",
     "output_type": "error",
     "traceback": [
      "\u001b[0;31m---------------------------------------------------------------------------\u001b[0m",
      "\u001b[0;31mNameError\u001b[0m                                 Traceback (most recent call last)",
      "Input \u001b[0;32mIn [28]\u001b[0m, in \u001b[0;36m<cell line: 1>\u001b[0;34m()\u001b[0m\n\u001b[0;32m----> 1\u001b[0m \u001b[43mst\u001b[49m\u001b[38;5;241m.\u001b[39mmake(run_number,\u001b[38;5;124m\"\u001b[39m\u001b[38;5;124mevent_info\u001b[39m\u001b[38;5;124m\"\u001b[39m , progress_bar \u001b[38;5;241m=\u001b[39m \u001b[38;5;28;01mTrue\u001b[39;00m)\n",
      "\u001b[0;31mNameError\u001b[0m: name 'st' is not defined"
     ]
    }
   ],
   "source": [
    "st.make(run_number,\"event_info\" , progress_bar = True)"
   ]
  },
  {
   "cell_type": "code",
   "execution_count": 29,
   "id": "7d9dff91",
   "metadata": {
    "execution": {
     "iopub.execute_input": "2023-08-16T15:32:25.308456Z",
     "iopub.status.busy": "2023-08-16T15:32:25.308340Z",
     "iopub.status.idle": "2023-08-16T15:32:25.315131Z",
     "shell.execute_reply": "2023-08-16T15:32:25.314848Z"
    }
   },
   "outputs": [
    {
     "ename": "NameError",
     "evalue": "name 'st' is not defined",
     "output_type": "error",
     "traceback": [
      "\u001b[0;31m---------------------------------------------------------------------------\u001b[0m",
      "\u001b[0;31mNameError\u001b[0m                                 Traceback (most recent call last)",
      "Input \u001b[0;32mIn [29]\u001b[0m, in \u001b[0;36m<cell line: 1>\u001b[0;34m()\u001b[0m\n\u001b[0;32m----> 1\u001b[0m event_info_data \u001b[38;5;241m=\u001b[39m \u001b[43mst\u001b[49m\u001b[38;5;241m.\u001b[39mget_df(run_number,\u001b[38;5;124m\"\u001b[39m\u001b[38;5;124mevent_info\u001b[39m\u001b[38;5;124m\"\u001b[39m)\n",
      "\u001b[0;31mNameError\u001b[0m: name 'st' is not defined"
     ]
    }
   ],
   "source": [
    "event_info_data = st.get_df(run_number,\"event_info\")"
   ]
  }
 ],
 "metadata": {
  "kernelspec": {
   "display_name": "base",
   "language": "python",
   "name": "python3"
  },
  "language_info": {
   "codemirror_mode": {
    "name": "ipython",
    "version": 3
   },
   "file_extension": ".py",
   "mimetype": "text/x-python",
   "name": "python",
   "nbconvert_exporter": "python",
   "pygments_lexer": "ipython3",
   "version": "3.9.13"
  }
 },
 "nbformat": 4,
 "nbformat_minor": 5
}
