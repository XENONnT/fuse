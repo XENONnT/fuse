{
 "cells": [
  {
   "cell_type": "markdown",
   "metadata": {},
   "source": [
    "# CSV Input\n",
    "\n",
    "You have already learned that fuse can read Geant4 root files and simulate the microphysics effects as well as the detector response. However, it is also possible to run fuse simulations from csv input files. This can be useful if you want to simulate a specific event topology or in cases where a full Geant4 simulation is not necessary. In this notebook, we will show you how to run fuse simulations from csv input files.\n",
    "\n",
    "## Imports and config preparation"
   ]
  },
  {
   "cell_type": "code",
   "execution_count": null,
   "metadata": {},
   "outputs": [],
   "source": [
    "import fuse\n",
    "from straxen import URLConfig\n",
    "\n",
    "url_string = 'simple_load://resource://format://fax_config_nt_sr0_v4.json?&fmt=json'\n",
    "config = URLConfig.evaluate_dry(url_string)"
   ]
  },
  {
   "cell_type": "markdown",
   "metadata": {},
   "source": [
    "## Microphysics Simulation\n",
    "\n",
    "At the moment fuse has two options for csv input. The first option is to give a csv file as input to the microphysics simulation similar as you would give a root file as input. The second option is to give a csv file as input to the detector simulation. In this case, the microphysics simulation is skipped and the csv file is directly given to the detector simulation.\n",
    "\n",
    "### Building some instructions\n",
    "\n",
    "First we need to generate some instructions. This notebook provides two examples: a mono-energetic gamma source and Kr83m. \n"
   ]
  },
  {
   "cell_type": "code",
   "execution_count": null,
   "metadata": {},
   "outputs": [],
   "source": [
    "import pandas as pd\n",
    "import numpy as np\n",
    "\n",
    "def monoenergetic_source(n, energy):\n",
    "    \n",
    "    df = pd.DataFrame()\n",
    "    \n",
    "    r = np.sqrt(np.random.uniform(0, 2500, n))\n",
    "    t = np.random.uniform(-np.pi, np.pi, n)\n",
    "    df['xp'] = r * np.cos(t)\n",
    "    df['yp'] = r * np.sin(t)\n",
    "    df['zp'] = np.random.uniform(-150, 0, n)\n",
    "    \n",
    "    df['xp_pri'] = df['xp']\n",
    "    df['yp_pri'] = df['yp']\n",
    "    df['zp_pri'] = df['zp']\n",
    "    \n",
    "    df[\"ed\"] = np.array([energy]*n)\n",
    "    df[\"time\"] = np.zeros(n)\n",
    "    df[\"eventid\"] = np.arange(n)\n",
    "    \n",
    "    df[\"type\"] = np.repeat(\"gamma\", n)\n",
    "    \n",
    "    df[\"trackid\"] =  np.zeros(n)\n",
    "    df[\"parentid\"] = np.zeros(n, dtype = np.int32)\n",
    "    df[\"creaproc\"] = np.repeat(\"None\", n)\n",
    "    df[\"parenttype\"] = np.repeat(\"None\", n)\n",
    "    df[\"edproc\"] = np.repeat(\"None\", n)\n",
    "    \n",
    "    return df\n",
    "\n",
    "def Kr83m_example(n):\n",
    "    \n",
    "    half_life = 156.94e-9 #Kr intermediate state half-life in ns\n",
    "    decay_energies = [32.2,9.4] # Decay energies in kev\n",
    "    \n",
    "    df = pd.DataFrame()\n",
    "    \n",
    "    r = np.sqrt(np.random.uniform(0, 2500, n))\n",
    "    t = np.random.uniform(-np.pi, np.pi, n)\n",
    "    df['xp'] = np.repeat(r * np.cos(t), 2)\n",
    "    df['yp'] = np.repeat(r * np.sin(t), 2)\n",
    "    df['zp'] = np.repeat(np.random.uniform(-150, 0, n), 2)\n",
    "    \n",
    "    df['xp_pri'] = df['xp']\n",
    "    df['yp_pri'] = df['yp']\n",
    "    df['zp_pri'] = df['zp']\n",
    "    \n",
    "    df['ed'] = np.tile(decay_energies,n)\n",
    "    \n",
    "    dt = np.random.exponential(half_life/np.log(2),n)\n",
    "    df['time'] = np.array(list(zip(np.zeros(n), dt))).flatten()#*1e9\n",
    "    \n",
    "    df[\"eventid\"] = np.repeat(np.arange(n), 2)\n",
    "    \n",
    "    df[\"parenttype\"] = np.tile(['Kr83[41.557]', 'Kr83[9.405]'], n)\n",
    "    \n",
    "    #Not used:\n",
    "    # a) since Kr83m is classified in epix using only the parenttype\n",
    "    # b) trackid, parentid are not used right now.\n",
    "    # Please keep in mind that other \"simulations\" may require properly set \n",
    "    # edproc, type and creaproc. Future epix updates using e.g. track reconstructions\n",
    "    # may also need proper track- and parent-ids. \n",
    "    df[\"trackid\"] = np.tile([0,1], n)\n",
    "    df[\"parentid\"] = np.zeros(2*n, dtype = np.int32)\n",
    "    df[\"creaproc\"] = np.repeat(\"None\", 2*n)\n",
    "    df[\"edproc\"] = np.repeat(\"None\", 2*n)\n",
    "    df[\"type\"] = np.repeat(\"None\", 2*n)\n",
    "\n",
    "    return df"
   ]
  },
  {
   "cell_type": "markdown",
   "metadata": {},
   "source": [
    "We will use the mono-energetic souce here, but you can give Kr83m a try if you like. To pass the instructions to fuse we need to save them to a csv file first. The following code will generate 1000 gamma events with with an energy of 200 keV randomly distributed in the TPC. "
   ]
  },
  {
   "cell_type": "code",
   "execution_count": null,
   "metadata": {},
   "outputs": [],
   "source": [
    "microphysics_instructions = monoenergetic_source(1000, 200)\n",
    "microphysics_instructions.to_csv(\"monoenergetic_200keV.csv\")"
   ]
  },
  {
   "cell_type": "markdown",
   "metadata": {},
   "source": [
    "### Running the simulation\n",
    "\n",
    "To use the csv file as input we just need to specify the correct `path` and `file_name` in the config. The `ChunkInput` plugin can handle both csv and root files as input.\n",
    "\n",
    "When dealing with csv input files we should reduce `n_interactions_per_chunk` so that our chunks will not get too large later on. "
   ]
  },
  {
   "cell_type": "code",
   "execution_count": null,
   "metadata": {},
   "outputs": [],
   "source": [
    "st = fuse.context.full_chain_context(out_dir = \"./fuse_data\",\n",
    "                                     config = config)\n",
    "\n",
    "st.set_config({\"path\": \".\",\n",
    "               \"file_name\": \"monoenergetic_200keV.csv\",\n",
    "               \"n_interactions_per_chunk\": 250,\n",
    "              })\n",
    "\n",
    "run_number = \"00000\""
   ]
  },
  {
   "cell_type": "code",
   "execution_count": null,
   "metadata": {},
   "outputs": [],
   "source": [
    "st.make(run_number, \"microphysics_summary\")"
   ]
  },
  {
   "cell_type": "code",
   "execution_count": null,
   "metadata": {},
   "outputs": [],
   "source": [
    "microphysics_summary = st.get_df(run_number, \"microphysics_summary\")"
   ]
  },
  {
   "cell_type": "markdown",
   "metadata": {},
   "source": [
    "Now that we have the data loaded we can plot the number of photons per interaction against the number of electrons. "
   ]
  },
  {
   "cell_type": "code",
   "execution_count": null,
   "metadata": {},
   "outputs": [],
   "source": [
    "import matplotlib.pyplot as plt\n",
    "from scipy.stats import gaussian_kde\n",
    "\n",
    "fig = plt.figure()\n",
    "ax = fig.gca()\n",
    "ax.set_xlim(11000, 14000)\n",
    "ax.set_ylim(1000, 4000)\n",
    "\n",
    "xdata = microphysics_summary[\"photons\"].values\n",
    "ydata = microphysics_summary[\"electrons\"].values\n",
    "\n",
    "xy = np.vstack([xdata, ydata])\n",
    "z = gaussian_kde(xy)(xy)\n",
    "\n",
    "ax.scatter(xdata,\n",
    "           ydata,\n",
    "           c=z,\n",
    "           s=7.5,\n",
    "           cmap=\"viridis\"\n",
    "          )\n",
    "\n",
    "ax.set_xlabel(\"Number of photons]\")\n",
    "ax.set_ylabel(\"Number of electrons\")\n",
    "\n",
    "plt.show()"
   ]
  },
  {
   "cell_type": "markdown",
   "metadata": {},
   "source": [
    "## Detector Simulation\n",
    "\n",
    "As already mentioned we can also run the detector physics simulation from a csv file. In this case, the microphysics simulation is skipped. To do so, we need to register a new plugin that will do the csv file handling and chunking for us but first lets create some simulation instructions. \n",
    "\n",
    "### Building the instructions\n",
    "\n",
    "To run the detector simulation we need to specify the following information for each event:\n",
    "- `x`: the x position of the interaction\n",
    "- `y`: the y position of the interaction\n",
    "- `z`: the z position of the interaction\n",
    "- `t`: the time of the interaction\n",
    "- `photons`: the number of photons produced in the interaction\n",
    "- `electrons`: the number of electrons produced in the interaction\n",
    "- `e_field`: the electric field at the interaction position\n",
    "- `nest_id`: the nest id of the interaction\n",
    "- `event_id`: the event id of the interaction\n",
    "- `ed`: the energy deposited in the interaction\n",
    "\n",
    "Not all of the informations are necessary to run the detector simulation. I will set them to zero in the example below. "
   ]
  },
  {
   "cell_type": "code",
   "execution_count": null,
   "metadata": {},
   "outputs": [],
   "source": [
    "import pandas as pd\n",
    "def build_random_instructions(n):\n",
    "\n",
    "    df = pd.DataFrame()\n",
    "    \n",
    "    r = np.sqrt(np.random.uniform(0, 2500, n))\n",
    "    t = np.random.uniform(-np.pi, np.pi, n)\n",
    "    df['x'] = r * np.cos(t)\n",
    "    df['y'] = r * np.sin(t)\n",
    "    df['z'] = np.random.uniform(-150, -1, n)\n",
    "\n",
    "    df['photons'] = np.random.uniform(100,5000, n)\n",
    "    df['electrons'] = np.random.uniform(100,5000, n)\n",
    "    df[\"excitons\"] = np.zeros(n)\n",
    "\n",
    "    df['e_field'] = np.array([23]*n)\n",
    "    df[\"nestid\"] = np.array([7]*n)\n",
    "    df[\"ed\"] = np.zeros(n)\n",
    "\n",
    "    #just set the time with respect to the start of the event\n",
    "    #The events will be distributed in time by fuse\n",
    "    df[\"t\"] = np.zeros(n)\n",
    "\n",
    "    df[\"eventid\"] = np.arange(n)\n",
    "\n",
    "    return df"
   ]
  },
  {
   "cell_type": "code",
   "execution_count": null,
   "metadata": {},
   "outputs": [],
   "source": [
    "detectorphysics_instructions = build_random_instructions(100)\n",
    "detectorphysics_instructions.to_csv(\"random_detectorphysics_instructions.csv\",index=False)"
   ]
  },
  {
   "cell_type": "markdown",
   "metadata": {},
   "source": [
    "### Run the simulation\n",
    "\n",
    "Now that the simulation instructions are prepared we can set up our simulation context. We will use the `full_chain_context` and register the `ChunkCsvInput` plugin. "
   ]
  },
  {
   "cell_type": "code",
   "execution_count": null,
   "metadata": {},
   "outputs": [],
   "source": [
    "st = fuse.context.full_chain_context(out_dir = \"./fuse_data\",\n",
    "                                     config = config)\n",
    "\n",
    "st.register(fuse.detector_physics.ChunkCsvInput)\n",
    "\n",
    "st.set_config({\"input_file\": \"./random_detectorphysics_instructions.csv\",\n",
    "               \"n_interactions_per_chunk\": 50,\n",
    "              })\n",
    "\n",
    "run_number = \"00042\""
   ]
  },
  {
   "cell_type": "code",
   "execution_count": null,
   "metadata": {},
   "outputs": [],
   "source": [
    "st.make(run_number,\"raw_records\" , progress_bar = True)"
   ]
  },
  {
   "cell_type": "markdown",
   "metadata": {},
   "source": [
    "After we finished simulating `raw_records` we can process the data up to `event_info`. "
   ]
  },
  {
   "cell_type": "code",
   "execution_count": null,
   "metadata": {},
   "outputs": [],
   "source": [
    "st.make(run_number,\"event_info\" , progress_bar = True)"
   ]
  },
  {
   "cell_type": "code",
   "execution_count": null,
   "metadata": {},
   "outputs": [],
   "source": [
    "event_info_data = st.get_df(run_number,\"event_info\")"
   ]
  },
  {
   "cell_type": "code",
   "execution_count": null,
   "metadata": {},
   "outputs": [],
   "source": [
    "event_info_data.head()"
   ]
  },
  {
   "cell_type": "code",
   "execution_count": null,
   "metadata": {},
   "outputs": [],
   "source": []
  }
 ],
 "metadata": {
  "kernelspec": {
   "display_name": "Python [conda env:XENONnT_2023.07.1] *",
   "language": "python",
   "name": "conda-env-XENONnT_2023.07.1-py"
  },
  "language_info": {
   "codemirror_mode": {
    "name": "ipython",
    "version": 3
   },
   "file_extension": ".py",
   "mimetype": "text/x-python",
   "name": "python",
   "nbconvert_exporter": "python",
   "pygments_lexer": "ipython3",
   "version": "3.9.17"
  },
  "orig_nbformat": 4
 },
 "nbformat": 4,
 "nbformat_minor": 2
}
