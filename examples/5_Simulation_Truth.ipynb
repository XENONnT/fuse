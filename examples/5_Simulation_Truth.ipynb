{
 "cells": [
  {
   "cell_type": "markdown",
   "metadata": {},
   "source": [
    "# Simulation Truth\n",
    "\n",
    "This notebook will introduce you to the concept of simulation truth in fuse.\n",
    "\n"
   ]
  },
  {
   "cell_type": "markdown",
   "metadata": {},
   "source": [
    "## Imports and Simulation Context\n",
    "\n",
    "Similar to the previous notebooks, we will start by importing the necessary modules and creating a simulation context. Additional we register two new plugins called `PeakTruth` and `SurvivingClusters`."
   ]
  },
  {
   "cell_type": "code",
   "execution_count": 25,
   "metadata": {},
   "outputs": [],
   "source": [
    "import fuse\n",
    "import numpy as np"
   ]
  },
  {
   "cell_type": "code",
   "execution_count": 26,
   "metadata": {},
   "outputs": [
    {
     "name": "stdout",
     "output_type": "stream",
     "text": [
      "Warning! elife not in context config, skipping...\n",
      "Warning! electron_drift_velocity not in context config, skipping...\n",
      "Warning! electron_drift_time_gate not in context config, skipping...\n"
     ]
    },
    {
     "name": "stderr",
     "output_type": "stream",
     "text": [
      "/home/hschulze/.local/lib/python3.9/site-packages/strax/context.py:349: UserWarning: Provides of multi-output plugins overlap, deregister old plugins <class 'straxen.plugins.raw_records.daqreader.DAQReader'>.\n",
      "  warnings.warn(\n",
      "/home/hschulze/.local/lib/python3.9/site-packages/strax/context.py:349: UserWarning: Provides of multi-output plugins overlap, deregister old plugins <class 'straxen.plugins.raw_records.daqreader.DAQReader'>.\n",
      "  warnings.warn(\n",
      "/home/hschulze/.local/lib/python3.9/site-packages/strax/context.py:349: UserWarning: Provides of multi-output plugins overlap, deregister old plugins <class 'straxen.plugins.raw_records.daqreader.DAQReader'>.\n",
      "  warnings.warn(\n",
      "/home/hschulze/.local/lib/python3.9/site-packages/strax/context.py:349: UserWarning: Provides of multi-output plugins overlap, deregister old plugins <class 'straxen.plugins.raw_records.daqreader.DAQReader'>.\n",
      "  warnings.warn(\n",
      "/home/hschulze/.local/lib/python3.9/site-packages/strax/context.py:349: UserWarning: Provides of multi-output plugins overlap, deregister old plugins <class 'straxen.plugins.raw_records.daqreader.DAQReader'>.\n",
      "  warnings.warn(\n",
      "/home/hschulze/.local/lib/python3.9/site-packages/strax/context.py:349: UserWarning: Provides of multi-output plugins overlap, deregister old plugins <class 'straxen.plugins.raw_records.daqreader.DAQReader'>.\n",
      "  warnings.warn(\n"
     ]
    }
   ],
   "source": [
    "st = fuse.context.full_chain_context(output_folder = \"./fuse_data\")\n",
    "\n",
    "st.set_config({\"path\": \"/project2/lgrandi/xenonnt/simulations/testing\",\n",
    "               \"file_name\": \"pmt_neutrons_100.root\",\n",
    "               \"entry_stop\": 10,\n",
    "               })\n",
    "\n",
    "run_number = \"00000\""
   ]
  },
  {
   "cell_type": "markdown",
   "metadata": {},
   "source": [
    "## Raw_Records and Contributing_Clusters\n",
    "\n",
    "First we will run the simulation up to `raw_records`. The `PMTResponseAndDAQ` plugin now has two outputs, `raw_records` and `contributing_channels`, both are saved to disk when we request fuse to produce `raw_records`."
   ]
  },
  {
   "cell_type": "code",
   "execution_count": 27,
   "metadata": {},
   "outputs": [
    {
     "name": "stderr",
     "output_type": "stream",
     "text": [
      "WARNING:strax:Option gain_model_nv not taken by any registered plugin\n",
      "WARNING:strax:Option gain_model_mv not taken by any registered plugin\n",
      "WARNING:strax:Option gain_model_nv not taken by any registered plugin\n",
      "WARNING:strax:Option gain_model_mv not taken by any registered plugin\n"
     ]
    }
   ],
   "source": [
    "st.make(run_number, \"microphysics_summary\")\n",
    "st.make(run_number, \"raw_records\")"
   ]
  },
  {
   "cell_type": "markdown",
   "metadata": {},
   "source": [
    "Now that the data is produced, lets load it. Both are of the same `data_kind` so we can load them together."
   ]
  },
  {
   "cell_type": "code",
   "execution_count": 28,
   "metadata": {},
   "outputs": [
    {
     "name": "stderr",
     "output_type": "stream",
     "text": [
      "WARNING:strax:Option gain_model_nv not taken by any registered plugin\n",
      "WARNING:strax:Option gain_model_mv not taken by any registered plugin\n",
      "WARNING:strax:Option gain_model_nv not taken by any registered plugin\n",
      "WARNING:strax:Option gain_model_mv not taken by any registered plugin\n",
      "WARNING:strax:Option gain_model_nv not taken by any registered plugin\n",
      "WARNING:strax:Option gain_model_mv not taken by any registered plugin\n"
     ]
    },
    {
     "data": {
      "application/vnd.jupyter.widget-view+json": {
       "model_id": "bbbc5e4fa9784394b7aaeca25f544968",
       "version_major": 2,
       "version_minor": 0
      },
      "text/plain": [
       "Loading plugins: |          | 0.00 % [00:00<?]"
      ]
     },
     "metadata": {},
     "output_type": "display_data"
    }
   ],
   "source": [
    "raw_records = st.get_array(run_number, [\"raw_records\", \"contributing_clusters\"])"
   ]
  },
  {
   "cell_type": "markdown",
   "metadata": {},
   "source": [
    "`contributing_clusters` gives you five additional columns. These are:\n",
    "- `contributing_clusters` - A list of the clusters that contributed to the `raw_record`\n",
    "- `s1_photons_per_cluster` - The number of S1 photons that of the corresponding cluster in the `raw_record`\n",
    "- `s2_photons_per_cluster` - The number of S2 photons that of the corresponding cluster in the `raw_record`\n",
    "- `ap_photons_per_cluster` - The number of (virtual) PMT afterpulse 'photons'\n",
    "- `raw_area` - The sum of the contributing photon gains divided by the gain of the PMT\n",
    "\n",
    "Lets have a look what clusters contributed to the first record:"
   ]
  },
  {
   "cell_type": "code",
   "execution_count": 29,
   "metadata": {},
   "outputs": [
    {
     "name": "stdout",
     "output_type": "stream",
     "text": [
      "[1 0 0 0 0]\n"
     ]
    }
   ],
   "source": [
    "print(raw_records[0][\"contributing_clusters\"])"
   ]
  },
  {
   "cell_type": "markdown",
   "metadata": {},
   "source": [
    "You can see that we get a list of length 5. This is a compromise we need to make as we can't store a list of variable length in a strax. In this case we only store the information of the 5 first clusters that contributed to the record. If there are more than 5 clusters for one record, this information is lost. For simulations with a lot of clusters per event, it makes sense to increase the number of clusters that are stored per record. This can be done by changing the config option `max_contributing_channels_in_truth` of the `PMTResponseAndDAQ` plugin. Lets try this out:"
   ]
  },
  {
   "cell_type": "code",
   "execution_count": 30,
   "metadata": {},
   "outputs": [
    {
     "name": "stderr",
     "output_type": "stream",
     "text": [
      "WARNING:strax:Option gain_model_nv not taken by any registered plugin\n",
      "WARNING:strax:Option gain_model_mv not taken by any registered plugin\n"
     ]
    }
   ],
   "source": [
    "st.set_config({\"max_contributing_channels_in_truth\": 35,})\n",
    "st.make(run_number, \"raw_records\")"
   ]
  },
  {
   "cell_type": "code",
   "execution_count": 31,
   "metadata": {},
   "outputs": [
    {
     "name": "stderr",
     "output_type": "stream",
     "text": [
      "WARNING:strax:Option gain_model_nv not taken by any registered plugin\n",
      "WARNING:strax:Option gain_model_mv not taken by any registered plugin\n",
      "WARNING:strax:Option gain_model_nv not taken by any registered plugin\n",
      "WARNING:strax:Option gain_model_mv not taken by any registered plugin\n",
      "WARNING:strax:Option gain_model_nv not taken by any registered plugin\n",
      "WARNING:strax:Option gain_model_mv not taken by any registered plugin\n"
     ]
    },
    {
     "data": {
      "application/vnd.jupyter.widget-view+json": {
       "model_id": "437f892e81ee46e8a13e42f19edfcd63",
       "version_major": 2,
       "version_minor": 0
      },
      "text/plain": [
       "Loading plugins: |          | 0.00 % [00:00<?]"
      ]
     },
     "metadata": {},
     "output_type": "display_data"
    }
   ],
   "source": [
    "raw_records = st.get_array(run_number, [\"raw_records\", \"contributing_clusters\"])"
   ]
  },
  {
   "cell_type": "code",
   "execution_count": 32,
   "metadata": {},
   "outputs": [
    {
     "name": "stdout",
     "output_type": "stream",
     "text": [
      "[133  17  63  20 158  87  98 114   4  10  19  53  97  80 136  45  41  40\n",
      "  36  35  31 144 147  18 148  16  14  11 156 157 140 113 139  65  66]\n"
     ]
    }
   ],
   "source": [
    "index = np.argmax(np.sum(raw_records[\"contributing_clusters\"]>0, axis = 1))\n",
    "\n",
    "print(raw_records[index][\"contributing_clusters\"])"
   ]
  },
  {
   "cell_type": "markdown",
   "metadata": {},
   "source": [
    "Now the list is 35 elements long, just as we requested. Depending on the source this might still be not enough. We can now have a look with how many photons each of these clusters contributed to the record:"
   ]
  },
  {
   "cell_type": "code",
   "execution_count": 33,
   "metadata": {},
   "outputs": [
    {
     "name": "stdout",
     "output_type": "stream",
     "text": [
      "S1 photons: [8 4 4 3 3 3 3 2 2 2 2 2 2 2 2 1 1 1 1 1 1 1 1 1 1 1 1 1 1 1 1 1 1 1 1]\n",
      "S2 photons: [0 0 0 0 0 0 0 0 0 0 0 0 0 0 0 0 0 0 0 0 0 0 0 0 0 0 0 0 0 0 0 0 0 0 0]\n",
      "AP photons: [0 0 0 0 0 0 0 0 0 0 0 0 0 0 0 0 0 0 0 0 0 0 0 0 0 0 0 0 0 0 0 0 0 0 0]\n"
     ]
    }
   ],
   "source": [
    "print(\"S1 photons:\", raw_records[index][\"s1_photons_per_cluster\"])\n",
    "print(\"S2 photons:\", raw_records[index][\"s2_photons_per_cluster\"])\n",
    "print(\"AP photons:\", raw_records[index][\"ap_photons_per_cluster\"])"
   ]
  },
  {
   "cell_type": "markdown",
   "metadata": {},
   "source": [
    "We can have a look at the clusters that contributed to the record. `microphysics_summary` contains the column `cluster_id`. This is the same number as stored in `contributing_clusters`. Please note that `cluster_id` is only unique per chunk of data."
   ]
  },
  {
   "cell_type": "code",
   "execution_count": 34,
   "metadata": {},
   "outputs": [
    {
     "name": "stderr",
     "output_type": "stream",
     "text": [
      "WARNING:strax:Option gain_model_nv not taken by any registered plugin\n",
      "WARNING:strax:Option gain_model_mv not taken by any registered plugin\n",
      "WARNING:strax:Option gain_model_nv not taken by any registered plugin\n",
      "WARNING:strax:Option gain_model_mv not taken by any registered plugin\n"
     ]
    },
    {
     "data": {
      "application/vnd.jupyter.widget-view+json": {
       "model_id": "a27ad72181b445ef8701ff09fd15e8d9",
       "version_major": 2,
       "version_minor": 0
      },
      "text/plain": [
       "Loading microphysics_summary: |          | 0.00 % [00:00<?]"
      ]
     },
     "metadata": {},
     "output_type": "display_data"
    }
   ],
   "source": [
    "microphysics_summary = st.get_df(run_number, \"microphysics_summary\")"
   ]
  },
  {
   "cell_type": "code",
   "execution_count": 35,
   "metadata": {},
   "outputs": [
    {
     "data": {
      "text/html": [
       "<div>\n",
       "<style scoped>\n",
       "    .dataframe tbody tr th:only-of-type {\n",
       "        vertical-align: middle;\n",
       "    }\n",
       "\n",
       "    .dataframe tbody tr th {\n",
       "        vertical-align: top;\n",
       "    }\n",
       "\n",
       "    .dataframe thead th {\n",
       "        text-align: right;\n",
       "    }\n",
       "</style>\n",
       "<table border=\"1\" class=\"dataframe\">\n",
       "  <thead>\n",
       "    <tr style=\"text-align: right;\">\n",
       "      <th></th>\n",
       "      <th>e_field</th>\n",
       "      <th>time</th>\n",
       "      <th>endtime</th>\n",
       "      <th>x</th>\n",
       "      <th>y</th>\n",
       "      <th>z</th>\n",
       "      <th>ed</th>\n",
       "      <th>nestid</th>\n",
       "      <th>A</th>\n",
       "      <th>Z</th>\n",
       "      <th>...</th>\n",
       "      <th>x_pri</th>\n",
       "      <th>y_pri</th>\n",
       "      <th>z_pri</th>\n",
       "      <th>cluster_id</th>\n",
       "      <th>xe_density</th>\n",
       "      <th>vol_id</th>\n",
       "      <th>create_S2</th>\n",
       "      <th>photons</th>\n",
       "      <th>electrons</th>\n",
       "      <th>excitons</th>\n",
       "    </tr>\n",
       "  </thead>\n",
       "  <tbody>\n",
       "    <tr>\n",
       "      <th>1</th>\n",
       "      <td>28</td>\n",
       "      <td>2827386342</td>\n",
       "      <td>2827386342</td>\n",
       "      <td>-38.867641</td>\n",
       "      <td>-18.246555</td>\n",
       "      <td>-6.679745</td>\n",
       "      <td>25.684120</td>\n",
       "      <td>8</td>\n",
       "      <td>0</td>\n",
       "      <td>0</td>\n",
       "      <td>...</td>\n",
       "      <td>-44.154747</td>\n",
       "      <td>2.803934</td>\n",
       "      <td>7.933488</td>\n",
       "      <td>11</td>\n",
       "      <td>2.862</td>\n",
       "      <td>1</td>\n",
       "      <td>True</td>\n",
       "      <td>1544</td>\n",
       "      <td>338</td>\n",
       "      <td>246</td>\n",
       "    </tr>\n",
       "    <tr>\n",
       "      <th>7</th>\n",
       "      <td>28</td>\n",
       "      <td>2827386343</td>\n",
       "      <td>2827386343</td>\n",
       "      <td>-38.822685</td>\n",
       "      <td>-18.261517</td>\n",
       "      <td>-6.661916</td>\n",
       "      <td>73.418549</td>\n",
       "      <td>8</td>\n",
       "      <td>0</td>\n",
       "      <td>0</td>\n",
       "      <td>...</td>\n",
       "      <td>-44.154747</td>\n",
       "      <td>2.803934</td>\n",
       "      <td>7.933488</td>\n",
       "      <td>4</td>\n",
       "      <td>2.862</td>\n",
       "      <td>1</td>\n",
       "      <td>True</td>\n",
       "      <td>4456</td>\n",
       "      <td>891</td>\n",
       "      <td>842</td>\n",
       "    </tr>\n",
       "    <tr>\n",
       "      <th>13</th>\n",
       "      <td>28</td>\n",
       "      <td>2827386343</td>\n",
       "      <td>2827386343</td>\n",
       "      <td>-38.818993</td>\n",
       "      <td>-18.243168</td>\n",
       "      <td>-6.654728</td>\n",
       "      <td>31.419432</td>\n",
       "      <td>8</td>\n",
       "      <td>0</td>\n",
       "      <td>0</td>\n",
       "      <td>...</td>\n",
       "      <td>-44.154747</td>\n",
       "      <td>2.803934</td>\n",
       "      <td>7.933488</td>\n",
       "      <td>10</td>\n",
       "      <td>2.862</td>\n",
       "      <td>1</td>\n",
       "      <td>True</td>\n",
       "      <td>1788</td>\n",
       "      <td>493</td>\n",
       "      <td>344</td>\n",
       "    </tr>\n",
       "    <tr>\n",
       "      <th>16</th>\n",
       "      <td>27</td>\n",
       "      <td>2827386343</td>\n",
       "      <td>2827386343</td>\n",
       "      <td>-36.483433</td>\n",
       "      <td>-21.715500</td>\n",
       "      <td>-9.258492</td>\n",
       "      <td>67.145241</td>\n",
       "      <td>8</td>\n",
       "      <td>0</td>\n",
       "      <td>0</td>\n",
       "      <td>...</td>\n",
       "      <td>-44.154747</td>\n",
       "      <td>2.803934</td>\n",
       "      <td>7.933488</td>\n",
       "      <td>14</td>\n",
       "      <td>2.862</td>\n",
       "      <td>1</td>\n",
       "      <td>True</td>\n",
       "      <td>4124</td>\n",
       "      <td>744</td>\n",
       "      <td>774</td>\n",
       "    </tr>\n",
       "    <tr>\n",
       "      <th>18</th>\n",
       "      <td>24</td>\n",
       "      <td>2827386343</td>\n",
       "      <td>2827386343</td>\n",
       "      <td>-12.585729</td>\n",
       "      <td>17.032082</td>\n",
       "      <td>-36.443317</td>\n",
       "      <td>257.285248</td>\n",
       "      <td>8</td>\n",
       "      <td>0</td>\n",
       "      <td>0</td>\n",
       "      <td>...</td>\n",
       "      <td>-44.154747</td>\n",
       "      <td>2.803934</td>\n",
       "      <td>7.933488</td>\n",
       "      <td>16</td>\n",
       "      <td>2.862</td>\n",
       "      <td>1</td>\n",
       "      <td>True</td>\n",
       "      <td>13317</td>\n",
       "      <td>5867</td>\n",
       "      <td>2915</td>\n",
       "    </tr>\n",
       "  </tbody>\n",
       "</table>\n",
       "<p>5 rows × 21 columns</p>\n",
       "</div>"
      ],
      "text/plain": [
       "    e_field        time     endtime          x          y          z  \\\n",
       "1        28  2827386342  2827386342 -38.867641 -18.246555  -6.679745   \n",
       "7        28  2827386343  2827386343 -38.822685 -18.261517  -6.661916   \n",
       "13       28  2827386343  2827386343 -38.818993 -18.243168  -6.654728   \n",
       "16       27  2827386343  2827386343 -36.483433 -21.715500  -9.258492   \n",
       "18       24  2827386343  2827386343 -12.585729  17.032082 -36.443317   \n",
       "\n",
       "            ed  nestid  A  Z  ...      x_pri     y_pri     z_pri  cluster_id  \\\n",
       "1    25.684120       8  0  0  ... -44.154747  2.803934  7.933488          11   \n",
       "7    73.418549       8  0  0  ... -44.154747  2.803934  7.933488           4   \n",
       "13   31.419432       8  0  0  ... -44.154747  2.803934  7.933488          10   \n",
       "16   67.145241       8  0  0  ... -44.154747  2.803934  7.933488          14   \n",
       "18  257.285248       8  0  0  ... -44.154747  2.803934  7.933488          16   \n",
       "\n",
       "    xe_density  vol_id  create_S2  photons  electrons  excitons  \n",
       "1        2.862       1       True     1544        338       246  \n",
       "7        2.862       1       True     4456        891       842  \n",
       "13       2.862       1       True     1788        493       344  \n",
       "16       2.862       1       True     4124        744       774  \n",
       "18       2.862       1       True    13317       5867      2915  \n",
       "\n",
       "[5 rows x 21 columns]"
      ]
     },
     "execution_count": 35,
     "metadata": {},
     "output_type": "execute_result"
    }
   ],
   "source": [
    "microphysics_summary[np.isin(microphysics_summary.cluster_id.values, raw_records[index][\"contributing_clusters\"])].head()"
   ]
  },
  {
   "cell_type": "markdown",
   "metadata": {},
   "source": [
    "## Peaks and peak_truth\n",
    "\n",
    "Next we can process the simulation result to `peak_basics`. Strax(en) will merge multiple records into a peak. The PeakTruth plugin will evaluate which `raw_records` contribute to a peak and calculate a truth output for each peak. The provided columns for each peak are:\n",
    "- `s1_photon_number_truth` - The number of S1 photons that contributed to the peak\n",
    "- `s2_photon_number_truth` - The number of S2 photons that contributed to the peak\n",
    "- `ap_photon_number_truth` - The number of (virtual) PMT afterpulse 'photons' that contributed to the peak\n",
    "- `raw_area_truth` - The sum of all contributing photon gains divided by the gains of the PMTs\n",
    "- `observable_energy_truth` - Estimate of the energy that is associated with the peak.\n",
    "- `number_of_contributing_clusters` - Number of clusters that contributed to the peak\n",
    "- `average_x_of_contributing_clusters` - Weighted average of the x position of the clusters that contributed to the peak\n",
    "- `average_y_of_contributing_clusters` - Weighted average of the y position of the clusters that contributed to the peak\n",
    "- `average_z_of_contributing_clusters` - Weighted average of the z position of the clusters that contributed to the peak\n",
    "- `average_x_obs_of_contributing_clusters` - Weighted average of the observed x position of the clusters that contributed to the peak\n",
    "- `average_y_obs_of_contributing_clusters` - Weighted average of the observed y position of the clusters that contributed to the peak\n",
    "- `average_z_obs_of_contributing_clusters` - Weighted average of the observed z position of the clusters that contributed to the peak\n",
    "\n",
    "Lets take a closer look at `observable_energy_truth` using an example: \n",
    "If we would have two clusters, the first one with 100 keV energy producig 100 S1 photons and the second one with 10 keV producing 10 S1 photons. After simulation and processing we find two S1 peaks in our data. The first S1 consitis of 90 photons from the first cluster and 5 photons of the second cluster. The `observable_energy_truth` for this peak is calculated as: 90/100 * 100 keV + 5/10 * 10 keV = 90 keV + 5 keV = 95 keV. The second S1 consists of 3 photons from the first cluster and 4 photons of the second cluster. The `observable_energy_truth` for this peak is calculated as: 3/100 * 100 keV + 4/10 * 10 keV = 3 keV + 4 keV = 7 keV. A similar calculation is done for the S2 peaks but replacing the S1 photons with the S2 photons.\n"
   ]
  },
  {
   "cell_type": "code",
   "execution_count": 36,
   "metadata": {},
   "outputs": [
    {
     "name": "stderr",
     "output_type": "stream",
     "text": [
      "WARNING:strax:Option gain_model_nv not taken by any registered plugin\n",
      "WARNING:strax:Option gain_model_mv not taken by any registered plugin\n",
      "WARNING:strax:Option gain_model_nv not taken by any registered plugin\n",
      "WARNING:strax:Option gain_model_mv not taken by any registered plugin\n",
      "WARNING:strax:Option gain_model_nv not taken by any registered plugin\n",
      "WARNING:strax:Option gain_model_mv not taken by any registered plugin\n",
      "WARNING:strax:Option gain_model_nv not taken by any registered plugin\n",
      "WARNING:strax:Option gain_model_mv not taken by any registered plugin\n"
     ]
    }
   ],
   "source": [
    "st.make(run_number, \"peak_truth\")\n",
    "st.make(run_number, \"peak_positions\")"
   ]
  },
  {
   "cell_type": "markdown",
   "metadata": {},
   "source": [
    "As strax(en) will take care of the matching of our truth information to the individual peaks, we can simply load the `peak_basics` and `peak_truth` data together."
   ]
  },
  {
   "cell_type": "code",
   "execution_count": 37,
   "metadata": {},
   "outputs": [
    {
     "name": "stderr",
     "output_type": "stream",
     "text": [
      "WARNING:strax:Option gain_model_nv not taken by any registered plugin\n",
      "WARNING:strax:Option gain_model_mv not taken by any registered plugin\n",
      "WARNING:strax:Option gain_model_nv not taken by any registered plugin\n",
      "WARNING:strax:Option gain_model_mv not taken by any registered plugin\n",
      "WARNING:strax:Option gain_model_nv not taken by any registered plugin\n",
      "WARNING:strax:Option gain_model_mv not taken by any registered plugin\n"
     ]
    },
    {
     "data": {
      "application/vnd.jupyter.widget-view+json": {
       "model_id": "c53463b1b41c4d5686f76b66aacd64a5",
       "version_major": 2,
       "version_minor": 0
      },
      "text/plain": [
       "Loading plugins: |          | 0.00 % [00:00<?]"
      ]
     },
     "metadata": {},
     "output_type": "display_data"
    }
   ],
   "source": [
    "peak_basics = st.get_df(run_number, [\"peak_basics\", \"peak_truth\", \"peak_positions\"])"
   ]
  },
  {
   "cell_type": "markdown",
   "metadata": {},
   "source": [
    "For a peak area bias study we could now compare the raw_area to the peak area:"
   ]
  },
  {
   "cell_type": "code",
   "execution_count": 38,
   "metadata": {},
   "outputs": [
    {
     "data": {
      "text/html": [
       "<div>\n",
       "<style scoped>\n",
       "    .dataframe tbody tr th:only-of-type {\n",
       "        vertical-align: middle;\n",
       "    }\n",
       "\n",
       "    .dataframe tbody tr th {\n",
       "        vertical-align: top;\n",
       "    }\n",
       "\n",
       "    .dataframe thead th {\n",
       "        text-align: right;\n",
       "    }\n",
       "</style>\n",
       "<table border=\"1\" class=\"dataframe\">\n",
       "  <thead>\n",
       "    <tr style=\"text-align: right;\">\n",
       "      <th></th>\n",
       "      <th>area</th>\n",
       "      <th>raw_area_truth</th>\n",
       "    </tr>\n",
       "  </thead>\n",
       "  <tbody>\n",
       "    <tr>\n",
       "      <th>0</th>\n",
       "      <td>4.869673</td>\n",
       "      <td>4.750000</td>\n",
       "    </tr>\n",
       "    <tr>\n",
       "      <th>1</th>\n",
       "      <td>1370.833374</td>\n",
       "      <td>1372.499756</td>\n",
       "    </tr>\n",
       "    <tr>\n",
       "      <th>2</th>\n",
       "      <td>61739.500000</td>\n",
       "      <td>61745.238281</td>\n",
       "    </tr>\n",
       "    <tr>\n",
       "      <th>3</th>\n",
       "      <td>658.460693</td>\n",
       "      <td>660.759888</td>\n",
       "    </tr>\n",
       "    <tr>\n",
       "      <th>4</th>\n",
       "      <td>346802.968750</td>\n",
       "      <td>329564.937500</td>\n",
       "    </tr>\n",
       "  </tbody>\n",
       "</table>\n",
       "</div>"
      ],
      "text/plain": [
       "            area  raw_area_truth\n",
       "0       4.869673        4.750000\n",
       "1    1370.833374     1372.499756\n",
       "2   61739.500000    61745.238281\n",
       "3     658.460693      660.759888\n",
       "4  346802.968750   329564.937500"
      ]
     },
     "execution_count": 38,
     "metadata": {},
     "output_type": "execute_result"
    }
   ],
   "source": [
    "peak_basics[[\"area\", \"raw_area_truth\"]].head()"
   ]
  },
  {
   "cell_type": "markdown",
   "metadata": {},
   "source": [
    "We might also be interested in the peak classification: "
   ]
  },
  {
   "cell_type": "code",
   "execution_count": 39,
   "metadata": {},
   "outputs": [
    {
     "data": {
      "text/html": [
       "<div>\n",
       "<style scoped>\n",
       "    .dataframe tbody tr th:only-of-type {\n",
       "        vertical-align: middle;\n",
       "    }\n",
       "\n",
       "    .dataframe tbody tr th {\n",
       "        vertical-align: top;\n",
       "    }\n",
       "\n",
       "    .dataframe thead th {\n",
       "        text-align: right;\n",
       "    }\n",
       "</style>\n",
       "<table border=\"1\" class=\"dataframe\">\n",
       "  <thead>\n",
       "    <tr style=\"text-align: right;\">\n",
       "      <th></th>\n",
       "      <th>type</th>\n",
       "      <th>s1_photon_number_truth</th>\n",
       "      <th>s2_photon_number_truth</th>\n",
       "      <th>ap_photon_number_truth</th>\n",
       "    </tr>\n",
       "  </thead>\n",
       "  <tbody>\n",
       "    <tr>\n",
       "      <th>0</th>\n",
       "      <td>0</td>\n",
       "      <td>2</td>\n",
       "      <td>0</td>\n",
       "      <td>0</td>\n",
       "    </tr>\n",
       "    <tr>\n",
       "      <th>1</th>\n",
       "      <td>2</td>\n",
       "      <td>0</td>\n",
       "      <td>1061</td>\n",
       "      <td>1</td>\n",
       "    </tr>\n",
       "    <tr>\n",
       "      <th>2</th>\n",
       "      <td>1</td>\n",
       "      <td>36270</td>\n",
       "      <td>0</td>\n",
       "      <td>40</td>\n",
       "    </tr>\n",
       "    <tr>\n",
       "      <th>3</th>\n",
       "      <td>2</td>\n",
       "      <td>0</td>\n",
       "      <td>483</td>\n",
       "      <td>1</td>\n",
       "    </tr>\n",
       "    <tr>\n",
       "      <th>4</th>\n",
       "      <td>2</td>\n",
       "      <td>0</td>\n",
       "      <td>258414</td>\n",
       "      <td>246</td>\n",
       "    </tr>\n",
       "  </tbody>\n",
       "</table>\n",
       "</div>"
      ],
      "text/plain": [
       "   type  s1_photon_number_truth  s2_photon_number_truth  \\\n",
       "0     0                       2                       0   \n",
       "1     2                       0                    1061   \n",
       "2     1                   36270                       0   \n",
       "3     2                       0                     483   \n",
       "4     2                       0                  258414   \n",
       "\n",
       "   ap_photon_number_truth  \n",
       "0                       0  \n",
       "1                       1  \n",
       "2                      40  \n",
       "3                       1  \n",
       "4                     246  "
      ]
     },
     "execution_count": 39,
     "metadata": {},
     "output_type": "execute_result"
    }
   ],
   "source": [
    "peak_basics[[\"type\", \"s1_photon_number_truth\", \"s2_photon_number_truth\", \"ap_photon_number_truth\"]].head()"
   ]
  },
  {
   "cell_type": "markdown",
   "metadata": {},
   "source": [
    "Or you might want to check how our position reconstruction is doing: "
   ]
  },
  {
   "cell_type": "code",
   "execution_count": 40,
   "metadata": {},
   "outputs": [
    {
     "data": {
      "text/html": [
       "<div>\n",
       "<style scoped>\n",
       "    .dataframe tbody tr th:only-of-type {\n",
       "        vertical-align: middle;\n",
       "    }\n",
       "\n",
       "    .dataframe tbody tr th {\n",
       "        vertical-align: top;\n",
       "    }\n",
       "\n",
       "    .dataframe thead th {\n",
       "        text-align: right;\n",
       "    }\n",
       "</style>\n",
       "<table border=\"1\" class=\"dataframe\">\n",
       "  <thead>\n",
       "    <tr style=\"text-align: right;\">\n",
       "      <th></th>\n",
       "      <th>type</th>\n",
       "      <th>x</th>\n",
       "      <th>y</th>\n",
       "      <th>average_x_obs_of_contributing_clusters</th>\n",
       "      <th>average_y_obs_of_contributing_clusters</th>\n",
       "      <th>average_z_obs_of_contributing_clusters</th>\n",
       "    </tr>\n",
       "  </thead>\n",
       "  <tbody>\n",
       "    <tr>\n",
       "      <th>0</th>\n",
       "      <td>0</td>\n",
       "      <td>NaN</td>\n",
       "      <td>NaN</td>\n",
       "      <td>-20.890713</td>\n",
       "      <td>-51.367107</td>\n",
       "      <td>-1.464800</td>\n",
       "    </tr>\n",
       "    <tr>\n",
       "      <th>1</th>\n",
       "      <td>2</td>\n",
       "      <td>-20.805504</td>\n",
       "      <td>-51.663246</td>\n",
       "      <td>-20.890713</td>\n",
       "      <td>-51.367107</td>\n",
       "      <td>-1.464800</td>\n",
       "    </tr>\n",
       "    <tr>\n",
       "      <th>2</th>\n",
       "      <td>1</td>\n",
       "      <td>-61.009472</td>\n",
       "      <td>10.260664</td>\n",
       "      <td>-19.689362</td>\n",
       "      <td>2.118646</td>\n",
       "      <td>-24.723377</td>\n",
       "    </tr>\n",
       "    <tr>\n",
       "      <th>3</th>\n",
       "      <td>2</td>\n",
       "      <td>-39.470741</td>\n",
       "      <td>-18.248409</td>\n",
       "      <td>-38.867641</td>\n",
       "      <td>-18.246555</td>\n",
       "      <td>-6.679745</td>\n",
       "    </tr>\n",
       "    <tr>\n",
       "      <th>4</th>\n",
       "      <td>2</td>\n",
       "      <td>-37.180698</td>\n",
       "      <td>-18.869146</td>\n",
       "      <td>-33.300831</td>\n",
       "      <td>-12.801611</td>\n",
       "      <td>-12.879695</td>\n",
       "    </tr>\n",
       "  </tbody>\n",
       "</table>\n",
       "</div>"
      ],
      "text/plain": [
       "   type          x          y  average_x_obs_of_contributing_clusters  \\\n",
       "0     0        NaN        NaN                              -20.890713   \n",
       "1     2 -20.805504 -51.663246                              -20.890713   \n",
       "2     1 -61.009472  10.260664                              -19.689362   \n",
       "3     2 -39.470741 -18.248409                              -38.867641   \n",
       "4     2 -37.180698 -18.869146                              -33.300831   \n",
       "\n",
       "   average_y_obs_of_contributing_clusters  \\\n",
       "0                              -51.367107   \n",
       "1                              -51.367107   \n",
       "2                                2.118646   \n",
       "3                              -18.246555   \n",
       "4                              -12.801611   \n",
       "\n",
       "   average_z_obs_of_contributing_clusters  \n",
       "0                               -1.464800  \n",
       "1                               -1.464800  \n",
       "2                              -24.723377  \n",
       "3                               -6.679745  \n",
       "4                              -12.879695  "
      ]
     },
     "execution_count": 40,
     "metadata": {},
     "output_type": "execute_result"
    }
   ],
   "source": [
    "peak_basics[[\"type\",\"x\",\"y\", \"average_x_obs_of_contributing_clusters\", \"average_y_obs_of_contributing_clusters\", \"average_z_obs_of_contributing_clusters\"]].head()"
   ]
  },
  {
   "cell_type": "markdown",
   "metadata": {},
   "source": [
    "## Surviving Clusters\n",
    "Finally we can evaluate if an energy deposit makes it into a record or a peak. This is done by the `SurvivingClusters` plugin. It will provide the following columns:\n",
    "- `in_a_record` - Boolean if the cluster is in a record\n",
    "- `in_a_peak` - Boolean if the cluster is in a peak"
   ]
  },
  {
   "cell_type": "code",
   "execution_count": 41,
   "metadata": {},
   "outputs": [
    {
     "name": "stderr",
     "output_type": "stream",
     "text": [
      "WARNING:strax:Option gain_model_nv not taken by any registered plugin\n",
      "WARNING:strax:Option gain_model_mv not taken by any registered plugin\n",
      "WARNING:strax:Option gain_model_nv not taken by any registered plugin\n",
      "WARNING:strax:Option gain_model_mv not taken by any registered plugin\n",
      "WARNING:strax:Option gain_model_nv not taken by any registered plugin\n",
      "WARNING:strax:Option gain_model_mv not taken by any registered plugin\n",
      "WARNING:strax:Option gain_model_nv not taken by any registered plugin\n",
      "WARNING:strax:Option gain_model_mv not taken by any registered plugin\n"
     ]
    },
    {
     "data": {
      "application/vnd.jupyter.widget-view+json": {
       "model_id": "9d208842066b4d438f920874201e2e90",
       "version_major": 2,
       "version_minor": 0
      },
      "text/plain": [
       "Loading plugins: |          | 0.00 % [00:00<?]"
      ]
     },
     "metadata": {},
     "output_type": "display_data"
    }
   ],
   "source": [
    "st.make(run_number, \"surviving_clusters\")\n",
    "microphysics_summary = st.get_df(run_number, [\"microphysics_summary\", \"surviving_clusters\"])"
   ]
  },
  {
   "cell_type": "markdown",
   "metadata": {},
   "source": [
    "Now that we have the data loaded we could have a look at clusters that did not make it into a peak: "
   ]
  },
  {
   "cell_type": "code",
   "execution_count": 42,
   "metadata": {},
   "outputs": [
    {
     "data": {
      "text/html": [
       "<div>\n",
       "<style scoped>\n",
       "    .dataframe tbody tr th:only-of-type {\n",
       "        vertical-align: middle;\n",
       "    }\n",
       "\n",
       "    .dataframe tbody tr th {\n",
       "        vertical-align: top;\n",
       "    }\n",
       "\n",
       "    .dataframe thead th {\n",
       "        text-align: right;\n",
       "    }\n",
       "</style>\n",
       "<table border=\"1\" class=\"dataframe\">\n",
       "  <thead>\n",
       "    <tr style=\"text-align: right;\">\n",
       "      <th></th>\n",
       "      <th>e_field</th>\n",
       "      <th>time</th>\n",
       "      <th>endtime</th>\n",
       "      <th>x</th>\n",
       "      <th>y</th>\n",
       "      <th>z</th>\n",
       "      <th>ed</th>\n",
       "      <th>nestid</th>\n",
       "      <th>A</th>\n",
       "      <th>Z</th>\n",
       "      <th>...</th>\n",
       "      <th>z_pri</th>\n",
       "      <th>cluster_id</th>\n",
       "      <th>xe_density</th>\n",
       "      <th>vol_id</th>\n",
       "      <th>create_S2</th>\n",
       "      <th>photons</th>\n",
       "      <th>electrons</th>\n",
       "      <th>excitons</th>\n",
       "      <th>in_a_record</th>\n",
       "      <th>in_a_peak</th>\n",
       "    </tr>\n",
       "  </thead>\n",
       "  <tbody>\n",
       "    <tr>\n",
       "      <th>170</th>\n",
       "      <td>27</td>\n",
       "      <td>2827386497</td>\n",
       "      <td>2827386497</td>\n",
       "      <td>32.959923</td>\n",
       "      <td>14.185023</td>\n",
       "      <td>-9.616013</td>\n",
       "      <td>0.096808</td>\n",
       "      <td>0</td>\n",
       "      <td>0</td>\n",
       "      <td>0</td>\n",
       "      <td>...</td>\n",
       "      <td>7.933488</td>\n",
       "      <td>171</td>\n",
       "      <td>2.862</td>\n",
       "      <td>1</td>\n",
       "      <td>True</td>\n",
       "      <td>0</td>\n",
       "      <td>0</td>\n",
       "      <td>0</td>\n",
       "      <td>False</td>\n",
       "      <td>False</td>\n",
       "    </tr>\n",
       "    <tr>\n",
       "      <th>203</th>\n",
       "      <td>26</td>\n",
       "      <td>2827386535</td>\n",
       "      <td>2827386535</td>\n",
       "      <td>27.667393</td>\n",
       "      <td>10.273334</td>\n",
       "      <td>-12.147082</td>\n",
       "      <td>0.044494</td>\n",
       "      <td>0</td>\n",
       "      <td>0</td>\n",
       "      <td>0</td>\n",
       "      <td>...</td>\n",
       "      <td>7.933488</td>\n",
       "      <td>204</td>\n",
       "      <td>2.862</td>\n",
       "      <td>1</td>\n",
       "      <td>True</td>\n",
       "      <td>0</td>\n",
       "      <td>0</td>\n",
       "      <td>0</td>\n",
       "      <td>False</td>\n",
       "      <td>False</td>\n",
       "    </tr>\n",
       "    <tr>\n",
       "      <th>204</th>\n",
       "      <td>25</td>\n",
       "      <td>2827386598</td>\n",
       "      <td>2827386598</td>\n",
       "      <td>24.774082</td>\n",
       "      <td>14.897573</td>\n",
       "      <td>-23.227947</td>\n",
       "      <td>0.433295</td>\n",
       "      <td>0</td>\n",
       "      <td>0</td>\n",
       "      <td>0</td>\n",
       "      <td>...</td>\n",
       "      <td>7.933488</td>\n",
       "      <td>205</td>\n",
       "      <td>2.862</td>\n",
       "      <td>1</td>\n",
       "      <td>True</td>\n",
       "      <td>1</td>\n",
       "      <td>0</td>\n",
       "      <td>1</td>\n",
       "      <td>False</td>\n",
       "      <td>False</td>\n",
       "    </tr>\n",
       "    <tr>\n",
       "      <th>205</th>\n",
       "      <td>25</td>\n",
       "      <td>2827386710</td>\n",
       "      <td>2827386710</td>\n",
       "      <td>9.488111</td>\n",
       "      <td>6.251637</td>\n",
       "      <td>-11.284761</td>\n",
       "      <td>0.141653</td>\n",
       "      <td>0</td>\n",
       "      <td>0</td>\n",
       "      <td>0</td>\n",
       "      <td>...</td>\n",
       "      <td>7.933488</td>\n",
       "      <td>206</td>\n",
       "      <td>2.862</td>\n",
       "      <td>1</td>\n",
       "      <td>True</td>\n",
       "      <td>0</td>\n",
       "      <td>0</td>\n",
       "      <td>0</td>\n",
       "      <td>False</td>\n",
       "      <td>False</td>\n",
       "    </tr>\n",
       "    <tr>\n",
       "      <th>207</th>\n",
       "      <td>24</td>\n",
       "      <td>2827386822</td>\n",
       "      <td>2827386822</td>\n",
       "      <td>20.469002</td>\n",
       "      <td>5.807215</td>\n",
       "      <td>-27.482529</td>\n",
       "      <td>0.295280</td>\n",
       "      <td>0</td>\n",
       "      <td>0</td>\n",
       "      <td>0</td>\n",
       "      <td>...</td>\n",
       "      <td>7.933488</td>\n",
       "      <td>208</td>\n",
       "      <td>2.862</td>\n",
       "      <td>1</td>\n",
       "      <td>True</td>\n",
       "      <td>1</td>\n",
       "      <td>0</td>\n",
       "      <td>1</td>\n",
       "      <td>False</td>\n",
       "      <td>False</td>\n",
       "    </tr>\n",
       "  </tbody>\n",
       "</table>\n",
       "<p>5 rows × 23 columns</p>\n",
       "</div>"
      ],
      "text/plain": [
       "     e_field        time     endtime          x          y          z  \\\n",
       "170       27  2827386497  2827386497  32.959923  14.185023  -9.616013   \n",
       "203       26  2827386535  2827386535  27.667393  10.273334 -12.147082   \n",
       "204       25  2827386598  2827386598  24.774082  14.897573 -23.227947   \n",
       "205       25  2827386710  2827386710   9.488111   6.251637 -11.284761   \n",
       "207       24  2827386822  2827386822  20.469002   5.807215 -27.482529   \n",
       "\n",
       "           ed  nestid  A  Z  ...     z_pri  cluster_id  xe_density  vol_id  \\\n",
       "170  0.096808       0  0  0  ...  7.933488         171       2.862       1   \n",
       "203  0.044494       0  0  0  ...  7.933488         204       2.862       1   \n",
       "204  0.433295       0  0  0  ...  7.933488         205       2.862       1   \n",
       "205  0.141653       0  0  0  ...  7.933488         206       2.862       1   \n",
       "207  0.295280       0  0  0  ...  7.933488         208       2.862       1   \n",
       "\n",
       "     create_S2  photons  electrons  excitons  in_a_record  in_a_peak  \n",
       "170       True        0          0         0        False      False  \n",
       "203       True        0          0         0        False      False  \n",
       "204       True        1          0         1        False      False  \n",
       "205       True        0          0         0        False      False  \n",
       "207       True        1          0         1        False      False  \n",
       "\n",
       "[5 rows x 23 columns]"
      ]
     },
     "execution_count": 42,
     "metadata": {},
     "output_type": "execute_result"
    }
   ],
   "source": [
    "microphysics_summary.query(\"in_a_peak == False\").head()"
   ]
  },
  {
   "cell_type": "markdown",
   "metadata": {},
   "source": [
    "## Event Truth\n",
    "\n",
    "Finally we can have a look at truth information at the event level. This is done by the `EventTruth` plugin. It will provide the following columns:\n",
    "- `x_obs_truth` - The x position of the event. This corresponds to the x position of the main S2.\n",
    "- `y_obs_truth` - The y position of the event. This corresponds to the y position of the main S2.\n",
    "- `z_obs_truth` - The z position of the event. This is calculated as mean of the main S1 and S2 `average_z_obs_of_contributing_clusters`. Does this make sense?\n",
    "- `energy_of_main_peak_truth` - This is intended to be the energy that can be found in the main S1 and S2. It is calculated as the mean of the `observable_energy_truth` of the main S1 and S2. Does this make any sense???\n",
    "- `total_energy_in_event_truth` - The sum of all energy deposits that are in the event"
   ]
  },
  {
   "cell_type": "code",
   "execution_count": 43,
   "metadata": {},
   "outputs": [
    {
     "name": "stderr",
     "output_type": "stream",
     "text": [
      "WARNING:strax:Option gain_model_nv not taken by any registered plugin\n",
      "WARNING:strax:Option gain_model_mv not taken by any registered plugin\n"
     ]
    }
   ],
   "source": [
    "st.make(run_number, \"event_truth\")"
   ]
  },
  {
   "cell_type": "code",
   "execution_count": 44,
   "metadata": {},
   "outputs": [
    {
     "name": "stderr",
     "output_type": "stream",
     "text": [
      "WARNING:strax:Option gain_model_nv not taken by any registered plugin\n",
      "WARNING:strax:Option gain_model_mv not taken by any registered plugin\n",
      "WARNING:strax:Option gain_model_nv not taken by any registered plugin\n",
      "WARNING:strax:Option gain_model_mv not taken by any registered plugin\n",
      "WARNING:strax:Option gain_model_nv not taken by any registered plugin\n",
      "WARNING:strax:Option gain_model_mv not taken by any registered plugin\n"
     ]
    },
    {
     "data": {
      "application/vnd.jupyter.widget-view+json": {
       "model_id": "aef0a5560b994311891dede88a5b2645",
       "version_major": 2,
       "version_minor": 0
      },
      "text/plain": [
       "Loading plugins: |          | 0.00 % [00:00<?]"
      ]
     },
     "metadata": {},
     "output_type": "display_data"
    }
   ],
   "source": [
    "event_data = st.get_df(run_number, [\"event_info\", \"event_truth\"])"
   ]
  },
  {
   "cell_type": "markdown",
   "metadata": {},
   "source": [
    "First lets take a look at the energy informations: "
   ]
  },
  {
   "cell_type": "code",
   "execution_count": 45,
   "metadata": {},
   "outputs": [
    {
     "data": {
      "text/html": [
       "<div>\n",
       "<style scoped>\n",
       "    .dataframe tbody tr th:only-of-type {\n",
       "        vertical-align: middle;\n",
       "    }\n",
       "\n",
       "    .dataframe tbody tr th {\n",
       "        vertical-align: top;\n",
       "    }\n",
       "\n",
       "    .dataframe thead th {\n",
       "        text-align: right;\n",
       "    }\n",
       "</style>\n",
       "<table border=\"1\" class=\"dataframe\">\n",
       "  <thead>\n",
       "    <tr style=\"text-align: right;\">\n",
       "      <th></th>\n",
       "      <th>e_ces</th>\n",
       "      <th>energy_of_main_peak_truth</th>\n",
       "      <th>total_energy_in_event_truth</th>\n",
       "    </tr>\n",
       "  </thead>\n",
       "  <tbody>\n",
       "    <tr>\n",
       "      <th>0</th>\n",
       "      <td>NaN</td>\n",
       "      <td>4.970266</td>\n",
       "      <td>5.101432</td>\n",
       "    </tr>\n",
       "    <tr>\n",
       "      <th>1</th>\n",
       "      <td>10214.273438</td>\n",
       "      <td>5828.809570</td>\n",
       "      <td>9707.927734</td>\n",
       "    </tr>\n",
       "    <tr>\n",
       "      <th>2</th>\n",
       "      <td>1349.369141</td>\n",
       "      <td>773.168335</td>\n",
       "      <td>1577.445435</td>\n",
       "    </tr>\n",
       "    <tr>\n",
       "      <th>3</th>\n",
       "      <td>2639.654053</td>\n",
       "      <td>2207.710205</td>\n",
       "      <td>4019.832275</td>\n",
       "    </tr>\n",
       "    <tr>\n",
       "      <th>4</th>\n",
       "      <td>7552.330078</td>\n",
       "      <td>3567.978271</td>\n",
       "      <td>15594.908203</td>\n",
       "    </tr>\n",
       "    <tr>\n",
       "      <th>5</th>\n",
       "      <td>16866.316406</td>\n",
       "      <td>737.603027</td>\n",
       "      <td>1264.030273</td>\n",
       "    </tr>\n",
       "    <tr>\n",
       "      <th>6</th>\n",
       "      <td>2827.631592</td>\n",
       "      <td>2846.551758</td>\n",
       "      <td>4376.391602</td>\n",
       "    </tr>\n",
       "    <tr>\n",
       "      <th>7</th>\n",
       "      <td>1321.256348</td>\n",
       "      <td>1661.187256</td>\n",
       "      <td>1684.907104</td>\n",
       "    </tr>\n",
       "    <tr>\n",
       "      <th>8</th>\n",
       "      <td>5.679199</td>\n",
       "      <td>29.439306</td>\n",
       "      <td>31.483326</td>\n",
       "    </tr>\n",
       "  </tbody>\n",
       "</table>\n",
       "</div>"
      ],
      "text/plain": [
       "          e_ces  energy_of_main_peak_truth  total_energy_in_event_truth\n",
       "0           NaN                   4.970266                     5.101432\n",
       "1  10214.273438                5828.809570                  9707.927734\n",
       "2   1349.369141                 773.168335                  1577.445435\n",
       "3   2639.654053                2207.710205                  4019.832275\n",
       "4   7552.330078                3567.978271                 15594.908203\n",
       "5  16866.316406                 737.603027                  1264.030273\n",
       "6   2827.631592                2846.551758                  4376.391602\n",
       "7   1321.256348                1661.187256                  1684.907104\n",
       "8      5.679199                  29.439306                    31.483326"
      ]
     },
     "execution_count": 45,
     "metadata": {},
     "output_type": "execute_result"
    }
   ],
   "source": [
    "event_data[[\"e_ces\", \"energy_of_main_peak_truth\", \"total_energy_in_event_truth\"]]"
   ]
  },
  {
   "cell_type": "markdown",
   "metadata": {},
   "source": [
    "And the positions: "
   ]
  },
  {
   "cell_type": "code",
   "execution_count": 46,
   "metadata": {},
   "outputs": [
    {
     "data": {
      "text/html": [
       "<div>\n",
       "<style scoped>\n",
       "    .dataframe tbody tr th:only-of-type {\n",
       "        vertical-align: middle;\n",
       "    }\n",
       "\n",
       "    .dataframe tbody tr th {\n",
       "        vertical-align: top;\n",
       "    }\n",
       "\n",
       "    .dataframe thead th {\n",
       "        text-align: right;\n",
       "    }\n",
       "</style>\n",
       "<table border=\"1\" class=\"dataframe\">\n",
       "  <thead>\n",
       "    <tr style=\"text-align: right;\">\n",
       "      <th></th>\n",
       "      <th>x</th>\n",
       "      <th>x_obs_truth</th>\n",
       "      <th>z</th>\n",
       "      <th>z_obs_truth</th>\n",
       "    </tr>\n",
       "  </thead>\n",
       "  <tbody>\n",
       "    <tr>\n",
       "      <th>0</th>\n",
       "      <td>NaN</td>\n",
       "      <td>-20.890713</td>\n",
       "      <td>NaN</td>\n",
       "      <td>-1.464800</td>\n",
       "    </tr>\n",
       "    <tr>\n",
       "      <th>1</th>\n",
       "      <td>-28.486727</td>\n",
       "      <td>-29.420319</td>\n",
       "      <td>-34.544106</td>\n",
       "      <td>-19.407896</td>\n",
       "    </tr>\n",
       "    <tr>\n",
       "      <th>2</th>\n",
       "      <td>-16.824585</td>\n",
       "      <td>-16.463917</td>\n",
       "      <td>-51.321014</td>\n",
       "      <td>-19.869284</td>\n",
       "    </tr>\n",
       "    <tr>\n",
       "      <th>3</th>\n",
       "      <td>-51.629799</td>\n",
       "      <td>-47.072384</td>\n",
       "      <td>-19.853037</td>\n",
       "      <td>-14.094154</td>\n",
       "    </tr>\n",
       "    <tr>\n",
       "      <th>4</th>\n",
       "      <td>15.486181</td>\n",
       "      <td>0.000000</td>\n",
       "      <td>-17.232950</td>\n",
       "      <td>-12.443692</td>\n",
       "    </tr>\n",
       "    <tr>\n",
       "      <th>5</th>\n",
       "      <td>-5.284084</td>\n",
       "      <td>-17.492102</td>\n",
       "      <td>-119.126907</td>\n",
       "      <td>-122.114059</td>\n",
       "    </tr>\n",
       "    <tr>\n",
       "      <th>6</th>\n",
       "      <td>-23.652855</td>\n",
       "      <td>-27.306480</td>\n",
       "      <td>-3.039807</td>\n",
       "      <td>-4.481130</td>\n",
       "    </tr>\n",
       "    <tr>\n",
       "      <th>7</th>\n",
       "      <td>20.127199</td>\n",
       "      <td>20.087948</td>\n",
       "      <td>-11.545144</td>\n",
       "      <td>-12.389212</td>\n",
       "    </tr>\n",
       "    <tr>\n",
       "      <th>8</th>\n",
       "      <td>-50.469139</td>\n",
       "      <td>-50.566116</td>\n",
       "      <td>-0.828222</td>\n",
       "      <td>-0.404144</td>\n",
       "    </tr>\n",
       "  </tbody>\n",
       "</table>\n",
       "</div>"
      ],
      "text/plain": [
       "           x  x_obs_truth           z  z_obs_truth\n",
       "0        NaN   -20.890713         NaN    -1.464800\n",
       "1 -28.486727   -29.420319  -34.544106   -19.407896\n",
       "2 -16.824585   -16.463917  -51.321014   -19.869284\n",
       "3 -51.629799   -47.072384  -19.853037   -14.094154\n",
       "4  15.486181     0.000000  -17.232950   -12.443692\n",
       "5  -5.284084   -17.492102 -119.126907  -122.114059\n",
       "6 -23.652855   -27.306480   -3.039807    -4.481130\n",
       "7  20.127199    20.087948  -11.545144   -12.389212\n",
       "8 -50.469139   -50.566116   -0.828222    -0.404144"
      ]
     },
     "execution_count": 46,
     "metadata": {},
     "output_type": "execute_result"
    }
   ],
   "source": [
    "event_data[[\"x\", \"x_obs_truth\", \"z\", \"z_obs_truth\"]]"
   ]
  }
 ],
 "metadata": {
  "kernelspec": {
   "display_name": "Python 3 (ipykernel)",
   "language": "python",
   "name": "python3"
  },
  "language_info": {
   "codemirror_mode": {
    "name": "ipython",
    "version": 3
   },
   "file_extension": ".py",
   "mimetype": "text/x-python",
   "name": "python",
   "nbconvert_exporter": "python",
   "pygments_lexer": "ipython3",
   "version": "3.9.18"
  }
 },
 "nbformat": 4,
 "nbformat_minor": 2
}
