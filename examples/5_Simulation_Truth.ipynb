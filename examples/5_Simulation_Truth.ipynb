{
 "cells": [
  {
   "cell_type": "markdown",
   "metadata": {},
   "source": [
    "# Simulation Truth\n",
    "\n",
    "This notebook will introduce you to the concept of simulation truth in fuse.\n",
    "\n"
   ]
  },
  {
   "cell_type": "markdown",
   "metadata": {},
   "source": [
    "## Imports and Simulation Context\n",
    "\n",
    "Similar to the previous notebooks, we will start by importing the necessary modules and creating a simulation context. Additional we register two new plugins called `PeakTruth` and `SurvivingClusters`."
   ]
  },
  {
   "cell_type": "code",
   "execution_count": 1,
   "metadata": {},
   "outputs": [],
   "source": [
    "import fuse\n",
    "import numpy as np"
   ]
  },
  {
   "cell_type": "code",
   "execution_count": null,
   "metadata": {},
   "outputs": [],
   "source": [
    "st = fuse.context.full_chain_context(output_folder = \"./fuse_data\")\n",
    "\n",
    "st.set_config({\"path\": \"/project2/lgrandi/xenonnt/simulations/testing\",\n",
    "               \"file_name\": \"pmt_neutrons_100.root\",\n",
    "               \"entry_stop\": 10,\n",
    "               })\n",
    "\n",
    "run_number = \"00000\""
   ]
  },
  {
   "cell_type": "markdown",
   "metadata": {},
   "source": [
    "## Raw_Records and Contributing_Clusters\n",
    "\n",
    "First we will run the simulation up to `raw_records`. The `PMTResponseAndDAQ` plugin now has two outputs, `raw_records` and `contributing_channels`, both are saved to disk when we request fuse to produce `raw_records`."
   ]
  },
  {
   "cell_type": "code",
   "execution_count": 3,
   "metadata": {},
   "outputs": [
    {
     "name": "stderr",
     "output_type": "stream",
     "text": [
      "WARNING:strax:Option gain_model_nv not taken by any registered plugin\n",
      "WARNING:strax:Option gain_model_mv not taken by any registered plugin\n",
      "/home/hschulze/.local/lib/python3.9/site-packages/straxen/url_config.py:743: UserWarning: From straxen version 2.1.0 onward, URLConfig parameterswill be sorted alphabetically before being passed to the plugins, this will change the lineage hash for non-sorted URLs. To load data processed with non-sorted URLs, you will need to use an older version.\n",
      "  warnings.warn(\n",
      "WARNING:strax:Option gain_model_nv not taken by any registered plugin\n",
      "WARNING:strax:Option gain_model_mv not taken by any registered plugin\n"
     ]
    }
   ],
   "source": [
    "st.make(run_number, \"microphysics_summary\")\n",
    "st.make(run_number, \"raw_records\")"
   ]
  },
  {
   "cell_type": "markdown",
   "metadata": {},
   "source": [
    "Now that the data is produced, lets load it. Both are of the same `data_kind` so we can load them together."
   ]
  },
  {
   "cell_type": "code",
   "execution_count": 4,
   "metadata": {},
   "outputs": [
    {
     "name": "stderr",
     "output_type": "stream",
     "text": [
      "WARNING:strax:Option gain_model_nv not taken by any registered plugin\n",
      "WARNING:strax:Option gain_model_mv not taken by any registered plugin\n",
      "WARNING:strax:Option gain_model_nv not taken by any registered plugin\n",
      "WARNING:strax:Option gain_model_mv not taken by any registered plugin\n",
      "WARNING:strax:Option gain_model_nv not taken by any registered plugin\n",
      "WARNING:strax:Option gain_model_mv not taken by any registered plugin\n"
     ]
    },
    {
     "data": {
      "application/vnd.jupyter.widget-view+json": {
       "model_id": "17575a30648e49c98a71483c4ab48646",
       "version_major": 2,
       "version_minor": 0
      },
      "text/plain": [
       "Loading plugins: |          | 0.00 % [00:00<?]"
      ]
     },
     "metadata": {},
     "output_type": "display_data"
    }
   ],
   "source": [
    "raw_records = st.get_array(run_number, [\"raw_records\", \"contributing_clusters\"])"
   ]
  },
  {
   "cell_type": "markdown",
   "metadata": {},
   "source": [
    "`contributing_clusters` gives you five additional columns. These are:\n",
    "- `contributing_clusters` - A list of the clusters that contributed to the `raw_record`\n",
    "- `s1_photons_per_cluster` - The number of S1 photons that of the corresponding cluster in the `raw_record`\n",
    "- `s2_photons_per_cluster` - The number of S2 photons that of the corresponding cluster in the `raw_record`\n",
    "- `ap_photons_per_cluster` - The number of (virtual) PMT afterpulse 'photons'\n",
    "- `raw_area` - The sum of the contributing photon gains divided by the gain of the PMT\n",
    "\n",
    "Lets have a look what clusters contributed to the first record:"
   ]
  },
  {
   "cell_type": "code",
   "execution_count": 5,
   "metadata": {},
   "outputs": [
    {
     "name": "stdout",
     "output_type": "stream",
     "text": [
      "[1 0 0 0 0]\n"
     ]
    }
   ],
   "source": [
    "print(raw_records[0][\"contributing_clusters\"])"
   ]
  },
  {
   "cell_type": "markdown",
   "metadata": {},
   "source": [
    "You can see that we get a list of length 5. This is a compromise we need to make as we can't store a list of variable length in a strax. In this case we only store the information of the 5 first clusters that contributed to the record. If there are more than 5 clusters for one record, this information is lost. For simulations with a lot of clusters per event, it makes sense to increase the number of clusters that are stored per record. This can be done by changing the config option `max_contributing_channels_in_truth` of the `PMTResponseAndDAQ` plugin. Lets try this out:"
   ]
  },
  {
   "cell_type": "code",
   "execution_count": 6,
   "metadata": {},
   "outputs": [
    {
     "name": "stderr",
     "output_type": "stream",
     "text": [
      "WARNING:strax:Option gain_model_nv not taken by any registered plugin\n",
      "WARNING:strax:Option gain_model_mv not taken by any registered plugin\n"
     ]
    }
   ],
   "source": [
    "st.set_config({\"max_contributing_channels_in_truth\": 35,})\n",
    "st.make(run_number, \"raw_records\")"
   ]
  },
  {
   "cell_type": "code",
   "execution_count": 7,
   "metadata": {},
   "outputs": [
    {
     "name": "stderr",
     "output_type": "stream",
     "text": [
      "WARNING:strax:Option gain_model_nv not taken by any registered plugin\n",
      "WARNING:strax:Option gain_model_mv not taken by any registered plugin\n",
      "WARNING:strax:Option gain_model_nv not taken by any registered plugin\n",
      "WARNING:strax:Option gain_model_mv not taken by any registered plugin\n",
      "WARNING:strax:Option gain_model_nv not taken by any registered plugin\n",
      "WARNING:strax:Option gain_model_mv not taken by any registered plugin\n"
     ]
    },
    {
     "data": {
      "application/vnd.jupyter.widget-view+json": {
       "model_id": "3a280cbde3094481a7ab08338bca7774",
       "version_major": 2,
       "version_minor": 0
      },
      "text/plain": [
       "Loading plugins: |          | 0.00 % [00:00<?]"
      ]
     },
     "metadata": {},
     "output_type": "display_data"
    }
   ],
   "source": [
    "raw_records = st.get_array(run_number, [\"raw_records\", \"contributing_clusters\"])"
   ]
  },
  {
   "cell_type": "code",
   "execution_count": 8,
   "metadata": {},
   "outputs": [
    {
     "name": "stdout",
     "output_type": "stream",
     "text": [
      "[135 104 133 127  20  55  97 103 124  44  72  66  54  53  74  42  41  34\n",
      "  33  31  27  21  19  17  90 136 187 184 174 158 154 147 138 131  75]\n"
     ]
    }
   ],
   "source": [
    "index = np.argmax(np.sum(raw_records[\"contributing_clusters\"]>0, axis = 1))\n",
    "\n",
    "print(raw_records[index][\"contributing_clusters\"])"
   ]
  },
  {
   "cell_type": "markdown",
   "metadata": {},
   "source": [
    "Now the list is 35 elements long, just as we requested. Depending on the source this might still be not enough. We can now have a look with how many photons each of these clusters contributed to the record:"
   ]
  },
  {
   "cell_type": "code",
   "execution_count": 9,
   "metadata": {},
   "outputs": [
    {
     "name": "stdout",
     "output_type": "stream",
     "text": [
      "S1 photons: [4 3 3 3 2 2 2 2 2 1 1 1 1 1 1 1 1 1 1 1 1 1 1 1 1 1 1 1 1 1 1 1 1 1 1]\n",
      "S2 photons: [0 0 0 0 0 0 0 0 0 0 0 0 0 0 0 0 0 0 0 0 0 0 0 0 0 0 0 0 0 0 0 0 0 0 0]\n",
      "AP photons: [0 0 0 0 0 0 0 0 0 0 0 0 0 0 0 0 0 0 0 0 0 0 0 0 0 0 0 0 0 0 0 0 0 0 0]\n"
     ]
    }
   ],
   "source": [
    "print(\"S1 photons:\", raw_records[index][\"s1_photons_per_cluster\"])\n",
    "print(\"S2 photons:\", raw_records[index][\"s2_photons_per_cluster\"])\n",
    "print(\"AP photons:\", raw_records[index][\"ap_photons_per_cluster\"])"
   ]
  },
  {
   "cell_type": "markdown",
   "metadata": {},
   "source": [
    "We can have a look at the clusters that contributed to the record. `microphysics_summary` contains the column `cluster_id`. This is the same number as stored in `contributing_clusters`. Please note that `cluster_id` is only unique per chunk of data."
   ]
  },
  {
   "cell_type": "code",
   "execution_count": 10,
   "metadata": {},
   "outputs": [
    {
     "name": "stderr",
     "output_type": "stream",
     "text": [
      "WARNING:strax:Option gain_model_nv not taken by any registered plugin\n",
      "WARNING:strax:Option gain_model_mv not taken by any registered plugin\n",
      "WARNING:strax:Option gain_model_nv not taken by any registered plugin\n",
      "WARNING:strax:Option gain_model_mv not taken by any registered plugin\n"
     ]
    },
    {
     "data": {
      "application/vnd.jupyter.widget-view+json": {
       "model_id": "d2308be247664daea27c1012326d6914",
       "version_major": 2,
       "version_minor": 0
      },
      "text/plain": [
       "Loading microphysics_summary: |          | 0.00 % [00:00<?]"
      ]
     },
     "metadata": {},
     "output_type": "display_data"
    }
   ],
   "source": [
    "microphysics_summary = st.get_df(run_number, \"microphysics_summary\")"
   ]
  },
  {
   "cell_type": "code",
   "execution_count": 11,
   "metadata": {},
   "outputs": [
    {
     "data": {
      "text/html": [
       "<div>\n",
       "<style scoped>\n",
       "    .dataframe tbody tr th:only-of-type {\n",
       "        vertical-align: middle;\n",
       "    }\n",
       "\n",
       "    .dataframe tbody tr th {\n",
       "        vertical-align: top;\n",
       "    }\n",
       "\n",
       "    .dataframe thead th {\n",
       "        text-align: right;\n",
       "    }\n",
       "</style>\n",
       "<table border=\"1\" class=\"dataframe\">\n",
       "  <thead>\n",
       "    <tr style=\"text-align: right;\">\n",
       "      <th></th>\n",
       "      <th>e_field</th>\n",
       "      <th>time</th>\n",
       "      <th>endtime</th>\n",
       "      <th>x</th>\n",
       "      <th>y</th>\n",
       "      <th>z</th>\n",
       "      <th>ed</th>\n",
       "      <th>nestid</th>\n",
       "      <th>A</th>\n",
       "      <th>Z</th>\n",
       "      <th>...</th>\n",
       "      <th>x_pri</th>\n",
       "      <th>y_pri</th>\n",
       "      <th>z_pri</th>\n",
       "      <th>cluster_id</th>\n",
       "      <th>xe_density</th>\n",
       "      <th>vol_id</th>\n",
       "      <th>create_S2</th>\n",
       "      <th>photons</th>\n",
       "      <th>electrons</th>\n",
       "      <th>excitons</th>\n",
       "    </tr>\n",
       "  </thead>\n",
       "  <tbody>\n",
       "    <tr>\n",
       "      <th>4</th>\n",
       "      <td>27</td>\n",
       "      <td>2827386342</td>\n",
       "      <td>2827386342</td>\n",
       "      <td>-36.266766</td>\n",
       "      <td>-21.600817</td>\n",
       "      <td>-9.273911</td>\n",
       "      <td>67.258522</td>\n",
       "      <td>8</td>\n",
       "      <td>0</td>\n",
       "      <td>0</td>\n",
       "      <td>...</td>\n",
       "      <td>-44.154747</td>\n",
       "      <td>2.803934</td>\n",
       "      <td>7.933488</td>\n",
       "      <td>124</td>\n",
       "      <td>2.862</td>\n",
       "      <td>1</td>\n",
       "      <td>True</td>\n",
       "      <td>4160</td>\n",
       "      <td>766</td>\n",
       "      <td>733</td>\n",
       "    </tr>\n",
       "    <tr>\n",
       "      <th>19</th>\n",
       "      <td>24</td>\n",
       "      <td>2827386343</td>\n",
       "      <td>2827386343</td>\n",
       "      <td>-12.580804</td>\n",
       "      <td>17.099777</td>\n",
       "      <td>-36.494366</td>\n",
       "      <td>215.079941</td>\n",
       "      <td>8</td>\n",
       "      <td>0</td>\n",
       "      <td>0</td>\n",
       "      <td>...</td>\n",
       "      <td>-44.154747</td>\n",
       "      <td>2.803934</td>\n",
       "      <td>7.933488</td>\n",
       "      <td>17</td>\n",
       "      <td>2.862</td>\n",
       "      <td>1</td>\n",
       "      <td>True</td>\n",
       "      <td>11213</td>\n",
       "      <td>4512</td>\n",
       "      <td>2368</td>\n",
       "    </tr>\n",
       "    <tr>\n",
       "      <th>21</th>\n",
       "      <td>24</td>\n",
       "      <td>2827386343</td>\n",
       "      <td>2827386343</td>\n",
       "      <td>-12.649805</td>\n",
       "      <td>17.200773</td>\n",
       "      <td>-36.587608</td>\n",
       "      <td>378.983673</td>\n",
       "      <td>8</td>\n",
       "      <td>0</td>\n",
       "      <td>0</td>\n",
       "      <td>...</td>\n",
       "      <td>-44.154747</td>\n",
       "      <td>2.803934</td>\n",
       "      <td>7.933488</td>\n",
       "      <td>19</td>\n",
       "      <td>2.862</td>\n",
       "      <td>1</td>\n",
       "      <td>True</td>\n",
       "      <td>18687</td>\n",
       "      <td>9338</td>\n",
       "      <td>4344</td>\n",
       "    </tr>\n",
       "    <tr>\n",
       "      <th>22</th>\n",
       "      <td>24</td>\n",
       "      <td>2827386343</td>\n",
       "      <td>2827386343</td>\n",
       "      <td>-12.725284</td>\n",
       "      <td>17.268085</td>\n",
       "      <td>-36.636372</td>\n",
       "      <td>415.224915</td>\n",
       "      <td>8</td>\n",
       "      <td>0</td>\n",
       "      <td>0</td>\n",
       "      <td>...</td>\n",
       "      <td>-44.154747</td>\n",
       "      <td>2.803934</td>\n",
       "      <td>7.933488</td>\n",
       "      <td>20</td>\n",
       "      <td>2.862</td>\n",
       "      <td>1</td>\n",
       "      <td>True</td>\n",
       "      <td>17571</td>\n",
       "      <td>12975</td>\n",
       "      <td>4617</td>\n",
       "    </tr>\n",
       "    <tr>\n",
       "      <th>23</th>\n",
       "      <td>24</td>\n",
       "      <td>2827386343</td>\n",
       "      <td>2827386343</td>\n",
       "      <td>-12.798026</td>\n",
       "      <td>17.312786</td>\n",
       "      <td>-36.671024</td>\n",
       "      <td>385.584381</td>\n",
       "      <td>8</td>\n",
       "      <td>0</td>\n",
       "      <td>0</td>\n",
       "      <td>...</td>\n",
       "      <td>-44.154747</td>\n",
       "      <td>2.803934</td>\n",
       "      <td>7.933488</td>\n",
       "      <td>21</td>\n",
       "      <td>2.862</td>\n",
       "      <td>1</td>\n",
       "      <td>True</td>\n",
       "      <td>19036</td>\n",
       "      <td>9534</td>\n",
       "      <td>4449</td>\n",
       "    </tr>\n",
       "  </tbody>\n",
       "</table>\n",
       "<p>5 rows × 21 columns</p>\n",
       "</div>"
      ],
      "text/plain": [
       "    e_field        time     endtime          x          y          z  \\\n",
       "4        27  2827386342  2827386342 -36.266766 -21.600817  -9.273911   \n",
       "19       24  2827386343  2827386343 -12.580804  17.099777 -36.494366   \n",
       "21       24  2827386343  2827386343 -12.649805  17.200773 -36.587608   \n",
       "22       24  2827386343  2827386343 -12.725284  17.268085 -36.636372   \n",
       "23       24  2827386343  2827386343 -12.798026  17.312786 -36.671024   \n",
       "\n",
       "            ed  nestid  A  Z  ...      x_pri     y_pri     z_pri  cluster_id  \\\n",
       "4    67.258522       8  0  0  ... -44.154747  2.803934  7.933488         124   \n",
       "19  215.079941       8  0  0  ... -44.154747  2.803934  7.933488          17   \n",
       "21  378.983673       8  0  0  ... -44.154747  2.803934  7.933488          19   \n",
       "22  415.224915       8  0  0  ... -44.154747  2.803934  7.933488          20   \n",
       "23  385.584381       8  0  0  ... -44.154747  2.803934  7.933488          21   \n",
       "\n",
       "    xe_density  vol_id  create_S2  photons  electrons  excitons  \n",
       "4        2.862       1       True     4160        766       733  \n",
       "19       2.862       1       True    11213       4512      2368  \n",
       "21       2.862       1       True    18687       9338      4344  \n",
       "22       2.862       1       True    17571      12975      4617  \n",
       "23       2.862       1       True    19036       9534      4449  \n",
       "\n",
       "[5 rows x 21 columns]"
      ]
     },
     "execution_count": 11,
     "metadata": {},
     "output_type": "execute_result"
    }
   ],
   "source": [
    "microphysics_summary[np.isin(microphysics_summary.cluster_id.values, raw_records[index][\"contributing_clusters\"])].head()"
   ]
  },
  {
   "cell_type": "markdown",
   "metadata": {},
   "source": [
    "## Peaks and peak_truth\n",
    "\n",
    "Next we can process the simulation result to `peak_basics`. Strax(en) will merge multiple records into a peak. The PeakTruth plugin will evaluate which `raw_records` contribute to a peak and calculate a truth output for each peak. The provided columns for each peak are:\n",
    "- `s1_photon_number_truth` - The number of S1 photons that contributed to the peak\n",
    "- `s2_photon_number_truth` - The number of S2 photons that contributed to the peak\n",
    "- `ap_photon_number_truth` - The number of (virtual) PMT afterpulse 'photons' that contributed to the peak\n",
    "- `raw_area_truth` - The sum of all contributing photon gains divided by the gains of the PMTs\n",
    "- `observable_energy_truth` - Estimate of the energy that is associated with the peak.\n",
    "- `number_of_contributing_clusters` - Number of clusters that contributed to the peak\n",
    "- `average_x_of_contributing_clusters` - Weighted average of the x position of the clusters that contributed to the peak\n",
    "- `average_y_of_contributing_clusters` - Weighted average of the y position of the clusters that contributed to the peak\n",
    "- `average_z_of_contributing_clusters` - Weighted average of the z position of the clusters that contributed to the peak\n",
    "- `average_x_obs_of_contributing_clusters` - Weighted average of the observed x position of the clusters that contributed to the peak\n",
    "- `average_y_obs_of_contributing_clusters` - Weighted average of the observed y position of the clusters that contributed to the peak\n",
    "- `average_z_obs_of_contributing_clusters` - Weighted average of the observed z position of the clusters that contributed to the peak\n",
    "\n",
    "Lets take a closer look at `observable_energy_truth` using an example: \n",
    "If we would have two clusters, the first one with 100 keV energy producig 100 S1 photons and the second one with 10 keV producing 10 S1 photons. After simulation and processing we find two S1 peaks in our data. The first S1 consitis of 90 photons from the first cluster and 5 photons of the second cluster. The `observable_energy_truth` for this peak is calculated as: 90/100 * 100 keV + 5/10 * 10 keV = 90 keV + 5 keV = 95 keV. The second S1 consists of 3 photons from the first cluster and 4 photons of the second cluster. The `observable_energy_truth` for this peak is calculated as: 3/100 * 100 keV + 4/10 * 10 keV = 3 keV + 4 keV = 7 keV. A similar calculation is done for the S2 peaks but replacing the S1 photons with the S2 photons.\n"
   ]
  },
  {
   "cell_type": "code",
   "execution_count": 12,
   "metadata": {},
   "outputs": [
    {
     "name": "stderr",
     "output_type": "stream",
     "text": [
      "WARNING:strax:Option gain_model_nv not taken by any registered plugin\n",
      "WARNING:strax:Option gain_model_mv not taken by any registered plugin\n",
      "WARNING:strax:Option gain_model_nv not taken by any registered plugin\n",
      "WARNING:strax:Option gain_model_mv not taken by any registered plugin\n",
      "WARNING:strax:Option gain_model_nv not taken by any registered plugin\n",
      "WARNING:strax:Option gain_model_mv not taken by any registered plugin\n",
      "WARNING:strax:Option gain_model_nv not taken by any registered plugin\n",
      "WARNING:strax:Option gain_model_mv not taken by any registered plugin\n"
     ]
    }
   ],
   "source": [
    "st.make(run_number, \"peak_truth\")\n",
    "st.make(run_number, \"peak_positions\")"
   ]
  },
  {
   "cell_type": "markdown",
   "metadata": {},
   "source": [
    "As strax(en) will take care of the matching of our truth information to the individual peaks, we can simply load the `peak_basics` and `peak_truth` data together."
   ]
  },
  {
   "cell_type": "code",
   "execution_count": 13,
   "metadata": {},
   "outputs": [
    {
     "name": "stderr",
     "output_type": "stream",
     "text": [
      "WARNING:strax:Option gain_model_nv not taken by any registered plugin\n",
      "WARNING:strax:Option gain_model_mv not taken by any registered plugin\n",
      "WARNING:strax:Option gain_model_nv not taken by any registered plugin\n",
      "WARNING:strax:Option gain_model_mv not taken by any registered plugin\n",
      "WARNING:strax:Option gain_model_nv not taken by any registered plugin\n",
      "WARNING:strax:Option gain_model_mv not taken by any registered plugin\n"
     ]
    },
    {
     "data": {
      "application/vnd.jupyter.widget-view+json": {
       "model_id": "9e4138c047d04ea1a39b3a98c5a6c6c9",
       "version_major": 2,
       "version_minor": 0
      },
      "text/plain": [
       "Loading plugins: |          | 0.00 % [00:00<?]"
      ]
     },
     "metadata": {},
     "output_type": "display_data"
    }
   ],
   "source": [
    "peak_basics = st.get_df(run_number, [\"peak_basics\", \"peak_truth\", \"peak_positions\"])"
   ]
  },
  {
   "cell_type": "markdown",
   "metadata": {},
   "source": [
    "For a peak area bias study we could now compare the raw_area to the peak area:"
   ]
  },
  {
   "cell_type": "code",
   "execution_count": 14,
   "metadata": {},
   "outputs": [
    {
     "data": {
      "text/html": [
       "<div>\n",
       "<style scoped>\n",
       "    .dataframe tbody tr th:only-of-type {\n",
       "        vertical-align: middle;\n",
       "    }\n",
       "\n",
       "    .dataframe tbody tr th {\n",
       "        vertical-align: top;\n",
       "    }\n",
       "\n",
       "    .dataframe thead th {\n",
       "        text-align: right;\n",
       "    }\n",
       "</style>\n",
       "<table border=\"1\" class=\"dataframe\">\n",
       "  <thead>\n",
       "    <tr style=\"text-align: right;\">\n",
       "      <th></th>\n",
       "      <th>area</th>\n",
       "      <th>raw_area_truth</th>\n",
       "    </tr>\n",
       "  </thead>\n",
       "  <tbody>\n",
       "    <tr>\n",
       "      <th>0</th>\n",
       "      <td>2.808850</td>\n",
       "      <td>3.049999</td>\n",
       "    </tr>\n",
       "    <tr>\n",
       "      <th>1</th>\n",
       "      <td>1059.032593</td>\n",
       "      <td>1063.919800</td>\n",
       "    </tr>\n",
       "    <tr>\n",
       "      <th>2</th>\n",
       "      <td>61364.210938</td>\n",
       "      <td>61369.085938</td>\n",
       "    </tr>\n",
       "    <tr>\n",
       "      <th>3</th>\n",
       "      <td>718.991394</td>\n",
       "      <td>721.309814</td>\n",
       "    </tr>\n",
       "    <tr>\n",
       "      <th>4</th>\n",
       "      <td>341264.375000</td>\n",
       "      <td>320888.656250</td>\n",
       "    </tr>\n",
       "  </tbody>\n",
       "</table>\n",
       "</div>"
      ],
      "text/plain": [
       "            area  raw_area_truth\n",
       "0       2.808850        3.049999\n",
       "1    1059.032593     1063.919800\n",
       "2   61364.210938    61369.085938\n",
       "3     718.991394      721.309814\n",
       "4  341264.375000   320888.656250"
      ]
     },
     "execution_count": 14,
     "metadata": {},
     "output_type": "execute_result"
    }
   ],
   "source": [
    "peak_basics[[\"area\", \"raw_area_truth\"]].head()"
   ]
  },
  {
   "cell_type": "markdown",
   "metadata": {},
   "source": [
    "We might also be interested in the peak classification: "
   ]
  },
  {
   "cell_type": "code",
   "execution_count": 15,
   "metadata": {},
   "outputs": [
    {
     "data": {
      "text/html": [
       "<div>\n",
       "<style scoped>\n",
       "    .dataframe tbody tr th:only-of-type {\n",
       "        vertical-align: middle;\n",
       "    }\n",
       "\n",
       "    .dataframe tbody tr th {\n",
       "        vertical-align: top;\n",
       "    }\n",
       "\n",
       "    .dataframe thead th {\n",
       "        text-align: right;\n",
       "    }\n",
       "</style>\n",
       "<table border=\"1\" class=\"dataframe\">\n",
       "  <thead>\n",
       "    <tr style=\"text-align: right;\">\n",
       "      <th></th>\n",
       "      <th>type</th>\n",
       "      <th>s1_photon_number_truth</th>\n",
       "      <th>s2_photon_number_truth</th>\n",
       "      <th>ap_photon_number_truth</th>\n",
       "    </tr>\n",
       "  </thead>\n",
       "  <tbody>\n",
       "    <tr>\n",
       "      <th>0</th>\n",
       "      <td>1</td>\n",
       "      <td>3</td>\n",
       "      <td>0</td>\n",
       "      <td>0</td>\n",
       "    </tr>\n",
       "    <tr>\n",
       "      <th>1</th>\n",
       "      <td>2</td>\n",
       "      <td>0</td>\n",
       "      <td>827</td>\n",
       "      <td>0</td>\n",
       "    </tr>\n",
       "    <tr>\n",
       "      <th>2</th>\n",
       "      <td>1</td>\n",
       "      <td>36192</td>\n",
       "      <td>0</td>\n",
       "      <td>36</td>\n",
       "    </tr>\n",
       "    <tr>\n",
       "      <th>3</th>\n",
       "      <td>2</td>\n",
       "      <td>0</td>\n",
       "      <td>551</td>\n",
       "      <td>0</td>\n",
       "    </tr>\n",
       "    <tr>\n",
       "      <th>4</th>\n",
       "      <td>2</td>\n",
       "      <td>0</td>\n",
       "      <td>251710</td>\n",
       "      <td>250</td>\n",
       "    </tr>\n",
       "  </tbody>\n",
       "</table>\n",
       "</div>"
      ],
      "text/plain": [
       "   type  s1_photon_number_truth  s2_photon_number_truth  \\\n",
       "0     1                       3                       0   \n",
       "1     2                       0                     827   \n",
       "2     1                   36192                       0   \n",
       "3     2                       0                     551   \n",
       "4     2                       0                  251710   \n",
       "\n",
       "   ap_photon_number_truth  \n",
       "0                       0  \n",
       "1                       0  \n",
       "2                      36  \n",
       "3                       0  \n",
       "4                     250  "
      ]
     },
     "execution_count": 15,
     "metadata": {},
     "output_type": "execute_result"
    }
   ],
   "source": [
    "peak_basics[[\"type\", \"s1_photon_number_truth\", \"s2_photon_number_truth\", \"ap_photon_number_truth\"]].head()"
   ]
  },
  {
   "cell_type": "markdown",
   "metadata": {},
   "source": [
    "Or you might want to check how our position reconstruction is doing: "
   ]
  },
  {
   "cell_type": "code",
   "execution_count": 16,
   "metadata": {},
   "outputs": [
    {
     "data": {
      "text/html": [
       "<div>\n",
       "<style scoped>\n",
       "    .dataframe tbody tr th:only-of-type {\n",
       "        vertical-align: middle;\n",
       "    }\n",
       "\n",
       "    .dataframe tbody tr th {\n",
       "        vertical-align: top;\n",
       "    }\n",
       "\n",
       "    .dataframe thead th {\n",
       "        text-align: right;\n",
       "    }\n",
       "</style>\n",
       "<table border=\"1\" class=\"dataframe\">\n",
       "  <thead>\n",
       "    <tr style=\"text-align: right;\">\n",
       "      <th></th>\n",
       "      <th>type</th>\n",
       "      <th>x</th>\n",
       "      <th>y</th>\n",
       "      <th>average_x_obs_of_contributing_clusters</th>\n",
       "      <th>average_y_obs_of_contributing_clusters</th>\n",
       "      <th>average_z_obs_of_contributing_clusters</th>\n",
       "    </tr>\n",
       "  </thead>\n",
       "  <tbody>\n",
       "    <tr>\n",
       "      <th>0</th>\n",
       "      <td>1</td>\n",
       "      <td>NaN</td>\n",
       "      <td>NaN</td>\n",
       "      <td>-20.890713</td>\n",
       "      <td>-51.367107</td>\n",
       "      <td>-1.464800</td>\n",
       "    </tr>\n",
       "    <tr>\n",
       "      <th>1</th>\n",
       "      <td>2</td>\n",
       "      <td>-20.788963</td>\n",
       "      <td>-52.198101</td>\n",
       "      <td>-20.890713</td>\n",
       "      <td>-51.367107</td>\n",
       "      <td>-1.464800</td>\n",
       "    </tr>\n",
       "    <tr>\n",
       "      <th>2</th>\n",
       "      <td>1</td>\n",
       "      <td>-57.817341</td>\n",
       "      <td>0.454473</td>\n",
       "      <td>-19.766459</td>\n",
       "      <td>2.009263</td>\n",
       "      <td>-24.624775</td>\n",
       "    </tr>\n",
       "    <tr>\n",
       "      <th>3</th>\n",
       "      <td>2</td>\n",
       "      <td>-38.655247</td>\n",
       "      <td>-18.313650</td>\n",
       "      <td>-38.867641</td>\n",
       "      <td>-18.246555</td>\n",
       "      <td>-6.679745</td>\n",
       "    </tr>\n",
       "    <tr>\n",
       "      <th>4</th>\n",
       "      <td>2</td>\n",
       "      <td>-37.277332</td>\n",
       "      <td>-18.950422</td>\n",
       "      <td>-34.189152</td>\n",
       "      <td>-14.120831</td>\n",
       "      <td>-11.868514</td>\n",
       "    </tr>\n",
       "  </tbody>\n",
       "</table>\n",
       "</div>"
      ],
      "text/plain": [
       "   type          x          y  average_x_obs_of_contributing_clusters  \\\n",
       "0     1        NaN        NaN                              -20.890713   \n",
       "1     2 -20.788963 -52.198101                              -20.890713   \n",
       "2     1 -57.817341   0.454473                              -19.766459   \n",
       "3     2 -38.655247 -18.313650                              -38.867641   \n",
       "4     2 -37.277332 -18.950422                              -34.189152   \n",
       "\n",
       "   average_y_obs_of_contributing_clusters  \\\n",
       "0                              -51.367107   \n",
       "1                              -51.367107   \n",
       "2                                2.009263   \n",
       "3                              -18.246555   \n",
       "4                              -14.120831   \n",
       "\n",
       "   average_z_obs_of_contributing_clusters  \n",
       "0                               -1.464800  \n",
       "1                               -1.464800  \n",
       "2                              -24.624775  \n",
       "3                               -6.679745  \n",
       "4                              -11.868514  "
      ]
     },
     "execution_count": 16,
     "metadata": {},
     "output_type": "execute_result"
    }
   ],
   "source": [
    "peak_basics[[\"type\",\"x\",\"y\", \"average_x_obs_of_contributing_clusters\", \"average_y_obs_of_contributing_clusters\", \"average_z_obs_of_contributing_clusters\"]].head()"
   ]
  },
  {
   "cell_type": "markdown",
   "metadata": {},
   "source": [
    "## Surviving Clusters\n",
    "Finally we can evaluate if an energy deposit makes it into a record or a peak. This is done by the `SurvivingClusters` plugin. It will provide the following columns:\n",
    "- `in_a_record` - Boolean if the cluster is in a record\n",
    "- `in_a_peak` - Boolean if the cluster is in a peak"
   ]
  },
  {
   "cell_type": "code",
   "execution_count": 17,
   "metadata": {},
   "outputs": [
    {
     "name": "stderr",
     "output_type": "stream",
     "text": [
      "WARNING:strax:Option gain_model_nv not taken by any registered plugin\n",
      "WARNING:strax:Option gain_model_mv not taken by any registered plugin\n",
      "WARNING:strax:Option gain_model_nv not taken by any registered plugin\n",
      "WARNING:strax:Option gain_model_mv not taken by any registered plugin\n",
      "WARNING:strax:Option gain_model_nv not taken by any registered plugin\n",
      "WARNING:strax:Option gain_model_mv not taken by any registered plugin\n",
      "WARNING:strax:Option gain_model_nv not taken by any registered plugin\n",
      "WARNING:strax:Option gain_model_mv not taken by any registered plugin\n"
     ]
    },
    {
     "data": {
      "application/vnd.jupyter.widget-view+json": {
       "model_id": "0d63ec02fc1e4c5e92ea036cf289e181",
       "version_major": 2,
       "version_minor": 0
      },
      "text/plain": [
       "Loading plugins: |          | 0.00 % [00:00<?]"
      ]
     },
     "metadata": {},
     "output_type": "display_data"
    }
   ],
   "source": [
    "st.make(run_number, \"surviving_clusters\")\n",
    "microphysics_summary = st.get_df(run_number, [\"microphysics_summary\", \"surviving_clusters\"])"
   ]
  },
  {
   "cell_type": "markdown",
   "metadata": {},
   "source": [
    "Now that we have the data loaded we could have a look at clusters that did not make it into a peak: "
   ]
  },
  {
   "cell_type": "code",
   "execution_count": 18,
   "metadata": {},
   "outputs": [
    {
     "data": {
      "text/html": [
       "<div>\n",
       "<style scoped>\n",
       "    .dataframe tbody tr th:only-of-type {\n",
       "        vertical-align: middle;\n",
       "    }\n",
       "\n",
       "    .dataframe tbody tr th {\n",
       "        vertical-align: top;\n",
       "    }\n",
       "\n",
       "    .dataframe thead th {\n",
       "        text-align: right;\n",
       "    }\n",
       "</style>\n",
       "<table border=\"1\" class=\"dataframe\">\n",
       "  <thead>\n",
       "    <tr style=\"text-align: right;\">\n",
       "      <th></th>\n",
       "      <th>e_field</th>\n",
       "      <th>time</th>\n",
       "      <th>endtime</th>\n",
       "      <th>x</th>\n",
       "      <th>y</th>\n",
       "      <th>z</th>\n",
       "      <th>ed</th>\n",
       "      <th>nestid</th>\n",
       "      <th>A</th>\n",
       "      <th>Z</th>\n",
       "      <th>...</th>\n",
       "      <th>z_pri</th>\n",
       "      <th>cluster_id</th>\n",
       "      <th>xe_density</th>\n",
       "      <th>vol_id</th>\n",
       "      <th>create_S2</th>\n",
       "      <th>photons</th>\n",
       "      <th>electrons</th>\n",
       "      <th>excitons</th>\n",
       "      <th>in_a_record</th>\n",
       "      <th>in_a_peak</th>\n",
       "    </tr>\n",
       "  </thead>\n",
       "  <tbody>\n",
       "    <tr>\n",
       "      <th>170</th>\n",
       "      <td>27</td>\n",
       "      <td>2827386497</td>\n",
       "      <td>2827386497</td>\n",
       "      <td>32.959923</td>\n",
       "      <td>14.185023</td>\n",
       "      <td>-9.616013</td>\n",
       "      <td>0.096808</td>\n",
       "      <td>0</td>\n",
       "      <td>0</td>\n",
       "      <td>0</td>\n",
       "      <td>...</td>\n",
       "      <td>7.933488</td>\n",
       "      <td>171</td>\n",
       "      <td>2.862</td>\n",
       "      <td>1</td>\n",
       "      <td>True</td>\n",
       "      <td>0</td>\n",
       "      <td>0</td>\n",
       "      <td>0</td>\n",
       "      <td>False</td>\n",
       "      <td>False</td>\n",
       "    </tr>\n",
       "    <tr>\n",
       "      <th>203</th>\n",
       "      <td>26</td>\n",
       "      <td>2827386535</td>\n",
       "      <td>2827386535</td>\n",
       "      <td>27.667393</td>\n",
       "      <td>10.273334</td>\n",
       "      <td>-12.147082</td>\n",
       "      <td>0.044494</td>\n",
       "      <td>0</td>\n",
       "      <td>0</td>\n",
       "      <td>0</td>\n",
       "      <td>...</td>\n",
       "      <td>7.933488</td>\n",
       "      <td>204</td>\n",
       "      <td>2.862</td>\n",
       "      <td>1</td>\n",
       "      <td>True</td>\n",
       "      <td>0</td>\n",
       "      <td>0</td>\n",
       "      <td>0</td>\n",
       "      <td>False</td>\n",
       "      <td>False</td>\n",
       "    </tr>\n",
       "    <tr>\n",
       "      <th>205</th>\n",
       "      <td>25</td>\n",
       "      <td>2827386710</td>\n",
       "      <td>2827386710</td>\n",
       "      <td>9.488111</td>\n",
       "      <td>6.251637</td>\n",
       "      <td>-11.284761</td>\n",
       "      <td>0.141653</td>\n",
       "      <td>0</td>\n",
       "      <td>0</td>\n",
       "      <td>0</td>\n",
       "      <td>...</td>\n",
       "      <td>7.933488</td>\n",
       "      <td>206</td>\n",
       "      <td>2.862</td>\n",
       "      <td>1</td>\n",
       "      <td>True</td>\n",
       "      <td>0</td>\n",
       "      <td>0</td>\n",
       "      <td>0</td>\n",
       "      <td>False</td>\n",
       "      <td>False</td>\n",
       "    </tr>\n",
       "    <tr>\n",
       "      <th>208</th>\n",
       "      <td>24</td>\n",
       "      <td>2827386851</td>\n",
       "      <td>2827386851</td>\n",
       "      <td>16.457802</td>\n",
       "      <td>8.368632</td>\n",
       "      <td>-30.002600</td>\n",
       "      <td>0.085379</td>\n",
       "      <td>0</td>\n",
       "      <td>0</td>\n",
       "      <td>0</td>\n",
       "      <td>...</td>\n",
       "      <td>7.933488</td>\n",
       "      <td>209</td>\n",
       "      <td>2.862</td>\n",
       "      <td>1</td>\n",
       "      <td>True</td>\n",
       "      <td>0</td>\n",
       "      <td>0</td>\n",
       "      <td>0</td>\n",
       "      <td>False</td>\n",
       "      <td>False</td>\n",
       "    </tr>\n",
       "    <tr>\n",
       "      <th>209</th>\n",
       "      <td>24</td>\n",
       "      <td>2827386893</td>\n",
       "      <td>2827386893</td>\n",
       "      <td>16.093048</td>\n",
       "      <td>14.685450</td>\n",
       "      <td>-34.862846</td>\n",
       "      <td>0.057414</td>\n",
       "      <td>0</td>\n",
       "      <td>0</td>\n",
       "      <td>0</td>\n",
       "      <td>...</td>\n",
       "      <td>7.933488</td>\n",
       "      <td>210</td>\n",
       "      <td>2.862</td>\n",
       "      <td>1</td>\n",
       "      <td>True</td>\n",
       "      <td>0</td>\n",
       "      <td>0</td>\n",
       "      <td>0</td>\n",
       "      <td>False</td>\n",
       "      <td>False</td>\n",
       "    </tr>\n",
       "  </tbody>\n",
       "</table>\n",
       "<p>5 rows × 23 columns</p>\n",
       "</div>"
      ],
      "text/plain": [
       "     e_field        time     endtime          x          y          z  \\\n",
       "170       27  2827386497  2827386497  32.959923  14.185023  -9.616013   \n",
       "203       26  2827386535  2827386535  27.667393  10.273334 -12.147082   \n",
       "205       25  2827386710  2827386710   9.488111   6.251637 -11.284761   \n",
       "208       24  2827386851  2827386851  16.457802   8.368632 -30.002600   \n",
       "209       24  2827386893  2827386893  16.093048  14.685450 -34.862846   \n",
       "\n",
       "           ed  nestid  A  Z  ...     z_pri  cluster_id  xe_density  vol_id  \\\n",
       "170  0.096808       0  0  0  ...  7.933488         171       2.862       1   \n",
       "203  0.044494       0  0  0  ...  7.933488         204       2.862       1   \n",
       "205  0.141653       0  0  0  ...  7.933488         206       2.862       1   \n",
       "208  0.085379       0  0  0  ...  7.933488         209       2.862       1   \n",
       "209  0.057414       0  0  0  ...  7.933488         210       2.862       1   \n",
       "\n",
       "     create_S2  photons  electrons  excitons  in_a_record  in_a_peak  \n",
       "170       True        0          0         0        False      False  \n",
       "203       True        0          0         0        False      False  \n",
       "205       True        0          0         0        False      False  \n",
       "208       True        0          0         0        False      False  \n",
       "209       True        0          0         0        False      False  \n",
       "\n",
       "[5 rows x 23 columns]"
      ]
     },
     "execution_count": 18,
     "metadata": {},
     "output_type": "execute_result"
    }
   ],
   "source": [
    "microphysics_summary.query(\"in_a_peak == False\").head()"
   ]
  },
  {
   "cell_type": "markdown",
   "metadata": {},
   "source": [
    "## Event Truth\n",
    "\n",
    "Finally we can have a look at truth information at the event level. This is done by the `EventTruth` plugin. It will provide the following columns:\n",
    "- `x_obs_truth` - The x position of the event. This corresponds to the x position of the main S2.\n",
    "- `y_obs_truth` - The y position of the event. This corresponds to the y position of the main S2.\n",
    "- `z_obs_truth` - The z position of the event. This is calculated as mean of the main S1 and S2 `average_z_obs_of_contributing_clusters`. Does this make sense?\n",
    "- `energy_of_main_peak_truth` - This is intended to be the energy that can be found in the main S1 and S2. It is calculated as the mean of the `observable_energy_truth` of the main S1 and S2. Does this make any sense???\n",
    "- `total_energy_in_event_truth` - The sum of all energy deposits that are in the event"
   ]
  },
  {
   "cell_type": "code",
   "execution_count": 19,
   "metadata": {},
   "outputs": [
    {
     "name": "stderr",
     "output_type": "stream",
     "text": [
      "WARNING:strax:Option gain_model_nv not taken by any registered plugin\n",
      "WARNING:strax:Option gain_model_mv not taken by any registered plugin\n"
     ]
    }
   ],
   "source": [
    "st.make(run_number, \"event_truth\")"
   ]
  },
  {
   "cell_type": "code",
   "execution_count": 20,
   "metadata": {},
   "outputs": [
    {
     "name": "stderr",
     "output_type": "stream",
     "text": [
      "WARNING:strax:Option gain_model_nv not taken by any registered plugin\n",
      "WARNING:strax:Option gain_model_mv not taken by any registered plugin\n",
      "WARNING:strax:Option gain_model_nv not taken by any registered plugin\n",
      "WARNING:strax:Option gain_model_mv not taken by any registered plugin\n",
      "WARNING:strax:Option gain_model_nv not taken by any registered plugin\n",
      "WARNING:strax:Option gain_model_mv not taken by any registered plugin\n"
     ]
    },
    {
     "data": {
      "application/vnd.jupyter.widget-view+json": {
       "model_id": "6953085a8f144523aea7dc460d2b68b4",
       "version_major": 2,
       "version_minor": 0
      },
      "text/plain": [
       "Loading plugins: |          | 0.00 % [00:00<?]"
      ]
     },
     "metadata": {},
     "output_type": "display_data"
    }
   ],
   "source": [
    "event_data = st.get_df(run_number, [\"event_info\", \"event_truth\"])"
   ]
  },
  {
   "cell_type": "markdown",
   "metadata": {},
   "source": [
    "First lets take a look at the energy informations: "
   ]
  },
  {
   "cell_type": "code",
   "execution_count": 21,
   "metadata": {},
   "outputs": [
    {
     "data": {
      "text/html": [
       "<div>\n",
       "<style scoped>\n",
       "    .dataframe tbody tr th:only-of-type {\n",
       "        vertical-align: middle;\n",
       "    }\n",
       "\n",
       "    .dataframe tbody tr th {\n",
       "        vertical-align: top;\n",
       "    }\n",
       "\n",
       "    .dataframe thead th {\n",
       "        text-align: right;\n",
       "    }\n",
       "</style>\n",
       "<table border=\"1\" class=\"dataframe\">\n",
       "  <thead>\n",
       "    <tr style=\"text-align: right;\">\n",
       "      <th></th>\n",
       "      <th>e_ces</th>\n",
       "      <th>energy_of_main_peak_truth</th>\n",
       "      <th>total_energy_in_event_truth</th>\n",
       "    </tr>\n",
       "  </thead>\n",
       "  <tbody>\n",
       "    <tr>\n",
       "      <th>0</th>\n",
       "      <td>0.950759</td>\n",
       "      <td>5.012142</td>\n",
       "      <td>5.101432</td>\n",
       "    </tr>\n",
       "    <tr>\n",
       "      <th>1</th>\n",
       "      <td>10316.319336</td>\n",
       "      <td>5868.240723</td>\n",
       "      <td>9708.582031</td>\n",
       "    </tr>\n",
       "    <tr>\n",
       "      <th>2</th>\n",
       "      <td>1329.449341</td>\n",
       "      <td>772.092590</td>\n",
       "      <td>1575.655151</td>\n",
       "    </tr>\n",
       "    <tr>\n",
       "      <th>3</th>\n",
       "      <td>2615.176758</td>\n",
       "      <td>2229.846436</td>\n",
       "      <td>4019.808838</td>\n",
       "    </tr>\n",
       "    <tr>\n",
       "      <th>4</th>\n",
       "      <td>7898.591797</td>\n",
       "      <td>3581.932861</td>\n",
       "      <td>15595.068359</td>\n",
       "    </tr>\n",
       "    <tr>\n",
       "      <th>5</th>\n",
       "      <td>17511.164062</td>\n",
       "      <td>750.065796</td>\n",
       "      <td>1264.030273</td>\n",
       "    </tr>\n",
       "    <tr>\n",
       "      <th>6</th>\n",
       "      <td>2871.658936</td>\n",
       "      <td>2855.382080</td>\n",
       "      <td>4376.391602</td>\n",
       "    </tr>\n",
       "    <tr>\n",
       "      <th>7</th>\n",
       "      <td>1303.236450</td>\n",
       "      <td>1660.800293</td>\n",
       "      <td>1684.907104</td>\n",
       "    </tr>\n",
       "    <tr>\n",
       "      <th>8</th>\n",
       "      <td>6.340443</td>\n",
       "      <td>29.601395</td>\n",
       "      <td>31.483326</td>\n",
       "    </tr>\n",
       "  </tbody>\n",
       "</table>\n",
       "</div>"
      ],
      "text/plain": [
       "          e_ces  energy_of_main_peak_truth  total_energy_in_event_truth\n",
       "0      0.950759                   5.012142                     5.101432\n",
       "1  10316.319336                5868.240723                  9708.582031\n",
       "2   1329.449341                 772.092590                  1575.655151\n",
       "3   2615.176758                2229.846436                  4019.808838\n",
       "4   7898.591797                3581.932861                 15595.068359\n",
       "5  17511.164062                 750.065796                  1264.030273\n",
       "6   2871.658936                2855.382080                  4376.391602\n",
       "7   1303.236450                1660.800293                  1684.907104\n",
       "8      6.340443                  29.601395                    31.483326"
      ]
     },
     "execution_count": 21,
     "metadata": {},
     "output_type": "execute_result"
    }
   ],
   "source": [
    "event_data[[\"e_ces\", \"energy_of_main_peak_truth\", \"total_energy_in_event_truth\"]]"
   ]
  },
  {
   "cell_type": "markdown",
   "metadata": {},
   "source": [
    "And the positions: "
   ]
  },
  {
   "cell_type": "code",
   "execution_count": 22,
   "metadata": {},
   "outputs": [
    {
     "data": {
      "text/html": [
       "<div>\n",
       "<style scoped>\n",
       "    .dataframe tbody tr th:only-of-type {\n",
       "        vertical-align: middle;\n",
       "    }\n",
       "\n",
       "    .dataframe tbody tr th {\n",
       "        vertical-align: top;\n",
       "    }\n",
       "\n",
       "    .dataframe thead th {\n",
       "        text-align: right;\n",
       "    }\n",
       "</style>\n",
       "<table border=\"1\" class=\"dataframe\">\n",
       "  <thead>\n",
       "    <tr style=\"text-align: right;\">\n",
       "      <th></th>\n",
       "      <th>x</th>\n",
       "      <th>x_obs_truth</th>\n",
       "      <th>z</th>\n",
       "      <th>z_obs_truth</th>\n",
       "    </tr>\n",
       "  </thead>\n",
       "  <tbody>\n",
       "    <tr>\n",
       "      <th>0</th>\n",
       "      <td>-20.420223</td>\n",
       "      <td>-20.890713</td>\n",
       "      <td>-2.169019</td>\n",
       "      <td>-1.464800</td>\n",
       "    </tr>\n",
       "    <tr>\n",
       "      <th>1</th>\n",
       "      <td>-13.204618</td>\n",
       "      <td>-29.022295</td>\n",
       "      <td>-34.250954</td>\n",
       "      <td>-19.787865</td>\n",
       "    </tr>\n",
       "    <tr>\n",
       "      <th>2</th>\n",
       "      <td>-18.117203</td>\n",
       "      <td>-19.628901</td>\n",
       "      <td>-51.266327</td>\n",
       "      <td>-13.692792</td>\n",
       "    </tr>\n",
       "    <tr>\n",
       "      <th>3</th>\n",
       "      <td>-50.167782</td>\n",
       "      <td>-47.092503</td>\n",
       "      <td>-19.874458</td>\n",
       "      <td>-13.965933</td>\n",
       "    </tr>\n",
       "    <tr>\n",
       "      <th>4</th>\n",
       "      <td>14.325102</td>\n",
       "      <td>0.000000</td>\n",
       "      <td>-17.188948</td>\n",
       "      <td>-12.487251</td>\n",
       "    </tr>\n",
       "    <tr>\n",
       "      <th>5</th>\n",
       "      <td>-8.170411</td>\n",
       "      <td>-19.098410</td>\n",
       "      <td>-115.728760</td>\n",
       "      <td>-122.670464</td>\n",
       "    </tr>\n",
       "    <tr>\n",
       "      <th>6</th>\n",
       "      <td>-23.360212</td>\n",
       "      <td>-27.328758</td>\n",
       "      <td>-3.040385</td>\n",
       "      <td>-4.427474</td>\n",
       "    </tr>\n",
       "    <tr>\n",
       "      <th>7</th>\n",
       "      <td>20.358648</td>\n",
       "      <td>20.087496</td>\n",
       "      <td>-11.474121</td>\n",
       "      <td>-12.390013</td>\n",
       "    </tr>\n",
       "    <tr>\n",
       "      <th>8</th>\n",
       "      <td>-49.958988</td>\n",
       "      <td>-50.566116</td>\n",
       "      <td>-0.835833</td>\n",
       "      <td>-0.404144</td>\n",
       "    </tr>\n",
       "  </tbody>\n",
       "</table>\n",
       "</div>"
      ],
      "text/plain": [
       "           x  x_obs_truth           z  z_obs_truth\n",
       "0 -20.420223   -20.890713   -2.169019    -1.464800\n",
       "1 -13.204618   -29.022295  -34.250954   -19.787865\n",
       "2 -18.117203   -19.628901  -51.266327   -13.692792\n",
       "3 -50.167782   -47.092503  -19.874458   -13.965933\n",
       "4  14.325102     0.000000  -17.188948   -12.487251\n",
       "5  -8.170411   -19.098410 -115.728760  -122.670464\n",
       "6 -23.360212   -27.328758   -3.040385    -4.427474\n",
       "7  20.358648    20.087496  -11.474121   -12.390013\n",
       "8 -49.958988   -50.566116   -0.835833    -0.404144"
      ]
     },
     "execution_count": 22,
     "metadata": {},
     "output_type": "execute_result"
    }
   ],
   "source": [
    "event_data[[\"x\", \"x_obs_truth\", \"z\", \"z_obs_truth\"]]"
   ]
  },
  {
   "cell_type": "markdown",
   "metadata": {},
   "source": [
    "## Cluster Tagging\n",
    "\n",
    "Finally we can investigate if a cluster contributed to the main or alternative S1 or S2. This is done by the `ClusterTagging` plugin. It will provide the following columns:\n",
    "- `in_main_s1` - Boolean if the cluster contributed to the main S1\n",
    "- `in_main_s2` - Boolean if the cluster contributed to the main S2\n",
    "- `in_alt_s1` - Boolean if the cluster contributed to an alternative S1\n",
    "- `in_alt_s2` - Boolean if the cluster contributed to an alternative S2"
   ]
  },
  {
   "cell_type": "code",
   "execution_count": 23,
   "metadata": {},
   "outputs": [
    {
     "name": "stderr",
     "output_type": "stream",
     "text": [
      "WARNING:strax:Option gain_model_nv not taken by any registered plugin\n",
      "WARNING:strax:Option gain_model_mv not taken by any registered plugin\n"
     ]
    }
   ],
   "source": [
    "st.make(run_number, \"tagged_clusters\")"
   ]
  },
  {
   "cell_type": "markdown",
   "metadata": {},
   "source": [
    "We can load it together with e.g. microphysics_summary:"
   ]
  },
  {
   "cell_type": "code",
   "execution_count": 24,
   "metadata": {},
   "outputs": [
    {
     "name": "stderr",
     "output_type": "stream",
     "text": [
      "WARNING:strax:Option gain_model_nv not taken by any registered plugin\n",
      "WARNING:strax:Option gain_model_mv not taken by any registered plugin\n",
      "WARNING:strax:Option gain_model_nv not taken by any registered plugin\n",
      "WARNING:strax:Option gain_model_mv not taken by any registered plugin\n",
      "WARNING:strax:Option gain_model_nv not taken by any registered plugin\n",
      "WARNING:strax:Option gain_model_mv not taken by any registered plugin\n"
     ]
    },
    {
     "data": {
      "application/vnd.jupyter.widget-view+json": {
       "model_id": "8c8cb202d07642cd85b94ea02f29f740",
       "version_major": 2,
       "version_minor": 0
      },
      "text/plain": [
       "Loading plugins: |          | 0.00 % [00:00<?]"
      ]
     },
     "metadata": {},
     "output_type": "display_data"
    }
   ],
   "source": [
    "ms_with_tagged_clusters = st.get_df(run_number, [\"microphysics_summary\", \"tagged_clusters\"])"
   ]
  },
  {
   "cell_type": "markdown",
   "metadata": {},
   "source": [
    "Lets take a look at the clusters that contributed to the main S2 of the second event: "
   ]
  },
  {
   "cell_type": "code",
   "execution_count": 25,
   "metadata": {},
   "outputs": [
    {
     "data": {
      "text/html": [
       "<div>\n",
       "<style scoped>\n",
       "    .dataframe tbody tr th:only-of-type {\n",
       "        vertical-align: middle;\n",
       "    }\n",
       "\n",
       "    .dataframe tbody tr th {\n",
       "        vertical-align: top;\n",
       "    }\n",
       "\n",
       "    .dataframe thead th {\n",
       "        text-align: right;\n",
       "    }\n",
       "</style>\n",
       "<table border=\"1\" class=\"dataframe\">\n",
       "  <thead>\n",
       "    <tr style=\"text-align: right;\">\n",
       "      <th></th>\n",
       "      <th>e_field</th>\n",
       "      <th>time</th>\n",
       "      <th>endtime</th>\n",
       "      <th>x</th>\n",
       "      <th>y</th>\n",
       "      <th>z</th>\n",
       "      <th>ed</th>\n",
       "      <th>nestid</th>\n",
       "      <th>A</th>\n",
       "      <th>Z</th>\n",
       "      <th>...</th>\n",
       "      <th>xe_density</th>\n",
       "      <th>vol_id</th>\n",
       "      <th>create_S2</th>\n",
       "      <th>photons</th>\n",
       "      <th>electrons</th>\n",
       "      <th>excitons</th>\n",
       "      <th>in_main_s1</th>\n",
       "      <th>in_main_s2</th>\n",
       "      <th>in_alt_s1</th>\n",
       "      <th>in_alt_s2</th>\n",
       "    </tr>\n",
       "  </thead>\n",
       "  <tbody>\n",
       "    <tr>\n",
       "      <th>60</th>\n",
       "      <td>24</td>\n",
       "      <td>2827386343</td>\n",
       "      <td>2827386343</td>\n",
       "      <td>-12.797632</td>\n",
       "      <td>17.414379</td>\n",
       "      <td>-36.664551</td>\n",
       "      <td>119.665840</td>\n",
       "      <td>8</td>\n",
       "      <td>0</td>\n",
       "      <td>0</td>\n",
       "      <td>...</td>\n",
       "      <td>2.862</td>\n",
       "      <td>1</td>\n",
       "      <td>True</td>\n",
       "      <td>6734</td>\n",
       "      <td>2189</td>\n",
       "      <td>1324</td>\n",
       "      <td>True</td>\n",
       "      <td>True</td>\n",
       "      <td>False</td>\n",
       "      <td>False</td>\n",
       "    </tr>\n",
       "    <tr>\n",
       "      <th>61</th>\n",
       "      <td>24</td>\n",
       "      <td>2827386343</td>\n",
       "      <td>2827386343</td>\n",
       "      <td>-12.796987</td>\n",
       "      <td>17.403460</td>\n",
       "      <td>-36.681953</td>\n",
       "      <td>70.190887</td>\n",
       "      <td>8</td>\n",
       "      <td>0</td>\n",
       "      <td>0</td>\n",
       "      <td>...</td>\n",
       "      <td>2.862</td>\n",
       "      <td>1</td>\n",
       "      <td>True</td>\n",
       "      <td>4360</td>\n",
       "      <td>904</td>\n",
       "      <td>833</td>\n",
       "      <td>True</td>\n",
       "      <td>True</td>\n",
       "      <td>False</td>\n",
       "      <td>False</td>\n",
       "    </tr>\n",
       "    <tr>\n",
       "      <th>62</th>\n",
       "      <td>24</td>\n",
       "      <td>2827386343</td>\n",
       "      <td>2827386343</td>\n",
       "      <td>-12.808017</td>\n",
       "      <td>17.383905</td>\n",
       "      <td>-36.684723</td>\n",
       "      <td>64.250038</td>\n",
       "      <td>8</td>\n",
       "      <td>0</td>\n",
       "      <td>0</td>\n",
       "      <td>...</td>\n",
       "      <td>2.862</td>\n",
       "      <td>1</td>\n",
       "      <td>True</td>\n",
       "      <td>3942</td>\n",
       "      <td>792</td>\n",
       "      <td>711</td>\n",
       "      <td>True</td>\n",
       "      <td>True</td>\n",
       "      <td>False</td>\n",
       "      <td>False</td>\n",
       "    </tr>\n",
       "    <tr>\n",
       "      <th>63</th>\n",
       "      <td>24</td>\n",
       "      <td>2827386343</td>\n",
       "      <td>2827386343</td>\n",
       "      <td>-12.822882</td>\n",
       "      <td>17.374733</td>\n",
       "      <td>-36.682594</td>\n",
       "      <td>75.890457</td>\n",
       "      <td>8</td>\n",
       "      <td>0</td>\n",
       "      <td>0</td>\n",
       "      <td>...</td>\n",
       "      <td>2.862</td>\n",
       "      <td>1</td>\n",
       "      <td>True</td>\n",
       "      <td>4646</td>\n",
       "      <td>969</td>\n",
       "      <td>891</td>\n",
       "      <td>True</td>\n",
       "      <td>True</td>\n",
       "      <td>False</td>\n",
       "      <td>False</td>\n",
       "    </tr>\n",
       "    <tr>\n",
       "      <th>64</th>\n",
       "      <td>24</td>\n",
       "      <td>2827386343</td>\n",
       "      <td>2827386343</td>\n",
       "      <td>-12.833847</td>\n",
       "      <td>17.377735</td>\n",
       "      <td>-36.667599</td>\n",
       "      <td>60.865395</td>\n",
       "      <td>8</td>\n",
       "      <td>0</td>\n",
       "      <td>0</td>\n",
       "      <td>...</td>\n",
       "      <td>2.862</td>\n",
       "      <td>1</td>\n",
       "      <td>True</td>\n",
       "      <td>3903</td>\n",
       "      <td>655</td>\n",
       "      <td>696</td>\n",
       "      <td>True</td>\n",
       "      <td>True</td>\n",
       "      <td>False</td>\n",
       "      <td>False</td>\n",
       "    </tr>\n",
       "    <tr>\n",
       "      <th>65</th>\n",
       "      <td>24</td>\n",
       "      <td>2827386343</td>\n",
       "      <td>2827386343</td>\n",
       "      <td>-12.837183</td>\n",
       "      <td>17.390974</td>\n",
       "      <td>-36.659126</td>\n",
       "      <td>59.640846</td>\n",
       "      <td>8</td>\n",
       "      <td>0</td>\n",
       "      <td>0</td>\n",
       "      <td>...</td>\n",
       "      <td>2.862</td>\n",
       "      <td>1</td>\n",
       "      <td>True</td>\n",
       "      <td>3768</td>\n",
       "      <td>628</td>\n",
       "      <td>665</td>\n",
       "      <td>True</td>\n",
       "      <td>True</td>\n",
       "      <td>False</td>\n",
       "      <td>False</td>\n",
       "    </tr>\n",
       "    <tr>\n",
       "      <th>66</th>\n",
       "      <td>27</td>\n",
       "      <td>2827386343</td>\n",
       "      <td>2827386343</td>\n",
       "      <td>-36.483269</td>\n",
       "      <td>-21.714609</td>\n",
       "      <td>-9.259213</td>\n",
       "      <td>42.037697</td>\n",
       "      <td>8</td>\n",
       "      <td>0</td>\n",
       "      <td>0</td>\n",
       "      <td>...</td>\n",
       "      <td>2.862</td>\n",
       "      <td>1</td>\n",
       "      <td>True</td>\n",
       "      <td>2372</td>\n",
       "      <td>590</td>\n",
       "      <td>482</td>\n",
       "      <td>True</td>\n",
       "      <td>True</td>\n",
       "      <td>False</td>\n",
       "      <td>False</td>\n",
       "    </tr>\n",
       "    <tr>\n",
       "      <th>67</th>\n",
       "      <td>27</td>\n",
       "      <td>2827386343</td>\n",
       "      <td>2827386343</td>\n",
       "      <td>-36.388309</td>\n",
       "      <td>-21.533461</td>\n",
       "      <td>-9.131524</td>\n",
       "      <td>183.596298</td>\n",
       "      <td>12</td>\n",
       "      <td>127</td>\n",
       "      <td>127</td>\n",
       "      <td>...</td>\n",
       "      <td>2.862</td>\n",
       "      <td>1</td>\n",
       "      <td>True</td>\n",
       "      <td>10444</td>\n",
       "      <td>3265</td>\n",
       "      <td>2083</td>\n",
       "      <td>True</td>\n",
       "      <td>True</td>\n",
       "      <td>False</td>\n",
       "      <td>False</td>\n",
       "    </tr>\n",
       "    <tr>\n",
       "      <th>68</th>\n",
       "      <td>27</td>\n",
       "      <td>2827386343</td>\n",
       "      <td>2827386343</td>\n",
       "      <td>-36.287651</td>\n",
       "      <td>-21.658583</td>\n",
       "      <td>-9.301582</td>\n",
       "      <td>21.843777</td>\n",
       "      <td>8</td>\n",
       "      <td>0</td>\n",
       "      <td>0</td>\n",
       "      <td>...</td>\n",
       "      <td>2.862</td>\n",
       "      <td>1</td>\n",
       "      <td>True</td>\n",
       "      <td>1253</td>\n",
       "      <td>358</td>\n",
       "      <td>235</td>\n",
       "      <td>True</td>\n",
       "      <td>True</td>\n",
       "      <td>False</td>\n",
       "      <td>False</td>\n",
       "    </tr>\n",
       "    <tr>\n",
       "      <th>69</th>\n",
       "      <td>27</td>\n",
       "      <td>2827386343</td>\n",
       "      <td>2827386343</td>\n",
       "      <td>-36.293476</td>\n",
       "      <td>-21.664663</td>\n",
       "      <td>-9.303707</td>\n",
       "      <td>32.598518</td>\n",
       "      <td>8</td>\n",
       "      <td>0</td>\n",
       "      <td>0</td>\n",
       "      <td>...</td>\n",
       "      <td>2.862</td>\n",
       "      <td>1</td>\n",
       "      <td>True</td>\n",
       "      <td>1911</td>\n",
       "      <td>492</td>\n",
       "      <td>368</td>\n",
       "      <td>True</td>\n",
       "      <td>True</td>\n",
       "      <td>False</td>\n",
       "      <td>False</td>\n",
       "    </tr>\n",
       "  </tbody>\n",
       "</table>\n",
       "<p>10 rows × 25 columns</p>\n",
       "</div>"
      ],
      "text/plain": [
       "    e_field        time     endtime          x          y          z  \\\n",
       "60       24  2827386343  2827386343 -12.797632  17.414379 -36.664551   \n",
       "61       24  2827386343  2827386343 -12.796987  17.403460 -36.681953   \n",
       "62       24  2827386343  2827386343 -12.808017  17.383905 -36.684723   \n",
       "63       24  2827386343  2827386343 -12.822882  17.374733 -36.682594   \n",
       "64       24  2827386343  2827386343 -12.833847  17.377735 -36.667599   \n",
       "65       24  2827386343  2827386343 -12.837183  17.390974 -36.659126   \n",
       "66       27  2827386343  2827386343 -36.483269 -21.714609  -9.259213   \n",
       "67       27  2827386343  2827386343 -36.388309 -21.533461  -9.131524   \n",
       "68       27  2827386343  2827386343 -36.287651 -21.658583  -9.301582   \n",
       "69       27  2827386343  2827386343 -36.293476 -21.664663  -9.303707   \n",
       "\n",
       "            ed  nestid    A    Z  ...  xe_density  vol_id  create_S2  photons  \\\n",
       "60  119.665840       8    0    0  ...       2.862       1       True     6734   \n",
       "61   70.190887       8    0    0  ...       2.862       1       True     4360   \n",
       "62   64.250038       8    0    0  ...       2.862       1       True     3942   \n",
       "63   75.890457       8    0    0  ...       2.862       1       True     4646   \n",
       "64   60.865395       8    0    0  ...       2.862       1       True     3903   \n",
       "65   59.640846       8    0    0  ...       2.862       1       True     3768   \n",
       "66   42.037697       8    0    0  ...       2.862       1       True     2372   \n",
       "67  183.596298      12  127  127  ...       2.862       1       True    10444   \n",
       "68   21.843777       8    0    0  ...       2.862       1       True     1253   \n",
       "69   32.598518       8    0    0  ...       2.862       1       True     1911   \n",
       "\n",
       "    electrons  excitons  in_main_s1  in_main_s2  in_alt_s1  in_alt_s2  \n",
       "60       2189      1324        True        True      False      False  \n",
       "61        904       833        True        True      False      False  \n",
       "62        792       711        True        True      False      False  \n",
       "63        969       891        True        True      False      False  \n",
       "64        655       696        True        True      False      False  \n",
       "65        628       665        True        True      False      False  \n",
       "66        590       482        True        True      False      False  \n",
       "67       3265      2083        True        True      False      False  \n",
       "68        358       235        True        True      False      False  \n",
       "69        492       368        True        True      False      False  \n",
       "\n",
       "[10 rows x 25 columns]"
      ]
     },
     "execution_count": 25,
     "metadata": {},
     "output_type": "execute_result"
    }
   ],
   "source": [
    "ms_with_tagged_clusters.query(\"evtid == 1 & in_main_s2 == True\").head(10)"
   ]
  }
 ],
 "metadata": {
  "kernelspec": {
   "display_name": "Python 3 (ipykernel)",
   "language": "python",
   "name": "python3"
  },
  "language_info": {
   "codemirror_mode": {
    "name": "ipython",
    "version": 3
   },
   "file_extension": ".py",
   "mimetype": "text/x-python",
   "name": "python",
   "nbconvert_exporter": "python",
   "pygments_lexer": "ipython3",
   "version": "3.9.18"
  }
 },
 "nbformat": 4,
 "nbformat_minor": 2
}
