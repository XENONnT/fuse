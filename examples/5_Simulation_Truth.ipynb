{
 "cells": [
  {
   "cell_type": "markdown",
   "metadata": {},
   "source": [
    "# Simulation Truth\n",
    "\n",
    "This notebook will introduce you to the concept of simulation truth in fuse.\n",
    "\n"
   ]
  },
  {
   "cell_type": "markdown",
   "metadata": {},
   "source": [
    "## Imports and Simulation Context\n",
    "\n",
    "Similar to the previous notebooks, we will start by importing the necessary modules and creating a simulation context. Additional we register two new plugins called `PeakTruth` and `SurvivingClusters`."
   ]
  },
  {
   "cell_type": "code",
   "execution_count": 1,
   "metadata": {},
   "outputs": [
    {
     "name": "stderr",
     "output_type": "stream",
     "text": [
      "/home/hschulze/.local/lib/python3.9/site-packages/numba/core/decorators.py:262: NumbaDeprecationWarning: numba.generated_jit is deprecated. Please see the documentation at: https://numba.readthedocs.io/en/stable/reference/deprecation.html#deprecation-of-generated-jit for more information and advice on a suitable replacement.\n",
      "  warnings.warn(msg, NumbaDeprecationWarning)\n",
      "/home/hschulze/.local/lib/python3.9/site-packages/straxen/plugins/led_cal/led_calibration.py:232: NumbaDeprecationWarning: The 'nopython' keyword argument was not supplied to the 'numba.jit' decorator. The implicit default value for this argument is currently False, but it will be changed to True in Numba 0.59.0. See https://numba.readthedocs.io/en/stable/reference/deprecation.html#deprecation-of-object-mode-fall-back-behaviour-when-using-jit for details.\n",
      "  def calc_delta_time(ext_timings_nv_delta_time, pulses, hitlets_nv, nv_pmt_start, nv_pmt_stop):\n"
     ]
    }
   ],
   "source": [
    "import fuse\n",
    "import numpy as np"
   ]
  },
  {
   "cell_type": "code",
   "execution_count": 2,
   "metadata": {},
   "outputs": [
    {
     "name": "stdout",
     "output_type": "stream",
     "text": [
      "Warning! elife not in context config, skipping...\n",
      "Warning! electron_drift_velocity not in context config, skipping...\n",
      "Warning! electron_drift_time_gate not in context config, skipping...\n"
     ]
    }
   ],
   "source": [
    "st = fuse.context.full_chain_context(output_folder = \"./fuse_data\")\n",
    "\n",
    "st.register(fuse.plugins.truth_information.PeakTruth)\n",
    "st.register(fuse.plugins.truth_information.SurvivingClusters)\n",
    "\n",
    "st.set_config({\"path\": \"/project2/lgrandi/xenonnt/simulations/testing\",\n",
    "               \"file_name\": \"pmt_neutrons_100.root\",\n",
    "               \"entry_stop\": 10,\n",
    "               })\n",
    "\n",
    "run_number = \"00000\""
   ]
  },
  {
   "cell_type": "markdown",
   "metadata": {},
   "source": [
    "## Raw_Records and Contributing_Clusters\n",
    "\n",
    "First we will run the simulation up to `raw_records`. The `PMTResponseAndDAQ` plugin now has two outputs, `raw_records` and `contributing_channels`, both are saved to disk when we request fuse to produce `raw_records`."
   ]
  },
  {
   "cell_type": "code",
   "execution_count": 3,
   "metadata": {},
   "outputs": [
    {
     "name": "stderr",
     "output_type": "stream",
     "text": [
      "WARNING:strax:Option gain_model_nv not taken by any registered plugin\n",
      "WARNING:strax:Option gain_model_mv not taken by any registered plugin\n",
      "/home/hschulze/.local/lib/python3.9/site-packages/straxen/url_config.py:743: UserWarning: From straxen version 2.1.0 onward, URLConfig parameterswill be sorted alphabetically before being passed to the plugins, this will change the lineage hash for non-sorted URLs. To load data processed with non-sorted URLs, you will need to use an older version.\n",
      "  warnings.warn(\n",
      "WARNING:strax:Option gain_model_nv not taken by any registered plugin\n",
      "WARNING:strax:Option gain_model_mv not taken by any registered plugin\n"
     ]
    }
   ],
   "source": [
    "st.make(run_number, \"microphysics_summary\")\n",
    "st.make(run_number, \"raw_records\")"
   ]
  },
  {
   "cell_type": "markdown",
   "metadata": {},
   "source": [
    "Now that the data is produced, lets load it. Both are of the same `data_kind` so we can load them together."
   ]
  },
  {
   "cell_type": "code",
   "execution_count": 4,
   "metadata": {},
   "outputs": [
    {
     "name": "stderr",
     "output_type": "stream",
     "text": [
      "WARNING:strax:Option gain_model_nv not taken by any registered plugin\n",
      "WARNING:strax:Option gain_model_mv not taken by any registered plugin\n",
      "WARNING:strax:Option gain_model_nv not taken by any registered plugin\n",
      "WARNING:strax:Option gain_model_mv not taken by any registered plugin\n",
      "WARNING:strax:Option gain_model_nv not taken by any registered plugin\n",
      "WARNING:strax:Option gain_model_mv not taken by any registered plugin\n"
     ]
    },
    {
     "data": {
      "application/vnd.jupyter.widget-view+json": {
       "model_id": "c7784fe5db7c4d81811dc067956f0580",
       "version_major": 2,
       "version_minor": 0
      },
      "text/plain": [
       "Loading plugins: |          | 0.00 % [00:00<?]"
      ]
     },
     "metadata": {},
     "output_type": "display_data"
    }
   ],
   "source": [
    "raw_records = st.get_array(run_number, [\"raw_records\", \"contributing_clusters\"])"
   ]
  },
  {
   "cell_type": "markdown",
   "metadata": {},
   "source": [
    "`contributing_clusters` gives you five additional columns. These are:\n",
    "- `contributing_clusters` - A list of the clusters that contributed to the `raw_record`\n",
    "- `s1_photons_per_cluster` - The number of S1 photons that of the corresponding cluster in the `raw_record`\n",
    "- `s2_photons_per_cluster` - The number of S2 photons that of the corresponding cluster in the `raw_record`\n",
    "- `ap_photons_per_cluster` - The number of (virtual) PMT afterpulse 'photons'\n",
    "- `raw_area` - The sum of the contributing photon gains divided by the gain of the PMT\n",
    "\n",
    "Lets have a look what clusters contributed to the first record:"
   ]
  },
  {
   "cell_type": "code",
   "execution_count": 5,
   "metadata": {},
   "outputs": [
    {
     "name": "stdout",
     "output_type": "stream",
     "text": [
      "[1 0 0 0 0]\n"
     ]
    }
   ],
   "source": [
    "print(raw_records[0][\"contributing_clusters\"])"
   ]
  },
  {
   "cell_type": "markdown",
   "metadata": {},
   "source": [
    "You can see that we get a list of length 5. This is a compromise we need to make as we can't store a list of variable length in a strax. In this case we only store the information of the 5 first clusters that contributed to the record. If there are more than 5 clusters for one record, this information is lost. For simulations with a lot of clusters per event, it makes sense to increase the number of clusters that are stored per record. This can be done by changing the config option `max_contributing_channels_in_truth` of the `PMTResponseAndDAQ` plugin. Lets try this out:"
   ]
  },
  {
   "cell_type": "code",
   "execution_count": 6,
   "metadata": {},
   "outputs": [
    {
     "name": "stderr",
     "output_type": "stream",
     "text": [
      "WARNING:strax:Option gain_model_nv not taken by any registered plugin\n",
      "WARNING:strax:Option gain_model_mv not taken by any registered plugin\n"
     ]
    }
   ],
   "source": [
    "st.set_config({\"max_contributing_channels_in_truth\": 35,})\n",
    "st.make(run_number, \"raw_records\")"
   ]
  },
  {
   "cell_type": "code",
   "execution_count": 7,
   "metadata": {},
   "outputs": [
    {
     "name": "stderr",
     "output_type": "stream",
     "text": [
      "WARNING:strax:Option gain_model_nv not taken by any registered plugin\n",
      "WARNING:strax:Option gain_model_mv not taken by any registered plugin\n",
      "WARNING:strax:Option gain_model_nv not taken by any registered plugin\n",
      "WARNING:strax:Option gain_model_mv not taken by any registered plugin\n",
      "WARNING:strax:Option gain_model_nv not taken by any registered plugin\n",
      "WARNING:strax:Option gain_model_mv not taken by any registered plugin\n"
     ]
    },
    {
     "data": {
      "application/vnd.jupyter.widget-view+json": {
       "model_id": "a3ec426b27d747f998368d85c8275c40",
       "version_major": 2,
       "version_minor": 0
      },
      "text/plain": [
       "Loading plugins: |          | 0.00 % [00:00<?]"
      ]
     },
     "metadata": {},
     "output_type": "display_data"
    }
   ],
   "source": [
    "raw_records = st.get_array(run_number, [\"raw_records\", \"contributing_clusters\"])"
   ]
  },
  {
   "cell_type": "code",
   "execution_count": 8,
   "metadata": {},
   "outputs": [
    {
     "name": "stdout",
     "output_type": "stream",
     "text": [
      "[  3   4   7   8  16  17  18  19  21  30  31  32  38  45  47  51  53  56\n",
      "  58  61  62  63  64  69  74  79  80  86  87  95  97  98 104 106 112]\n"
     ]
    }
   ],
   "source": [
    "index = np.argmax(np.sum(raw_records[\"contributing_clusters\"]>0, axis = 1))\n",
    "\n",
    "print(raw_records[index][\"contributing_clusters\"])"
   ]
  },
  {
   "cell_type": "markdown",
   "metadata": {},
   "source": [
    "Now the list is 35 elements long, just as we requested. Depending on the source this might still be not enough. We can now have a look with how many photons each of these clusters contributed to the record:"
   ]
  },
  {
   "cell_type": "code",
   "execution_count": 9,
   "metadata": {},
   "outputs": [
    {
     "name": "stdout",
     "output_type": "stream",
     "text": [
      "S1 photons: [1 1 1 1 1 1 3 4 3 1 1 1 1 1 2 2 4 1 1 1 1 1 1 1 1 1 3 1 1 2 1 1 2 1 1]\n",
      "S2 photons: [0 0 0 0 0 0 0 0 0 0 0 0 0 0 0 0 0 0 0 0 0 0 0 0 0 0 0 0 0 0 0 0 0 0 0]\n",
      "AP photons: [0 0 0 0 0 0 0 0 0 0 0 0 0 0 0 0 0 0 0 0 0 0 0 0 0 0 0 0 0 0 0 0 0 0 0]\n"
     ]
    }
   ],
   "source": [
    "print(\"S1 photons:\", raw_records[index][\"s1_photons_per_cluster\"])\n",
    "print(\"S2 photons:\", raw_records[index][\"s2_photons_per_cluster\"])\n",
    "print(\"AP photons:\", raw_records[index][\"ap_photons_per_cluster\"])"
   ]
  },
  {
   "cell_type": "markdown",
   "metadata": {},
   "source": [
    "We can have a look at the clusters that contributed to the record. `microphysics_summary` contains the column `cluster_id`. This is the same number as stored in `contributing_clusters`. Please note that `cluster_id` is only unique per chunk of data."
   ]
  },
  {
   "cell_type": "code",
   "execution_count": 10,
   "metadata": {},
   "outputs": [
    {
     "name": "stderr",
     "output_type": "stream",
     "text": [
      "WARNING:strax:Option gain_model_nv not taken by any registered plugin\n",
      "WARNING:strax:Option gain_model_mv not taken by any registered plugin\n",
      "WARNING:strax:Option gain_model_nv not taken by any registered plugin\n",
      "WARNING:strax:Option gain_model_mv not taken by any registered plugin\n"
     ]
    },
    {
     "data": {
      "application/vnd.jupyter.widget-view+json": {
       "model_id": "0e351467c43c45d08bd8b476b2a931e2",
       "version_major": 2,
       "version_minor": 0
      },
      "text/plain": [
       "Loading microphysics_summary: |          | 0.00 % [00:00<?]"
      ]
     },
     "metadata": {},
     "output_type": "display_data"
    }
   ],
   "source": [
    "microphysics_summary = st.get_df(run_number, \"microphysics_summary\")"
   ]
  },
  {
   "cell_type": "code",
   "execution_count": 11,
   "metadata": {},
   "outputs": [
    {
     "data": {
      "text/html": [
       "<div>\n",
       "<style scoped>\n",
       "    .dataframe tbody tr th:only-of-type {\n",
       "        vertical-align: middle;\n",
       "    }\n",
       "\n",
       "    .dataframe tbody tr th {\n",
       "        vertical-align: top;\n",
       "    }\n",
       "\n",
       "    .dataframe thead th {\n",
       "        text-align: right;\n",
       "    }\n",
       "</style>\n",
       "<table border=\"1\" class=\"dataframe\">\n",
       "  <thead>\n",
       "    <tr style=\"text-align: right;\">\n",
       "      <th></th>\n",
       "      <th>e_field</th>\n",
       "      <th>time</th>\n",
       "      <th>endtime</th>\n",
       "      <th>x</th>\n",
       "      <th>y</th>\n",
       "      <th>z</th>\n",
       "      <th>ed</th>\n",
       "      <th>nestid</th>\n",
       "      <th>A</th>\n",
       "      <th>Z</th>\n",
       "      <th>...</th>\n",
       "      <th>x_pri</th>\n",
       "      <th>y_pri</th>\n",
       "      <th>z_pri</th>\n",
       "      <th>cluster_id</th>\n",
       "      <th>xe_density</th>\n",
       "      <th>vol_id</th>\n",
       "      <th>create_S2</th>\n",
       "      <th>photons</th>\n",
       "      <th>electrons</th>\n",
       "      <th>excitons</th>\n",
       "    </tr>\n",
       "  </thead>\n",
       "  <tbody>\n",
       "    <tr>\n",
       "      <th>6</th>\n",
       "      <td>28</td>\n",
       "      <td>2827386343</td>\n",
       "      <td>2827386343</td>\n",
       "      <td>-38.823586</td>\n",
       "      <td>-18.264086</td>\n",
       "      <td>-6.666750</td>\n",
       "      <td>35.142311</td>\n",
       "      <td>8</td>\n",
       "      <td>0</td>\n",
       "      <td>0</td>\n",
       "      <td>...</td>\n",
       "      <td>-44.154747</td>\n",
       "      <td>2.803934</td>\n",
       "      <td>7.933488</td>\n",
       "      <td>3</td>\n",
       "      <td>2.862</td>\n",
       "      <td>1</td>\n",
       "      <td>True</td>\n",
       "      <td>2275</td>\n",
       "      <td>385</td>\n",
       "      <td>405</td>\n",
       "    </tr>\n",
       "    <tr>\n",
       "      <th>7</th>\n",
       "      <td>28</td>\n",
       "      <td>2827386343</td>\n",
       "      <td>2827386343</td>\n",
       "      <td>-38.822685</td>\n",
       "      <td>-18.261517</td>\n",
       "      <td>-6.661916</td>\n",
       "      <td>73.418549</td>\n",
       "      <td>8</td>\n",
       "      <td>0</td>\n",
       "      <td>0</td>\n",
       "      <td>...</td>\n",
       "      <td>-44.154747</td>\n",
       "      <td>2.803934</td>\n",
       "      <td>7.933488</td>\n",
       "      <td>4</td>\n",
       "      <td>2.862</td>\n",
       "      <td>1</td>\n",
       "      <td>True</td>\n",
       "      <td>4412</td>\n",
       "      <td>992</td>\n",
       "      <td>813</td>\n",
       "    </tr>\n",
       "    <tr>\n",
       "      <th>10</th>\n",
       "      <td>28</td>\n",
       "      <td>2827386343</td>\n",
       "      <td>2827386343</td>\n",
       "      <td>-38.826496</td>\n",
       "      <td>-18.252813</td>\n",
       "      <td>-6.656171</td>\n",
       "      <td>16.106411</td>\n",
       "      <td>8</td>\n",
       "      <td>0</td>\n",
       "      <td>0</td>\n",
       "      <td>...</td>\n",
       "      <td>-44.154747</td>\n",
       "      <td>2.803934</td>\n",
       "      <td>7.933488</td>\n",
       "      <td>7</td>\n",
       "      <td>2.862</td>\n",
       "      <td>1</td>\n",
       "      <td>True</td>\n",
       "      <td>837</td>\n",
       "      <td>328</td>\n",
       "      <td>138</td>\n",
       "    </tr>\n",
       "    <tr>\n",
       "      <th>11</th>\n",
       "      <td>28</td>\n",
       "      <td>2827386343</td>\n",
       "      <td>2827386343</td>\n",
       "      <td>-38.827171</td>\n",
       "      <td>-18.249474</td>\n",
       "      <td>-6.656644</td>\n",
       "      <td>8.190919</td>\n",
       "      <td>8</td>\n",
       "      <td>0</td>\n",
       "      <td>0</td>\n",
       "      <td>...</td>\n",
       "      <td>-44.154747</td>\n",
       "      <td>2.803934</td>\n",
       "      <td>7.933488</td>\n",
       "      <td>8</td>\n",
       "      <td>2.862</td>\n",
       "      <td>1</td>\n",
       "      <td>True</td>\n",
       "      <td>415</td>\n",
       "      <td>181</td>\n",
       "      <td>48</td>\n",
       "    </tr>\n",
       "    <tr>\n",
       "      <th>18</th>\n",
       "      <td>24</td>\n",
       "      <td>2827386343</td>\n",
       "      <td>2827386343</td>\n",
       "      <td>-12.585729</td>\n",
       "      <td>17.032082</td>\n",
       "      <td>-36.443317</td>\n",
       "      <td>257.285248</td>\n",
       "      <td>8</td>\n",
       "      <td>0</td>\n",
       "      <td>0</td>\n",
       "      <td>...</td>\n",
       "      <td>-44.154747</td>\n",
       "      <td>2.803934</td>\n",
       "      <td>7.933488</td>\n",
       "      <td>16</td>\n",
       "      <td>2.862</td>\n",
       "      <td>1</td>\n",
       "      <td>True</td>\n",
       "      <td>12707</td>\n",
       "      <td>6230</td>\n",
       "      <td>2826</td>\n",
       "    </tr>\n",
       "  </tbody>\n",
       "</table>\n",
       "<p>5 rows × 21 columns</p>\n",
       "</div>"
      ],
      "text/plain": [
       "    e_field        time     endtime          x          y          z  \\\n",
       "6        28  2827386343  2827386343 -38.823586 -18.264086  -6.666750   \n",
       "7        28  2827386343  2827386343 -38.822685 -18.261517  -6.661916   \n",
       "10       28  2827386343  2827386343 -38.826496 -18.252813  -6.656171   \n",
       "11       28  2827386343  2827386343 -38.827171 -18.249474  -6.656644   \n",
       "18       24  2827386343  2827386343 -12.585729  17.032082 -36.443317   \n",
       "\n",
       "            ed  nestid  A  Z  ...      x_pri     y_pri     z_pri  cluster_id  \\\n",
       "6    35.142311       8  0  0  ... -44.154747  2.803934  7.933488           3   \n",
       "7    73.418549       8  0  0  ... -44.154747  2.803934  7.933488           4   \n",
       "10   16.106411       8  0  0  ... -44.154747  2.803934  7.933488           7   \n",
       "11    8.190919       8  0  0  ... -44.154747  2.803934  7.933488           8   \n",
       "18  257.285248       8  0  0  ... -44.154747  2.803934  7.933488          16   \n",
       "\n",
       "    xe_density  vol_id  create_S2  photons  electrons  excitons  \n",
       "6        2.862       1       True     2275        385       405  \n",
       "7        2.862       1       True     4412        992       813  \n",
       "10       2.862       1       True      837        328       138  \n",
       "11       2.862       1       True      415        181        48  \n",
       "18       2.862       1       True    12707       6230      2826  \n",
       "\n",
       "[5 rows x 21 columns]"
      ]
     },
     "execution_count": 11,
     "metadata": {},
     "output_type": "execute_result"
    }
   ],
   "source": [
    "microphysics_summary[np.isin(microphysics_summary.cluster_id.values, raw_records[index][\"contributing_clusters\"])].head()"
   ]
  },
  {
   "cell_type": "markdown",
   "metadata": {},
   "source": [
    "## Peaks and peak_truth\n",
    "\n",
    "Next we can process the simulation result to `peak_basics`. Strax(en) will merge multiple records into a peak. The PeakTruth plugin will evaluate which `raw_records` contribute to a peak and calculate a truth output for each peak. The provided columns for each peak are:\n",
    "- `s1_photon_number_truth` - The number of S1 photons that contributed to the peak\n",
    "- `s2_photon_number_truth` - The number of S2 photons that contributed to the peak\n",
    "- `ap_photon_number_truth` - The number of (virtual) PMT afterpulse 'photons' that contributed to the peak\n",
    "- `raw_area_truth` - The sum of all contributing photon gains divided by the gains of the PMTs\n",
    "- `observable_energy_truth` - Estimate of the energy that is associated with the peak\n",
    "- `number_of_contributing_clusters` - Number of clusters that contributed to the peak\n",
    "- `average_x_of_contributing_clusters` - Weighted average of the x position of the clusters that contributed to the peak\n",
    "- `average_y_of_contributing_clusters` - Weighted average of the y position of the clusters that contributed to the peak\n",
    "- `average_z_of_contributing_clusters` - Weighted average of the z position of the clusters that contributed to the peak\n"
   ]
  },
  {
   "cell_type": "code",
   "execution_count": 12,
   "metadata": {},
   "outputs": [
    {
     "name": "stderr",
     "output_type": "stream",
     "text": [
      "WARNING:strax:Option gain_model_nv not taken by any registered plugin\n",
      "WARNING:strax:Option gain_model_mv not taken by any registered plugin\n",
      "WARNING:strax:Option gain_model_nv not taken by any registered plugin\n",
      "WARNING:strax:Option gain_model_mv not taken by any registered plugin\n",
      "WARNING:strax:Option gain_model_nv not taken by any registered plugin\n",
      "WARNING:strax:Option gain_model_mv not taken by any registered plugin\n",
      "WARNING:strax:Option gain_model_nv not taken by any registered plugin\n",
      "WARNING:strax:Option gain_model_mv not taken by any registered plugin\n"
     ]
    }
   ],
   "source": [
    "st.make(run_number, \"peak_truth\")\n",
    "st.make(run_number, \"peak_positions\")"
   ]
  },
  {
   "cell_type": "markdown",
   "metadata": {},
   "source": [
    "As strax(en) will take care of the matching of our truth information to the individual peaks, we can simply load the `peak_basics` and `peak_truth` data together."
   ]
  },
  {
   "cell_type": "code",
   "execution_count": 13,
   "metadata": {},
   "outputs": [
    {
     "name": "stderr",
     "output_type": "stream",
     "text": [
      "WARNING:strax:Option gain_model_nv not taken by any registered plugin\n",
      "WARNING:strax:Option gain_model_mv not taken by any registered plugin\n",
      "WARNING:strax:Option gain_model_nv not taken by any registered plugin\n",
      "WARNING:strax:Option gain_model_mv not taken by any registered plugin\n",
      "WARNING:strax:Option gain_model_nv not taken by any registered plugin\n",
      "WARNING:strax:Option gain_model_mv not taken by any registered plugin\n"
     ]
    },
    {
     "data": {
      "application/vnd.jupyter.widget-view+json": {
       "model_id": "ecfca27d59154e4bb049282a96da7502",
       "version_major": 2,
       "version_minor": 0
      },
      "text/plain": [
       "Loading plugins: |          | 0.00 % [00:00<?]"
      ]
     },
     "metadata": {},
     "output_type": "display_data"
    }
   ],
   "source": [
    "peak_basics = st.get_df(run_number, [\"peak_basics\", \"peak_truth\", \"peak_positions\"])"
   ]
  },
  {
   "cell_type": "markdown",
   "metadata": {},
   "source": [
    "For a peak area bias study we could now compare the raw_area to the peak area:"
   ]
  },
  {
   "cell_type": "code",
   "execution_count": 14,
   "metadata": {},
   "outputs": [
    {
     "data": {
      "text/html": [
       "<div>\n",
       "<style scoped>\n",
       "    .dataframe tbody tr th:only-of-type {\n",
       "        vertical-align: middle;\n",
       "    }\n",
       "\n",
       "    .dataframe tbody tr th {\n",
       "        vertical-align: top;\n",
       "    }\n",
       "\n",
       "    .dataframe thead th {\n",
       "        text-align: right;\n",
       "    }\n",
       "</style>\n",
       "<table border=\"1\" class=\"dataframe\">\n",
       "  <thead>\n",
       "    <tr style=\"text-align: right;\">\n",
       "      <th></th>\n",
       "      <th>area</th>\n",
       "      <th>raw_area_truth</th>\n",
       "    </tr>\n",
       "  </thead>\n",
       "  <tbody>\n",
       "    <tr>\n",
       "      <th>0</th>\n",
       "      <td>3.653952</td>\n",
       "      <td>3.689999</td>\n",
       "    </tr>\n",
       "    <tr>\n",
       "      <th>1</th>\n",
       "      <td>959.812744</td>\n",
       "      <td>964.619812</td>\n",
       "    </tr>\n",
       "    <tr>\n",
       "      <th>2</th>\n",
       "      <td>61777.117188</td>\n",
       "      <td>61782.406250</td>\n",
       "    </tr>\n",
       "    <tr>\n",
       "      <th>3</th>\n",
       "      <td>855.671936</td>\n",
       "      <td>860.039856</td>\n",
       "    </tr>\n",
       "    <tr>\n",
       "      <th>4</th>\n",
       "      <td>306587.468750</td>\n",
       "      <td>294382.250000</td>\n",
       "    </tr>\n",
       "  </tbody>\n",
       "</table>\n",
       "</div>"
      ],
      "text/plain": [
       "            area  raw_area_truth\n",
       "0       3.653952        3.689999\n",
       "1     959.812744      964.619812\n",
       "2   61777.117188    61782.406250\n",
       "3     855.671936      860.039856\n",
       "4  306587.468750   294382.250000"
      ]
     },
     "execution_count": 14,
     "metadata": {},
     "output_type": "execute_result"
    }
   ],
   "source": [
    "peak_basics[[\"area\", \"raw_area_truth\"]].head()"
   ]
  },
  {
   "cell_type": "markdown",
   "metadata": {},
   "source": [
    "We might also be interested in the peak classification: "
   ]
  },
  {
   "cell_type": "code",
   "execution_count": 15,
   "metadata": {},
   "outputs": [
    {
     "data": {
      "text/html": [
       "<div>\n",
       "<style scoped>\n",
       "    .dataframe tbody tr th:only-of-type {\n",
       "        vertical-align: middle;\n",
       "    }\n",
       "\n",
       "    .dataframe tbody tr th {\n",
       "        vertical-align: top;\n",
       "    }\n",
       "\n",
       "    .dataframe thead th {\n",
       "        text-align: right;\n",
       "    }\n",
       "</style>\n",
       "<table border=\"1\" class=\"dataframe\">\n",
       "  <thead>\n",
       "    <tr style=\"text-align: right;\">\n",
       "      <th></th>\n",
       "      <th>type</th>\n",
       "      <th>s1_photon_number_truth</th>\n",
       "      <th>s2_photon_number_truth</th>\n",
       "      <th>ap_photon_number_truth</th>\n",
       "    </tr>\n",
       "  </thead>\n",
       "  <tbody>\n",
       "    <tr>\n",
       "      <th>0</th>\n",
       "      <td>1</td>\n",
       "      <td>3</td>\n",
       "      <td>0</td>\n",
       "      <td>0</td>\n",
       "    </tr>\n",
       "    <tr>\n",
       "      <th>1</th>\n",
       "      <td>2</td>\n",
       "      <td>0</td>\n",
       "      <td>785</td>\n",
       "      <td>0</td>\n",
       "    </tr>\n",
       "    <tr>\n",
       "      <th>2</th>\n",
       "      <td>1</td>\n",
       "      <td>29885</td>\n",
       "      <td>0</td>\n",
       "      <td>55</td>\n",
       "    </tr>\n",
       "    <tr>\n",
       "      <th>3</th>\n",
       "      <td>2</td>\n",
       "      <td>0</td>\n",
       "      <td>678</td>\n",
       "      <td>1</td>\n",
       "    </tr>\n",
       "    <tr>\n",
       "      <th>4</th>\n",
       "      <td>2</td>\n",
       "      <td>0</td>\n",
       "      <td>232998</td>\n",
       "      <td>247</td>\n",
       "    </tr>\n",
       "  </tbody>\n",
       "</table>\n",
       "</div>"
      ],
      "text/plain": [
       "   type  s1_photon_number_truth  s2_photon_number_truth  \\\n",
       "0     1                       3                       0   \n",
       "1     2                       0                     785   \n",
       "2     1                   29885                       0   \n",
       "3     2                       0                     678   \n",
       "4     2                       0                  232998   \n",
       "\n",
       "   ap_photon_number_truth  \n",
       "0                       0  \n",
       "1                       0  \n",
       "2                      55  \n",
       "3                       1  \n",
       "4                     247  "
      ]
     },
     "execution_count": 15,
     "metadata": {},
     "output_type": "execute_result"
    }
   ],
   "source": [
    "peak_basics[[\"type\", \"s1_photon_number_truth\", \"s2_photon_number_truth\", \"ap_photon_number_truth\"]].head()"
   ]
  },
  {
   "cell_type": "markdown",
   "metadata": {},
   "source": [
    "Or you might want to check how our position reconstruction is doing: "
   ]
  },
  {
   "cell_type": "code",
   "execution_count": 16,
   "metadata": {},
   "outputs": [
    {
     "data": {
      "text/html": [
       "<div>\n",
       "<style scoped>\n",
       "    .dataframe tbody tr th:only-of-type {\n",
       "        vertical-align: middle;\n",
       "    }\n",
       "\n",
       "    .dataframe tbody tr th {\n",
       "        vertical-align: top;\n",
       "    }\n",
       "\n",
       "    .dataframe thead th {\n",
       "        text-align: right;\n",
       "    }\n",
       "</style>\n",
       "<table border=\"1\" class=\"dataframe\">\n",
       "  <thead>\n",
       "    <tr style=\"text-align: right;\">\n",
       "      <th></th>\n",
       "      <th>type</th>\n",
       "      <th>x</th>\n",
       "      <th>y</th>\n",
       "      <th>average_x_of_contributing_clusters</th>\n",
       "      <th>average_y_of_contributing_clusters</th>\n",
       "      <th>average_z_of_contributing_clusters</th>\n",
       "    </tr>\n",
       "  </thead>\n",
       "  <tbody>\n",
       "    <tr>\n",
       "      <th>0</th>\n",
       "      <td>1</td>\n",
       "      <td>NaN</td>\n",
       "      <td>NaN</td>\n",
       "      <td>-20.890713</td>\n",
       "      <td>-51.367107</td>\n",
       "      <td>-1.464800</td>\n",
       "    </tr>\n",
       "    <tr>\n",
       "      <th>1</th>\n",
       "      <td>2</td>\n",
       "      <td>-20.734354</td>\n",
       "      <td>-51.598339</td>\n",
       "      <td>-20.890713</td>\n",
       "      <td>-51.367107</td>\n",
       "      <td>-1.464800</td>\n",
       "    </tr>\n",
       "    <tr>\n",
       "      <th>2</th>\n",
       "      <td>1</td>\n",
       "      <td>-59.119907</td>\n",
       "      <td>5.821635</td>\n",
       "      <td>-19.649834</td>\n",
       "      <td>6.006746</td>\n",
       "      <td>-28.128731</td>\n",
       "    </tr>\n",
       "    <tr>\n",
       "      <th>3</th>\n",
       "      <td>2</td>\n",
       "      <td>-37.885193</td>\n",
       "      <td>-18.474636</td>\n",
       "      <td>-38.867641</td>\n",
       "      <td>-18.246555</td>\n",
       "      <td>-6.679745</td>\n",
       "    </tr>\n",
       "    <tr>\n",
       "      <th>4</th>\n",
       "      <td>2</td>\n",
       "      <td>-37.515583</td>\n",
       "      <td>-19.312231</td>\n",
       "      <td>-35.237564</td>\n",
       "      <td>-15.965981</td>\n",
       "      <td>-10.668817</td>\n",
       "    </tr>\n",
       "  </tbody>\n",
       "</table>\n",
       "</div>"
      ],
      "text/plain": [
       "   type          x          y  average_x_of_contributing_clusters  \\\n",
       "0     1        NaN        NaN                          -20.890713   \n",
       "1     2 -20.734354 -51.598339                          -20.890713   \n",
       "2     1 -59.119907   5.821635                          -19.649834   \n",
       "3     2 -37.885193 -18.474636                          -38.867641   \n",
       "4     2 -37.515583 -19.312231                          -35.237564   \n",
       "\n",
       "   average_y_of_contributing_clusters  average_z_of_contributing_clusters  \n",
       "0                          -51.367107                           -1.464800  \n",
       "1                          -51.367107                           -1.464800  \n",
       "2                            6.006746                          -28.128731  \n",
       "3                          -18.246555                           -6.679745  \n",
       "4                          -15.965981                          -10.668817  "
      ]
     },
     "execution_count": 16,
     "metadata": {},
     "output_type": "execute_result"
    }
   ],
   "source": [
    "peak_basics[[\"type\",\"x\",\"y\", \"average_x_of_contributing_clusters\", \"average_y_of_contributing_clusters\", \"average_z_of_contributing_clusters\"]].head()"
   ]
  },
  {
   "cell_type": "markdown",
   "metadata": {},
   "source": [
    "## Surviving Clusters\n",
    "Finally we can evaluate if an energy deposit makes it into a record or a peak. This is done by the `SurvivingClusters` plugin. It will provide the following columns:\n",
    "- `in_a_record` - Boolean if the cluster is in a record\n",
    "- `in_a_peak` - Boolean if the cluster is in a peak"
   ]
  },
  {
   "cell_type": "code",
   "execution_count": 21,
   "metadata": {},
   "outputs": [
    {
     "name": "stderr",
     "output_type": "stream",
     "text": [
      "WARNING:strax:Option gain_model_nv not taken by any registered plugin\n",
      "WARNING:strax:Option gain_model_mv not taken by any registered plugin\n",
      "WARNING:strax:Option gain_model_nv not taken by any registered plugin\n",
      "WARNING:strax:Option gain_model_mv not taken by any registered plugin\n",
      "WARNING:strax:Option gain_model_nv not taken by any registered plugin\n",
      "WARNING:strax:Option gain_model_mv not taken by any registered plugin\n"
     ]
    },
    {
     "data": {
      "application/vnd.jupyter.widget-view+json": {
       "model_id": "a95d488c70ba4c79874a8502e44bc773",
       "version_major": 2,
       "version_minor": 0
      },
      "text/plain": [
       "Loading plugins: |          | 0.00 % [00:00<?]"
      ]
     },
     "metadata": {},
     "output_type": "display_data"
    }
   ],
   "source": [
    "st.make(run_number, \"surviving_clusters\")\n",
    "microphysics_summary = st.get_df(run_number, [\"microphysics_summary\", \"surviving_clusters\"])"
   ]
  },
  {
   "cell_type": "markdown",
   "metadata": {},
   "source": [
    "Now that we have the data loaded we could have a look at clusters that did not make it into a peak: "
   ]
  },
  {
   "cell_type": "code",
   "execution_count": 23,
   "metadata": {},
   "outputs": [
    {
     "data": {
      "text/html": [
       "<div>\n",
       "<style scoped>\n",
       "    .dataframe tbody tr th:only-of-type {\n",
       "        vertical-align: middle;\n",
       "    }\n",
       "\n",
       "    .dataframe tbody tr th {\n",
       "        vertical-align: top;\n",
       "    }\n",
       "\n",
       "    .dataframe thead th {\n",
       "        text-align: right;\n",
       "    }\n",
       "</style>\n",
       "<table border=\"1\" class=\"dataframe\">\n",
       "  <thead>\n",
       "    <tr style=\"text-align: right;\">\n",
       "      <th></th>\n",
       "      <th>e_field</th>\n",
       "      <th>time</th>\n",
       "      <th>endtime</th>\n",
       "      <th>x</th>\n",
       "      <th>y</th>\n",
       "      <th>z</th>\n",
       "      <th>ed</th>\n",
       "      <th>nestid</th>\n",
       "      <th>A</th>\n",
       "      <th>Z</th>\n",
       "      <th>...</th>\n",
       "      <th>z_pri</th>\n",
       "      <th>cluster_id</th>\n",
       "      <th>xe_density</th>\n",
       "      <th>vol_id</th>\n",
       "      <th>create_S2</th>\n",
       "      <th>photons</th>\n",
       "      <th>electrons</th>\n",
       "      <th>excitons</th>\n",
       "      <th>in_a_record</th>\n",
       "      <th>in_a_peak</th>\n",
       "    </tr>\n",
       "  </thead>\n",
       "  <tbody>\n",
       "    <tr>\n",
       "      <th>170</th>\n",
       "      <td>27</td>\n",
       "      <td>2827386497</td>\n",
       "      <td>2827386497</td>\n",
       "      <td>32.959923</td>\n",
       "      <td>14.185023</td>\n",
       "      <td>-9.616013</td>\n",
       "      <td>0.096808</td>\n",
       "      <td>0</td>\n",
       "      <td>0</td>\n",
       "      <td>0</td>\n",
       "      <td>...</td>\n",
       "      <td>7.933488</td>\n",
       "      <td>171</td>\n",
       "      <td>2.862</td>\n",
       "      <td>1</td>\n",
       "      <td>True</td>\n",
       "      <td>0</td>\n",
       "      <td>0</td>\n",
       "      <td>0</td>\n",
       "      <td>False</td>\n",
       "      <td>False</td>\n",
       "    </tr>\n",
       "    <tr>\n",
       "      <th>203</th>\n",
       "      <td>26</td>\n",
       "      <td>2827386535</td>\n",
       "      <td>2827386535</td>\n",
       "      <td>27.667393</td>\n",
       "      <td>10.273334</td>\n",
       "      <td>-12.147082</td>\n",
       "      <td>0.044494</td>\n",
       "      <td>0</td>\n",
       "      <td>0</td>\n",
       "      <td>0</td>\n",
       "      <td>...</td>\n",
       "      <td>7.933488</td>\n",
       "      <td>204</td>\n",
       "      <td>2.862</td>\n",
       "      <td>1</td>\n",
       "      <td>True</td>\n",
       "      <td>0</td>\n",
       "      <td>0</td>\n",
       "      <td>0</td>\n",
       "      <td>False</td>\n",
       "      <td>False</td>\n",
       "    </tr>\n",
       "    <tr>\n",
       "      <th>205</th>\n",
       "      <td>25</td>\n",
       "      <td>2827386710</td>\n",
       "      <td>2827386710</td>\n",
       "      <td>9.488111</td>\n",
       "      <td>6.251637</td>\n",
       "      <td>-11.284761</td>\n",
       "      <td>0.141653</td>\n",
       "      <td>0</td>\n",
       "      <td>0</td>\n",
       "      <td>0</td>\n",
       "      <td>...</td>\n",
       "      <td>7.933488</td>\n",
       "      <td>206</td>\n",
       "      <td>2.862</td>\n",
       "      <td>1</td>\n",
       "      <td>True</td>\n",
       "      <td>0</td>\n",
       "      <td>0</td>\n",
       "      <td>0</td>\n",
       "      <td>False</td>\n",
       "      <td>False</td>\n",
       "    </tr>\n",
       "    <tr>\n",
       "      <th>208</th>\n",
       "      <td>24</td>\n",
       "      <td>2827386851</td>\n",
       "      <td>2827386851</td>\n",
       "      <td>16.457802</td>\n",
       "      <td>8.368632</td>\n",
       "      <td>-30.002600</td>\n",
       "      <td>0.085379</td>\n",
       "      <td>0</td>\n",
       "      <td>0</td>\n",
       "      <td>0</td>\n",
       "      <td>...</td>\n",
       "      <td>7.933488</td>\n",
       "      <td>209</td>\n",
       "      <td>2.862</td>\n",
       "      <td>1</td>\n",
       "      <td>True</td>\n",
       "      <td>0</td>\n",
       "      <td>0</td>\n",
       "      <td>0</td>\n",
       "      <td>False</td>\n",
       "      <td>False</td>\n",
       "    </tr>\n",
       "    <tr>\n",
       "      <th>209</th>\n",
       "      <td>24</td>\n",
       "      <td>2827386893</td>\n",
       "      <td>2827386893</td>\n",
       "      <td>16.093048</td>\n",
       "      <td>14.685450</td>\n",
       "      <td>-34.862846</td>\n",
       "      <td>0.057414</td>\n",
       "      <td>0</td>\n",
       "      <td>0</td>\n",
       "      <td>0</td>\n",
       "      <td>...</td>\n",
       "      <td>7.933488</td>\n",
       "      <td>210</td>\n",
       "      <td>2.862</td>\n",
       "      <td>1</td>\n",
       "      <td>True</td>\n",
       "      <td>0</td>\n",
       "      <td>0</td>\n",
       "      <td>0</td>\n",
       "      <td>False</td>\n",
       "      <td>False</td>\n",
       "    </tr>\n",
       "  </tbody>\n",
       "</table>\n",
       "<p>5 rows × 23 columns</p>\n",
       "</div>"
      ],
      "text/plain": [
       "     e_field        time     endtime          x          y          z  \\\n",
       "170       27  2827386497  2827386497  32.959923  14.185023  -9.616013   \n",
       "203       26  2827386535  2827386535  27.667393  10.273334 -12.147082   \n",
       "205       25  2827386710  2827386710   9.488111   6.251637 -11.284761   \n",
       "208       24  2827386851  2827386851  16.457802   8.368632 -30.002600   \n",
       "209       24  2827386893  2827386893  16.093048  14.685450 -34.862846   \n",
       "\n",
       "           ed  nestid  A  Z  ...     z_pri  cluster_id  xe_density  vol_id  \\\n",
       "170  0.096808       0  0  0  ...  7.933488         171       2.862       1   \n",
       "203  0.044494       0  0  0  ...  7.933488         204       2.862       1   \n",
       "205  0.141653       0  0  0  ...  7.933488         206       2.862       1   \n",
       "208  0.085379       0  0  0  ...  7.933488         209       2.862       1   \n",
       "209  0.057414       0  0  0  ...  7.933488         210       2.862       1   \n",
       "\n",
       "     create_S2  photons  electrons  excitons  in_a_record  in_a_peak  \n",
       "170       True        0          0         0        False      False  \n",
       "203       True        0          0         0        False      False  \n",
       "205       True        0          0         0        False      False  \n",
       "208       True        0          0         0        False      False  \n",
       "209       True        0          0         0        False      False  \n",
       "\n",
       "[5 rows x 23 columns]"
      ]
     },
     "execution_count": 23,
     "metadata": {},
     "output_type": "execute_result"
    }
   ],
   "source": [
    "microphysics_summary.query(\"in_a_peak == False\").head()"
   ]
  }
 ],
 "metadata": {
  "kernelspec": {
   "display_name": "Python 3 (ipykernel)",
   "language": "python",
   "name": "python3"
  },
  "language_info": {
   "codemirror_mode": {
    "name": "ipython",
    "version": 3
   },
   "file_extension": ".py",
   "mimetype": "text/x-python",
   "name": "python",
   "nbconvert_exporter": "python",
   "pygments_lexer": "ipython3",
   "version": "3.9.18"
  }
 },
 "nbformat": 4,
 "nbformat_minor": 2
}
