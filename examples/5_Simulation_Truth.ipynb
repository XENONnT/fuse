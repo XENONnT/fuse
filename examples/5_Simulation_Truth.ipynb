{
 "cells": [
  {
   "cell_type": "markdown",
   "metadata": {},
   "source": [
    "# Simulation Truth\n",
    "\n",
    "This notebook will introduce you to the concept of simulation truth in fuse.\n",
    "\n"
   ]
  },
  {
   "cell_type": "markdown",
   "metadata": {},
   "source": [
    "## Imports and Simulation Context\n",
    "\n",
    "Similar to the previous notebooks, we will start by importing the necessary modules and creating a simulation context."
   ]
  },
  {
   "cell_type": "code",
   "execution_count": 1,
   "metadata": {},
   "outputs": [],
   "source": [
    "import fuse\n",
    "import numpy as np"
   ]
  },
  {
   "cell_type": "code",
   "execution_count": null,
   "metadata": {},
   "outputs": [],
   "source": [
    "st = fuse.context.full_chain_context(output_folder = \"./fuse_data\")\n",
    "\n",
    "st.set_config({\"path\": \"/project2/lgrandi/xenonnt/simulations/testing\",\n",
    "               \"file_name\": \"pmt_neutrons_100.root\",\n",
    "               \"entry_stop\": 10,\n",
    "               })\n",
    "\n",
    "run_number = \"00000\""
   ]
  },
  {
   "cell_type": "markdown",
   "metadata": {},
   "source": [
    "## Raw_Records and Contributing_Clusters\n",
    "\n",
    "First we will run the simulation up to `raw_records`."
   ]
  },
  {
   "cell_type": "code",
   "execution_count": null,
   "metadata": {},
   "outputs": [],
   "source": [
    "st.make(run_number, \"microphysics_summary\")\n",
    "st.make(run_number, \"photon_summary\")\n",
    "st.make(run_number, \"raw_records\")"
   ]
  },
  {
   "cell_type": "markdown",
   "metadata": {},
   "source": [
    "Now that the main simulation output is produced, we can build some truth information. First we will build `records_truth`. "
   ]
  },
  {
   "cell_type": "code",
   "execution_count": null,
   "metadata": {},
   "outputs": [],
   "source": [
    "st.make(run_number, \"records_truth\")"
   ]
  },
  {
   "cell_type": "markdown",
   "metadata": {},
   "source": [
    "Both `raw_records`and `records_truth` are of the same data_kind and can be loaded together. "
   ]
  },
  {
   "cell_type": "code",
   "execution_count": null,
   "metadata": {},
   "outputs": [],
   "source": [
    "raw_records = st.get_array(run_number, [\"raw_records\", \"records_truth\"])"
   ]
  },
  {
   "cell_type": "markdown",
   "metadata": {},
   "source": [
    "`contributing_clusters` gives you five additional columns. These are:\n",
    "- `s1_photons_in_record` - The number of S1 photons in the `raw_record`\n",
    "- `s2_photons_in_record` - The number of S2 photons in the `raw_record`\n",
    "- `ap_photons_in_record` - The number of (virtual) PMT afterpulse 'photons' in the record\n",
    "- `raw_area` - The sum of the contributing photon gains divided by the gain of the PMT\n",
    "\n",
    "Lets have a look on the number of photons that make it into the first record: "
   ]
  },
  {
   "cell_type": "code",
   "execution_count": 6,
   "metadata": {},
   "outputs": [
    {
     "name": "stdout",
     "output_type": "stream",
     "text": [
      "S1 photons: 1\n",
      "S2 photons: 0\n",
      "AP photons: 0\n",
      "Raw area: 1.0999995\n"
     ]
    }
   ],
   "source": [
    "index = 0\n",
    "print(\"S1 photons:\", raw_records[index][\"s1_photons_in_record\"])\n",
    "print(\"S2 photons:\", raw_records[index][\"s2_photons_in_record\"])\n",
    "print(\"AP photons:\", raw_records[index][\"ap_photons_in_record\"])\n",
    "print(\"Raw area:\", raw_records[index][\"raw_area\"])"
   ]
  },
  {
   "cell_type": "markdown",
   "metadata": {},
   "source": [
    "## Peaks and peak_truth\n",
    "\n",
    "Next we can process the simulation result to `peak_basics`. Strax(en) will merge multiple records into a peak. The PeakTruth plugin will evaluate which photons contribute to a peak and calculate a truth output for each peak. The provided columns for each peak are:\n",
    "- `s1_photons_in_peak` - The number of S1 photons that contributed to the peak\n",
    "- `s2_photons_in_peak` - The number of S2 photons that contributed to the peak\n",
    "- `ap_photons_in_peak` - The number of (virtual) PMT afterpulse 'photons' that contributed to the peak\n",
    "- `raw_area_truth` - The sum of all contributing photon gains divided by the gains of the PMTs\n",
    "- `observable_energy_truth` - Estimate of the energy that is associated with the peak.\n",
    "- `number_of_contributing_clusters_s1` - Number of clusters that contributed to the peak with S1 photons\n",
    "- `number_of_contributing_clusters_s2` - Number of clusters that contributed to the peak with S2 photons\n",
    "- `average_x_of_contributing_clusters` - Weighted average of the x position of the clusters that contributed to the peak\n",
    "- `average_y_of_contributing_clusters` - Weighted average of the y position of the clusters that contributed to the peak\n",
    "- `average_z_of_contributing_clusters` - Weighted average of the z position of the clusters that contributed to the peak\n",
    "- `average_x_obs_of_contributing_clusters` - Weighted average of the observed x position of the clusters that contributed to the peak\n",
    "- `average_y_obs_of_contributing_clusters` - Weighted average of the observed y position of the clusters that contributed to the peak\n",
    "- `average_z_obs_of_contributing_clusters` - Weighted average of the observed z position of the clusters that contributed to the peak\n",
    "\n",
    "Lets take a closer look at `observable_energy_truth` using an example: \n",
    "If we would have two clusters, the first one with 100 keV energy producig 100 S1 photons and the second one with 10 keV producing 10 S1 photons. After simulation and processing we find two S1 peaks in our data. The first S1 consitis of 90 photons from the first cluster and 5 photons of the second cluster. The `observable_energy_truth` for this peak is calculated as: 90/100 * 100 keV + 5/10 * 10 keV = 90 keV + 5 keV = 95 keV. The second S1 consists of 3 photons from the first cluster and 4 photons of the second cluster. The `observable_energy_truth` for this peak is calculated as: 3/100 * 100 keV + 4/10 * 10 keV = 3 keV + 4 keV = 7 keV. A similar calculation is done for the S2 peaks but replacing the S1 photons with the S2 photons.\n"
   ]
  },
  {
   "cell_type": "code",
   "execution_count": null,
   "metadata": {},
   "outputs": [],
   "source": [
    "st.make(run_number, \"peak_positions\")\n",
    "st.make(run_number, \"peak_truth\")"
   ]
  },
  {
   "cell_type": "markdown",
   "metadata": {},
   "source": [
    "As strax(en) will take care of the matching of our truth information to the individual peaks, we can simply load the `peak_basics` and `peak_truth` data together."
   ]
  },
  {
   "cell_type": "code",
   "execution_count": null,
   "metadata": {},
   "outputs": [],
   "source": [
    "peak_basics = st.get_df(run_number, [\"peak_basics\", \"peak_truth\", \"peak_positions\"])"
   ]
  },
  {
   "cell_type": "markdown",
   "metadata": {},
   "source": [
    "For a peak area bias study we could now compare the raw_area to the peak area:"
   ]
  },
  {
   "cell_type": "code",
   "execution_count": 9,
   "metadata": {},
   "outputs": [
    {
     "data": {
      "text/html": [
       "<div>\n",
       "<style scoped>\n",
       "    .dataframe tbody tr th:only-of-type {\n",
       "        vertical-align: middle;\n",
       "    }\n",
       "\n",
       "    .dataframe tbody tr th {\n",
       "        vertical-align: top;\n",
       "    }\n",
       "\n",
       "    .dataframe thead th {\n",
       "        text-align: right;\n",
       "    }\n",
       "</style>\n",
       "<table border=\"1\" class=\"dataframe\">\n",
       "  <thead>\n",
       "    <tr style=\"text-align: right;\">\n",
       "      <th></th>\n",
       "      <th>area</th>\n",
       "      <th>raw_area_truth</th>\n",
       "    </tr>\n",
       "  </thead>\n",
       "  <tbody>\n",
       "    <tr>\n",
       "      <th>0</th>\n",
       "      <td>2.808850</td>\n",
       "      <td>3.049999</td>\n",
       "    </tr>\n",
       "    <tr>\n",
       "      <th>1</th>\n",
       "      <td>1059.032593</td>\n",
       "      <td>1078.859741</td>\n",
       "    </tr>\n",
       "    <tr>\n",
       "      <th>2</th>\n",
       "      <td>61364.210938</td>\n",
       "      <td>61378.636719</td>\n",
       "    </tr>\n",
       "    <tr>\n",
       "      <th>3</th>\n",
       "      <td>718.991394</td>\n",
       "      <td>744.489868</td>\n",
       "    </tr>\n",
       "    <tr>\n",
       "      <th>4</th>\n",
       "      <td>341264.375000</td>\n",
       "      <td>322082.718750</td>\n",
       "    </tr>\n",
       "  </tbody>\n",
       "</table>\n",
       "</div>"
      ],
      "text/plain": [
       "            area  raw_area_truth\n",
       "0       2.808850        3.049999\n",
       "1    1059.032593     1078.859741\n",
       "2   61364.210938    61378.636719\n",
       "3     718.991394      744.489868\n",
       "4  341264.375000   322082.718750"
      ]
     },
     "execution_count": 9,
     "metadata": {},
     "output_type": "execute_result"
    }
   ],
   "source": [
    "peak_basics[[\"area\", \"raw_area_truth\"]].head()"
   ]
  },
  {
   "cell_type": "markdown",
   "metadata": {},
   "source": [
    "We might also be interested in the peak classification: "
   ]
  },
  {
   "cell_type": "code",
   "execution_count": 10,
   "metadata": {},
   "outputs": [
    {
     "data": {
      "text/html": [
       "<div>\n",
       "<style scoped>\n",
       "    .dataframe tbody tr th:only-of-type {\n",
       "        vertical-align: middle;\n",
       "    }\n",
       "\n",
       "    .dataframe tbody tr th {\n",
       "        vertical-align: top;\n",
       "    }\n",
       "\n",
       "    .dataframe thead th {\n",
       "        text-align: right;\n",
       "    }\n",
       "</style>\n",
       "<table border=\"1\" class=\"dataframe\">\n",
       "  <thead>\n",
       "    <tr style=\"text-align: right;\">\n",
       "      <th></th>\n",
       "      <th>type</th>\n",
       "      <th>s1_photons_in_peak</th>\n",
       "      <th>s2_photons_in_peak</th>\n",
       "      <th>ap_photons_in_peak</th>\n",
       "    </tr>\n",
       "  </thead>\n",
       "  <tbody>\n",
       "    <tr>\n",
       "      <th>0</th>\n",
       "      <td>1</td>\n",
       "      <td>3</td>\n",
       "      <td>0</td>\n",
       "      <td>0</td>\n",
       "    </tr>\n",
       "    <tr>\n",
       "      <th>1</th>\n",
       "      <td>2</td>\n",
       "      <td>0</td>\n",
       "      <td>847</td>\n",
       "      <td>0</td>\n",
       "    </tr>\n",
       "    <tr>\n",
       "      <th>2</th>\n",
       "      <td>1</td>\n",
       "      <td>48464</td>\n",
       "      <td>0</td>\n",
       "      <td>49</td>\n",
       "    </tr>\n",
       "    <tr>\n",
       "      <th>3</th>\n",
       "      <td>2</td>\n",
       "      <td>0</td>\n",
       "      <td>577</td>\n",
       "      <td>0</td>\n",
       "    </tr>\n",
       "    <tr>\n",
       "      <th>4</th>\n",
       "      <td>2</td>\n",
       "      <td>0</td>\n",
       "      <td>252627</td>\n",
       "      <td>250</td>\n",
       "    </tr>\n",
       "  </tbody>\n",
       "</table>\n",
       "</div>"
      ],
      "text/plain": [
       "   type  s1_photons_in_peak  s2_photons_in_peak  ap_photons_in_peak\n",
       "0     1                   3                   0                   0\n",
       "1     2                   0                 847                   0\n",
       "2     1               48464                   0                  49\n",
       "3     2                   0                 577                   0\n",
       "4     2                   0              252627                 250"
      ]
     },
     "execution_count": 10,
     "metadata": {},
     "output_type": "execute_result"
    }
   ],
   "source": [
    "peak_basics[[\"type\", \"s1_photons_in_peak\", \"s2_photons_in_peak\", \"ap_photons_in_peak\"]].head()"
   ]
  },
  {
   "cell_type": "markdown",
   "metadata": {},
   "source": [
    "Or you might want to check how our position reconstruction is doing: "
   ]
  },
  {
   "cell_type": "code",
   "execution_count": 11,
   "metadata": {},
   "outputs": [
    {
     "data": {
      "text/html": [
       "<div>\n",
       "<style scoped>\n",
       "    .dataframe tbody tr th:only-of-type {\n",
       "        vertical-align: middle;\n",
       "    }\n",
       "\n",
       "    .dataframe tbody tr th {\n",
       "        vertical-align: top;\n",
       "    }\n",
       "\n",
       "    .dataframe thead th {\n",
       "        text-align: right;\n",
       "    }\n",
       "</style>\n",
       "<table border=\"1\" class=\"dataframe\">\n",
       "  <thead>\n",
       "    <tr style=\"text-align: right;\">\n",
       "      <th></th>\n",
       "      <th>type</th>\n",
       "      <th>x</th>\n",
       "      <th>y</th>\n",
       "      <th>average_x_obs_of_contributing_clusters</th>\n",
       "      <th>average_y_obs_of_contributing_clusters</th>\n",
       "      <th>average_z_obs_of_contributing_clusters</th>\n",
       "    </tr>\n",
       "  </thead>\n",
       "  <tbody>\n",
       "    <tr>\n",
       "      <th>0</th>\n",
       "      <td>1</td>\n",
       "      <td>NaN</td>\n",
       "      <td>NaN</td>\n",
       "      <td>-20.890713</td>\n",
       "      <td>-51.367107</td>\n",
       "      <td>-1.464800</td>\n",
       "    </tr>\n",
       "    <tr>\n",
       "      <th>1</th>\n",
       "      <td>2</td>\n",
       "      <td>-20.788963</td>\n",
       "      <td>-52.198101</td>\n",
       "      <td>-20.890713</td>\n",
       "      <td>-51.367107</td>\n",
       "      <td>-1.464800</td>\n",
       "    </tr>\n",
       "    <tr>\n",
       "      <th>2</th>\n",
       "      <td>1</td>\n",
       "      <td>-57.817341</td>\n",
       "      <td>0.454473</td>\n",
       "      <td>-20.348944</td>\n",
       "      <td>-0.438408</td>\n",
       "      <td>-22.559410</td>\n",
       "    </tr>\n",
       "    <tr>\n",
       "      <th>3</th>\n",
       "      <td>2</td>\n",
       "      <td>-38.655247</td>\n",
       "      <td>-18.313650</td>\n",
       "      <td>-38.867641</td>\n",
       "      <td>-18.246555</td>\n",
       "      <td>-6.679745</td>\n",
       "    </tr>\n",
       "    <tr>\n",
       "      <th>4</th>\n",
       "      <td>2</td>\n",
       "      <td>-37.277332</td>\n",
       "      <td>-18.950422</td>\n",
       "      <td>-34.188717</td>\n",
       "      <td>-14.120629</td>\n",
       "      <td>-11.869003</td>\n",
       "    </tr>\n",
       "  </tbody>\n",
       "</table>\n",
       "</div>"
      ],
      "text/plain": [
       "   type          x          y  average_x_obs_of_contributing_clusters  \\\n",
       "0     1        NaN        NaN                              -20.890713   \n",
       "1     2 -20.788963 -52.198101                              -20.890713   \n",
       "2     1 -57.817341   0.454473                              -20.348944   \n",
       "3     2 -38.655247 -18.313650                              -38.867641   \n",
       "4     2 -37.277332 -18.950422                              -34.188717   \n",
       "\n",
       "   average_y_obs_of_contributing_clusters  \\\n",
       "0                              -51.367107   \n",
       "1                              -51.367107   \n",
       "2                               -0.438408   \n",
       "3                              -18.246555   \n",
       "4                              -14.120629   \n",
       "\n",
       "   average_z_obs_of_contributing_clusters  \n",
       "0                               -1.464800  \n",
       "1                               -1.464800  \n",
       "2                              -22.559410  \n",
       "3                               -6.679745  \n",
       "4                              -11.869003  "
      ]
     },
     "execution_count": 11,
     "metadata": {},
     "output_type": "execute_result"
    }
   ],
   "source": [
    "peak_basics[[\"type\",\"x\",\"y\", \"average_x_obs_of_contributing_clusters\", \"average_y_obs_of_contributing_clusters\", \"average_z_obs_of_contributing_clusters\"]].head()"
   ]
  },
  {
   "cell_type": "markdown",
   "metadata": {},
   "source": [
    "## Surviving Clusters\n",
    "Next lets evaluate if an energy deposit makes it into a peak. This is done by the `SurvivingClusters` plugin. It will provide the following columns:\n",
    "- `creating_a_photon` - Boolean if the cluster created a propagated photon\n",
    "- `in_a_peak` - Boolean if the cluster is in a peak"
   ]
  },
  {
   "cell_type": "code",
   "execution_count": null,
   "metadata": {},
   "outputs": [],
   "source": [
    "st.make(run_number, \"surviving_clusters\")\n",
    "microphysics_summary = st.get_df(run_number, [\"microphysics_summary\", \"surviving_clusters\"])"
   ]
  },
  {
   "cell_type": "markdown",
   "metadata": {},
   "source": [
    "Now that we have the data loaded we could have a look at clusters that did not make it into a peak: "
   ]
  },
  {
   "cell_type": "code",
   "execution_count": 13,
   "metadata": {},
   "outputs": [
    {
     "data": {
      "text/html": [
       "<div>\n",
       "<style scoped>\n",
       "    .dataframe tbody tr th:only-of-type {\n",
       "        vertical-align: middle;\n",
       "    }\n",
       "\n",
       "    .dataframe tbody tr th {\n",
       "        vertical-align: top;\n",
       "    }\n",
       "\n",
       "    .dataframe thead th {\n",
       "        text-align: right;\n",
       "    }\n",
       "</style>\n",
       "<table border=\"1\" class=\"dataframe\">\n",
       "  <thead>\n",
       "    <tr style=\"text-align: right;\">\n",
       "      <th></th>\n",
       "      <th>e_field</th>\n",
       "      <th>time</th>\n",
       "      <th>endtime</th>\n",
       "      <th>x</th>\n",
       "      <th>y</th>\n",
       "      <th>z</th>\n",
       "      <th>ed</th>\n",
       "      <th>nestid</th>\n",
       "      <th>A</th>\n",
       "      <th>Z</th>\n",
       "      <th>...</th>\n",
       "      <th>z_pri</th>\n",
       "      <th>cluster_id</th>\n",
       "      <th>xe_density</th>\n",
       "      <th>vol_id</th>\n",
       "      <th>create_S2</th>\n",
       "      <th>photons</th>\n",
       "      <th>electrons</th>\n",
       "      <th>excitons</th>\n",
       "      <th>creating_a_photon</th>\n",
       "      <th>in_a_peak</th>\n",
       "    </tr>\n",
       "  </thead>\n",
       "  <tbody>\n",
       "    <tr>\n",
       "      <th>170</th>\n",
       "      <td>27</td>\n",
       "      <td>2827386497</td>\n",
       "      <td>2827386497</td>\n",
       "      <td>32.959923</td>\n",
       "      <td>14.185023</td>\n",
       "      <td>-9.616013</td>\n",
       "      <td>0.096808</td>\n",
       "      <td>0</td>\n",
       "      <td>0</td>\n",
       "      <td>0</td>\n",
       "      <td>...</td>\n",
       "      <td>7.933488</td>\n",
       "      <td>171</td>\n",
       "      <td>2.862</td>\n",
       "      <td>1</td>\n",
       "      <td>True</td>\n",
       "      <td>0</td>\n",
       "      <td>0</td>\n",
       "      <td>0</td>\n",
       "      <td>False</td>\n",
       "      <td>False</td>\n",
       "    </tr>\n",
       "    <tr>\n",
       "      <th>203</th>\n",
       "      <td>26</td>\n",
       "      <td>2827386535</td>\n",
       "      <td>2827386535</td>\n",
       "      <td>27.667393</td>\n",
       "      <td>10.273334</td>\n",
       "      <td>-12.147082</td>\n",
       "      <td>0.044494</td>\n",
       "      <td>0</td>\n",
       "      <td>0</td>\n",
       "      <td>0</td>\n",
       "      <td>...</td>\n",
       "      <td>7.933488</td>\n",
       "      <td>204</td>\n",
       "      <td>2.862</td>\n",
       "      <td>1</td>\n",
       "      <td>True</td>\n",
       "      <td>0</td>\n",
       "      <td>0</td>\n",
       "      <td>0</td>\n",
       "      <td>False</td>\n",
       "      <td>False</td>\n",
       "    </tr>\n",
       "    <tr>\n",
       "      <th>205</th>\n",
       "      <td>25</td>\n",
       "      <td>2827386710</td>\n",
       "      <td>2827386710</td>\n",
       "      <td>9.488111</td>\n",
       "      <td>6.251637</td>\n",
       "      <td>-11.284761</td>\n",
       "      <td>0.141653</td>\n",
       "      <td>0</td>\n",
       "      <td>0</td>\n",
       "      <td>0</td>\n",
       "      <td>...</td>\n",
       "      <td>7.933488</td>\n",
       "      <td>206</td>\n",
       "      <td>2.862</td>\n",
       "      <td>1</td>\n",
       "      <td>True</td>\n",
       "      <td>0</td>\n",
       "      <td>0</td>\n",
       "      <td>0</td>\n",
       "      <td>False</td>\n",
       "      <td>False</td>\n",
       "    </tr>\n",
       "    <tr>\n",
       "      <th>208</th>\n",
       "      <td>24</td>\n",
       "      <td>2827386851</td>\n",
       "      <td>2827386851</td>\n",
       "      <td>16.457802</td>\n",
       "      <td>8.368632</td>\n",
       "      <td>-30.002600</td>\n",
       "      <td>0.085379</td>\n",
       "      <td>0</td>\n",
       "      <td>0</td>\n",
       "      <td>0</td>\n",
       "      <td>...</td>\n",
       "      <td>7.933488</td>\n",
       "      <td>209</td>\n",
       "      <td>2.862</td>\n",
       "      <td>1</td>\n",
       "      <td>True</td>\n",
       "      <td>0</td>\n",
       "      <td>0</td>\n",
       "      <td>0</td>\n",
       "      <td>False</td>\n",
       "      <td>False</td>\n",
       "    </tr>\n",
       "    <tr>\n",
       "      <th>209</th>\n",
       "      <td>24</td>\n",
       "      <td>2827386893</td>\n",
       "      <td>2827386893</td>\n",
       "      <td>16.093048</td>\n",
       "      <td>14.685450</td>\n",
       "      <td>-34.862846</td>\n",
       "      <td>0.057414</td>\n",
       "      <td>0</td>\n",
       "      <td>0</td>\n",
       "      <td>0</td>\n",
       "      <td>...</td>\n",
       "      <td>7.933488</td>\n",
       "      <td>210</td>\n",
       "      <td>2.862</td>\n",
       "      <td>1</td>\n",
       "      <td>True</td>\n",
       "      <td>0</td>\n",
       "      <td>0</td>\n",
       "      <td>0</td>\n",
       "      <td>False</td>\n",
       "      <td>False</td>\n",
       "    </tr>\n",
       "  </tbody>\n",
       "</table>\n",
       "<p>5 rows × 23 columns</p>\n",
       "</div>"
      ],
      "text/plain": [
       "     e_field        time     endtime          x          y          z  \\\n",
       "170       27  2827386497  2827386497  32.959923  14.185023  -9.616013   \n",
       "203       26  2827386535  2827386535  27.667393  10.273334 -12.147082   \n",
       "205       25  2827386710  2827386710   9.488111   6.251637 -11.284761   \n",
       "208       24  2827386851  2827386851  16.457802   8.368632 -30.002600   \n",
       "209       24  2827386893  2827386893  16.093048  14.685450 -34.862846   \n",
       "\n",
       "           ed  nestid  A  Z  ...     z_pri  cluster_id  xe_density  vol_id  \\\n",
       "170  0.096808       0  0  0  ...  7.933488         171       2.862       1   \n",
       "203  0.044494       0  0  0  ...  7.933488         204       2.862       1   \n",
       "205  0.141653       0  0  0  ...  7.933488         206       2.862       1   \n",
       "208  0.085379       0  0  0  ...  7.933488         209       2.862       1   \n",
       "209  0.057414       0  0  0  ...  7.933488         210       2.862       1   \n",
       "\n",
       "     create_S2  photons  electrons  excitons  creating_a_photon  in_a_peak  \n",
       "170       True        0          0         0              False      False  \n",
       "203       True        0          0         0              False      False  \n",
       "205       True        0          0         0              False      False  \n",
       "208       True        0          0         0              False      False  \n",
       "209       True        0          0         0              False      False  \n",
       "\n",
       "[5 rows x 23 columns]"
      ]
     },
     "execution_count": 13,
     "metadata": {},
     "output_type": "execute_result"
    }
   ],
   "source": [
    "microphysics_summary.query(\"in_a_peak == False\").head()"
   ]
  },
  {
   "cell_type": "markdown",
   "metadata": {},
   "source": [
    "## Event Truth\n",
    "\n",
    "Lets move from the peak level to event level data. This is done by the `EventTruth` plugin. It will provide the following columns:\n",
    "- `x_obs_truth` - The x position of the event. This corresponds to the x position of the main S2.\n",
    "- `y_obs_truth` - The y position of the event. This corresponds to the y position of the main S2.\n",
    "- `z_obs_truth` - The z position of the event. This is calculated as mean of the main S1 and S2 `average_z_obs_of_contributing_clusters`. Does this make sense?\n",
    "- `energy_of_main_peaks_truth` - This is intended to be the energy that can be found in the main S1 and S2. It is calculated as the mean of the `observable_energy_truth` of the main S1 and S2. Does this make any sense???\n",
    "- `total_energy_in_event_truth` - The sum of all energy deposits that are in the event"
   ]
  },
  {
   "cell_type": "code",
   "execution_count": null,
   "metadata": {},
   "outputs": [],
   "source": [
    "st.make(run_number, \"event_truth\")"
   ]
  },
  {
   "cell_type": "code",
   "execution_count": null,
   "metadata": {},
   "outputs": [],
   "source": [
    "event_data = st.get_df(run_number, [\"event_info\", \"event_truth\"])"
   ]
  },
  {
   "cell_type": "markdown",
   "metadata": {},
   "source": [
    "First lets take a look at the energy informations: "
   ]
  },
  {
   "cell_type": "code",
   "execution_count": 16,
   "metadata": {},
   "outputs": [
    {
     "data": {
      "text/html": [
       "<div>\n",
       "<style scoped>\n",
       "    .dataframe tbody tr th:only-of-type {\n",
       "        vertical-align: middle;\n",
       "    }\n",
       "\n",
       "    .dataframe tbody tr th {\n",
       "        vertical-align: top;\n",
       "    }\n",
       "\n",
       "    .dataframe thead th {\n",
       "        text-align: right;\n",
       "    }\n",
       "</style>\n",
       "<table border=\"1\" class=\"dataframe\">\n",
       "  <thead>\n",
       "    <tr style=\"text-align: right;\">\n",
       "      <th></th>\n",
       "      <th>e_ces</th>\n",
       "      <th>energy_of_main_peaks_truth</th>\n",
       "      <th>total_energy_in_event_truth</th>\n",
       "    </tr>\n",
       "  </thead>\n",
       "  <tbody>\n",
       "    <tr>\n",
       "      <th>0</th>\n",
       "      <td>0.950759</td>\n",
       "      <td>5.071669</td>\n",
       "      <td>5.101432</td>\n",
       "    </tr>\n",
       "    <tr>\n",
       "      <th>1</th>\n",
       "      <td>10316.319336</td>\n",
       "      <td>7268.864258</td>\n",
       "      <td>9708.582031</td>\n",
       "    </tr>\n",
       "    <tr>\n",
       "      <th>2</th>\n",
       "      <td>1329.449341</td>\n",
       "      <td>779.614685</td>\n",
       "      <td>1574.821167</td>\n",
       "    </tr>\n",
       "    <tr>\n",
       "      <th>3</th>\n",
       "      <td>2615.176758</td>\n",
       "      <td>2296.671143</td>\n",
       "      <td>4019.808838</td>\n",
       "    </tr>\n",
       "    <tr>\n",
       "      <th>4</th>\n",
       "      <td>7898.591797</td>\n",
       "      <td>6686.427734</td>\n",
       "      <td>15595.068359</td>\n",
       "    </tr>\n",
       "    <tr>\n",
       "      <th>5</th>\n",
       "      <td>17511.164062</td>\n",
       "      <td>756.653198</td>\n",
       "      <td>1264.030273</td>\n",
       "    </tr>\n",
       "    <tr>\n",
       "      <th>6</th>\n",
       "      <td>2871.658936</td>\n",
       "      <td>2877.854736</td>\n",
       "      <td>4376.391602</td>\n",
       "    </tr>\n",
       "    <tr>\n",
       "      <th>7</th>\n",
       "      <td>1303.236450</td>\n",
       "      <td>1671.288818</td>\n",
       "      <td>1684.907104</td>\n",
       "    </tr>\n",
       "    <tr>\n",
       "      <th>8</th>\n",
       "      <td>6.340443</td>\n",
       "      <td>31.338665</td>\n",
       "      <td>31.483326</td>\n",
       "    </tr>\n",
       "  </tbody>\n",
       "</table>\n",
       "</div>"
      ],
      "text/plain": [
       "          e_ces  energy_of_main_peaks_truth  total_energy_in_event_truth\n",
       "0      0.950759                    5.071669                     5.101432\n",
       "1  10316.319336                 7268.864258                  9708.582031\n",
       "2   1329.449341                  779.614685                  1574.821167\n",
       "3   2615.176758                 2296.671143                  4019.808838\n",
       "4   7898.591797                 6686.427734                 15595.068359\n",
       "5  17511.164062                  756.653198                  1264.030273\n",
       "6   2871.658936                 2877.854736                  4376.391602\n",
       "7   1303.236450                 1671.288818                  1684.907104\n",
       "8      6.340443                   31.338665                    31.483326"
      ]
     },
     "execution_count": 16,
     "metadata": {},
     "output_type": "execute_result"
    }
   ],
   "source": [
    "event_data[[\"e_ces\", \"energy_of_main_peaks_truth\", \"total_energy_in_event_truth\"]]"
   ]
  },
  {
   "cell_type": "markdown",
   "metadata": {},
   "source": [
    "And the positions: "
   ]
  },
  {
   "cell_type": "code",
   "execution_count": 17,
   "metadata": {},
   "outputs": [
    {
     "data": {
      "text/html": [
       "<div>\n",
       "<style scoped>\n",
       "    .dataframe tbody tr th:only-of-type {\n",
       "        vertical-align: middle;\n",
       "    }\n",
       "\n",
       "    .dataframe tbody tr th {\n",
       "        vertical-align: top;\n",
       "    }\n",
       "\n",
       "    .dataframe thead th {\n",
       "        text-align: right;\n",
       "    }\n",
       "</style>\n",
       "<table border=\"1\" class=\"dataframe\">\n",
       "  <thead>\n",
       "    <tr style=\"text-align: right;\">\n",
       "      <th></th>\n",
       "      <th>x</th>\n",
       "      <th>x_obs_truth</th>\n",
       "      <th>z</th>\n",
       "      <th>z_obs_truth</th>\n",
       "    </tr>\n",
       "  </thead>\n",
       "  <tbody>\n",
       "    <tr>\n",
       "      <th>0</th>\n",
       "      <td>-20.420223</td>\n",
       "      <td>-20.890713</td>\n",
       "      <td>-2.169019</td>\n",
       "      <td>-1.464800</td>\n",
       "    </tr>\n",
       "    <tr>\n",
       "      <th>1</th>\n",
       "      <td>-13.204618</td>\n",
       "      <td>-29.273678</td>\n",
       "      <td>-34.250954</td>\n",
       "      <td>-18.659674</td>\n",
       "    </tr>\n",
       "    <tr>\n",
       "      <th>2</th>\n",
       "      <td>-18.117203</td>\n",
       "      <td>-19.646385</td>\n",
       "      <td>-51.266327</td>\n",
       "      <td>-13.678743</td>\n",
       "    </tr>\n",
       "    <tr>\n",
       "      <th>3</th>\n",
       "      <td>-50.167782</td>\n",
       "      <td>-47.090977</td>\n",
       "      <td>-19.874458</td>\n",
       "      <td>-13.973438</td>\n",
       "    </tr>\n",
       "    <tr>\n",
       "      <th>4</th>\n",
       "      <td>14.325102</td>\n",
       "      <td>15.204413</td>\n",
       "      <td>-17.188948</td>\n",
       "      <td>-18.430935</td>\n",
       "    </tr>\n",
       "    <tr>\n",
       "      <th>5</th>\n",
       "      <td>-8.170411</td>\n",
       "      <td>-19.107325</td>\n",
       "      <td>-115.728760</td>\n",
       "      <td>-122.673523</td>\n",
       "    </tr>\n",
       "    <tr>\n",
       "      <th>6</th>\n",
       "      <td>-23.360212</td>\n",
       "      <td>-27.319216</td>\n",
       "      <td>-3.040385</td>\n",
       "      <td>-4.436149</td>\n",
       "    </tr>\n",
       "    <tr>\n",
       "      <th>7</th>\n",
       "      <td>20.358648</td>\n",
       "      <td>20.087492</td>\n",
       "      <td>-11.474121</td>\n",
       "      <td>-12.390039</td>\n",
       "    </tr>\n",
       "    <tr>\n",
       "      <th>8</th>\n",
       "      <td>-49.958988</td>\n",
       "      <td>-50.566116</td>\n",
       "      <td>-0.835833</td>\n",
       "      <td>-0.404144</td>\n",
       "    </tr>\n",
       "  </tbody>\n",
       "</table>\n",
       "</div>"
      ],
      "text/plain": [
       "           x  x_obs_truth           z  z_obs_truth\n",
       "0 -20.420223   -20.890713   -2.169019    -1.464800\n",
       "1 -13.204618   -29.273678  -34.250954   -18.659674\n",
       "2 -18.117203   -19.646385  -51.266327   -13.678743\n",
       "3 -50.167782   -47.090977  -19.874458   -13.973438\n",
       "4  14.325102    15.204413  -17.188948   -18.430935\n",
       "5  -8.170411   -19.107325 -115.728760  -122.673523\n",
       "6 -23.360212   -27.319216   -3.040385    -4.436149\n",
       "7  20.358648    20.087492  -11.474121   -12.390039\n",
       "8 -49.958988   -50.566116   -0.835833    -0.404144"
      ]
     },
     "execution_count": 17,
     "metadata": {},
     "output_type": "execute_result"
    }
   ],
   "source": [
    "event_data[[\"x\", \"x_obs_truth\", \"z\", \"z_obs_truth\"]]"
   ]
  },
  {
   "cell_type": "markdown",
   "metadata": {},
   "source": [
    "## Cluster Tagging\n",
    "\n",
    "Finally we can investigate if a cluster contributed to the main or alternative S1 or S2. This is done by the `ClusterTagging` plugin. It will provide the following columns:\n",
    "- `in_main_s1` - Boolean if the cluster contributed to the main S1\n",
    "- `in_main_s2` - Boolean if the cluster contributed to the main S2\n",
    "- `in_alt_s1` - Boolean if the cluster contributed to an alternative S1\n",
    "- `in_alt_s2` - Boolean if the cluster contributed to an alternative S2\n",
    "- `photons_in_main_s1` - Number of photons the cluster contributed to the main S1\n",
    "- `photons_in_main_s2` - Number of photons the cluster contributed to the main S2\n",
    "- `photons_in_alt_s1` - Number of photons the cluster contributed to the alternative S1\n",
    "- `photons_in_alt_s2` - Number of photons the cluster contributed to the alternative S2"
   ]
  },
  {
   "cell_type": "code",
   "execution_count": null,
   "metadata": {},
   "outputs": [],
   "source": [
    "st.make(run_number, \"tagged_clusters\")"
   ]
  },
  {
   "cell_type": "markdown",
   "metadata": {},
   "source": [
    "We can load it together with e.g. microphysics_summary:"
   ]
  },
  {
   "cell_type": "code",
   "execution_count": null,
   "metadata": {},
   "outputs": [],
   "source": [
    "ms_with_tagged_clusters = st.get_df(run_number, [\"microphysics_summary\", \"tagged_clusters\", \"s2_photons_sum\"])"
   ]
  },
  {
   "cell_type": "markdown",
   "metadata": {},
   "source": [
    "Lets take a look at some cluster information that contributed to the main S2 of the second event: "
   ]
  },
  {
   "cell_type": "code",
   "execution_count": 20,
   "metadata": {},
   "outputs": [
    {
     "data": {
      "text/html": [
       "<div>\n",
       "<style scoped>\n",
       "    .dataframe tbody tr th:only-of-type {\n",
       "        vertical-align: middle;\n",
       "    }\n",
       "\n",
       "    .dataframe tbody tr th {\n",
       "        vertical-align: top;\n",
       "    }\n",
       "\n",
       "    .dataframe thead th {\n",
       "        text-align: right;\n",
       "    }\n",
       "</style>\n",
       "<table border=\"1\" class=\"dataframe\">\n",
       "  <thead>\n",
       "    <tr style=\"text-align: right;\">\n",
       "      <th></th>\n",
       "      <th>ed</th>\n",
       "      <th>sum_s2_photons</th>\n",
       "      <th>photons_in_main_s2</th>\n",
       "    </tr>\n",
       "  </thead>\n",
       "  <tbody>\n",
       "    <tr>\n",
       "      <th>60</th>\n",
       "      <td>119.665840</td>\n",
       "      <td>64670</td>\n",
       "      <td>61672</td>\n",
       "    </tr>\n",
       "    <tr>\n",
       "      <th>61</th>\n",
       "      <td>70.190887</td>\n",
       "      <td>26666</td>\n",
       "      <td>26331</td>\n",
       "    </tr>\n",
       "    <tr>\n",
       "      <th>62</th>\n",
       "      <td>64.250038</td>\n",
       "      <td>23452</td>\n",
       "      <td>23213</td>\n",
       "    </tr>\n",
       "    <tr>\n",
       "      <th>63</th>\n",
       "      <td>75.890457</td>\n",
       "      <td>28687</td>\n",
       "      <td>28354</td>\n",
       "    </tr>\n",
       "    <tr>\n",
       "      <th>64</th>\n",
       "      <td>60.865395</td>\n",
       "      <td>18687</td>\n",
       "      <td>18448</td>\n",
       "    </tr>\n",
       "    <tr>\n",
       "      <th>65</th>\n",
       "      <td>59.640846</td>\n",
       "      <td>18365</td>\n",
       "      <td>18153</td>\n",
       "    </tr>\n",
       "    <tr>\n",
       "      <th>66</th>\n",
       "      <td>42.037697</td>\n",
       "      <td>17448</td>\n",
       "      <td>17304</td>\n",
       "    </tr>\n",
       "    <tr>\n",
       "      <th>67</th>\n",
       "      <td>183.596298</td>\n",
       "      <td>97796</td>\n",
       "      <td>96954</td>\n",
       "    </tr>\n",
       "    <tr>\n",
       "      <th>68</th>\n",
       "      <td>21.843777</td>\n",
       "      <td>10543</td>\n",
       "      <td>10458</td>\n",
       "    </tr>\n",
       "    <tr>\n",
       "      <th>69</th>\n",
       "      <td>32.598518</td>\n",
       "      <td>14696</td>\n",
       "      <td>14558</td>\n",
       "    </tr>\n",
       "  </tbody>\n",
       "</table>\n",
       "</div>"
      ],
      "text/plain": [
       "            ed  sum_s2_photons  photons_in_main_s2\n",
       "60  119.665840           64670               61672\n",
       "61   70.190887           26666               26331\n",
       "62   64.250038           23452               23213\n",
       "63   75.890457           28687               28354\n",
       "64   60.865395           18687               18448\n",
       "65   59.640846           18365               18153\n",
       "66   42.037697           17448               17304\n",
       "67  183.596298           97796               96954\n",
       "68   21.843777           10543               10458\n",
       "69   32.598518           14696               14558"
      ]
     },
     "execution_count": 20,
     "metadata": {},
     "output_type": "execute_result"
    }
   ],
   "source": [
    "ms_with_tagged_clusters_cut = ms_with_tagged_clusters.query(\"evtid == 1 & in_main_s2 == True\")\n",
    "ms_with_tagged_clusters_cut[[\"ed\",\"sum_s2_photons\", \"photons_in_main_s2\"]].head(10)"
   ]
  }
 ],
 "metadata": {
  "kernelspec": {
   "display_name": "Python 3 (ipykernel)",
   "language": "python",
   "name": "python3"
  },
  "language_info": {
   "codemirror_mode": {
    "name": "ipython",
    "version": 3
   },
   "file_extension": ".py",
   "mimetype": "text/x-python",
   "name": "python",
   "nbconvert_exporter": "python",
   "pygments_lexer": "ipython3",
   "version": "3.9.18"
  }
 },
 "nbformat": 4,
 "nbformat_minor": 2
}
