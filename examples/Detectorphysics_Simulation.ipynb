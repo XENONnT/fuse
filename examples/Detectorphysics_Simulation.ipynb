{
 "cells": [
  {
   "cell_type": "markdown",
   "metadata": {},
   "source": [
    "# Detectorphysics Simulation\n",
    "\n",
    "This notebook will demonstrate the detecor phyiscs simulation as well as the simulation of PMT response and DAQ effects. This part of the XENONnT simulation chain was formerly done using the `WFSim` software.\n",
    "\n",
    "## Imports & Simulation Context\n",
    "\n",
    "Just like in the previous examples, the `Getting_Started` and `Microphysics_Simulation` notebooks, we start by importing the necessary modules and setting up the simulation context."
   ]
  },
  {
   "cell_type": "code",
   "execution_count": 28,
   "metadata": {},
   "outputs": [],
   "source": [
    "import fuse\n",
    "from straxen import URLConfig"
   ]
  },
  {
   "cell_type": "code",
   "execution_count": 29,
   "metadata": {},
   "outputs": [],
   "source": [
    "url_string = 'simple_load://resource://format://fax_config_nt_sr0_v4.json?&fmt=json'\n",
    "config = URLConfig.evaluate_dry(url_string)"
   ]
  },
  {
   "cell_type": "code",
   "execution_count": 30,
   "metadata": {},
   "outputs": [
    {
     "name": "stderr",
     "output_type": "stream",
     "text": [
      "/dali/lgrandi/xenonnt/software/cutax/v1.15.1/cutax/contexts.py:107: UserWarning: WARNING! You are using SR0_V3 simulation context! Consider updating to a newer/pinned version (SR0_V4)!\n",
      "  warnings.warn(f'WARNING! You are using {faxconf_version.upper()} simulation context!'\n"
     ]
    },
    {
     "name": "stderr",
     "output_type": "stream",
     "text": [
      "/dali/lgrandi/xenonnt/software/cutax/v1.15.1/cutax/contexts.py:132: UserWarning: WARNING! [ FAX_CONFIG_NT_SR0_V3.JSON ] does not contain \"field_distortion_correction_map\" key!\n",
      "  warnings.warn(f'WARNING! [ {fax_conf.upper()} ] does not contain \"{fax_config_fdc_key}\" key!')\n"
     ]
    }
   ],
   "source": [
    "st = fuse.context.full_chain_context(out_dir = \"./fuse_data\",\n",
    "                                     config = config)\n",
    "\n",
    "st.set_config({\"path\": \"/project2/lgrandi/xenonnt/simulations/testing\",\n",
    "               \"file_name\": \"pmt_neutrons_100.root\",\n",
    "               \"entry_stop\": 10,\n",
    "               })\n",
    "\n",
    "run_number = \"00000\""
   ]
  },
  {
   "cell_type": "markdown",
   "metadata": {},
   "source": [
    "## Running the Simulation\n",
    "\n",
    "First let us start by running the microphysics simulation up to `microphysics_summary`. If you have run the `Microphysics_Simulation` notebook, the data should already be prepared and ready for use. "
   ]
  },
  {
   "cell_type": "code",
   "execution_count": 31,
   "metadata": {},
   "outputs": [],
   "source": [
    "st.make(run_number, \"microphysics_summary\")"
   ]
  },
  {
   "cell_type": "markdown",
   "metadata": {},
   "source": [
    "### S1 Simulation\n",
    "\n",
    "The Detectorphysics simulation of fuse splits into two branches, the simulation of S1 signals and the simulation of S2 signals. Lets start first to take a look a the S1 simulation. Two plugins are needed for this: `S1PhotonHits` and `S1PhotonPropagation`. \n",
    "\n",
    "The `S1PhotonHits` plugin simulates the number of detected photons for each interaction site in the TPC. It takes as input the number of photons at the interaction site that we simulated in the microphysics simulation.\n",
    "\n",
    "After we have the number of detected photons simulated, we can distribute these photons to the PMTs using the `S1PhotonPropagation` plugin. Additionally the timing of the photons is simulated here. As output we will get a long list of photons that we can load with the target `propagated_s1_photons`. "
   ]
  },
  {
   "cell_type": "code",
   "execution_count": 32,
   "metadata": {},
   "outputs": [],
   "source": [
    "st.make(run_number, \"s1_photons\")\n",
    "st.make(run_number, \"propagated_s1_photons\")"
   ]
  },
  {
   "cell_type": "code",
   "execution_count": 33,
   "metadata": {},
   "outputs": [
    {
     "data": {
      "application/vnd.jupyter.widget-view+json": {
       "model_id": "fe4459f09041444ea783145f211870b2",
       "version_major": 2,
       "version_minor": 0
      },
      "text/plain": [
       "Loading propagated_s1_photons: |          | 0.00 % [00:00<?]"
      ]
     },
     "metadata": {},
     "output_type": "display_data"
    }
   ],
   "source": [
    "propagated_s1_photons = st.get_df(run_number, \"propagated_s1_photons\")"
   ]
  },
  {
   "cell_type": "code",
   "execution_count": 34,
   "metadata": {},
   "outputs": [
    {
     "data": {
      "text/html": [
       "<div>\n",
       "<style scoped>\n",
       "    .dataframe tbody tr th:only-of-type {\n",
       "        vertical-align: middle;\n",
       "    }\n",
       "\n",
       "    .dataframe tbody tr th {\n",
       "        vertical-align: top;\n",
       "    }\n",
       "\n",
       "    .dataframe thead th {\n",
       "        text-align: right;\n",
       "    }\n",
       "</style>\n",
       "<table border=\"1\" class=\"dataframe\">\n",
       "  <thead>\n",
       "    <tr style=\"text-align: right;\">\n",
       "      <th></th>\n",
       "      <th>channel</th>\n",
       "      <th>dpe</th>\n",
       "      <th>photon_gain</th>\n",
       "      <th>time</th>\n",
       "      <th>endtime</th>\n",
       "    </tr>\n",
       "  </thead>\n",
       "  <tbody>\n",
       "    <tr>\n",
       "      <th>0</th>\n",
       "      <td>4</td>\n",
       "      <td>False</td>\n",
       "      <td>2223332</td>\n",
       "      <td>2185013573</td>\n",
       "      <td>2185013573</td>\n",
       "    </tr>\n",
       "    <tr>\n",
       "      <th>1</th>\n",
       "      <td>74</td>\n",
       "      <td>False</td>\n",
       "      <td>2063832</td>\n",
       "      <td>2704673317</td>\n",
       "      <td>2704673317</td>\n",
       "    </tr>\n",
       "    <tr>\n",
       "      <th>2</th>\n",
       "      <td>72</td>\n",
       "      <td>False</td>\n",
       "      <td>1381956</td>\n",
       "      <td>2704673319</td>\n",
       "      <td>2704673319</td>\n",
       "    </tr>\n",
       "    <tr>\n",
       "      <th>3</th>\n",
       "      <td>23</td>\n",
       "      <td>True</td>\n",
       "      <td>4058519</td>\n",
       "      <td>2704673320</td>\n",
       "      <td>2704673320</td>\n",
       "    </tr>\n",
       "    <tr>\n",
       "      <th>4</th>\n",
       "      <td>75</td>\n",
       "      <td>False</td>\n",
       "      <td>1581095</td>\n",
       "      <td>2704673320</td>\n",
       "      <td>2704673320</td>\n",
       "    </tr>\n",
       "  </tbody>\n",
       "</table>\n",
       "</div>"
      ],
      "text/plain": [
       "   channel    dpe  photon_gain        time     endtime\n",
       "0        4  False      2223332  2185013573  2185013573\n",
       "1       74  False      2063832  2704673317  2704673317\n",
       "2       72  False      1381956  2704673319  2704673319\n",
       "3       23   True      4058519  2704673320  2704673320\n",
       "4       75  False      1581095  2704673320  2704673320"
      ]
     },
     "execution_count": 34,
     "metadata": {},
     "output_type": "execute_result"
    }
   ],
   "source": [
    "propagated_s1_photons.head()"
   ]
  },
  {
   "cell_type": "markdown",
   "metadata": {},
   "source": [
    "### S2 Simulation\n",
    "\n",
    "Before we can distribute the photons of the S2 signals to the PMTs like we just did for the S1 signal, we need to simulate what is happening to the electrons at the interaction site. The processes are split into 5 plugins.\n",
    "\n",
    "#### Electron Drift and Extraction\n",
    "\n",
    "First we will simulate the drift of the electrons to the liquid-gas interface. The `ElectronDrift` plugin calculates how many electrons reach the interface taking into account the electron lifetime and the charge insensitive volume of the detector. Next the number of electrons extracted into the gas phase is simulated using the `ElectronExtraction` plugin. Finally we can simulate the arrival times of the extracted electrons using the `ElectronTiming` plugin. You can load the data of these plugins now if you like, but we will first move to the next step and then combine the results afterwards. "
   ]
  },
  {
   "cell_type": "code",
   "execution_count": 35,
   "metadata": {},
   "outputs": [],
   "source": [
    "st.make(run_number, \"drifted_electrons\")\n",
    "st.make(run_number, \"extracted_electrons\")\n",
    "st.make(run_number, \"electron_time\")"
   ]
  },
  {
   "cell_type": "markdown",
   "metadata": {},
   "source": [
    "#### Secondary Scintillation\n",
    "\n",
    "Now that we know how many electrons are extracted into the gas phase, we can simulate the secondary scintillation. This is done using the `SecondaryScintillation` plugin. The plugin provides two outputs, the number of photons produced by each electron and the number of photons per interaction site (summing over the electrons originating from the interaction). "
   ]
  },
  {
   "cell_type": "code",
   "execution_count": 36,
   "metadata": {},
   "outputs": [],
   "source": [
    "st.make(run_number, \"s2_photons\")\n",
    "st.make(run_number, \"s2_photons_sum\")"
   ]
  },
  {
   "cell_type": "markdown",
   "metadata": {},
   "source": [
    "#### S2 Photon Propagation\n",
    "\n",
    "Just like for the S1 simulation we can now distribute the S2 photons to the PMTs and calculate theirs arrival times. This is done using the `S2PhotonPropagation` plugin. The plugin provides similar output as the `S1PhotonPropagation` plugin, a long list of photons that we can access with the target `propagated_s2_photons`. As we are dealing with a lot of photons, expecially for interactions with higher energies, the S2 photon propagtion takes a little longer to run than the previous plugins. "
   ]
  },
  {
   "cell_type": "code",
   "execution_count": 37,
   "metadata": {},
   "outputs": [],
   "source": [
    "st.make(run_number, \"propagated_s2_photons\")"
   ]
  },
  {
   "cell_type": "markdown",
   "metadata": {},
   "source": [
    "### Combining the Results\n",
    "\n",
    "Now that we have everything prepared for our S1 and S2 signals we can take a look at how we can combine these simulation results. First we can load `s2_photons_sum` along with `s1_photons`, `drifted_electrons`, `extracted_electrons` and `microphysics_summary`. "
   ]
  },
  {
   "cell_type": "code",
   "execution_count": 38,
   "metadata": {},
   "outputs": [
    {
     "data": {
      "application/vnd.jupyter.widget-view+json": {
       "model_id": "d7580efe7fa944f6b7d6010e14055b0e",
       "version_major": 2,
       "version_minor": 0
      },
      "text/plain": [
       "Loading plugins: |          | 0.00 % [00:00<?]"
      ]
     },
     "metadata": {},
     "output_type": "display_data"
    }
   ],
   "source": [
    "combined_simulation_results = st.get_df(run_number, [\"microphysics_summary\", \n",
    "                                                     \"s2_photons_sum\",\n",
    "                                                     \"s1_photons\",\n",
    "                                                     \"drifted_electrons\",\n",
    "                                                     \"extracted_electrons\",\n",
    "                                                     ])"
   ]
  },
  {
   "cell_type": "markdown",
   "metadata": {},
   "source": [
    "Lets take a look at some of the results we just simulated. Here you can see the evolution of the numbers through the simulation chain. Additionaly as all of these plugins have matching data types, this will be the base for the implementation of fastsim into fuse. "
   ]
  },
  {
   "cell_type": "code",
   "execution_count": 39,
   "metadata": {},
   "outputs": [
    {
     "data": {
      "text/html": [
       "<div>\n",
       "<style scoped>\n",
       "    .dataframe tbody tr th:only-of-type {\n",
       "        vertical-align: middle;\n",
       "    }\n",
       "\n",
       "    .dataframe tbody tr th {\n",
       "        vertical-align: top;\n",
       "    }\n",
       "\n",
       "    .dataframe thead th {\n",
       "        text-align: right;\n",
       "    }\n",
       "</style>\n",
       "<table border=\"1\" class=\"dataframe\">\n",
       "  <thead>\n",
       "    <tr style=\"text-align: right;\">\n",
       "      <th></th>\n",
       "      <th>n_electron_interface</th>\n",
       "      <th>n_electron_extracted</th>\n",
       "      <th>n_s1_photon_hits</th>\n",
       "      <th>sum_s2_photons</th>\n",
       "      <th>photons</th>\n",
       "      <th>electrons</th>\n",
       "      <th>ed</th>\n",
       "    </tr>\n",
       "  </thead>\n",
       "  <tbody>\n",
       "    <tr>\n",
       "      <th>0</th>\n",
       "      <td>35</td>\n",
       "      <td>20</td>\n",
       "      <td>1</td>\n",
       "      <td>421</td>\n",
       "      <td>37.0</td>\n",
       "      <td>36.0</td>\n",
       "      <td>5.101432</td>\n",
       "    </tr>\n",
       "    <tr>\n",
       "      <th>1</th>\n",
       "      <td>14</td>\n",
       "      <td>11</td>\n",
       "      <td>2</td>\n",
       "      <td>268</td>\n",
       "      <td>12.0</td>\n",
       "      <td>15.0</td>\n",
       "      <td>2.472048</td>\n",
       "    </tr>\n",
       "    <tr>\n",
       "      <th>2</th>\n",
       "      <td>176</td>\n",
       "      <td>87</td>\n",
       "      <td>96</td>\n",
       "      <td>2143</td>\n",
       "      <td>1023.0</td>\n",
       "      <td>181.0</td>\n",
       "      <td>72.487770</td>\n",
       "    </tr>\n",
       "    <tr>\n",
       "      <th>3</th>\n",
       "      <td>146</td>\n",
       "      <td>79</td>\n",
       "      <td>20</td>\n",
       "      <td>1879</td>\n",
       "      <td>190.0</td>\n",
       "      <td>148.0</td>\n",
       "      <td>4.774700</td>\n",
       "    </tr>\n",
       "    <tr>\n",
       "      <th>4</th>\n",
       "      <td>491</td>\n",
       "      <td>251</td>\n",
       "      <td>170</td>\n",
       "      <td>5925</td>\n",
       "      <td>2012.0</td>\n",
       "      <td>496.0</td>\n",
       "      <td>34.503632</td>\n",
       "    </tr>\n",
       "  </tbody>\n",
       "</table>\n",
       "</div>"
      ],
      "text/plain": [
       "   n_electron_interface  n_electron_extracted  n_s1_photon_hits  \\\n",
       "0                    35                    20                 1   \n",
       "1                    14                    11                 2   \n",
       "2                   176                    87                96   \n",
       "3                   146                    79                20   \n",
       "4                   491                   251               170   \n",
       "\n",
       "   sum_s2_photons  photons  electrons         ed  \n",
       "0             421     37.0       36.0   5.101432  \n",
       "1             268     12.0       15.0   2.472048  \n",
       "2            2143   1023.0      181.0  72.487770  \n",
       "3            1879    190.0      148.0   4.774700  \n",
       "4            5925   2012.0      496.0  34.503632  "
      ]
     },
     "execution_count": 39,
     "metadata": {},
     "output_type": "execute_result"
    }
   ],
   "source": [
    "combined_simulation_results[[\"n_electron_interface\",\n",
    "                             \"n_electron_extracted\",\n",
    "                             \"n_s1_photon_hits\",\n",
    "                             \"sum_s2_photons\",\n",
    "                             \"photons\", \n",
    "                             \"electrons\",\n",
    "                             \"ed\"]].head()"
   ]
  },
  {
   "cell_type": "markdown",
   "metadata": {},
   "source": [
    "### PMT Afterpulses\n",
    "\n",
    "Now that we know at which PMTs photons the photons are arriving at we can simulate the PMT afterpulses. The `PMTAfterPulses` plugin provides a list of 'pseudo' photons that represent the afterpulse. This way the output of `PMTAfterPulses`, `S1PhotonPropagation` and `S2PhotonPropagation` can be combined and passed to the next simulation steps. The combined output can be loaded using the `PhotonSummary` plugin. "
   ]
  },
  {
   "cell_type": "code",
   "execution_count": 40,
   "metadata": {},
   "outputs": [],
   "source": [
    "st.make(run_number, \"pmt_afterpulses\")"
   ]
  },
  {
   "cell_type": "code",
   "execution_count": 41,
   "metadata": {},
   "outputs": [
    {
     "data": {
      "application/vnd.jupyter.widget-view+json": {
       "model_id": "1c0287bb66924ef8ba647c382cb75fb5",
       "version_major": 2,
       "version_minor": 0
      },
      "text/plain": [
       "Loading photon_summary: |          | 0.00 % [00:00<?]"
      ]
     },
     "metadata": {},
     "output_type": "display_data"
    }
   ],
   "source": [
    "photon_summary = st.get_df(run_number, \"photon_summary\")"
   ]
  },
  {
   "cell_type": "code",
   "execution_count": 42,
   "metadata": {},
   "outputs": [
    {
     "data": {
      "text/html": [
       "<div>\n",
       "<style scoped>\n",
       "    .dataframe tbody tr th:only-of-type {\n",
       "        vertical-align: middle;\n",
       "    }\n",
       "\n",
       "    .dataframe tbody tr th {\n",
       "        vertical-align: top;\n",
       "    }\n",
       "\n",
       "    .dataframe thead th {\n",
       "        text-align: right;\n",
       "    }\n",
       "</style>\n",
       "<table border=\"1\" class=\"dataframe\">\n",
       "  <thead>\n",
       "    <tr style=\"text-align: right;\">\n",
       "      <th></th>\n",
       "      <th>channel</th>\n",
       "      <th>dpe</th>\n",
       "      <th>photon_gain</th>\n",
       "      <th>time</th>\n",
       "      <th>endtime</th>\n",
       "    </tr>\n",
       "  </thead>\n",
       "  <tbody>\n",
       "    <tr>\n",
       "      <th>0</th>\n",
       "      <td>4</td>\n",
       "      <td>False</td>\n",
       "      <td>2223332</td>\n",
       "      <td>2185013573</td>\n",
       "      <td>2185013573</td>\n",
       "    </tr>\n",
       "    <tr>\n",
       "      <th>1</th>\n",
       "      <td>366</td>\n",
       "      <td>False</td>\n",
       "      <td>1525802</td>\n",
       "      <td>2185034510</td>\n",
       "      <td>2185034510</td>\n",
       "    </tr>\n",
       "    <tr>\n",
       "      <th>2</th>\n",
       "      <td>10</td>\n",
       "      <td>True</td>\n",
       "      <td>2693822</td>\n",
       "      <td>2185034586</td>\n",
       "      <td>2185034586</td>\n",
       "    </tr>\n",
       "    <tr>\n",
       "      <th>3</th>\n",
       "      <td>11</td>\n",
       "      <td>False</td>\n",
       "      <td>2508721</td>\n",
       "      <td>2185034670</td>\n",
       "      <td>2185034670</td>\n",
       "    </tr>\n",
       "    <tr>\n",
       "      <th>4</th>\n",
       "      <td>282</td>\n",
       "      <td>True</td>\n",
       "      <td>3381965</td>\n",
       "      <td>2185034708</td>\n",
       "      <td>2185034708</td>\n",
       "    </tr>\n",
       "  </tbody>\n",
       "</table>\n",
       "</div>"
      ],
      "text/plain": [
       "   channel    dpe  photon_gain        time     endtime\n",
       "0        4  False      2223332  2185013573  2185013573\n",
       "1      366  False      1525802  2185034510  2185034510\n",
       "2       10   True      2693822  2185034586  2185034586\n",
       "3       11  False      2508721  2185034670  2185034670\n",
       "4      282   True      3381965  2185034708  2185034708"
      ]
     },
     "execution_count": 42,
     "metadata": {},
     "output_type": "execute_result"
    }
   ],
   "source": [
    "photon_summary.head()"
   ]
  },
  {
   "cell_type": "markdown",
   "metadata": {},
   "source": [
    "### PMT Response and DAQ Simulation\n",
    "\n",
    "Now that we have simulated the propagation of the photons to the PMTs, we can simulate the PMT response and DAQ effects. First we use the `PulseWindow` plugin to calculate the time intervals (calles `pulse_windows`) in which the PMT signals can potentially overlap since the photons arrive with time differences shorter than the length of a single photons waveform. Additionaly each photon gets an id that corresponds to the pulse window it belongs to."
   ]
  },
  {
   "cell_type": "code",
   "execution_count": 44,
   "metadata": {},
   "outputs": [],
   "source": [
    "st.make(run_number, \"pulse_windows\")\n",
    "st.make(run_number, \"pulse_ids\")"
   ]
  },
  {
   "cell_type": "markdown",
   "metadata": {},
   "source": [
    "Finally we can make `raw_records` using the `PMTResponseAndDAQ` plugin. The plugins iterates over all `pulse_windows` and adds the PMT response of all photons in the pulse. Then the pulse is is split into fragments. These fragments are the final output of fuse: `raw_records`."
   ]
  },
  {
   "cell_type": "code",
   "execution_count": 45,
   "metadata": {},
   "outputs": [],
   "source": [
    "st.make(run_number, \"raw_records\")"
   ]
  }
 ],
 "metadata": {
  "kernelspec": {
   "display_name": "Python [conda env:XENONnT_2023.07.1] *",
   "language": "python",
   "name": "conda-env-XENONnT_2023.07.1-py"
  },
  "language_info": {
   "codemirror_mode": {
    "name": "ipython",
    "version": 3
   },
   "file_extension": ".py",
   "mimetype": "text/x-python",
   "name": "python",
   "nbconvert_exporter": "python",
   "pygments_lexer": "ipython3",
   "version": "3.9.17"
  },
  "orig_nbformat": 4
 },
 "nbformat": 4,
 "nbformat_minor": 2
}
