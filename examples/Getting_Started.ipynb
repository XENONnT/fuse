{
 "cells": [
  {
   "cell_type": "markdown",
   "metadata": {},
   "source": [
    "# Getting Started\n",
    "In this notebook you will learn how to run your first simulation with fuse.\n"
   ]
  },
  {
   "cell_type": "markdown",
   "metadata": {},
   "source": [
    "## Imports"
   ]
  },
  {
   "cell_type": "code",
   "execution_count": null,
   "metadata": {},
   "outputs": [],
   "source": [
    "import fuse\n",
    "from straxen import URLConfig"
   ]
  },
  {
   "cell_type": "markdown",
   "metadata": {},
   "source": [
    "## Setting up the simulation context\n",
    "\n",
    "Just like for our XENON analysis software, fuse simulations are run in a so called context. The context defines which plugins are used and how they are configured. For this tutorial we will run a so called \"full chain\" simulation. This means that our input will be a root file from a Geant4 simulation and our output will be raw_records. \n",
    "\n",
    "At the moment the simulation contexts are defined in `fuse.context`. When fuse will be made public, we will move the XENONnT specific context to cutax. To build our context we need to load a configuration file first. This file contains all needed information to configure the plugins. To load the config file we can use the URLConfig class of straxen. "
   ]
  },
  {
   "cell_type": "code",
   "execution_count": null,
   "metadata": {},
   "outputs": [],
   "source": [
    "url_string = 'simple_load://resource://format://fax_config_nt_sr0_v4.json?&fmt=json'\n",
    "config = URLConfig.evaluate_dry(url_string)"
   ]
  },
  {
   "cell_type": "markdown",
   "metadata": {},
   "source": [
    "Now that we have our config we can define our context. There can be some warings related to numba, urlconfigs and the simulation context. These can be ignored and the warnings related to fuse will be fixed in the future.\n",
    "\n",
    "After building the context we need to tell fuse which file to use as input. This is done via the config options `path` and `file_name`. To set these options we can use the `set_config` method of the context. Any other config option can be changed in the same way."
   ]
  },
  {
   "cell_type": "code",
   "execution_count": null,
   "metadata": {},
   "outputs": [],
   "source": [
    "st = fuse.context.full_chain_context(out_dir = \"./fuse_data\",\n",
    "                                     config = config)\n",
    "\n",
    "st.set_config({\"path\": \"/project2/lgrandi/xenonnt/simulations/testing\",\n",
    "               \"file_name\": \"pmt_neutrons_100.root\",\n",
    "               \"entry_stop\": 10,\n",
    "               \"debug\": True,\n",
    "               })"
   ]
  },
  {
   "cell_type": "markdown",
   "metadata": {},
   "source": [
    "## Running the simulation\n",
    "Now we have everything ready for the first simulation. We will tell fuse to simulate raw_records via the command `st.make(run_number, 'raw_records')`. The first argument is the run number, which is used to identify the data afterwards. The second argument is the data type we want to simulate and save. We can in principle use any run_number we like."
   ]
  },
  {
   "cell_type": "code",
   "execution_count": null,
   "metadata": {},
   "outputs": [],
   "source": [
    "run_number = \"00000\"\n",
    "st.make(run_number,\"raw_records\")"
   ]
  },
  {
   "cell_type": "code",
   "execution_count": null,
   "metadata": {},
   "outputs": [],
   "source": []
  }
 ],
 "metadata": {
  "kernelspec": {
   "display_name": "Python [conda env:XENONnT_development] *",
   "language": "python",
   "name": "conda-env-XENONnT_development-py"
  },
  "language_info": {
   "codemirror_mode": {
    "name": "ipython",
    "version": 3
   },
   "file_extension": ".py",
   "mimetype": "text/x-python",
   "name": "python",
   "nbconvert_exporter": "python",
   "pygments_lexer": "ipython3",
   "version": "3.9.17"
  },
  "orig_nbformat": 4
 },
 "nbformat": 4,
 "nbformat_minor": 2
}
