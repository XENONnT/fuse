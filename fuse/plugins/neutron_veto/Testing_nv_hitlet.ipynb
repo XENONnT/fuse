{
 "cells": [
  {
   "cell_type": "markdown",
   "metadata": {},
   "source": [
    "# Getting Started\n",
    "In this notebook you will learn how to run your first simulation with fuse.\n"
   ]
  },
  {
   "cell_type": "markdown",
   "metadata": {},
   "source": [
    "## Imports"
   ]
  },
  {
   "cell_type": "code",
   "execution_count": 1,
   "metadata": {},
   "outputs": [
    {
     "name": "stdout",
     "output_type": "stream",
     "text": [
      "You specified _auto_append_rucio_local=True and you are not on dali compute nodes, so we will add the following rucio local path: /project/lgrandi/rucio/\n"
     ]
    },
    {
     "name": "stderr",
     "output_type": "stream",
     "text": [
      "/home/digangi/cutax/cutax/cut_lists/science.py:28: UserWarning: Removing cut <class 'cutax.cuts.s2_width.S2Width'>\n",
      "  warnings.warn(f\"Removing cut {cut}\", UserWarning)\n",
      "/home/digangi/.local/lib/python3.9/site-packages/straxen/config/preprocessors.py:16: UserWarning: From straxen version 2.1.0 onward, URLConfig parameterswill be sorted alphabetically before being passed to the plugins, this will change the lineage hash for non-sorted URLs. To load data processed with non-sorted URLs, you will need to use an older version.\n",
      "  warnings.warn(\n"
     ]
    }
   ],
   "source": [
    "import sys\n",
    "\n",
    "sys.path.insert(0, \"/home/digangi/cutax/\")  # on midway3\n",
    "\n",
    "import fuse\n",
    "import matplotlib.pyplot as plt\n",
    "import numpy as np\n",
    "import awkward as ak\n",
    "from tqdm import tqdm\n",
    "import tqdm.notebook as tq\n",
    "import pandas as pd\n",
    "from sklearn.cluster import DBSCAN"
   ]
  },
  {
   "cell_type": "code",
   "execution_count": 2,
   "metadata": {},
   "outputs": [
    {
     "name": "stdout",
     "output_type": "stream",
     "text": [
      "Warning! elife not in context config, skipping...\n",
      "Warning! electron_drift_velocity not in context config, skipping...\n",
      "Warning! electron_drift_time_gate not in context config, skipping...\n"
     ]
    },
    {
     "name": "stderr",
     "output_type": "stream",
     "text": [
      "/home/digangi/.local/lib/python3.9/site-packages/strax/context.py:380: UserWarning: Provides of multi-output plugins overlap, deregister old plugins <class 'straxen.plugins.raw_records.daqreader.DAQReader'>.\n",
      "  warnings.warn(\n",
      "/home/digangi/.local/lib/python3.9/site-packages/strax/context.py:380: UserWarning: Provides of multi-output plugins overlap, deregister old plugins <class 'straxen.plugins.raw_records.daqreader.DAQReader'>.\n",
      "  warnings.warn(\n",
      "/home/digangi/.local/lib/python3.9/site-packages/strax/context.py:380: UserWarning: Provides of multi-output plugins overlap, deregister old plugins <class 'straxen.plugins.raw_records.daqreader.DAQReader'>.\n",
      "  warnings.warn(\n",
      "/home/digangi/.local/lib/python3.9/site-packages/strax/context.py:380: UserWarning: Provides of multi-output plugins overlap, deregister old plugins <class 'straxen.plugins.raw_records.daqreader.DAQReader'>.\n",
      "  warnings.warn(\n",
      "/home/digangi/.local/lib/python3.9/site-packages/strax/context.py:380: UserWarning: Provides of multi-output plugins overlap, deregister old plugins <class 'straxen.plugins.raw_records.daqreader.DAQReader'>.\n",
      "  warnings.warn(\n",
      "/home/digangi/.local/lib/python3.9/site-packages/strax/context.py:380: UserWarning: Provides of multi-output plugins overlap, deregister old plugins <class 'straxen.plugins.raw_records.daqreader.DAQReader'>.\n",
      "  warnings.warn(\n"
     ]
    }
   ],
   "source": [
    "st = fuse.context.full_chain_context(output_folder=\"./fuse_data\")\n",
    "st.set_config(\n",
    "    {\n",
    "        \"path\": \"/project2/lgrandi/layos/\",\n",
    "        \"file_name\": \"output_n_Veto_neutron_AmBe_1.root\",\n",
    "        \"entry_stop\": 2000,\n",
    "        \"nv_output\": True,  # On inclus les pmts du Neutron Veto (par defaut False)\n",
    "        \"debug\": True,\n",
    "        \"file_size_limit\": 500 / 1e4,  # Poser question a Hening sur cela....\n",
    "    }\n",
    ")\n",
    "\n",
    "run_number = \"00003\"  # Attention à ce parametre, aujourd'hui triviale, mais qui tiens en compte du mapping pour la TPC en fonction du run."
   ]
  },
  {
   "cell_type": "code",
   "execution_count": 2,
   "metadata": {},
   "outputs": [
    {
     "name": "stdout",
     "output_type": "stream",
     "text": [
      "Warning! elife not in context config, skipping...\n",
      "Warning! electron_drift_velocity not in context config, skipping...\n",
      "Warning! electron_drift_time_gate not in context config, skipping...\n"
     ]
    },
    {
     "name": "stderr",
     "output_type": "stream",
     "text": [
      "/home/digangi/.local/lib/python3.9/site-packages/strax/context.py:380: UserWarning: Provides of multi-output plugins overlap, deregister old plugins <class 'straxen.plugins.raw_records.daqreader.DAQReader'>.\n",
      "  warnings.warn(\n",
      "/home/digangi/.local/lib/python3.9/site-packages/strax/context.py:380: UserWarning: Provides of multi-output plugins overlap, deregister old plugins <class 'straxen.plugins.raw_records.daqreader.DAQReader'>.\n",
      "  warnings.warn(\n",
      "/home/digangi/.local/lib/python3.9/site-packages/strax/context.py:380: UserWarning: Provides of multi-output plugins overlap, deregister old plugins <class 'straxen.plugins.raw_records.daqreader.DAQReader'>.\n",
      "  warnings.warn(\n",
      "/home/digangi/.local/lib/python3.9/site-packages/strax/context.py:380: UserWarning: Provides of multi-output plugins overlap, deregister old plugins <class 'straxen.plugins.raw_records.daqreader.DAQReader'>.\n",
      "  warnings.warn(\n",
      "/home/digangi/.local/lib/python3.9/site-packages/strax/context.py:380: UserWarning: Provides of multi-output plugins overlap, deregister old plugins <class 'straxen.plugins.raw_records.daqreader.DAQReader'>.\n",
      "  warnings.warn(\n",
      "/home/digangi/.local/lib/python3.9/site-packages/strax/context.py:380: UserWarning: Provides of multi-output plugins overlap, deregister old plugins <class 'straxen.plugins.raw_records.daqreader.DAQReader'>.\n",
      "  warnings.warn(\n"
     ]
    }
   ],
   "source": [
    "g4dir = \"/project/lgrandi/xenonnt/simulations/nveto/ambe/geant4/ambe_nveto_gd0p02_2024-01-23/gd_ambe_sr1_top_cw7d8m_with_gamma/results/\"\n",
    "filename = \"nT_mc_gdt7p8m_wc_00000.root\"\n",
    "\n",
    "st = fuse.context.full_chain_context(output_folder=\"./fuse_data\")\n",
    "st.set_config(\n",
    "    {\n",
    "        \"path\": g4dir,\n",
    "        \"file_name\": filename,\n",
    "        \"entry_stop\": 2000,\n",
    "        \"nv_output\": True,  # On inclus les pmts du Neutron Veto (par defaut False)\n",
    "        \"debug\": True,\n",
    "        \"file_size_limit\": 500 / 1e4,  # Poser question a Hening sur cela....\n",
    "    }\n",
    ")\n",
    "\n",
    "run_number = \"00003\"  # Attention à ce parametre, aujourd'hui triviale, mais qui tiens en compte du mapping pour la TPC en fonction du run."
   ]
  },
  {
   "cell_type": "code",
   "execution_count": 3,
   "metadata": {},
   "outputs": [],
   "source": [
    "st.set_config({\"deteministic_seed\": False, \"user_defined_random_seed\": 42})"
   ]
  },
  {
   "cell_type": "code",
   "execution_count": 4,
   "metadata": {},
   "outputs": [
    {
     "name": "stderr",
     "output_type": "stream",
     "text": [
      "WARNING:strax:Option gain_model_nv not taken by any registered plugin\n",
      "WARNING:strax:Option gain_model_mv not taken by any registered plugin\n",
      "WARNING:strax:Option deteministic_seed not taken by any registered plugin\n",
      "WARNING:strax:Option user_defined_random_seed not taken by any registered plugin\n",
      "WARNING:strax:Option gain_model_nv not taken by any registered plugin\n",
      "WARNING:strax:Option gain_model_mv not taken by any registered plugin\n",
      "WARNING:strax:Option deteministic_seed not taken by any registered plugin\n",
      "WARNING:strax:Option user_defined_random_seed not taken by any registered plugin\n"
     ]
    },
    {
     "data": {
      "application/vnd.jupyter.widget-view+json": {
       "model_id": "216ccda11e494bbaa5c22626763cd7ac",
       "version_major": 2,
       "version_minor": 0
      },
      "text/plain": [
       "Loading nv_pmthits: |          | 0.00 % [00:00<?]"
      ]
     },
     "metadata": {},
     "output_type": "display_data"
    }
   ],
   "source": [
    "nv_pmthits = st.get_array(run_number, \"nv_pmthits\")"
   ]
  },
  {
   "cell_type": "code",
   "execution_count": 5,
   "metadata": {},
   "outputs": [
    {
     "data": {
      "text/plain": [
       "391"
      ]
     },
     "execution_count": 5,
     "metadata": {},
     "output_type": "execute_result"
    }
   ],
   "source": [
    "len(np.unique(nv_pmthits[\"evtid\"]))"
   ]
  },
  {
   "cell_type": "code",
   "execution_count": 6,
   "metadata": {},
   "outputs": [
    {
     "data": {
      "text/plain": [
       "179349"
      ]
     },
     "execution_count": 6,
     "metadata": {},
     "output_type": "execute_result"
    }
   ],
   "source": [
    "len(nv_pmthits)"
   ]
  },
  {
   "cell_type": "code",
   "execution_count": 7,
   "metadata": {},
   "outputs": [
    {
     "name": "stdout",
     "output_type": "stream",
     "text": [
      "Applying QE and CE\n",
      "Loading hit survive\n",
      "Sampling hitlets charge pe\n",
      "Getting time hitlets\n"
     ]
    }
   ],
   "source": [
    "# sr=1\n",
    "# eCE=0.87\n",
    "\n",
    "sr = 0\n",
    "eCE = 0.75\n",
    "\n",
    "nv_hitlet = fuse.neutron_veto.NeutronVetoHitlets(sr=sr)\n",
    "\n",
    "hitlets_nv = nv_hitlet.compute(nv_pmthits, eCE=eCE)"
   ]
  },
  {
   "cell_type": "code",
   "execution_count": 8,
   "metadata": {},
   "outputs": [
    {
     "name": "stdout",
     "output_type": "stream",
     "text": [
      "Applying QE and CE\n",
      "Loading hit survive\n",
      "Sampling hitlets charge pe\n",
      "Getting time hitlets\n",
      "Looking for stacked hitlets\n"
     ]
    },
    {
     "data": {
      "application/vnd.jupyter.widget-view+json": {
       "model_id": "ede11f11374542d194be21852952061d",
       "version_major": 2,
       "version_minor": 0
      },
      "text/plain": [
       "  0%|          | 0/373 [00:00<?, ?it/s]"
      ]
     },
     "metadata": {},
     "output_type": "display_data"
    }
   ],
   "source": [
    "hitlets_nv_stacked = nv_hitlet.compute(nv_pmthits, eCE=eCE, Stacked_opt=\"yes\")"
   ]
  },
  {
   "cell_type": "code",
   "execution_count": 9,
   "metadata": {},
   "outputs": [
    {
     "data": {
      "text/plain": [
       "28543"
      ]
     },
     "execution_count": 9,
     "metadata": {},
     "output_type": "execute_result"
    }
   ],
   "source": [
    "len(hitlets_nv)"
   ]
  },
  {
   "cell_type": "code",
   "execution_count": 10,
   "metadata": {},
   "outputs": [
    {
     "name": "stdout",
     "output_type": "stream",
     "text": [
      "You specified _auto_append_rucio_local=True and you are not on dali compute nodes, so we will add the following rucio local path: /project/lgrandi/rucio/\n"
     ]
    }
   ],
   "source": [
    "# Hitlets_nv is an array to be computed by strax plugin, exemple\n",
    "import cutax\n",
    "\n",
    "st = cutax.contexts.xenonnt_online()\n",
    "strax_nv = st.get_single_plugin(\"0\", \"events_nv\")\n",
    "events_nv = strax_nv.compute(hitlets_nv, min(hitlets_nv[\"time\"]), max(hitlets_nv[\"time\"]))\n",
    "events_nv_stacket = strax_nv.compute(\n",
    "    hitlets_nv_stacked, min(hitlets_nv_stacked[\"time\"]), max(hitlets_nv_stacked[\"time\"])\n",
    ")"
   ]
  },
  {
   "cell_type": "code",
   "execution_count": 11,
   "metadata": {},
   "outputs": [
    {
     "data": {
      "text/plain": [
       "550"
      ]
     },
     "execution_count": 11,
     "metadata": {},
     "output_type": "execute_result"
    }
   ],
   "source": [
    "len(events_nv)"
   ]
  },
  {
   "cell_type": "code",
   "execution_count": 13,
   "metadata": {},
   "outputs": [
    {
     "data": {
      "image/png": "[encoded data removed]",
      "text/plain": [
       "<Figure size 640x480 with 1 Axes>"
      ]
     },
     "metadata": {},
     "output_type": "display_data"
    }
   ],
   "source": [
    "plt.hist(events_nv[\"area\"], range=[0, 200], bins=20, alpha=0.3, label=\"events_nv\")\n",
    "plt.hist(events_nv_stacket[\"area\"], range=[0, 200], bins=20, alpha=0.3, label=\"events_nv_stacked\")\n",
    "plt.legend()\n",
    "plt.show()"
   ]
  },
  {
   "cell_type": "code",
   "execution_count": 44,
   "metadata": {},
   "outputs": [
    {
     "name": "stdout",
     "output_type": "stream",
     "text": [
      "Output saved to file:  /scratch/midway3/digangi/simulations/NeutronVeto/hitlet_sim/output_data/fuseHitSim_sr0config_seed42_nparraynT_mc_gdt7p8m_wc_00000.root\n"
     ]
    }
   ],
   "source": [
    "output_file = (\n",
    "    \"/scratch/midway3/digangi/simulations/NeutronVeto/hitlet_sim/output_data/\"\n",
    "    + \"fuseHitSim_sr\"\n",
    "    + str(sr)\n",
    "    + \"config_seed42_nparray\"\n",
    "    + filename\n",
    ")\n",
    "np.save(output_file, events_nv)\n",
    "print(\"Output saved to file: \", output_file)"
   ]
  },
  {
   "cell_type": "code",
   "execution_count": null,
   "metadata": {},
   "outputs": [],
   "source": []
  },
  {
   "cell_type": "code",
   "execution_count": null,
   "metadata": {},
   "outputs": [],
   "source": []
  },
  {
   "cell_type": "code",
   "execution_count": null,
   "metadata": {},
   "outputs": [],
   "source": []
  },
  {
   "cell_type": "code",
   "execution_count": 12,
   "metadata": {},
   "outputs": [
    {
     "data": {
      "text/plain": [
       "array([(4.1504655, 3.7096519e+01, 2006,   0,      776003102,      776003102),\n",
       "       (7.0233135, 1.2525828e+05,  123,   0,      776128323,      776128323),\n",
       "       (7.020823 , 1.2526002e+05,  300,   0,      776128325,      776128325),\n",
       "       ...,\n",
       "       (4.4297585, 1.4902604e+13, 2111, 370, 15282534046465, 15282534046465),\n",
       "       (2.2376018, 1.4902604e+13, 2035, 370, 15282534046465, 15282534046465),\n",
       "       (3.5634096, 1.4902604e+13, 2103, 370, 15282534046465, 15282534046465)],\n",
       "      dtype=[('pmthitEnergy', '<f4'), ('pmthitTime', '<f4'), ('pmthitID', '<i2'), ('evtid', '<i4'), (('Start time since unix epoch [ns]', 'time'), '<i8'), (('Exclusive end time since unix epoch [ns]', 'endtime'), '<i8')])"
      ]
     },
     "execution_count": 12,
     "metadata": {},
     "output_type": "execute_result"
    }
   ],
   "source": [
    "nv_pmthits"
   ]
  },
  {
   "cell_type": "code",
   "execution_count": 13,
   "metadata": {},
   "outputs": [
    {
     "data": {
      "text/html": [
       "<pre>[{pmthitEnergy: 4.15, pmthitTime: 37.1, pmthitID: 2006, evtid: 0, ...},\n",
       " {pmthitEnergy: 7.02, pmthitTime: 1.25e+05, pmthitID: 123, evtid: 0, ...},\n",
       " {pmthitEnergy: 7.02, pmthitTime: 1.25e+05, pmthitID: 300, evtid: 0, ...},\n",
       " {pmthitEnergy: 6.95, pmthitTime: 1.25e+05, pmthitID: 465, evtid: 0, ...},\n",
       " {pmthitEnergy: 6.95, pmthitTime: 1.25e+05, pmthitID: 87, evtid: 0, ...},\n",
       " {pmthitEnergy: 6.96, pmthitTime: 1.25e+05, pmthitID: 392, evtid: 0, ...},\n",
       " {pmthitEnergy: 6.98, pmthitTime: 1.25e+05, pmthitID: 54, evtid: 0, ...},\n",
       " {pmthitEnergy: 6.99, pmthitTime: 1.25e+05, pmthitID: 465, evtid: 0, ...},\n",
       " {pmthitEnergy: 6.93, pmthitTime: 1.25e+05, pmthitID: 365, evtid: 0, ...},\n",
       " {pmthitEnergy: 7.02, pmthitTime: 1.25e+05, pmthitID: 54, evtid: 0, ...},\n",
       " ...,\n",
       " {pmthitEnergy: 3.22, pmthitTime: 1.49e+13, pmthitID: 2113, evtid: 370, ...},\n",
       " {pmthitEnergy: 2.13, pmthitTime: 1.49e+13, pmthitID: 2005, evtid: 370, ...},\n",
       " {pmthitEnergy: 4.97, pmthitTime: 1.49e+13, pmthitID: 2112, evtid: 370, ...},\n",
       " {pmthitEnergy: 2.24, pmthitTime: 1.49e+13, pmthitID: 2113, evtid: 370, ...},\n",
       " {pmthitEnergy: 3.32, pmthitTime: 1.49e+13, pmthitID: 2035, evtid: 370, ...},\n",
       " {pmthitEnergy: 4.66, pmthitTime: 1.49e+13, pmthitID: 2005, evtid: 370, ...},\n",
       " {pmthitEnergy: 4.43, pmthitTime: 1.49e+13, pmthitID: 2111, evtid: 370, ...},\n",
       " {pmthitEnergy: 2.24, pmthitTime: 1.49e+13, pmthitID: 2035, evtid: 370, ...},\n",
       " {pmthitEnergy: 3.56, pmthitTime: 1.49e+13, pmthitID: 2103, evtid: 370, ...}]\n",
       "-----------------------------------------------------------------------------\n",
       "type: 179349 * {\n",
       "    pmthitEnergy: float32,\n",
       "    pmthitTime: float32,\n",
       "    pmthitID: int16,\n",
       "    evtid: int32,\n",
       "    time: int64,\n",
       "    endtime: int64\n",
       "}</pre>"
      ],
      "text/plain": [
       "<Array [{pmthitEnergy: 4.15, ...}, ..., {...}] type='179349 * {pmthitEnergy...'>"
      ]
     },
     "execution_count": 13,
     "metadata": {},
     "output_type": "execute_result"
    }
   ],
   "source": [
    "ak_pmthits = ak.Array(nv_pmthits)\n",
    "ak_pmthits"
   ]
  },
  {
   "cell_type": "code",
   "execution_count": null,
   "metadata": {},
   "outputs": [],
   "source": []
  },
  {
   "cell_type": "code",
   "execution_count": 19,
   "metadata": {},
   "outputs": [
    {
     "name": "stdout",
     "output_type": "stream",
     "text": [
      "179349\n",
      "177403\n"
     ]
    }
   ],
   "source": [
    "# awkward array with 'evtid', 'pmthitTime', 'pmthitEnergy', 'pmthitID'\n",
    "# pmthits=ak.Array(nv_pmthits)\n",
    "pmthits = nv_pmthits\n",
    "print(len(pmthits))\n",
    "# select NV PMTs (need to exclude MV PMTs?)\n",
    "mask = pmthits[\"pmthitID\"] >= 2000\n",
    "pmthits = pmthits[mask]\n",
    "print(len(pmthits))"
   ]
  },
  {
   "cell_type": "code",
   "execution_count": 10,
   "metadata": {},
   "outputs": [
    {
     "name": "stdout",
     "output_type": "stream",
     "text": [
      "Applying QE and CE\n",
      "Loading hit survive\n",
      "Sampling hitlets charge pe\n",
      "Getting time hitlets\n",
      "Looking for stacket hitlets\n"
     ]
    },
    {
     "data": {
      "application/vnd.jupyter.widget-view+json": {
       "model_id": "3cefca70540547c59fc4454c87355865",
       "version_major": 2,
       "version_minor": 0
      },
      "text/plain": [
       "  0%|          | 0/1824 [00:00<?, ?it/s]"
      ]
     },
     "metadata": {},
     "output_type": "display_data"
    }
   ],
   "source": [
    "hitlets_nv_stacked = nv_hitlet.compute(nv_pmthits, Stacked_opt=\"yes\")"
   ]
  },
  {
   "cell_type": "code",
   "execution_count": 17,
   "metadata": {},
   "outputs": [
    {
     "data": {
      "text/plain": [
       "553"
      ]
     },
     "execution_count": 17,
     "metadata": {},
     "output_type": "execute_result"
    }
   ],
   "source": [
    "len(events_nv)"
   ]
  },
  {
   "cell_type": "code",
   "execution_count": 196,
   "metadata": {},
   "outputs": [],
   "source": [
    "### SR0 config\n",
    "events_AM = np.load(\n",
    "    \"/scratch/midway3/digangi/simulations/NeutronVeto/hitlet_sim/output_data/AMhitsim_nVETOEvents_gd_ambe_sr1_top_cw7d8m_with_gamma_ce0.75.npy\"\n",
    ")\n",
    "events_NV_0 = np.load(\n",
    "    \"/scratch/midway3/digangi/simulations/NeutronVeto/hitlet_sim/output_data/fuseHitSim_nT_mc_gdt7p8m_wc_00000.root.npy\"\n",
    ")\n",
    "events_NV_1 = np.load(\n",
    "    \"/scratch/midway3/digangi/simulations/NeutronVeto/hitlet_sim/output_data/fuseHitSim_nT_mc_gdt7p8m_wc_00001.root.npy\"\n",
    ")\n",
    "events_NV_2 = np.load(\n",
    "    \"/scratch/midway3/digangi/simulations/NeutronVeto/hitlet_sim/output_data/fuseHitSim_nT_mc_gdt7p8m_wc_00002.root.npy\"\n",
    ")\n",
    "events_NV_3 = np.load(\n",
    "    \"/scratch/midway3/digangi/simulations/NeutronVeto/hitlet_sim/output_data/fuseHitSim_nT_mc_gdt7p8m_wc_00003.root.npy\"\n",
    ")\n",
    "events_NV_4 = np.load(\n",
    "    \"/scratch/midway3/digangi/simulations/NeutronVeto/hitlet_sim/output_data/fuseHitSim_nT_mc_gdt7p8m_wc_00004.root.npy\"\n",
    ")\n",
    "events_NV_5 = np.load(\n",
    "    \"/scratch/midway3/digangi/simulations/NeutronVeto/hitlet_sim/output_data/fuseHitSim_nT_mc_gdt7p8m_wc_00005.root.npy\"\n",
    ")\n",
    "events_NV_6 = np.load(\n",
    "    \"/scratch/midway3/digangi/simulations/NeutronVeto/hitlet_sim/output_data/fuseHitSim_nT_mc_gdt7p8m_wc_00006.root.npy\"\n",
    ")\n",
    "events_NV_7 = np.load(\n",
    "    \"/scratch/midway3/digangi/simulations/NeutronVeto/hitlet_sim/output_data/fuseHitSim_nT_mc_gdt7p8m_wc_00007.root.npy\"\n",
    ")\n",
    "\n",
    "events_NV_0_nparray = np.load(\n",
    "    \"/scratch/midway3/digangi/simulations/NeutronVeto/hitlet_sim/output_data/fuseHitSim_nT_mc_gdt7p8m_wc_00007.root.npy\"\n",
    ")"
   ]
  },
  {
   "cell_type": "code",
   "execution_count": 91,
   "metadata": {},
   "outputs": [],
   "source": [
    "### SR1 config\n",
    "events_AM = np.load(\n",
    "    \"/scratch/midway3/digangi/simulations/NeutronVeto/hitlet_sim/output_data/AMhitsim_nVETOEvents_gd_ambe_sr1_top_cw7d8m_with_gamma_ce0.87.npy\"\n",
    ")\n",
    "events_NV_0 = np.load(\n",
    "    \"/scratch/midway3/digangi/simulations/NeutronVeto/hitlet_sim/output_data/fuseHitSim_sr1config_nT_mc_gdt7p8m_wc_00000.root.npy\"\n",
    ")\n",
    "events_NV_1 = np.load(\n",
    "    \"/scratch/midway3/digangi/simulations/NeutronVeto/hitlet_sim/output_data/fuseHitSim_sr1config_nT_mc_gdt7p8m_wc_00001.root.npy\"\n",
    ")\n",
    "events_NV_2 = np.load(\n",
    "    \"/scratch/midway3/digangi/simulations/NeutronVeto/hitlet_sim/output_data/fuseHitSim_sr1config_nT_mc_gdt7p8m_wc_00002.root.npy\"\n",
    ")\n",
    "events_NV_3 = np.load(\n",
    "    \"/scratch/midway3/digangi/simulations/NeutronVeto/hitlet_sim/output_data/fuseHitSim_sr1config_nT_mc_gdt7p8m_wc_00003.root.npy\"\n",
    ")\n",
    "events_NV_4 = np.load(\n",
    "    \"/scratch/midway3/digangi/simulations/NeutronVeto/hitlet_sim/output_data/fuseHitSim_sr1config_nT_mc_gdt7p8m_wc_00004.root.npy\"\n",
    ")\n",
    "events_NV_5 = np.load(\n",
    "    \"/scratch/midway3/digangi/simulations/NeutronVeto/hitlet_sim/output_data/fuseHitSim_sr1config_nT_mc_gdt7p8m_wc_00005.root.npy\"\n",
    ")\n",
    "events_NV_6 = np.load(\n",
    "    \"/scratch/midway3/digangi/simulations/NeutronVeto/hitlet_sim/output_data/fuseHitSim_sr1config_nT_mc_gdt7p8m_wc_00006.root.npy\"\n",
    ")\n",
    "events_NV_7 = np.load(\n",
    "    \"/scratch/midway3/digangi/simulations/NeutronVeto/hitlet_sim/output_data/fuseHitSim_sr1config_nT_mc_gdt7p8m_wc_00007.root.npy\"\n",
    ")"
   ]
  },
  {
   "cell_type": "code",
   "execution_count": 92,
   "metadata": {},
   "outputs": [
    {
     "data": {
      "text/plain": [
       "4455"
      ]
     },
     "execution_count": 92,
     "metadata": {},
     "output_type": "execute_result"
    }
   ],
   "source": [
    "events_NV = np.concatenate(\n",
    "    [\n",
    "        events_NV_0,\n",
    "        events_NV_1,\n",
    "        events_NV_2,\n",
    "        events_NV_3,\n",
    "        events_NV_4,\n",
    "        events_NV_5,\n",
    "        events_NV_6,\n",
    "        events_NV_7,\n",
    "    ]\n",
    ")\n",
    "# events_NV = np.concatenate([events_NV_7])\n",
    "\n",
    "len(events_NV)"
   ]
  },
  {
   "cell_type": "code",
   "execution_count": 93,
   "metadata": {},
   "outputs": [
    {
     "data": {
      "text/plain": [
       "4403"
      ]
     },
     "execution_count": 93,
     "metadata": {},
     "output_type": "execute_result"
    }
   ],
   "source": [
    "len(events_AM)"
   ]
  },
  {
   "cell_type": "code",
   "execution_count": 45,
   "metadata": {},
   "outputs": [],
   "source": [
    "events_AM = np.load(\n",
    "    \"/scratch/midway3/digangi/simulations/NeutronVeto/hitlet_sim/output_data/AMhitsim_nVETOEvents_gd_ambe_sr1_top_cw7d8m_with_gamma_ce0.75_.npy\"\n",
    ")\n",
    "events_NV = np.load(\n",
    "    \"/scratch/midway3/digangi/simulations/NeutronVeto/hitlet_sim/output_data/fuseHitSim_sr0config_seed42_nT_mc_gdt7p8m_wc_00000.root.npy\"\n",
    ")\n",
    "events_NV_nparray = np.load(\n",
    "    \"/scratch/midway3/digangi/simulations/NeutronVeto/hitlet_sim/output_data/fuseHitSim_sr0config_seed42_nparraynT_mc_gdt7p8m_wc_00000.root.npy\"\n",
    ")"
   ]
  },
  {
   "cell_type": "code",
   "execution_count": 46,
   "metadata": {},
   "outputs": [
    {
     "name": "stdout",
     "output_type": "stream",
     "text": [
      "[AM HitSim] NV events generated: 552\n",
      "[fuse HitSim] NV events generated: 553\n",
      "[fuse HitSim] NV events generated: 557\n",
      "fuse - AM: 0.18083182640144665 %\n"
     ]
    },
    {
     "data": {
      "image/png": "[encoded data removed]",
      "text/plain": [
       "<Figure size 1200x800 with 1 Axes>"
      ]
     },
     "metadata": {},
     "output_type": "display_data"
    }
   ],
   "source": [
    "# Stampa del numero di eventi\n",
    "print(\"[AM HitSim] NV events generated:\", len(events_AM))\n",
    "print(\"[fuse HitSim] NV events generated:\", len(events_NV))\n",
    "print(\"[fuse HitSim] NV events generated:\", len(events_NV_nparray))\n",
    "\n",
    "print(\"fuse - AM:\", (len(events_NV) - len(events_AM)) / len(events_NV) * 100, \"%\")\n",
    "\n",
    "plt.figure(figsize=(12, 8))\n",
    "\n",
    "# Parametri comuni per l'istogramma\n",
    "bin_range = [0, 200]\n",
    "bins = 20\n",
    "\n",
    "# Istogramma per AM HitSim\n",
    "# counts_AM, edges_AM, _ = plt.hist(events_AM['area'], histtype='step', range=bin_range, bins=bins, label='AM HitSim: ' + str(len(events_AM)) + ' events', color='b')\n",
    "# bin_centers_AM = (edges_AM[:-1] + edges_AM[1:]) / 2\n",
    "# errors_AM = np.sqrt(counts_AM)\n",
    "\n",
    "# Istogramma per fuse HitSim\n",
    "counts_nv, edges_nv, _ = plt.hist(\n",
    "    events_NV[\"area\"],\n",
    "    histtype=\"step\",\n",
    "    range=bin_range,\n",
    "    bins=bins,\n",
    "    label=\"fuse HitSim \" + str(len(events_NV)) + \" events\",\n",
    "    color=\"orange\",\n",
    ")\n",
    "bin_centers_nv = (edges_nv[:-1] + edges_nv[1:]) / 2\n",
    "errors_nv = np.sqrt(counts_nv)\n",
    "\n",
    "# Istogramma per fuse HitSim\n",
    "counts_nv_, edges_nv_, _ = plt.hist(\n",
    "    events_NV_nparray[\"area\"],\n",
    "    histtype=\"step\",\n",
    "    range=bin_range,\n",
    "    bins=bins,\n",
    "    label=\"fuse HitSim (np.array) \" + str(len(events_NV_nparray)) + \" events\",\n",
    "    color=\"r\",\n",
    ")\n",
    "bin_centers_nv_ = (edges_nv_[:-1] + edges_nv_[1:]) / 2\n",
    "errors_nv_ = np.sqrt(counts_nv_)\n",
    "\n",
    "\n",
    "# Aggiunta delle barre d'errore con tacchette orizzontali\n",
    "# plt.errorbar(bin_centers_AM, counts_AM, yerr=errors_AM, fmt='none', color='b',\n",
    "#             label='AM HitSim Error', capsize=4, capthick=1, alpha=0.5)\n",
    "plt.errorbar(\n",
    "    bin_centers_nv,\n",
    "    counts_nv,\n",
    "    yerr=errors_nv,\n",
    "    fmt=\"none\",\n",
    "    color=\"orange\",\n",
    "    label=\"fuse HitSim Error\",\n",
    "    capsize=4,\n",
    "    capthick=1,\n",
    "    alpha=0.5,\n",
    ")\n",
    "plt.errorbar(\n",
    "    bin_centers_nv_,\n",
    "    counts_nv_,\n",
    "    yerr=errors_nv_,\n",
    "    fmt=\"none\",\n",
    "    color=\"r\",\n",
    "    label=\"fuse HitSim (np.array) Error\",\n",
    "    capsize=4,\n",
    "    capthick=1,\n",
    "    alpha=0.5,\n",
    ")\n",
    "\n",
    "\n",
    "# Personalizzazione del grafico\n",
    "plt.xlabel(\"Area\")\n",
    "plt.ylabel(\"Counts\")\n",
    "plt.title(\"gd_ambe_top_cw7d8m_with_gamma - Config: SR1, eCE=0.87\")\n",
    "plt.legend()\n",
    "plt.show()"
   ]
  },
  {
   "cell_type": "code",
   "execution_count": null,
   "metadata": {},
   "outputs": [],
   "source": []
  },
  {
   "cell_type": "code",
   "execution_count": null,
   "metadata": {},
   "outputs": [],
   "source": []
  },
  {
   "cell_type": "code",
   "execution_count": null,
   "metadata": {},
   "outputs": [],
   "source": []
  }
 ],
 "metadata": {
  "kernelspec": {
   "display_name": "Python 3 (ipykernel)",
   "language": "python",
   "name": "python3"
  },
  "language_info": {
   "codemirror_mode": {
    "name": "ipython",
    "version": 3
   },
   "file_extension": ".py",
   "mimetype": "text/x-python",
   "name": "python",
   "nbconvert_exporter": "python",
   "pygments_lexer": "ipython3",
   "version": "3.9.20"
  }
 },
 "nbformat": 4,
 "nbformat_minor": 4
}
