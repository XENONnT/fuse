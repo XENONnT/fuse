{
 "cells": [
  {
   "cell_type": "code",
   "execution_count": 1,
   "id": "f8d2ee8d-3fb7-43ea-bcce-f5d9ab814143",
   "metadata": {},
   "outputs": [],
   "source": [
    "import json \n",
    "from scipy.interpolate import interp1d\n",
    "import numpy as np\n",
    "import matplotlib.pyplot as plt\n",
    "import pandas  as pd\n",
    "import uproot as rt\n",
    "import numpy as np\n",
    "import awkward as ak\n",
    "import scipy.constants as const\n",
    "from scipy import interpolate\n",
    "import time\n",
    "import tqdm\n",
    "import straxen\n",
    "import strax\n",
    "import cutax"
   ]
  },
  {
   "cell_type": "code",
   "execution_count": 2,
   "id": "f0e63e7e-d9e3-4182-acad-3dfb95c1aa6b",
   "metadata": {},
   "outputs": [
    {
     "name": "stdout",
     "output_type": "stream",
     "text": [
      "You specified _auto_append_rucio_local=True and you are not on dali compute nodes,so we will add the following rucio local path:  /project/lgrandi/rucio/\n"
     ]
    },
    {
     "name": "stderr",
     "output_type": "stream",
     "text": [
      "/opt/XENONnT/anaconda/envs/XENONnT_2023.07.2/lib/python3.9/site-packages/straxen/url_config.py:756: UserWarning: From straxen version 2.1.0 onward, URLConfig parameterswill be sorted alphabetically before being passed to the plugins, this will change the lineage hash for non-sorted URLs. To load data processed with non-sorted URLs, you will need to use an older version.\n",
      "  warnings.warn(\n"
     ]
    }
   ],
   "source": [
    "import Hitlet_nv_simulator"
   ]
  },
  {
   "cell_type": "code",
   "execution_count": 3,
   "id": "64ad9dcc-5492-4124-8acc-0564dd920b0e",
   "metadata": {},
   "outputs": [
    {
     "name": "stdout",
     "output_type": "stream",
     "text": [
      "You specified _auto_append_rucio_local=True and you are not on dali compute nodes,so we will add the following rucio local path:  /project/lgrandi/rucio/\n"
     ]
    },
    {
     "data": {
      "text/plain": [
       "<module 'Hitlet_nv_simulator' from '/home/layos/env_starter/Hitlet_nv_simulator.py'>"
      ]
     },
     "execution_count": 3,
     "metadata": {},
     "output_type": "execute_result"
    }
   ],
   "source": [
    "import importlib\n",
    "importlib.reload(Hitlet_nv_simulator)"
   ]
  },
  {
   "cell_type": "markdown",
   "id": "33ea9f84-e3b4-4e7d-b25e-ff373b0d5975",
   "metadata": {},
   "source": [
    "# 0. Hitlet Initialization"
   ]
  },
  {
   "cell_type": "markdown",
   "id": "e682cf8e-9cdd-401c-92d6-f23325c940e6",
   "metadata": {},
   "source": [
    "#### Hitlet initialize with the class 'Hitlet_nv'"
   ]
  },
  {
   "cell_type": "code",
   "execution_count": 4,
   "id": "742d0dbc-7d10-4d2d-8d92-7de493498206",
   "metadata": {},
   "outputs": [],
   "source": [
    "#Hitlet initialize with the class 'Hitlet_nv' that takes 2 arguments: aux_nv_files(just giving the path to them) and a root file ('g4file')\n",
    "path_nv_aux='/home/layos/env_starter/'"
   ]
  },
  {
   "cell_type": "code",
   "execution_count": 29,
   "id": "48493dcb-4f8f-4288-9043-e40f17111133",
   "metadata": {},
   "outputs": [],
   "source": [
    "test_hitlet = Hitlet_nv_simulator.Hitlet_nv(path_nv_aux, '/project2/lgrandi/layos/output_n_Veto_neutron_AmBe_9.root')"
   ]
  },
  {
   "cell_type": "markdown",
   "id": "f215296e-05ac-4b20-9f5f-086a1fda43a6",
   "metadata": {},
   "source": [
    "# 1. Creating hitlets"
   ]
  },
  {
   "cell_type": "markdown",
   "id": "c452f1fc-eb52-4a5e-9289-2eda8bee4b27",
   "metadata": {},
   "source": [
    "### To create a hitlet from a root file it uses the 'nv_hitlets' function"
   ]
  },
  {
   "cell_type": "code",
   "execution_count": 30,
   "id": "64e9bc0a-8997-4dd9-a044-63ff77e5023b",
   "metadata": {},
   "outputs": [
    {
     "name": "stdout",
     "output_type": "stream",
     "text": [
      "Opening File : /project2/lgrandi/layos/output_n_Veto_neutron_AmBe_9.root\n",
      "Applying QE and CE\n",
      "Loading hit survive\n",
      "Cutting Long events or Isotopes\n",
      "Looking for stacket hitlets\n",
      "Recovering values with stacket hitlets\n",
      "Creating hitlet dataframe\n"
     ]
    },
    {
     "data": {
      "application/vnd.jupyter.widget-view+json": {
       "model_id": "5ffb3ec37cb649eaa4c0ddbded6d9a2c",
       "version_major": 2,
       "version_minor": 0
      },
      "text/plain": [
       "  0%|          | 0/3 [00:00<?, ?it/s]"
      ]
     },
     "metadata": {},
     "output_type": "display_data"
    },
    {
     "data": {
      "application/vnd.jupyter.widget-view+json": {
       "model_id": "a913ba37e5804b0c95e9365bdf0cc316",
       "version_major": 2,
       "version_minor": 0
      },
      "text/plain": [
       "  0%|          | 0/9 [00:00<?, ?it/s]"
      ]
     },
     "metadata": {},
     "output_type": "display_data"
    },
    {
     "name": "stdout",
     "output_type": "stream",
     "text": [
      "getting time of hitlets_nv\n",
      "Creating hitlets_nv\n"
     ]
    }
   ],
   "source": [
    "#nv_hitlets takes at least two arguments: start and end entries of root files, but also the 'root_keys' related to primary particles parameters\n",
    "hitlets_df, hitlets_nv, root_keys = test_hitlet.nv_hitlets(0,2000)"
   ]
  },
  {
   "cell_type": "code",
   "execution_count": 31,
   "id": "f7f0e003-7707-409d-af1d-f24d81e2f34a",
   "metadata": {},
   "outputs": [
    {
     "data": {
      "image/png": "[encoded data removed]",
      "text/plain": [
       "<Figure size 640x480 with 1 Axes>"
      ]
     },
     "metadata": {},
     "output_type": "display_data"
    }
   ],
   "source": [
    "#the output is the following: hitlet_df(data_frame, hilet_nv(hitlets array format), root_keys\n",
    "#Hitlets_df is usefull for the hitlets analysis\n",
    "plt.hist(hitlets_df[hitlets_df.pmthitID==2000].pe_area.values, bins=50)\n",
    "plt.show()"
   ]
  },
  {
   "cell_type": "markdown",
   "id": "00642d4e-37a3-45f4-90b0-2fe7c25b3a36",
   "metadata": {},
   "source": [
    "# 1.1 Creating events"
   ]
  },
  {
   "cell_type": "code",
   "execution_count": 32,
   "id": "1e5f6531-1b05-41a6-91f0-42f0d963ed32",
   "metadata": {},
   "outputs": [
    {
     "name": "stdout",
     "output_type": "stream",
     "text": [
      "You specified _auto_append_rucio_local=True and you are not on dali compute nodes,so we will add the following rucio local path:  /project/lgrandi/rucio/\n"
     ]
    }
   ],
   "source": [
    "#Hitlets_nv is an array to be computed by strax plugin, exemple\n",
    "st = cutax.contexts.xenonnt_online()\n",
    "strax_nv = st.get_single_plugin('0', 'events_nv')\n",
    "events_nv = strax_nv.compute(hitlets_nv,min(hitlets_nv['time']),max(hitlets_nv['time']))"
   ]
  },
  {
   "cell_type": "markdown",
   "id": "9880e536-cfb6-46a7-abb6-012c39d91dc7",
   "metadata": {},
   "source": [
    "## 1. 2 Applying threshold per channel"
   ]
  },
  {
   "cell_type": "code",
   "execution_count": 33,
   "id": "ad26bb31-1c63-46a6-903c-d08e2fb25e9d",
   "metadata": {},
   "outputs": [],
   "source": [
    "#Here we can apply threshold per channel using dataframe\n",
    "hitlets_nv_th = Hitlet_nv_simulator.df_to_hit_array(hitlets_df[hitlets_df.pe_area>=hitlets_df.threshold_acc])"
   ]
  },
  {
   "cell_type": "code",
   "execution_count": 34,
   "id": "f06d0a99-645d-40f9-a379-75bc615ef0be",
   "metadata": {},
   "outputs": [],
   "source": [
    "events_nv_th = strax_nv.compute(hitlets_nv_th,min(hitlets_nv_th['time']),max(hitlets_nv_th['time']))"
   ]
  },
  {
   "cell_type": "code",
   "execution_count": 35,
   "id": "35c13492-065e-4aa6-bf62-d22a2f80c49f",
   "metadata": {},
   "outputs": [
    {
     "data": {
      "image/png": "[encoded data removed]",
      "text/plain": [
       "<Figure size 640x480 with 1 Axes>"
      ]
     },
     "metadata": {},
     "output_type": "display_data"
    }
   ],
   "source": [
    "y,x = np.histogram(events_nv['area'], range=[0,100], bins=20)\n",
    "x_c=(x[:-1] + x[1:]) / 2\n",
    "y_th,x_th = np.histogram(events_nv_th['area'], range=[0,100], bins=20)\n",
    "x_c_th=(x_th[:-1] + x_th[1:]) / 2\n",
    "plt.plot(x_c,y, label='no threshold')\n",
    "plt.plot(x_c_th, y_th, label='threshold')\n",
    "plt.ylabel('Entries')\n",
    "plt.xlabel('Event area')\n",
    "plt.legend()\n",
    "plt.show()"
   ]
  },
  {
   "cell_type": "markdown",
   "id": "eb143de8-63a2-4553-894f-48a480bce3ed",
   "metadata": {},
   "source": [
    "## 1.3 Recovering G4 primaries in events"
   ]
  },
  {
   "cell_type": "code",
   "execution_count": 13,
   "id": "2443a899-d0f7-42a7-a7d1-88c748e05c76",
   "metadata": {},
   "outputs": [
    {
     "name": "stdout",
     "output_type": "stream",
     "text": [
      "getting pri parameters\n"
     ]
    },
    {
     "data": {
      "application/vnd.jupyter.widget-view+json": {
       "model_id": "afadf1c9ee9c4c69ad2d50ab447ec198",
       "version_major": 2,
       "version_minor": 0
      },
      "text/plain": [
       "  0%|          | 0/4 [00:00<?, ?it/s]"
      ]
     },
     "metadata": {},
     "output_type": "display_data"
    }
   ],
   "source": [
    "#This is done by the funcion 'event_info_nv_from_hitlet', that uses original pmthittime of the events\n",
    "events_nv_df,events_nv = Hitlet_nv_simulator.event_info_nv_from_hitlet(hitlets_df)"
   ]
  },
  {
   "cell_type": "code",
   "execution_count": 14,
   "id": "00eafe01-5030-4062-ac72-654c572125c6",
   "metadata": {},
   "outputs": [
    {
     "data": {
      "image/png": "[encoded data removed]",
      "text/plain": [
       "<Figure size 640x480 with 1 Axes>"
      ]
     },
     "metadata": {},
     "output_type": "display_data"
    }
   ],
   "source": [
    "plt.hist(events_nv_df.e_pri.values,bins=20)\n",
    "plt.ylabel('Entries')\n",
    "plt.xlabel('AmBe neutron energy (KeV)')\n",
    "plt.show()"
   ]
  },
  {
   "cell_type": "markdown",
   "id": "626b66be-738f-4877-8469-331fedfd76aa",
   "metadata": {},
   "source": [
    "# 2. Hitlets using root chuncked files"
   ]
  },
  {
   "cell_type": "code",
   "execution_count": 15,
   "id": "23471454-f3cc-444b-81a8-ac7ec074d16e",
   "metadata": {},
   "outputs": [
    {
     "data": {
      "application/vnd.jupyter.widget-view+json": {
       "model_id": "35adf915a61244418a40c1e983211e88",
       "version_major": 2,
       "version_minor": 0
      },
      "text/plain": [
       "  0%|          | 0/50 [00:00<?, ?it/s]"
      ]
     },
     "metadata": {},
     "output_type": "display_data"
    },
    {
     "name": "stdout",
     "output_type": "stream",
     "text": [
      "Opening File : /project2/lgrandi/layos/output_n_Veto_neutron_AmBe_0.root\n",
      "Applying QE and CE\n",
      "Loading hit survive\n",
      "Cutting Long events or Isotopes\n",
      "Looking for stacket hitlets\n",
      "Recovering values with stacket hitlets\n",
      "Creating hitlet dataframe\n"
     ]
    },
    {
     "data": {
      "application/vnd.jupyter.widget-view+json": {
       "model_id": "79b8aab96be14568aa9280f874eddfa3",
       "version_major": 2,
       "version_minor": 0
      },
      "text/plain": [
       "  0%|          | 0/3 [00:00<?, ?it/s]"
      ]
     },
     "metadata": {},
     "output_type": "display_data"
    },
    {
     "data": {
      "application/vnd.jupyter.widget-view+json": {
       "model_id": "ff999574cc544fc5a504d3368ac1e857",
       "version_major": 2,
       "version_minor": 0
      },
      "text/plain": [
       "  0%|          | 0/9 [00:00<?, ?it/s]"
      ]
     },
     "metadata": {},
     "output_type": "display_data"
    },
    {
     "name": "stdout",
     "output_type": "stream",
     "text": [
      "getting time of hitlets_nv\n",
      "Creating hitlets_nv\n",
      "Opening File : /project2/lgrandi/layos/output_n_Veto_neutron_AmBe_1.root\n",
      "Applying QE and CE\n",
      "Loading hit survive\n",
      "Cutting Long events or Isotopes\n",
      "Looking for stacket hitlets\n",
      "Recovering values with stacket hitlets\n",
      "Creating hitlet dataframe\n"
     ]
    },
    {
     "data": {
      "application/vnd.jupyter.widget-view+json": {
       "model_id": "88842f26125f4f89bc2988e94ae4c860",
       "version_major": 2,
       "version_minor": 0
      },
      "text/plain": [
       "  0%|          | 0/3 [00:00<?, ?it/s]"
      ]
     },
     "metadata": {},
     "output_type": "display_data"
    },
    {
     "data": {
      "application/vnd.jupyter.widget-view+json": {
       "model_id": "c4a585b41ca64c13968c5a290e1dde34",
       "version_major": 2,
       "version_minor": 0
      },
      "text/plain": [
       "  0%|          | 0/9 [00:00<?, ?it/s]"
      ]
     },
     "metadata": {},
     "output_type": "display_data"
    },
    {
     "name": "stdout",
     "output_type": "stream",
     "text": [
      "getting time of hitlets_nv\n",
      "Creating hitlets_nv\n",
      "Opening File : /project2/lgrandi/layos/output_n_Veto_neutron_AmBe_2.root\n",
      "Applying QE and CE\n",
      "Loading hit survive\n",
      "Cutting Long events or Isotopes\n",
      "Looking for stacket hitlets\n",
      "Recovering values with stacket hitlets\n",
      "Creating hitlet dataframe\n"
     ]
    },
    {
     "data": {
      "application/vnd.jupyter.widget-view+json": {
       "model_id": "7c0feabc3f724aad913a78c12bd39b37",
       "version_major": 2,
       "version_minor": 0
      },
      "text/plain": [
       "  0%|          | 0/3 [00:00<?, ?it/s]"
      ]
     },
     "metadata": {},
     "output_type": "display_data"
    },
    {
     "data": {
      "application/vnd.jupyter.widget-view+json": {
       "model_id": "20ac3b6b8a9f4b74a651e8f03f1cefc7",
       "version_major": 2,
       "version_minor": 0
      },
      "text/plain": [
       "  0%|          | 0/9 [00:00<?, ?it/s]"
      ]
     },
     "metadata": {},
     "output_type": "display_data"
    },
    {
     "name": "stdout",
     "output_type": "stream",
     "text": [
      "getting time of hitlets_nv\n",
      "Creating hitlets_nv\n",
      "Opening File : /project2/lgrandi/layos/output_n_Veto_neutron_AmBe_3.root\n",
      "Applying QE and CE\n",
      "Loading hit survive\n",
      "Cutting Long events or Isotopes\n",
      "Looking for stacket hitlets\n",
      "Recovering values with stacket hitlets\n",
      "Creating hitlet dataframe\n"
     ]
    },
    {
     "data": {
      "application/vnd.jupyter.widget-view+json": {
       "model_id": "37a0d13d070547d3a606c51651820e9b",
       "version_major": 2,
       "version_minor": 0
      },
      "text/plain": [
       "  0%|          | 0/3 [00:00<?, ?it/s]"
      ]
     },
     "metadata": {},
     "output_type": "display_data"
    },
    {
     "data": {
      "application/vnd.jupyter.widget-view+json": {
       "model_id": "5900551e95df4efa8d898643703157ea",
       "version_major": 2,
       "version_minor": 0
      },
      "text/plain": [
       "  0%|          | 0/9 [00:00<?, ?it/s]"
      ]
     },
     "metadata": {},
     "output_type": "display_data"
    },
    {
     "name": "stdout",
     "output_type": "stream",
     "text": [
      "getting time of hitlets_nv\n",
      "Creating hitlets_nv\n",
      "Opening File : /project2/lgrandi/layos/output_n_Veto_neutron_AmBe_5.root\n",
      "Applying QE and CE\n",
      "Loading hit survive\n",
      "Cutting Long events or Isotopes\n",
      "Looking for stacket hitlets\n",
      "Recovering values with stacket hitlets\n",
      "Creating hitlet dataframe\n"
     ]
    },
    {
     "data": {
      "application/vnd.jupyter.widget-view+json": {
       "model_id": "03d12068034d4daf86178241591069d1",
       "version_major": 2,
       "version_minor": 0
      },
      "text/plain": [
       "  0%|          | 0/3 [00:00<?, ?it/s]"
      ]
     },
     "metadata": {},
     "output_type": "display_data"
    },
    {
     "data": {
      "application/vnd.jupyter.widget-view+json": {
       "model_id": "9591e3b419de46c59b14e3ff51cbf682",
       "version_major": 2,
       "version_minor": 0
      },
      "text/plain": [
       "  0%|          | 0/9 [00:00<?, ?it/s]"
      ]
     },
     "metadata": {},
     "output_type": "display_data"
    },
    {
     "name": "stdout",
     "output_type": "stream",
     "text": [
      "getting time of hitlets_nv\n",
      "Creating hitlets_nv\n",
      "Opening File : /project2/lgrandi/layos/output_n_Veto_neutron_AmBe_6.root\n",
      "Applying QE and CE\n",
      "Loading hit survive\n",
      "Cutting Long events or Isotopes\n",
      "Looking for stacket hitlets\n",
      "Recovering values with stacket hitlets\n",
      "Creating hitlet dataframe\n"
     ]
    },
    {
     "data": {
      "application/vnd.jupyter.widget-view+json": {
       "model_id": "d29f882ce5c44c12b6ae816c1126219a",
       "version_major": 2,
       "version_minor": 0
      },
      "text/plain": [
       "  0%|          | 0/3 [00:00<?, ?it/s]"
      ]
     },
     "metadata": {},
     "output_type": "display_data"
    },
    {
     "data": {
      "application/vnd.jupyter.widget-view+json": {
       "model_id": "315bc1d1e1fb41a4a8ec0d3116bddf1c",
       "version_major": 2,
       "version_minor": 0
      },
      "text/plain": [
       "  0%|          | 0/9 [00:00<?, ?it/s]"
      ]
     },
     "metadata": {},
     "output_type": "display_data"
    },
    {
     "name": "stdout",
     "output_type": "stream",
     "text": [
      "getting time of hitlets_nv\n",
      "Creating hitlets_nv\n",
      "Opening File : /project2/lgrandi/layos/output_n_Veto_neutron_AmBe_9.root\n",
      "Applying QE and CE\n",
      "Loading hit survive\n",
      "Cutting Long events or Isotopes\n",
      "Looking for stacket hitlets\n",
      "Recovering values with stacket hitlets\n",
      "Creating hitlet dataframe\n"
     ]
    },
    {
     "data": {
      "application/vnd.jupyter.widget-view+json": {
       "model_id": "c23fff27652748f4b262c705748757b8",
       "version_major": 2,
       "version_minor": 0
      },
      "text/plain": [
       "  0%|          | 0/3 [00:00<?, ?it/s]"
      ]
     },
     "metadata": {},
     "output_type": "display_data"
    },
    {
     "data": {
      "application/vnd.jupyter.widget-view+json": {
       "model_id": "da0d9ccec3a84fe1818c8ba7f57ab11f",
       "version_major": 2,
       "version_minor": 0
      },
      "text/plain": [
       "  0%|          | 0/9 [00:00<?, ?it/s]"
      ]
     },
     "metadata": {},
     "output_type": "display_data"
    },
    {
     "name": "stdout",
     "output_type": "stream",
     "text": [
      "getting time of hitlets_nv\n",
      "Creating hitlets_nv\n",
      "Opening File : /project2/lgrandi/layos/output_n_Veto_neutron_AmBe_10.root\n",
      "Applying QE and CE\n",
      "Loading hit survive\n",
      "Cutting Long events or Isotopes\n",
      "Looking for stacket hitlets\n",
      "Recovering values with stacket hitlets\n",
      "Creating hitlet dataframe\n"
     ]
    },
    {
     "data": {
      "application/vnd.jupyter.widget-view+json": {
       "model_id": "a2b59d3924f74415ab088b5e271df16d",
       "version_major": 2,
       "version_minor": 0
      },
      "text/plain": [
       "  0%|          | 0/3 [00:00<?, ?it/s]"
      ]
     },
     "metadata": {},
     "output_type": "display_data"
    },
    {
     "data": {
      "application/vnd.jupyter.widget-view+json": {
       "model_id": "79e1a39022154076be3b13bba16ccea1",
       "version_major": 2,
       "version_minor": 0
      },
      "text/plain": [
       "  0%|          | 0/9 [00:00<?, ?it/s]"
      ]
     },
     "metadata": {},
     "output_type": "display_data"
    },
    {
     "name": "stdout",
     "output_type": "stream",
     "text": [
      "getting time of hitlets_nv\n",
      "Creating hitlets_nv\n",
      "Opening File : /project2/lgrandi/layos/output_n_Veto_neutron_AmBe_11.root\n",
      "Applying QE and CE\n",
      "Loading hit survive\n",
      "Cutting Long events or Isotopes\n",
      "Looking for stacket hitlets\n",
      "Recovering values with stacket hitlets\n",
      "Creating hitlet dataframe\n"
     ]
    },
    {
     "data": {
      "application/vnd.jupyter.widget-view+json": {
       "model_id": "6690c57fc10a41669a7ebc282d962b66",
       "version_major": 2,
       "version_minor": 0
      },
      "text/plain": [
       "  0%|          | 0/3 [00:00<?, ?it/s]"
      ]
     },
     "metadata": {},
     "output_type": "display_data"
    },
    {
     "data": {
      "application/vnd.jupyter.widget-view+json": {
       "model_id": "da5211d667904464929e1e75e4d2b77b",
       "version_major": 2,
       "version_minor": 0
      },
      "text/plain": [
       "  0%|          | 0/9 [00:00<?, ?it/s]"
      ]
     },
     "metadata": {},
     "output_type": "display_data"
    },
    {
     "name": "stdout",
     "output_type": "stream",
     "text": [
      "getting time of hitlets_nv\n",
      "Creating hitlets_nv\n",
      "Opening File : /project2/lgrandi/layos/output_n_Veto_neutron_AmBe_12.root\n",
      "Applying QE and CE\n",
      "Loading hit survive\n",
      "Cutting Long events or Isotopes\n",
      "Looking for stacket hitlets\n",
      "Recovering values with stacket hitlets\n",
      "Creating hitlet dataframe\n"
     ]
    },
    {
     "data": {
      "application/vnd.jupyter.widget-view+json": {
       "model_id": "2e43eb7be1944c11b18af74f047ec7ab",
       "version_major": 2,
       "version_minor": 0
      },
      "text/plain": [
       "  0%|          | 0/3 [00:00<?, ?it/s]"
      ]
     },
     "metadata": {},
     "output_type": "display_data"
    },
    {
     "data": {
      "application/vnd.jupyter.widget-view+json": {
       "model_id": "3f21420498ee4f3da0da4476e557e59d",
       "version_major": 2,
       "version_minor": 0
      },
      "text/plain": [
       "  0%|          | 0/9 [00:00<?, ?it/s]"
      ]
     },
     "metadata": {},
     "output_type": "display_data"
    },
    {
     "name": "stdout",
     "output_type": "stream",
     "text": [
      "getting time of hitlets_nv\n",
      "Creating hitlets_nv\n",
      "Opening File : /project2/lgrandi/layos/output_n_Veto_neutron_AmBe_13.root\n",
      "Applying QE and CE\n",
      "Loading hit survive\n",
      "Cutting Long events or Isotopes\n",
      "Looking for stacket hitlets\n",
      "Recovering values with stacket hitlets\n",
      "Creating hitlet dataframe\n"
     ]
    },
    {
     "data": {
      "application/vnd.jupyter.widget-view+json": {
       "model_id": "f14b0fac6b6f46cea04387607b426574",
       "version_major": 2,
       "version_minor": 0
      },
      "text/plain": [
       "  0%|          | 0/3 [00:00<?, ?it/s]"
      ]
     },
     "metadata": {},
     "output_type": "display_data"
    },
    {
     "data": {
      "application/vnd.jupyter.widget-view+json": {
       "model_id": "4ea5df08e4884775b126fd249aedc60e",
       "version_major": 2,
       "version_minor": 0
      },
      "text/plain": [
       "  0%|          | 0/9 [00:00<?, ?it/s]"
      ]
     },
     "metadata": {},
     "output_type": "display_data"
    },
    {
     "name": "stdout",
     "output_type": "stream",
     "text": [
      "getting time of hitlets_nv\n",
      "Creating hitlets_nv\n",
      "Opening File : /project2/lgrandi/layos/output_n_Veto_neutron_AmBe_15.root\n",
      "Applying QE and CE\n",
      "Loading hit survive\n",
      "Cutting Long events or Isotopes\n",
      "Looking for stacket hitlets\n",
      "Recovering values with stacket hitlets\n",
      "Creating hitlet dataframe\n"
     ]
    },
    {
     "data": {
      "application/vnd.jupyter.widget-view+json": {
       "model_id": "488d1b0053f5481eab5a0a0e4941bb04",
       "version_major": 2,
       "version_minor": 0
      },
      "text/plain": [
       "  0%|          | 0/3 [00:00<?, ?it/s]"
      ]
     },
     "metadata": {},
     "output_type": "display_data"
    },
    {
     "data": {
      "application/vnd.jupyter.widget-view+json": {
       "model_id": "43567ab23ba84f529dc5936965ecf74a",
       "version_major": 2,
       "version_minor": 0
      },
      "text/plain": [
       "  0%|          | 0/9 [00:00<?, ?it/s]"
      ]
     },
     "metadata": {},
     "output_type": "display_data"
    },
    {
     "name": "stdout",
     "output_type": "stream",
     "text": [
      "getting time of hitlets_nv\n",
      "Creating hitlets_nv\n",
      "Opening File : /project2/lgrandi/layos/output_n_Veto_neutron_AmBe_18.root\n",
      "Applying QE and CE\n",
      "Loading hit survive\n",
      "Cutting Long events or Isotopes\n",
      "Looking for stacket hitlets\n",
      "Recovering values with stacket hitlets\n",
      "Creating hitlet dataframe\n"
     ]
    },
    {
     "data": {
      "application/vnd.jupyter.widget-view+json": {
       "model_id": "ba5318b2afee4117b797b0eeb0e0e605",
       "version_major": 2,
       "version_minor": 0
      },
      "text/plain": [
       "  0%|          | 0/3 [00:00<?, ?it/s]"
      ]
     },
     "metadata": {},
     "output_type": "display_data"
    },
    {
     "data": {
      "application/vnd.jupyter.widget-view+json": {
       "model_id": "0857ee32a8754fa588e1fcbf2e074f52",
       "version_major": 2,
       "version_minor": 0
      },
      "text/plain": [
       "  0%|          | 0/9 [00:00<?, ?it/s]"
      ]
     },
     "metadata": {},
     "output_type": "display_data"
    },
    {
     "name": "stdout",
     "output_type": "stream",
     "text": [
      "getting time of hitlets_nv\n",
      "Creating hitlets_nv\n",
      "Opening File : /project2/lgrandi/layos/output_n_Veto_neutron_AmBe_20.root\n",
      "Applying QE and CE\n",
      "Loading hit survive\n",
      "Cutting Long events or Isotopes\n",
      "Looking for stacket hitlets\n",
      "Recovering values with stacket hitlets\n",
      "Creating hitlet dataframe\n"
     ]
    },
    {
     "data": {
      "application/vnd.jupyter.widget-view+json": {
       "model_id": "83d92eef30ac4b388079d5f87f96d832",
       "version_major": 2,
       "version_minor": 0
      },
      "text/plain": [
       "  0%|          | 0/3 [00:00<?, ?it/s]"
      ]
     },
     "metadata": {},
     "output_type": "display_data"
    },
    {
     "data": {
      "application/vnd.jupyter.widget-view+json": {
       "model_id": "519a64032cd048638d1bf44af6f6d8db",
       "version_major": 2,
       "version_minor": 0
      },
      "text/plain": [
       "  0%|          | 0/9 [00:00<?, ?it/s]"
      ]
     },
     "metadata": {},
     "output_type": "display_data"
    },
    {
     "name": "stdout",
     "output_type": "stream",
     "text": [
      "getting time of hitlets_nv\n",
      "Creating hitlets_nv\n",
      "Opening File : /project2/lgrandi/layos/output_n_Veto_neutron_AmBe_21.root\n",
      "Applying QE and CE\n",
      "Loading hit survive\n",
      "Cutting Long events or Isotopes\n",
      "Looking for stacket hitlets\n",
      "Recovering values with stacket hitlets\n",
      "Creating hitlet dataframe\n"
     ]
    },
    {
     "data": {
      "application/vnd.jupyter.widget-view+json": {
       "model_id": "2d96d1bc16204b1d97d7ce3cc54de3ec",
       "version_major": 2,
       "version_minor": 0
      },
      "text/plain": [
       "  0%|          | 0/3 [00:00<?, ?it/s]"
      ]
     },
     "metadata": {},
     "output_type": "display_data"
    },
    {
     "data": {
      "application/vnd.jupyter.widget-view+json": {
       "model_id": "0764621cfe644bb398202cdade5094ff",
       "version_major": 2,
       "version_minor": 0
      },
      "text/plain": [
       "  0%|          | 0/9 [00:00<?, ?it/s]"
      ]
     },
     "metadata": {},
     "output_type": "display_data"
    },
    {
     "name": "stdout",
     "output_type": "stream",
     "text": [
      "getting time of hitlets_nv\n",
      "Creating hitlets_nv\n",
      "Opening File : /project2/lgrandi/layos/output_n_Veto_neutron_AmBe_22.root\n",
      "Applying QE and CE\n",
      "Loading hit survive\n",
      "Cutting Long events or Isotopes\n",
      "Looking for stacket hitlets\n",
      "Recovering values with stacket hitlets\n",
      "Creating hitlet dataframe\n"
     ]
    },
    {
     "data": {
      "application/vnd.jupyter.widget-view+json": {
       "model_id": "02f5395d837a486b869b76e94e901c59",
       "version_major": 2,
       "version_minor": 0
      },
      "text/plain": [
       "  0%|          | 0/3 [00:00<?, ?it/s]"
      ]
     },
     "metadata": {},
     "output_type": "display_data"
    },
    {
     "data": {
      "application/vnd.jupyter.widget-view+json": {
       "model_id": "9e88c14326f545a3b7b92807d570b00f",
       "version_major": 2,
       "version_minor": 0
      },
      "text/plain": [
       "  0%|          | 0/9 [00:00<?, ?it/s]"
      ]
     },
     "metadata": {},
     "output_type": "display_data"
    },
    {
     "name": "stdout",
     "output_type": "stream",
     "text": [
      "getting time of hitlets_nv\n",
      "Creating hitlets_nv\n",
      "Opening File : /project2/lgrandi/layos/output_n_Veto_neutron_AmBe_23.root\n",
      "Applying QE and CE\n",
      "Loading hit survive\n",
      "Cutting Long events or Isotopes\n",
      "Looking for stacket hitlets\n",
      "Recovering values with stacket hitlets\n",
      "Creating hitlet dataframe\n"
     ]
    },
    {
     "data": {
      "application/vnd.jupyter.widget-view+json": {
       "model_id": "85f5539ae46f47a081b1430d7bae4ab8",
       "version_major": 2,
       "version_minor": 0
      },
      "text/plain": [
       "  0%|          | 0/3 [00:00<?, ?it/s]"
      ]
     },
     "metadata": {},
     "output_type": "display_data"
    },
    {
     "data": {
      "application/vnd.jupyter.widget-view+json": {
       "model_id": "f512edffdf2e425790c8992213dafdb2",
       "version_major": 2,
       "version_minor": 0
      },
      "text/plain": [
       "  0%|          | 0/9 [00:00<?, ?it/s]"
      ]
     },
     "metadata": {},
     "output_type": "display_data"
    },
    {
     "name": "stdout",
     "output_type": "stream",
     "text": [
      "getting time of hitlets_nv\n",
      "Creating hitlets_nv\n",
      "Opening File : /project2/lgrandi/layos/output_n_Veto_neutron_AmBe_24.root\n",
      "Applying QE and CE\n",
      "Loading hit survive\n",
      "Cutting Long events or Isotopes\n",
      "Looking for stacket hitlets\n",
      "Recovering values with stacket hitlets\n",
      "Creating hitlet dataframe\n"
     ]
    },
    {
     "data": {
      "application/vnd.jupyter.widget-view+json": {
       "model_id": "d618246be8444df29f3ed7108271afc6",
       "version_major": 2,
       "version_minor": 0
      },
      "text/plain": [
       "  0%|          | 0/3 [00:00<?, ?it/s]"
      ]
     },
     "metadata": {},
     "output_type": "display_data"
    },
    {
     "data": {
      "application/vnd.jupyter.widget-view+json": {
       "model_id": "dbd17c713e234bedb59bc50325175972",
       "version_major": 2,
       "version_minor": 0
      },
      "text/plain": [
       "  0%|          | 0/9 [00:00<?, ?it/s]"
      ]
     },
     "metadata": {},
     "output_type": "display_data"
    },
    {
     "name": "stdout",
     "output_type": "stream",
     "text": [
      "getting time of hitlets_nv\n",
      "Creating hitlets_nv\n",
      "Opening File : /project2/lgrandi/layos/output_n_Veto_neutron_AmBe_26.root\n",
      "Applying QE and CE\n",
      "Loading hit survive\n",
      "Cutting Long events or Isotopes\n",
      "Looking for stacket hitlets\n",
      "Recovering values with stacket hitlets\n",
      "Creating hitlet dataframe\n"
     ]
    },
    {
     "data": {
      "application/vnd.jupyter.widget-view+json": {
       "model_id": "585d520bccb24b188029fed92856d990",
       "version_major": 2,
       "version_minor": 0
      },
      "text/plain": [
       "  0%|          | 0/3 [00:00<?, ?it/s]"
      ]
     },
     "metadata": {},
     "output_type": "display_data"
    },
    {
     "data": {
      "application/vnd.jupyter.widget-view+json": {
       "model_id": "9ea4343da41b4d6ea69264bab19801e3",
       "version_major": 2,
       "version_minor": 0
      },
      "text/plain": [
       "  0%|          | 0/9 [00:00<?, ?it/s]"
      ]
     },
     "metadata": {},
     "output_type": "display_data"
    },
    {
     "name": "stdout",
     "output_type": "stream",
     "text": [
      "getting time of hitlets_nv\n",
      "Creating hitlets_nv\n",
      "Opening File : /project2/lgrandi/layos/output_n_Veto_neutron_AmBe_27.root\n",
      "Applying QE and CE\n",
      "Loading hit survive\n",
      "Cutting Long events or Isotopes\n",
      "Looking for stacket hitlets\n",
      "Recovering values with stacket hitlets\n",
      "Creating hitlet dataframe\n"
     ]
    },
    {
     "data": {
      "application/vnd.jupyter.widget-view+json": {
       "model_id": "c529e15240904dc9b88848a21988d0cb",
       "version_major": 2,
       "version_minor": 0
      },
      "text/plain": [
       "  0%|          | 0/3 [00:00<?, ?it/s]"
      ]
     },
     "metadata": {},
     "output_type": "display_data"
    },
    {
     "data": {
      "application/vnd.jupyter.widget-view+json": {
       "model_id": "608cab20f48047d5b432a30b50473f56",
       "version_major": 2,
       "version_minor": 0
      },
      "text/plain": [
       "  0%|          | 0/9 [00:00<?, ?it/s]"
      ]
     },
     "metadata": {},
     "output_type": "display_data"
    },
    {
     "name": "stdout",
     "output_type": "stream",
     "text": [
      "getting time of hitlets_nv\n",
      "Creating hitlets_nv\n",
      "Opening File : /project2/lgrandi/layos/output_n_Veto_neutron_AmBe_28.root\n",
      "Applying QE and CE\n",
      "Loading hit survive\n",
      "Cutting Long events or Isotopes\n",
      "Looking for stacket hitlets\n",
      "Recovering values with stacket hitlets\n",
      "Creating hitlet dataframe\n"
     ]
    },
    {
     "data": {
      "application/vnd.jupyter.widget-view+json": {
       "model_id": "e22f1464bbaa4193a259957309a3305a",
       "version_major": 2,
       "version_minor": 0
      },
      "text/plain": [
       "  0%|          | 0/3 [00:00<?, ?it/s]"
      ]
     },
     "metadata": {},
     "output_type": "display_data"
    },
    {
     "data": {
      "application/vnd.jupyter.widget-view+json": {
       "model_id": "bb47e52b43c8447cb4696917d156aeb3",
       "version_major": 2,
       "version_minor": 0
      },
      "text/plain": [
       "  0%|          | 0/9 [00:00<?, ?it/s]"
      ]
     },
     "metadata": {},
     "output_type": "display_data"
    },
    {
     "name": "stdout",
     "output_type": "stream",
     "text": [
      "getting time of hitlets_nv\n",
      "Creating hitlets_nv\n",
      "Opening File : /project2/lgrandi/layos/output_n_Veto_neutron_AmBe_29.root\n",
      "Applying QE and CE\n",
      "Loading hit survive\n",
      "Cutting Long events or Isotopes\n",
      "Looking for stacket hitlets\n",
      "Recovering values with stacket hitlets\n",
      "Creating hitlet dataframe\n"
     ]
    },
    {
     "data": {
      "application/vnd.jupyter.widget-view+json": {
       "model_id": "84e6e63936584eb6b7618689f998aad6",
       "version_major": 2,
       "version_minor": 0
      },
      "text/plain": [
       "  0%|          | 0/3 [00:00<?, ?it/s]"
      ]
     },
     "metadata": {},
     "output_type": "display_data"
    },
    {
     "data": {
      "application/vnd.jupyter.widget-view+json": {
       "model_id": "b2e159c525614cd5a67478a06740f60b",
       "version_major": 2,
       "version_minor": 0
      },
      "text/plain": [
       "  0%|          | 0/9 [00:00<?, ?it/s]"
      ]
     },
     "metadata": {},
     "output_type": "display_data"
    },
    {
     "name": "stdout",
     "output_type": "stream",
     "text": [
      "getting time of hitlets_nv\n",
      "Creating hitlets_nv\n",
      "Opening File : /project2/lgrandi/layos/output_n_Veto_neutron_AmBe_31.root\n",
      "Applying QE and CE\n",
      "Loading hit survive\n",
      "Cutting Long events or Isotopes\n",
      "Looking for stacket hitlets\n",
      "Recovering values with stacket hitlets\n",
      "Creating hitlet dataframe\n"
     ]
    },
    {
     "data": {
      "application/vnd.jupyter.widget-view+json": {
       "model_id": "10d4eb0681de4bdcb08a90b6a9c29566",
       "version_major": 2,
       "version_minor": 0
      },
      "text/plain": [
       "  0%|          | 0/3 [00:00<?, ?it/s]"
      ]
     },
     "metadata": {},
     "output_type": "display_data"
    },
    {
     "data": {
      "application/vnd.jupyter.widget-view+json": {
       "model_id": "8108dccf5bbb4acf80623dc8e9064cb9",
       "version_major": 2,
       "version_minor": 0
      },
      "text/plain": [
       "  0%|          | 0/9 [00:00<?, ?it/s]"
      ]
     },
     "metadata": {},
     "output_type": "display_data"
    },
    {
     "name": "stdout",
     "output_type": "stream",
     "text": [
      "getting time of hitlets_nv\n",
      "Creating hitlets_nv\n",
      "Opening File : /project2/lgrandi/layos/output_n_Veto_neutron_AmBe_32.root\n",
      "Applying QE and CE\n",
      "Loading hit survive\n",
      "Cutting Long events or Isotopes\n",
      "Looking for stacket hitlets\n",
      "Recovering values with stacket hitlets\n",
      "Creating hitlet dataframe\n"
     ]
    },
    {
     "data": {
      "application/vnd.jupyter.widget-view+json": {
       "model_id": "7e4d4332f7c145ddb0d3b3adeb417018",
       "version_major": 2,
       "version_minor": 0
      },
      "text/plain": [
       "  0%|          | 0/3 [00:00<?, ?it/s]"
      ]
     },
     "metadata": {},
     "output_type": "display_data"
    },
    {
     "data": {
      "application/vnd.jupyter.widget-view+json": {
       "model_id": "e9f8706259864e3cb94e141d53ac771c",
       "version_major": 2,
       "version_minor": 0
      },
      "text/plain": [
       "  0%|          | 0/9 [00:00<?, ?it/s]"
      ]
     },
     "metadata": {},
     "output_type": "display_data"
    },
    {
     "name": "stdout",
     "output_type": "stream",
     "text": [
      "getting time of hitlets_nv\n",
      "Creating hitlets_nv\n",
      "Opening File : /project2/lgrandi/layos/output_n_Veto_neutron_AmBe_33.root\n",
      "Applying QE and CE\n",
      "Loading hit survive\n",
      "Cutting Long events or Isotopes\n",
      "Looking for stacket hitlets\n",
      "Recovering values with stacket hitlets\n",
      "Creating hitlet dataframe\n"
     ]
    },
    {
     "data": {
      "application/vnd.jupyter.widget-view+json": {
       "model_id": "d644870ee70d4afe953a0fb9703307c7",
       "version_major": 2,
       "version_minor": 0
      },
      "text/plain": [
       "  0%|          | 0/3 [00:00<?, ?it/s]"
      ]
     },
     "metadata": {},
     "output_type": "display_data"
    },
    {
     "data": {
      "application/vnd.jupyter.widget-view+json": {
       "model_id": "02de5217d73a4045bd5e9f20b5927572",
       "version_major": 2,
       "version_minor": 0
      },
      "text/plain": [
       "  0%|          | 0/9 [00:00<?, ?it/s]"
      ]
     },
     "metadata": {},
     "output_type": "display_data"
    },
    {
     "name": "stdout",
     "output_type": "stream",
     "text": [
      "getting time of hitlets_nv\n",
      "Creating hitlets_nv\n",
      "Opening File : /project2/lgrandi/layos/output_n_Veto_neutron_AmBe_34.root\n",
      "Applying QE and CE\n",
      "Loading hit survive\n",
      "Cutting Long events or Isotopes\n",
      "Looking for stacket hitlets\n",
      "Recovering values with stacket hitlets\n",
      "Creating hitlet dataframe\n"
     ]
    },
    {
     "data": {
      "application/vnd.jupyter.widget-view+json": {
       "model_id": "b4f22bdb68934a9a9ee01e1bac5c7400",
       "version_major": 2,
       "version_minor": 0
      },
      "text/plain": [
       "  0%|          | 0/3 [00:00<?, ?it/s]"
      ]
     },
     "metadata": {},
     "output_type": "display_data"
    },
    {
     "data": {
      "application/vnd.jupyter.widget-view+json": {
       "model_id": "800e4f80e26b4b2ca45bb771b92fb15c",
       "version_major": 2,
       "version_minor": 0
      },
      "text/plain": [
       "  0%|          | 0/9 [00:00<?, ?it/s]"
      ]
     },
     "metadata": {},
     "output_type": "display_data"
    },
    {
     "name": "stdout",
     "output_type": "stream",
     "text": [
      "getting time of hitlets_nv\n",
      "Creating hitlets_nv\n",
      "Opening File : /project2/lgrandi/layos/output_n_Veto_neutron_AmBe_36.root\n",
      "Applying QE and CE\n",
      "Loading hit survive\n",
      "Cutting Long events or Isotopes\n",
      "Looking for stacket hitlets\n",
      "Recovering values with stacket hitlets\n",
      "Creating hitlet dataframe\n"
     ]
    },
    {
     "data": {
      "application/vnd.jupyter.widget-view+json": {
       "model_id": "a2bf28e719b34958863312af474dce3e",
       "version_major": 2,
       "version_minor": 0
      },
      "text/plain": [
       "  0%|          | 0/3 [00:00<?, ?it/s]"
      ]
     },
     "metadata": {},
     "output_type": "display_data"
    },
    {
     "data": {
      "application/vnd.jupyter.widget-view+json": {
       "model_id": "0669f8f06e2c4bcd911e1f58fc372ea6",
       "version_major": 2,
       "version_minor": 0
      },
      "text/plain": [
       "  0%|          | 0/9 [00:00<?, ?it/s]"
      ]
     },
     "metadata": {},
     "output_type": "display_data"
    },
    {
     "name": "stdout",
     "output_type": "stream",
     "text": [
      "getting time of hitlets_nv\n",
      "Creating hitlets_nv\n",
      "Opening File : /project2/lgrandi/layos/output_n_Veto_neutron_AmBe_37.root\n",
      "Applying QE and CE\n",
      "Loading hit survive\n",
      "Cutting Long events or Isotopes\n",
      "Looking for stacket hitlets\n",
      "Recovering values with stacket hitlets\n",
      "Creating hitlet dataframe\n"
     ]
    },
    {
     "data": {
      "application/vnd.jupyter.widget-view+json": {
       "model_id": "77c3bd47521b4fbd968807ac4d1930e3",
       "version_major": 2,
       "version_minor": 0
      },
      "text/plain": [
       "  0%|          | 0/3 [00:00<?, ?it/s]"
      ]
     },
     "metadata": {},
     "output_type": "display_data"
    },
    {
     "data": {
      "application/vnd.jupyter.widget-view+json": {
       "model_id": "aeceea53aa6b49cf8e02a96f239f8b00",
       "version_major": 2,
       "version_minor": 0
      },
      "text/plain": [
       "  0%|          | 0/9 [00:00<?, ?it/s]"
      ]
     },
     "metadata": {},
     "output_type": "display_data"
    },
    {
     "name": "stdout",
     "output_type": "stream",
     "text": [
      "getting time of hitlets_nv\n",
      "Creating hitlets_nv\n",
      "Opening File : /project2/lgrandi/layos/output_n_Veto_neutron_AmBe_38.root\n",
      "Applying QE and CE\n",
      "Loading hit survive\n",
      "Cutting Long events or Isotopes\n",
      "Looking for stacket hitlets\n",
      "Recovering values with stacket hitlets\n",
      "Creating hitlet dataframe\n"
     ]
    },
    {
     "data": {
      "application/vnd.jupyter.widget-view+json": {
       "model_id": "a263c9ada11d4e7ba2c5ff863fc27e4d",
       "version_major": 2,
       "version_minor": 0
      },
      "text/plain": [
       "  0%|          | 0/3 [00:00<?, ?it/s]"
      ]
     },
     "metadata": {},
     "output_type": "display_data"
    },
    {
     "data": {
      "application/vnd.jupyter.widget-view+json": {
       "model_id": "a0e87afd66b14bcf9991dd1faa22ed2c",
       "version_major": 2,
       "version_minor": 0
      },
      "text/plain": [
       "  0%|          | 0/9 [00:00<?, ?it/s]"
      ]
     },
     "metadata": {},
     "output_type": "display_data"
    },
    {
     "name": "stdout",
     "output_type": "stream",
     "text": [
      "getting time of hitlets_nv\n",
      "Creating hitlets_nv\n",
      "Opening File : /project2/lgrandi/layos/output_n_Veto_neutron_AmBe_39.root\n",
      "Applying QE and CE\n",
      "Loading hit survive\n",
      "Cutting Long events or Isotopes\n",
      "Looking for stacket hitlets\n",
      "Recovering values with stacket hitlets\n",
      "Creating hitlet dataframe\n"
     ]
    },
    {
     "data": {
      "application/vnd.jupyter.widget-view+json": {
       "model_id": "67ceb389e97c4d7a87162b7534e78606",
       "version_major": 2,
       "version_minor": 0
      },
      "text/plain": [
       "  0%|          | 0/3 [00:00<?, ?it/s]"
      ]
     },
     "metadata": {},
     "output_type": "display_data"
    },
    {
     "data": {
      "application/vnd.jupyter.widget-view+json": {
       "model_id": "4afb9a19685a47eda8fdaff7b2a6d748",
       "version_major": 2,
       "version_minor": 0
      },
      "text/plain": [
       "  0%|          | 0/9 [00:00<?, ?it/s]"
      ]
     },
     "metadata": {},
     "output_type": "display_data"
    },
    {
     "name": "stdout",
     "output_type": "stream",
     "text": [
      "getting time of hitlets_nv\n",
      "Creating hitlets_nv\n",
      "Opening File : /project2/lgrandi/layos/output_n_Veto_neutron_AmBe_40.root\n",
      "Applying QE and CE\n",
      "Loading hit survive\n",
      "Cutting Long events or Isotopes\n",
      "Looking for stacket hitlets\n",
      "Recovering values with stacket hitlets\n",
      "Creating hitlet dataframe\n"
     ]
    },
    {
     "data": {
      "application/vnd.jupyter.widget-view+json": {
       "model_id": "83b20885942a40d0af30214fd02950b5",
       "version_major": 2,
       "version_minor": 0
      },
      "text/plain": [
       "  0%|          | 0/3 [00:00<?, ?it/s]"
      ]
     },
     "metadata": {},
     "output_type": "display_data"
    },
    {
     "data": {
      "application/vnd.jupyter.widget-view+json": {
       "model_id": "2b48435df2ec4b7ead127ec096b86311",
       "version_major": 2,
       "version_minor": 0
      },
      "text/plain": [
       "  0%|          | 0/9 [00:00<?, ?it/s]"
      ]
     },
     "metadata": {},
     "output_type": "display_data"
    },
    {
     "name": "stdout",
     "output_type": "stream",
     "text": [
      "getting time of hitlets_nv\n",
      "Creating hitlets_nv\n",
      "Opening File : /project2/lgrandi/layos/output_n_Veto_neutron_AmBe_41.root\n",
      "Applying QE and CE\n",
      "Loading hit survive\n",
      "Cutting Long events or Isotopes\n",
      "Looking for stacket hitlets\n",
      "Recovering values with stacket hitlets\n",
      "Creating hitlet dataframe\n"
     ]
    },
    {
     "data": {
      "application/vnd.jupyter.widget-view+json": {
       "model_id": "7f92ce68e36b4d43a6ecf4198fccbad6",
       "version_major": 2,
       "version_minor": 0
      },
      "text/plain": [
       "  0%|          | 0/3 [00:00<?, ?it/s]"
      ]
     },
     "metadata": {},
     "output_type": "display_data"
    },
    {
     "data": {
      "application/vnd.jupyter.widget-view+json": {
       "model_id": "43cae9757f204bd1b1ae848b6a323ad8",
       "version_major": 2,
       "version_minor": 0
      },
      "text/plain": [
       "  0%|          | 0/9 [00:00<?, ?it/s]"
      ]
     },
     "metadata": {},
     "output_type": "display_data"
    },
    {
     "name": "stdout",
     "output_type": "stream",
     "text": [
      "getting time of hitlets_nv\n",
      "Creating hitlets_nv\n",
      "Opening File : /project2/lgrandi/layos/output_n_Veto_neutron_AmBe_42.root\n",
      "Applying QE and CE\n",
      "Loading hit survive\n",
      "Cutting Long events or Isotopes\n",
      "Looking for stacket hitlets\n",
      "Recovering values with stacket hitlets\n",
      "Creating hitlet dataframe\n"
     ]
    },
    {
     "data": {
      "application/vnd.jupyter.widget-view+json": {
       "model_id": "497d23b578f8457d9ef4d517750e15cb",
       "version_major": 2,
       "version_minor": 0
      },
      "text/plain": [
       "  0%|          | 0/3 [00:00<?, ?it/s]"
      ]
     },
     "metadata": {},
     "output_type": "display_data"
    },
    {
     "data": {
      "application/vnd.jupyter.widget-view+json": {
       "model_id": "088d504996a34ad28bb9ebd64da7fe88",
       "version_major": 2,
       "version_minor": 0
      },
      "text/plain": [
       "  0%|          | 0/9 [00:00<?, ?it/s]"
      ]
     },
     "metadata": {},
     "output_type": "display_data"
    },
    {
     "name": "stdout",
     "output_type": "stream",
     "text": [
      "getting time of hitlets_nv\n",
      "Creating hitlets_nv\n",
      "Opening File : /project2/lgrandi/layos/output_n_Veto_neutron_AmBe_43.root\n",
      "Applying QE and CE\n",
      "Loading hit survive\n",
      "Cutting Long events or Isotopes\n",
      "Looking for stacket hitlets\n",
      "Recovering values with stacket hitlets\n",
      "Creating hitlet dataframe\n"
     ]
    },
    {
     "data": {
      "application/vnd.jupyter.widget-view+json": {
       "model_id": "1bcd7e8352ef406c860ad8b5e3693c08",
       "version_major": 2,
       "version_minor": 0
      },
      "text/plain": [
       "  0%|          | 0/3 [00:00<?, ?it/s]"
      ]
     },
     "metadata": {},
     "output_type": "display_data"
    },
    {
     "data": {
      "application/vnd.jupyter.widget-view+json": {
       "model_id": "f6f780222701404b9596479dae3352a3",
       "version_major": 2,
       "version_minor": 0
      },
      "text/plain": [
       "  0%|          | 0/9 [00:00<?, ?it/s]"
      ]
     },
     "metadata": {},
     "output_type": "display_data"
    },
    {
     "name": "stdout",
     "output_type": "stream",
     "text": [
      "getting time of hitlets_nv\n",
      "Creating hitlets_nv\n",
      "Opening File : /project2/lgrandi/layos/output_n_Veto_neutron_AmBe_44.root\n",
      "Applying QE and CE\n",
      "Loading hit survive\n",
      "Cutting Long events or Isotopes\n",
      "Looking for stacket hitlets\n",
      "Recovering values with stacket hitlets\n",
      "Creating hitlet dataframe\n"
     ]
    },
    {
     "data": {
      "application/vnd.jupyter.widget-view+json": {
       "model_id": "b312b8c2ffd241f0a5b526b91349934e",
       "version_major": 2,
       "version_minor": 0
      },
      "text/plain": [
       "  0%|          | 0/3 [00:00<?, ?it/s]"
      ]
     },
     "metadata": {},
     "output_type": "display_data"
    },
    {
     "data": {
      "application/vnd.jupyter.widget-view+json": {
       "model_id": "46066a1e5d7147d1b1cee5de8f335c0d",
       "version_major": 2,
       "version_minor": 0
      },
      "text/plain": [
       "  0%|          | 0/9 [00:00<?, ?it/s]"
      ]
     },
     "metadata": {},
     "output_type": "display_data"
    },
    {
     "name": "stdout",
     "output_type": "stream",
     "text": [
      "getting time of hitlets_nv\n",
      "Creating hitlets_nv\n",
      "Opening File : /project2/lgrandi/layos/output_n_Veto_neutron_AmBe_45.root\n",
      "Applying QE and CE\n",
      "Loading hit survive\n",
      "Cutting Long events or Isotopes\n",
      "Looking for stacket hitlets\n",
      "Recovering values with stacket hitlets\n",
      "Creating hitlet dataframe\n"
     ]
    },
    {
     "data": {
      "application/vnd.jupyter.widget-view+json": {
       "model_id": "8a4f1bea2f634430b9add02c9d17ae5b",
       "version_major": 2,
       "version_minor": 0
      },
      "text/plain": [
       "  0%|          | 0/3 [00:00<?, ?it/s]"
      ]
     },
     "metadata": {},
     "output_type": "display_data"
    },
    {
     "data": {
      "application/vnd.jupyter.widget-view+json": {
       "model_id": "21d7c7da95d94ec1a797ea7f52b02498",
       "version_major": 2,
       "version_minor": 0
      },
      "text/plain": [
       "  0%|          | 0/9 [00:00<?, ?it/s]"
      ]
     },
     "metadata": {},
     "output_type": "display_data"
    },
    {
     "name": "stdout",
     "output_type": "stream",
     "text": [
      "getting time of hitlets_nv\n",
      "Creating hitlets_nv\n",
      "Opening File : /project2/lgrandi/layos/output_n_Veto_neutron_AmBe_46.root\n",
      "Applying QE and CE\n",
      "Loading hit survive\n",
      "Cutting Long events or Isotopes\n",
      "Looking for stacket hitlets\n",
      "Recovering values with stacket hitlets\n",
      "Creating hitlet dataframe\n"
     ]
    },
    {
     "data": {
      "application/vnd.jupyter.widget-view+json": {
       "model_id": "5bb2a14538094eda8b8c8035daa562e3",
       "version_major": 2,
       "version_minor": 0
      },
      "text/plain": [
       "  0%|          | 0/3 [00:00<?, ?it/s]"
      ]
     },
     "metadata": {},
     "output_type": "display_data"
    },
    {
     "data": {
      "application/vnd.jupyter.widget-view+json": {
       "model_id": "51232571a3b24051910bb3cac212fd7a",
       "version_major": 2,
       "version_minor": 0
      },
      "text/plain": [
       "  0%|          | 0/9 [00:00<?, ?it/s]"
      ]
     },
     "metadata": {},
     "output_type": "display_data"
    },
    {
     "name": "stdout",
     "output_type": "stream",
     "text": [
      "getting time of hitlets_nv\n",
      "Creating hitlets_nv\n",
      "Opening File : /project2/lgrandi/layos/output_n_Veto_neutron_AmBe_47.root\n",
      "Applying QE and CE\n",
      "Loading hit survive\n",
      "Cutting Long events or Isotopes\n",
      "Looking for stacket hitlets\n",
      "Recovering values with stacket hitlets\n",
      "Creating hitlet dataframe\n"
     ]
    },
    {
     "data": {
      "application/vnd.jupyter.widget-view+json": {
       "model_id": "bdaea9be53184d1bb646eaa24f24663d",
       "version_major": 2,
       "version_minor": 0
      },
      "text/plain": [
       "  0%|          | 0/3 [00:00<?, ?it/s]"
      ]
     },
     "metadata": {},
     "output_type": "display_data"
    },
    {
     "data": {
      "application/vnd.jupyter.widget-view+json": {
       "model_id": "1fc9bdd114af43438a6604245eeef270",
       "version_major": 2,
       "version_minor": 0
      },
      "text/plain": [
       "  0%|          | 0/9 [00:00<?, ?it/s]"
      ]
     },
     "metadata": {},
     "output_type": "display_data"
    },
    {
     "name": "stdout",
     "output_type": "stream",
     "text": [
      "getting time of hitlets_nv\n",
      "Creating hitlets_nv\n"
     ]
    }
   ],
   "source": [
    "#This function initializes with the same arguments than 'nv_hitelts' + the number of chunks 'Number', however as it takes the path of root files, its for instance out of hitlet class\n",
    "hitlets_df, hitlets_nv, root_keys = Hitlet_nv_simulator.hitlet_nv_chunks('/project2/lgrandi/layos/output_n_Veto_neutron_AmBe_',50, 0,2000, path_nv_aux, periods =(1/160)*1e9)"
   ]
  },
  {
   "cell_type": "code",
   "execution_count": 20,
   "id": "765ef296-3a55-4712-b74b-ebd7cbeff70f",
   "metadata": {},
   "outputs": [],
   "source": [
    "events_nv = strax_nv.compute(hitlets_nv,min(hitlets_nv['time']),max(hitlets_nv['time']))"
   ]
  },
  {
   "cell_type": "code",
   "execution_count": 21,
   "id": "f8eec1ee-9214-410b-b743-d24adcd45642",
   "metadata": {},
   "outputs": [],
   "source": [
    "hitlets_nv_th = Hitlet_nv_simulator.df_to_hit_array(hitlets_df[hitlets_df.pe_area>=hitlets_df.threshold_acc])\n",
    "events_nv_th = strax_nv.compute(hitlets_nv_th,min(hitlets_nv_th['time']),max(hitlets_nv_th['time']))"
   ]
  },
  {
   "cell_type": "code",
   "execution_count": 27,
   "id": "290b2b5d-a92a-4ec8-9f2b-decf2d1ebd0a",
   "metadata": {},
   "outputs": [
    {
     "data": {
      "image/png": "[encoded data removed]",
      "text/plain": [
       "<Figure size 640x480 with 1 Axes>"
      ]
     },
     "metadata": {},
     "output_type": "display_data"
    }
   ],
   "source": [
    "y,x = np.histogram(events_nv['area'], range=[0,100], bins=60)\n",
    "x_c=(x[:-1] + x[1:]) / 2\n",
    "y_th,x_th = np.histogram(events_nv_th['area'], range=[0,100], bins=60)\n",
    "x_c_th=(x_th[:-1] + x_th[1:]) / 2\n",
    "plt.plot(x_c,y, label='no threshold')\n",
    "plt.plot(x_c_th, y_th, label='threshold')\n",
    "plt.ylabel('Entries')\n",
    "plt.xlabel('Event area')\n",
    "plt.xlim(0,50)\n",
    "plt.legend()\n",
    "plt.show()"
   ]
  },
  {
   "cell_type": "code",
   "execution_count": 23,
   "id": "03bcb46b-0c3f-477b-acb4-c88dfad7db7b",
   "metadata": {},
   "outputs": [],
   "source": [
    "np.save('events_nv_th_test.npy', events_nv_th)"
   ]
  }
 ],
 "metadata": {
  "kernelspec": {
   "display_name": "Python [conda env:XENONnT_2023.07.2] *",
   "language": "python",
   "name": "conda-env-XENONnT_2023.07.2-py"
  },
  "language_info": {
   "codemirror_mode": {
    "name": "ipython",
    "version": 3
   },
   "file_extension": ".py",
   "mimetype": "text/x-python",
   "name": "python",
   "nbconvert_exporter": "python",
   "pygments_lexer": "ipython3",
   "version": "3.9.17"
  }
 },
 "nbformat": 4,
 "nbformat_minor": 5
}
